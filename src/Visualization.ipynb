{
 "cells": [
  {
   "cell_type": "markdown",
   "id": "625525b2",
   "metadata": {},
   "source": [
    "# IMPORT"
   ]
  },
  {
   "cell_type": "code",
   "execution_count": 1,
   "id": "77d274bd",
   "metadata": {},
   "outputs": [],
   "source": [
    "import pandas as pd\n",
    "import numpy as np\n",
    "import seaborn as sns\n",
    "#import matplotlib.pyplot as plt\n",
    "#import matplotlib.font_manager as fm\n",
    "\n",
    "import plotly.express as px\n",
    "import plotly.graph_objs as go\n",
    "\n",
    "import kaleido\n",
    "\n",
    "import warnings\n",
    "warnings.filterwarnings('ignore')"
   ]
  },
  {
   "cell_type": "code",
   "execution_count": 2,
   "id": "ac003f29",
   "metadata": {},
   "outputs": [],
   "source": [
    "df = pd.read_csv(\"../temp/whatsapp_weather.csv\", encoding=\"utf-8\")"
   ]
  },
  {
   "cell_type": "code",
   "execution_count": 3,
   "id": "b1a4023c",
   "metadata": {
    "scrolled": true
   },
   "outputs": [
    {
     "data": {
      "text/html": [
       "<div>\n",
       "<style scoped>\n",
       "    .dataframe tbody tr th:only-of-type {\n",
       "        vertical-align: middle;\n",
       "    }\n",
       "\n",
       "    .dataframe tbody tr th {\n",
       "        vertical-align: top;\n",
       "    }\n",
       "\n",
       "    .dataframe thead th {\n",
       "        text-align: right;\n",
       "    }\n",
       "</style>\n",
       "<table border=\"1\" class=\"dataframe\">\n",
       "  <thead>\n",
       "    <tr style=\"text-align: right;\">\n",
       "      <th></th>\n",
       "      <th>Date</th>\n",
       "      <th>Day</th>\n",
       "      <th>Month</th>\n",
       "      <th>Year</th>\n",
       "      <th>Hour</th>\n",
       "      <th>Name</th>\n",
       "      <th>Emojis</th>\n",
       "      <th>Temp_mean</th>\n",
       "      <th>Rain</th>\n",
       "    </tr>\n",
       "  </thead>\n",
       "  <tbody>\n",
       "    <tr>\n",
       "      <th>0</th>\n",
       "      <td>2021-12-01</td>\n",
       "      <td>1</td>\n",
       "      <td>12</td>\n",
       "      <td>2021</td>\n",
       "      <td>14</td>\n",
       "      <td>Bego</td>\n",
       "      <td>🌸</td>\n",
       "      <td>9.4</td>\n",
       "      <td>True</td>\n",
       "    </tr>\n",
       "    <tr>\n",
       "      <th>1</th>\n",
       "      <td>2021-01-14</td>\n",
       "      <td>14</td>\n",
       "      <td>1</td>\n",
       "      <td>2021</td>\n",
       "      <td>10</td>\n",
       "      <td>Bego</td>\n",
       "      <td>☀</td>\n",
       "      <td>7.0</td>\n",
       "      <td>False</td>\n",
       "    </tr>\n",
       "    <tr>\n",
       "      <th>2</th>\n",
       "      <td>2021-01-14</td>\n",
       "      <td>14</td>\n",
       "      <td>1</td>\n",
       "      <td>2021</td>\n",
       "      <td>10</td>\n",
       "      <td>Bego</td>\n",
       "      <td>☀</td>\n",
       "      <td>7.0</td>\n",
       "      <td>False</td>\n",
       "    </tr>\n",
       "    <tr>\n",
       "      <th>3</th>\n",
       "      <td>2021-01-14</td>\n",
       "      <td>14</td>\n",
       "      <td>1</td>\n",
       "      <td>2021</td>\n",
       "      <td>10</td>\n",
       "      <td>Bego</td>\n",
       "      <td>☀</td>\n",
       "      <td>7.0</td>\n",
       "      <td>False</td>\n",
       "    </tr>\n",
       "    <tr>\n",
       "      <th>4</th>\n",
       "      <td>2021-01-14</td>\n",
       "      <td>14</td>\n",
       "      <td>1</td>\n",
       "      <td>2021</td>\n",
       "      <td>10</td>\n",
       "      <td>Bego</td>\n",
       "      <td>☀</td>\n",
       "      <td>7.0</td>\n",
       "      <td>False</td>\n",
       "    </tr>\n",
       "    <tr>\n",
       "      <th>5</th>\n",
       "      <td>2021-01-14</td>\n",
       "      <td>14</td>\n",
       "      <td>1</td>\n",
       "      <td>2021</td>\n",
       "      <td>10</td>\n",
       "      <td>Bego</td>\n",
       "      <td>☀</td>\n",
       "      <td>7.0</td>\n",
       "      <td>False</td>\n",
       "    </tr>\n",
       "    <tr>\n",
       "      <th>6</th>\n",
       "      <td>2021-01-14</td>\n",
       "      <td>14</td>\n",
       "      <td>1</td>\n",
       "      <td>2021</td>\n",
       "      <td>10</td>\n",
       "      <td>Bego</td>\n",
       "      <td>☀</td>\n",
       "      <td>7.0</td>\n",
       "      <td>False</td>\n",
       "    </tr>\n",
       "    <tr>\n",
       "      <th>7</th>\n",
       "      <td>2021-01-14</td>\n",
       "      <td>14</td>\n",
       "      <td>1</td>\n",
       "      <td>2021</td>\n",
       "      <td>10</td>\n",
       "      <td>Bego</td>\n",
       "      <td>❤</td>\n",
       "      <td>7.0</td>\n",
       "      <td>False</td>\n",
       "    </tr>\n",
       "    <tr>\n",
       "      <th>8</th>\n",
       "      <td>2021-01-14</td>\n",
       "      <td>14</td>\n",
       "      <td>1</td>\n",
       "      <td>2021</td>\n",
       "      <td>11</td>\n",
       "      <td>Ju</td>\n",
       "      <td>💓</td>\n",
       "      <td>7.0</td>\n",
       "      <td>False</td>\n",
       "    </tr>\n",
       "    <tr>\n",
       "      <th>9</th>\n",
       "      <td>2021-01-14</td>\n",
       "      <td>14</td>\n",
       "      <td>1</td>\n",
       "      <td>2021</td>\n",
       "      <td>11</td>\n",
       "      <td>Ju</td>\n",
       "      <td>💓</td>\n",
       "      <td>7.0</td>\n",
       "      <td>False</td>\n",
       "    </tr>\n",
       "    <tr>\n",
       "      <th>10</th>\n",
       "      <td>2021-01-14</td>\n",
       "      <td>14</td>\n",
       "      <td>1</td>\n",
       "      <td>2021</td>\n",
       "      <td>11</td>\n",
       "      <td>Ju</td>\n",
       "      <td>💓</td>\n",
       "      <td>7.0</td>\n",
       "      <td>False</td>\n",
       "    </tr>\n",
       "    <tr>\n",
       "      <th>11</th>\n",
       "      <td>2021-01-14</td>\n",
       "      <td>14</td>\n",
       "      <td>1</td>\n",
       "      <td>2021</td>\n",
       "      <td>11</td>\n",
       "      <td>Ju</td>\n",
       "      <td>💕</td>\n",
       "      <td>7.0</td>\n",
       "      <td>False</td>\n",
       "    </tr>\n",
       "    <tr>\n",
       "      <th>12</th>\n",
       "      <td>2021-01-14</td>\n",
       "      <td>14</td>\n",
       "      <td>1</td>\n",
       "      <td>2021</td>\n",
       "      <td>15</td>\n",
       "      <td>Bego</td>\n",
       "      <td>😈</td>\n",
       "      <td>7.0</td>\n",
       "      <td>False</td>\n",
       "    </tr>\n",
       "    <tr>\n",
       "      <th>13</th>\n",
       "      <td>2021-01-14</td>\n",
       "      <td>14</td>\n",
       "      <td>1</td>\n",
       "      <td>2021</td>\n",
       "      <td>17</td>\n",
       "      <td>Ju</td>\n",
       "      <td>💓</td>\n",
       "      <td>7.0</td>\n",
       "      <td>False</td>\n",
       "    </tr>\n",
       "    <tr>\n",
       "      <th>14</th>\n",
       "      <td>2021-01-14</td>\n",
       "      <td>14</td>\n",
       "      <td>1</td>\n",
       "      <td>2021</td>\n",
       "      <td>18</td>\n",
       "      <td>Ju</td>\n",
       "      <td>🤷</td>\n",
       "      <td>7.0</td>\n",
       "      <td>False</td>\n",
       "    </tr>\n",
       "    <tr>\n",
       "      <th>15</th>\n",
       "      <td>2021-01-14</td>\n",
       "      <td>14</td>\n",
       "      <td>1</td>\n",
       "      <td>2021</td>\n",
       "      <td>18</td>\n",
       "      <td>Ju</td>\n",
       "      <td>😥</td>\n",
       "      <td>7.0</td>\n",
       "      <td>False</td>\n",
       "    </tr>\n",
       "    <tr>\n",
       "      <th>16</th>\n",
       "      <td>2021-01-15</td>\n",
       "      <td>15</td>\n",
       "      <td>1</td>\n",
       "      <td>2021</td>\n",
       "      <td>15</td>\n",
       "      <td>Bego</td>\n",
       "      <td>❤</td>\n",
       "      <td>7.8</td>\n",
       "      <td>False</td>\n",
       "    </tr>\n",
       "    <tr>\n",
       "      <th>17</th>\n",
       "      <td>2021-01-15</td>\n",
       "      <td>15</td>\n",
       "      <td>1</td>\n",
       "      <td>2021</td>\n",
       "      <td>16</td>\n",
       "      <td>Bego</td>\n",
       "      <td>🌹</td>\n",
       "      <td>7.8</td>\n",
       "      <td>False</td>\n",
       "    </tr>\n",
       "    <tr>\n",
       "      <th>18</th>\n",
       "      <td>2021-01-15</td>\n",
       "      <td>15</td>\n",
       "      <td>1</td>\n",
       "      <td>2021</td>\n",
       "      <td>16</td>\n",
       "      <td>Bego</td>\n",
       "      <td>🌹</td>\n",
       "      <td>7.8</td>\n",
       "      <td>False</td>\n",
       "    </tr>\n",
       "    <tr>\n",
       "      <th>19</th>\n",
       "      <td>2021-01-15</td>\n",
       "      <td>15</td>\n",
       "      <td>1</td>\n",
       "      <td>2021</td>\n",
       "      <td>16</td>\n",
       "      <td>Bego</td>\n",
       "      <td>🌹</td>\n",
       "      <td>7.8</td>\n",
       "      <td>False</td>\n",
       "    </tr>\n",
       "    <tr>\n",
       "      <th>20</th>\n",
       "      <td>2021-01-15</td>\n",
       "      <td>15</td>\n",
       "      <td>1</td>\n",
       "      <td>2021</td>\n",
       "      <td>16</td>\n",
       "      <td>Bego</td>\n",
       "      <td>🌹</td>\n",
       "      <td>7.8</td>\n",
       "      <td>False</td>\n",
       "    </tr>\n",
       "    <tr>\n",
       "      <th>21</th>\n",
       "      <td>2021-01-15</td>\n",
       "      <td>15</td>\n",
       "      <td>1</td>\n",
       "      <td>2021</td>\n",
       "      <td>16</td>\n",
       "      <td>Bego</td>\n",
       "      <td>✨</td>\n",
       "      <td>7.8</td>\n",
       "      <td>False</td>\n",
       "    </tr>\n",
       "    <tr>\n",
       "      <th>22</th>\n",
       "      <td>2021-01-17</td>\n",
       "      <td>17</td>\n",
       "      <td>1</td>\n",
       "      <td>2021</td>\n",
       "      <td>22</td>\n",
       "      <td>Ju</td>\n",
       "      <td>😂</td>\n",
       "      <td>9.2</td>\n",
       "      <td>False</td>\n",
       "    </tr>\n",
       "    <tr>\n",
       "      <th>23</th>\n",
       "      <td>2021-01-17</td>\n",
       "      <td>17</td>\n",
       "      <td>1</td>\n",
       "      <td>2021</td>\n",
       "      <td>22</td>\n",
       "      <td>Ju</td>\n",
       "      <td>😂</td>\n",
       "      <td>9.2</td>\n",
       "      <td>False</td>\n",
       "    </tr>\n",
       "    <tr>\n",
       "      <th>24</th>\n",
       "      <td>2021-01-17</td>\n",
       "      <td>17</td>\n",
       "      <td>1</td>\n",
       "      <td>2021</td>\n",
       "      <td>22</td>\n",
       "      <td>Ju</td>\n",
       "      <td>😂</td>\n",
       "      <td>9.2</td>\n",
       "      <td>False</td>\n",
       "    </tr>\n",
       "    <tr>\n",
       "      <th>25</th>\n",
       "      <td>2021-01-17</td>\n",
       "      <td>17</td>\n",
       "      <td>1</td>\n",
       "      <td>2021</td>\n",
       "      <td>22</td>\n",
       "      <td>Ju</td>\n",
       "      <td>😂</td>\n",
       "      <td>9.2</td>\n",
       "      <td>False</td>\n",
       "    </tr>\n",
       "    <tr>\n",
       "      <th>26</th>\n",
       "      <td>2021-01-17</td>\n",
       "      <td>17</td>\n",
       "      <td>1</td>\n",
       "      <td>2021</td>\n",
       "      <td>22</td>\n",
       "      <td>Ju</td>\n",
       "      <td>😂</td>\n",
       "      <td>9.2</td>\n",
       "      <td>False</td>\n",
       "    </tr>\n",
       "    <tr>\n",
       "      <th>27</th>\n",
       "      <td>2021-01-17</td>\n",
       "      <td>17</td>\n",
       "      <td>1</td>\n",
       "      <td>2021</td>\n",
       "      <td>22</td>\n",
       "      <td>Ju</td>\n",
       "      <td>😂</td>\n",
       "      <td>9.2</td>\n",
       "      <td>False</td>\n",
       "    </tr>\n",
       "    <tr>\n",
       "      <th>28</th>\n",
       "      <td>2021-01-17</td>\n",
       "      <td>17</td>\n",
       "      <td>1</td>\n",
       "      <td>2021</td>\n",
       "      <td>22</td>\n",
       "      <td>Ju</td>\n",
       "      <td>😂</td>\n",
       "      <td>9.2</td>\n",
       "      <td>False</td>\n",
       "    </tr>\n",
       "    <tr>\n",
       "      <th>29</th>\n",
       "      <td>2021-01-17</td>\n",
       "      <td>17</td>\n",
       "      <td>1</td>\n",
       "      <td>2021</td>\n",
       "      <td>22</td>\n",
       "      <td>Ju</td>\n",
       "      <td>😂</td>\n",
       "      <td>9.2</td>\n",
       "      <td>False</td>\n",
       "    </tr>\n",
       "    <tr>\n",
       "      <th>30</th>\n",
       "      <td>2021-01-17</td>\n",
       "      <td>17</td>\n",
       "      <td>1</td>\n",
       "      <td>2021</td>\n",
       "      <td>22</td>\n",
       "      <td>Ju</td>\n",
       "      <td>😂</td>\n",
       "      <td>9.2</td>\n",
       "      <td>False</td>\n",
       "    </tr>\n",
       "    <tr>\n",
       "      <th>31</th>\n",
       "      <td>2021-01-17</td>\n",
       "      <td>17</td>\n",
       "      <td>1</td>\n",
       "      <td>2021</td>\n",
       "      <td>22</td>\n",
       "      <td>Ju</td>\n",
       "      <td>😂</td>\n",
       "      <td>9.2</td>\n",
       "      <td>False</td>\n",
       "    </tr>\n",
       "    <tr>\n",
       "      <th>32</th>\n",
       "      <td>2021-01-17</td>\n",
       "      <td>17</td>\n",
       "      <td>1</td>\n",
       "      <td>2021</td>\n",
       "      <td>23</td>\n",
       "      <td>Bego</td>\n",
       "      <td>🥰</td>\n",
       "      <td>9.2</td>\n",
       "      <td>False</td>\n",
       "    </tr>\n",
       "    <tr>\n",
       "      <th>33</th>\n",
       "      <td>2021-01-17</td>\n",
       "      <td>17</td>\n",
       "      <td>1</td>\n",
       "      <td>2021</td>\n",
       "      <td>23</td>\n",
       "      <td>Bego</td>\n",
       "      <td>💔</td>\n",
       "      <td>9.2</td>\n",
       "      <td>False</td>\n",
       "    </tr>\n",
       "    <tr>\n",
       "      <th>34</th>\n",
       "      <td>2021-01-17</td>\n",
       "      <td>17</td>\n",
       "      <td>1</td>\n",
       "      <td>2021</td>\n",
       "      <td>23</td>\n",
       "      <td>Ju</td>\n",
       "      <td>😥</td>\n",
       "      <td>9.2</td>\n",
       "      <td>False</td>\n",
       "    </tr>\n",
       "    <tr>\n",
       "      <th>35</th>\n",
       "      <td>2021-01-17</td>\n",
       "      <td>17</td>\n",
       "      <td>1</td>\n",
       "      <td>2021</td>\n",
       "      <td>23</td>\n",
       "      <td>Ju</td>\n",
       "      <td>💓</td>\n",
       "      <td>9.2</td>\n",
       "      <td>False</td>\n",
       "    </tr>\n",
       "    <tr>\n",
       "      <th>36</th>\n",
       "      <td>2021-01-18</td>\n",
       "      <td>18</td>\n",
       "      <td>1</td>\n",
       "      <td>2021</td>\n",
       "      <td>15</td>\n",
       "      <td>Bego</td>\n",
       "      <td>❤</td>\n",
       "      <td>9.7</td>\n",
       "      <td>True</td>\n",
       "    </tr>\n",
       "    <tr>\n",
       "      <th>37</th>\n",
       "      <td>2021-01-20</td>\n",
       "      <td>20</td>\n",
       "      <td>1</td>\n",
       "      <td>2021</td>\n",
       "      <td>11</td>\n",
       "      <td>Ju</td>\n",
       "      <td>💓</td>\n",
       "      <td>9.5</td>\n",
       "      <td>False</td>\n",
       "    </tr>\n",
       "    <tr>\n",
       "      <th>38</th>\n",
       "      <td>2021-01-22</td>\n",
       "      <td>22</td>\n",
       "      <td>1</td>\n",
       "      <td>2021</td>\n",
       "      <td>10</td>\n",
       "      <td>Ju</td>\n",
       "      <td>😳</td>\n",
       "      <td>12.0</td>\n",
       "      <td>True</td>\n",
       "    </tr>\n",
       "    <tr>\n",
       "      <th>39</th>\n",
       "      <td>2021-01-22</td>\n",
       "      <td>22</td>\n",
       "      <td>1</td>\n",
       "      <td>2021</td>\n",
       "      <td>13</td>\n",
       "      <td>Ju</td>\n",
       "      <td>😂</td>\n",
       "      <td>12.0</td>\n",
       "      <td>True</td>\n",
       "    </tr>\n",
       "    <tr>\n",
       "      <th>40</th>\n",
       "      <td>2021-01-22</td>\n",
       "      <td>22</td>\n",
       "      <td>1</td>\n",
       "      <td>2021</td>\n",
       "      <td>13</td>\n",
       "      <td>Ju</td>\n",
       "      <td>😂</td>\n",
       "      <td>12.0</td>\n",
       "      <td>True</td>\n",
       "    </tr>\n",
       "    <tr>\n",
       "      <th>41</th>\n",
       "      <td>2021-01-22</td>\n",
       "      <td>22</td>\n",
       "      <td>1</td>\n",
       "      <td>2021</td>\n",
       "      <td>13</td>\n",
       "      <td>Ju</td>\n",
       "      <td>🥺</td>\n",
       "      <td>12.0</td>\n",
       "      <td>True</td>\n",
       "    </tr>\n",
       "    <tr>\n",
       "      <th>42</th>\n",
       "      <td>2021-01-22</td>\n",
       "      <td>22</td>\n",
       "      <td>1</td>\n",
       "      <td>2021</td>\n",
       "      <td>13</td>\n",
       "      <td>Ju</td>\n",
       "      <td>😂</td>\n",
       "      <td>12.0</td>\n",
       "      <td>True</td>\n",
       "    </tr>\n",
       "    <tr>\n",
       "      <th>43</th>\n",
       "      <td>2021-01-22</td>\n",
       "      <td>22</td>\n",
       "      <td>1</td>\n",
       "      <td>2021</td>\n",
       "      <td>13</td>\n",
       "      <td>Ju</td>\n",
       "      <td>😂</td>\n",
       "      <td>12.0</td>\n",
       "      <td>True</td>\n",
       "    </tr>\n",
       "    <tr>\n",
       "      <th>44</th>\n",
       "      <td>2021-01-22</td>\n",
       "      <td>22</td>\n",
       "      <td>1</td>\n",
       "      <td>2021</td>\n",
       "      <td>13</td>\n",
       "      <td>Ju</td>\n",
       "      <td>😂</td>\n",
       "      <td>12.0</td>\n",
       "      <td>True</td>\n",
       "    </tr>\n",
       "    <tr>\n",
       "      <th>45</th>\n",
       "      <td>2021-01-22</td>\n",
       "      <td>22</td>\n",
       "      <td>1</td>\n",
       "      <td>2021</td>\n",
       "      <td>13</td>\n",
       "      <td>Ju</td>\n",
       "      <td>😂</td>\n",
       "      <td>12.0</td>\n",
       "      <td>True</td>\n",
       "    </tr>\n",
       "    <tr>\n",
       "      <th>46</th>\n",
       "      <td>2021-01-22</td>\n",
       "      <td>22</td>\n",
       "      <td>1</td>\n",
       "      <td>2021</td>\n",
       "      <td>13</td>\n",
       "      <td>Bego</td>\n",
       "      <td>🙏</td>\n",
       "      <td>12.0</td>\n",
       "      <td>True</td>\n",
       "    </tr>\n",
       "    <tr>\n",
       "      <th>47</th>\n",
       "      <td>2021-01-22</td>\n",
       "      <td>22</td>\n",
       "      <td>1</td>\n",
       "      <td>2021</td>\n",
       "      <td>14</td>\n",
       "      <td>Bego</td>\n",
       "      <td>❤</td>\n",
       "      <td>12.0</td>\n",
       "      <td>True</td>\n",
       "    </tr>\n",
       "    <tr>\n",
       "      <th>48</th>\n",
       "      <td>2021-01-22</td>\n",
       "      <td>22</td>\n",
       "      <td>1</td>\n",
       "      <td>2021</td>\n",
       "      <td>14</td>\n",
       "      <td>Bego</td>\n",
       "      <td>❤</td>\n",
       "      <td>12.0</td>\n",
       "      <td>True</td>\n",
       "    </tr>\n",
       "    <tr>\n",
       "      <th>49</th>\n",
       "      <td>2021-01-22</td>\n",
       "      <td>22</td>\n",
       "      <td>1</td>\n",
       "      <td>2021</td>\n",
       "      <td>14</td>\n",
       "      <td>Bego</td>\n",
       "      <td>❤</td>\n",
       "      <td>12.0</td>\n",
       "      <td>True</td>\n",
       "    </tr>\n",
       "  </tbody>\n",
       "</table>\n",
       "</div>"
      ],
      "text/plain": [
       "          Date  Day  Month  Year  Hour  Name Emojis  Temp_mean   Rain\n",
       "0   2021-12-01    1     12  2021    14  Bego      🌸        9.4   True\n",
       "1   2021-01-14   14      1  2021    10  Bego      ☀        7.0  False\n",
       "2   2021-01-14   14      1  2021    10  Bego      ☀        7.0  False\n",
       "3   2021-01-14   14      1  2021    10  Bego      ☀        7.0  False\n",
       "4   2021-01-14   14      1  2021    10  Bego      ☀        7.0  False\n",
       "5   2021-01-14   14      1  2021    10  Bego      ☀        7.0  False\n",
       "6   2021-01-14   14      1  2021    10  Bego      ☀        7.0  False\n",
       "7   2021-01-14   14      1  2021    10  Bego      ❤        7.0  False\n",
       "8   2021-01-14   14      1  2021    11    Ju      💓        7.0  False\n",
       "9   2021-01-14   14      1  2021    11    Ju      💓        7.0  False\n",
       "10  2021-01-14   14      1  2021    11    Ju      💓        7.0  False\n",
       "11  2021-01-14   14      1  2021    11    Ju      💕        7.0  False\n",
       "12  2021-01-14   14      1  2021    15  Bego      😈        7.0  False\n",
       "13  2021-01-14   14      1  2021    17    Ju      💓        7.0  False\n",
       "14  2021-01-14   14      1  2021    18    Ju      🤷        7.0  False\n",
       "15  2021-01-14   14      1  2021    18    Ju      😥        7.0  False\n",
       "16  2021-01-15   15      1  2021    15  Bego      ❤        7.8  False\n",
       "17  2021-01-15   15      1  2021    16  Bego      🌹        7.8  False\n",
       "18  2021-01-15   15      1  2021    16  Bego      🌹        7.8  False\n",
       "19  2021-01-15   15      1  2021    16  Bego      🌹        7.8  False\n",
       "20  2021-01-15   15      1  2021    16  Bego      🌹        7.8  False\n",
       "21  2021-01-15   15      1  2021    16  Bego      ✨        7.8  False\n",
       "22  2021-01-17   17      1  2021    22    Ju      😂        9.2  False\n",
       "23  2021-01-17   17      1  2021    22    Ju      😂        9.2  False\n",
       "24  2021-01-17   17      1  2021    22    Ju      😂        9.2  False\n",
       "25  2021-01-17   17      1  2021    22    Ju      😂        9.2  False\n",
       "26  2021-01-17   17      1  2021    22    Ju      😂        9.2  False\n",
       "27  2021-01-17   17      1  2021    22    Ju      😂        9.2  False\n",
       "28  2021-01-17   17      1  2021    22    Ju      😂        9.2  False\n",
       "29  2021-01-17   17      1  2021    22    Ju      😂        9.2  False\n",
       "30  2021-01-17   17      1  2021    22    Ju      😂        9.2  False\n",
       "31  2021-01-17   17      1  2021    22    Ju      😂        9.2  False\n",
       "32  2021-01-17   17      1  2021    23  Bego      🥰        9.2  False\n",
       "33  2021-01-17   17      1  2021    23  Bego      💔        9.2  False\n",
       "34  2021-01-17   17      1  2021    23    Ju      😥        9.2  False\n",
       "35  2021-01-17   17      1  2021    23    Ju      💓        9.2  False\n",
       "36  2021-01-18   18      1  2021    15  Bego      ❤        9.7   True\n",
       "37  2021-01-20   20      1  2021    11    Ju      💓        9.5  False\n",
       "38  2021-01-22   22      1  2021    10    Ju      😳       12.0   True\n",
       "39  2021-01-22   22      1  2021    13    Ju      😂       12.0   True\n",
       "40  2021-01-22   22      1  2021    13    Ju      😂       12.0   True\n",
       "41  2021-01-22   22      1  2021    13    Ju      🥺       12.0   True\n",
       "42  2021-01-22   22      1  2021    13    Ju      😂       12.0   True\n",
       "43  2021-01-22   22      1  2021    13    Ju      😂       12.0   True\n",
       "44  2021-01-22   22      1  2021    13    Ju      😂       12.0   True\n",
       "45  2021-01-22   22      1  2021    13    Ju      😂       12.0   True\n",
       "46  2021-01-22   22      1  2021    13  Bego      🙏       12.0   True\n",
       "47  2021-01-22   22      1  2021    14  Bego      ❤       12.0   True\n",
       "48  2021-01-22   22      1  2021    14  Bego      ❤       12.0   True\n",
       "49  2021-01-22   22      1  2021    14  Bego      ❤       12.0   True"
      ]
     },
     "execution_count": 3,
     "metadata": {},
     "output_type": "execute_result"
    }
   ],
   "source": [
    "df.head(50)"
   ]
  },
  {
   "cell_type": "markdown",
   "id": "3792518d",
   "metadata": {},
   "source": [
    "# DISPLAYING SETTINGS"
   ]
  },
  {
   "cell_type": "code",
   "execution_count": 4,
   "id": "2f97f067",
   "metadata": {
    "scrolled": true
   },
   "outputs": [],
   "source": [
    "# Matplotlib inline to visualize Matplotlib graphs\n",
    "#%matplotlib inline\n",
    "#%config Inlinebackend.figure_format= 'retina'\n",
    "\n",
    "# Configuration to set so that all the Seaborn figs come out with this size\n",
    "sns.set_context(\"poster\")\n",
    "sns.set(rc={\"figure.figsize\": (12.,6.)})\n",
    "sns.set_style(\"whitegrid\")"
   ]
  },
  {
   "cell_type": "markdown",
   "id": "7f3fadbf",
   "metadata": {},
   "source": [
    "# GRAPHS"
   ]
  },
  {
   "cell_type": "markdown",
   "id": "08c0c105",
   "metadata": {},
   "source": [
    "## Emojis más enviados\n",
    "\n",
    "#### nº emojis\n",
    "#### emojis"
   ]
  },
  {
   "cell_type": "code",
   "execution_count": 23,
   "id": "00547033",
   "metadata": {
    "scrolled": false
   },
   "outputs": [
    {
     "data": {
      "text/plain": [
       "Emojis\n",
       "❤    753\n",
       "😂    532\n",
       "😹    253\n",
       "😻    113\n",
       "💓     66\n",
       "🖤     59\n",
       "✨     57\n",
       "🥺     56\n",
       "🥲     46\n",
       "💖     45\n",
       "Name: count, dtype: int64"
      ]
     },
     "execution_count": 23,
     "metadata": {},
     "output_type": "execute_result"
    }
   ],
   "source": [
    "emojis_count = df['Emojis'].value_counts()\n",
    "emojis_count.head(10)"
   ]
  },
  {
   "cell_type": "code",
   "execution_count": null,
   "id": "b582995c",
   "metadata": {},
   "outputs": [],
   "source": [
    "\n",
    "\n",
    "# Set the context\n",
    "fig = go.Figure()\n",
    "fig.update_layout(\n",
    "    font=dict(size=20),\n",
    ")\n",
    "\n",
    "# Set the figure size\n",
    "fig.update_layout(\n",
    "    width=1200,\n",
    "    height=600,\n",
    ")\n",
    "\n",
    "# Set the style\n",
    "fig.update_layout(\n",
    "    template=\"plotly_whitegrid\",\n",
    ")\n"
   ]
  },
  {
   "cell_type": "code",
   "execution_count": 29,
   "id": "7b70d670",
   "metadata": {
    "scrolled": false
   },
   "outputs": [
    {
     "data": {
      "application/vnd.plotly.v1+json": {
       "config": {
        "plotlyServerURL": "https://plot.ly"
       },
       "data": [
        {
         "marker": {
          "color": [
           "#FFC300",
           "#FF5733",
           "#C70039",
           "#900C3F",
           "#581845",
           "#DAF7A6",
           "#FFC300",
           "#FF5733",
           "#C70039",
           "#900C3F",
           "#581845",
           "#DAF7A6",
           "#FFC300",
           "#FF5733",
           "#C70039"
          ]
         },
         "type": "bar",
         "x": [
          "❤",
          "😂",
          "😹",
          "😻",
          "💓",
          "🖤",
          "✨",
          "🥺",
          "🥲",
          "💖"
         ],
         "y": [
          753,
          532,
          253,
          113,
          66,
          59,
          57,
          56,
          46,
          45
         ]
        }
       ],
       "layout": {
        "template": {
         "data": {
          "bar": [
           {
            "error_x": {
             "color": "#2a3f5f"
            },
            "error_y": {
             "color": "#2a3f5f"
            },
            "marker": {
             "line": {
              "color": "#E5ECF6",
              "width": 0.5
             },
             "pattern": {
              "fillmode": "overlay",
              "size": 10,
              "solidity": 0.2
             }
            },
            "type": "bar"
           }
          ],
          "barpolar": [
           {
            "marker": {
             "line": {
              "color": "#E5ECF6",
              "width": 0.5
             },
             "pattern": {
              "fillmode": "overlay",
              "size": 10,
              "solidity": 0.2
             }
            },
            "type": "barpolar"
           }
          ],
          "carpet": [
           {
            "aaxis": {
             "endlinecolor": "#2a3f5f",
             "gridcolor": "white",
             "linecolor": "white",
             "minorgridcolor": "white",
             "startlinecolor": "#2a3f5f"
            },
            "baxis": {
             "endlinecolor": "#2a3f5f",
             "gridcolor": "white",
             "linecolor": "white",
             "minorgridcolor": "white",
             "startlinecolor": "#2a3f5f"
            },
            "type": "carpet"
           }
          ],
          "choropleth": [
           {
            "colorbar": {
             "outlinewidth": 0,
             "ticks": ""
            },
            "type": "choropleth"
           }
          ],
          "contour": [
           {
            "colorbar": {
             "outlinewidth": 0,
             "ticks": ""
            },
            "colorscale": [
             [
              0,
              "#0d0887"
             ],
             [
              0.1111111111111111,
              "#46039f"
             ],
             [
              0.2222222222222222,
              "#7201a8"
             ],
             [
              0.3333333333333333,
              "#9c179e"
             ],
             [
              0.4444444444444444,
              "#bd3786"
             ],
             [
              0.5555555555555556,
              "#d8576b"
             ],
             [
              0.6666666666666666,
              "#ed7953"
             ],
             [
              0.7777777777777778,
              "#fb9f3a"
             ],
             [
              0.8888888888888888,
              "#fdca26"
             ],
             [
              1,
              "#f0f921"
             ]
            ],
            "type": "contour"
           }
          ],
          "contourcarpet": [
           {
            "colorbar": {
             "outlinewidth": 0,
             "ticks": ""
            },
            "type": "contourcarpet"
           }
          ],
          "heatmap": [
           {
            "colorbar": {
             "outlinewidth": 0,
             "ticks": ""
            },
            "colorscale": [
             [
              0,
              "#0d0887"
             ],
             [
              0.1111111111111111,
              "#46039f"
             ],
             [
              0.2222222222222222,
              "#7201a8"
             ],
             [
              0.3333333333333333,
              "#9c179e"
             ],
             [
              0.4444444444444444,
              "#bd3786"
             ],
             [
              0.5555555555555556,
              "#d8576b"
             ],
             [
              0.6666666666666666,
              "#ed7953"
             ],
             [
              0.7777777777777778,
              "#fb9f3a"
             ],
             [
              0.8888888888888888,
              "#fdca26"
             ],
             [
              1,
              "#f0f921"
             ]
            ],
            "type": "heatmap"
           }
          ],
          "heatmapgl": [
           {
            "colorbar": {
             "outlinewidth": 0,
             "ticks": ""
            },
            "colorscale": [
             [
              0,
              "#0d0887"
             ],
             [
              0.1111111111111111,
              "#46039f"
             ],
             [
              0.2222222222222222,
              "#7201a8"
             ],
             [
              0.3333333333333333,
              "#9c179e"
             ],
             [
              0.4444444444444444,
              "#bd3786"
             ],
             [
              0.5555555555555556,
              "#d8576b"
             ],
             [
              0.6666666666666666,
              "#ed7953"
             ],
             [
              0.7777777777777778,
              "#fb9f3a"
             ],
             [
              0.8888888888888888,
              "#fdca26"
             ],
             [
              1,
              "#f0f921"
             ]
            ],
            "type": "heatmapgl"
           }
          ],
          "histogram": [
           {
            "marker": {
             "pattern": {
              "fillmode": "overlay",
              "size": 10,
              "solidity": 0.2
             }
            },
            "type": "histogram"
           }
          ],
          "histogram2d": [
           {
            "colorbar": {
             "outlinewidth": 0,
             "ticks": ""
            },
            "colorscale": [
             [
              0,
              "#0d0887"
             ],
             [
              0.1111111111111111,
              "#46039f"
             ],
             [
              0.2222222222222222,
              "#7201a8"
             ],
             [
              0.3333333333333333,
              "#9c179e"
             ],
             [
              0.4444444444444444,
              "#bd3786"
             ],
             [
              0.5555555555555556,
              "#d8576b"
             ],
             [
              0.6666666666666666,
              "#ed7953"
             ],
             [
              0.7777777777777778,
              "#fb9f3a"
             ],
             [
              0.8888888888888888,
              "#fdca26"
             ],
             [
              1,
              "#f0f921"
             ]
            ],
            "type": "histogram2d"
           }
          ],
          "histogram2dcontour": [
           {
            "colorbar": {
             "outlinewidth": 0,
             "ticks": ""
            },
            "colorscale": [
             [
              0,
              "#0d0887"
             ],
             [
              0.1111111111111111,
              "#46039f"
             ],
             [
              0.2222222222222222,
              "#7201a8"
             ],
             [
              0.3333333333333333,
              "#9c179e"
             ],
             [
              0.4444444444444444,
              "#bd3786"
             ],
             [
              0.5555555555555556,
              "#d8576b"
             ],
             [
              0.6666666666666666,
              "#ed7953"
             ],
             [
              0.7777777777777778,
              "#fb9f3a"
             ],
             [
              0.8888888888888888,
              "#fdca26"
             ],
             [
              1,
              "#f0f921"
             ]
            ],
            "type": "histogram2dcontour"
           }
          ],
          "mesh3d": [
           {
            "colorbar": {
             "outlinewidth": 0,
             "ticks": ""
            },
            "type": "mesh3d"
           }
          ],
          "parcoords": [
           {
            "line": {
             "colorbar": {
              "outlinewidth": 0,
              "ticks": ""
             }
            },
            "type": "parcoords"
           }
          ],
          "pie": [
           {
            "automargin": true,
            "type": "pie"
           }
          ],
          "scatter": [
           {
            "fillpattern": {
             "fillmode": "overlay",
             "size": 10,
             "solidity": 0.2
            },
            "type": "scatter"
           }
          ],
          "scatter3d": [
           {
            "line": {
             "colorbar": {
              "outlinewidth": 0,
              "ticks": ""
             }
            },
            "marker": {
             "colorbar": {
              "outlinewidth": 0,
              "ticks": ""
             }
            },
            "type": "scatter3d"
           }
          ],
          "scattercarpet": [
           {
            "marker": {
             "colorbar": {
              "outlinewidth": 0,
              "ticks": ""
             }
            },
            "type": "scattercarpet"
           }
          ],
          "scattergeo": [
           {
            "marker": {
             "colorbar": {
              "outlinewidth": 0,
              "ticks": ""
             }
            },
            "type": "scattergeo"
           }
          ],
          "scattergl": [
           {
            "marker": {
             "colorbar": {
              "outlinewidth": 0,
              "ticks": ""
             }
            },
            "type": "scattergl"
           }
          ],
          "scattermapbox": [
           {
            "marker": {
             "colorbar": {
              "outlinewidth": 0,
              "ticks": ""
             }
            },
            "type": "scattermapbox"
           }
          ],
          "scatterpolar": [
           {
            "marker": {
             "colorbar": {
              "outlinewidth": 0,
              "ticks": ""
             }
            },
            "type": "scatterpolar"
           }
          ],
          "scatterpolargl": [
           {
            "marker": {
             "colorbar": {
              "outlinewidth": 0,
              "ticks": ""
             }
            },
            "type": "scatterpolargl"
           }
          ],
          "scatterternary": [
           {
            "marker": {
             "colorbar": {
              "outlinewidth": 0,
              "ticks": ""
             }
            },
            "type": "scatterternary"
           }
          ],
          "surface": [
           {
            "colorbar": {
             "outlinewidth": 0,
             "ticks": ""
            },
            "colorscale": [
             [
              0,
              "#0d0887"
             ],
             [
              0.1111111111111111,
              "#46039f"
             ],
             [
              0.2222222222222222,
              "#7201a8"
             ],
             [
              0.3333333333333333,
              "#9c179e"
             ],
             [
              0.4444444444444444,
              "#bd3786"
             ],
             [
              0.5555555555555556,
              "#d8576b"
             ],
             [
              0.6666666666666666,
              "#ed7953"
             ],
             [
              0.7777777777777778,
              "#fb9f3a"
             ],
             [
              0.8888888888888888,
              "#fdca26"
             ],
             [
              1,
              "#f0f921"
             ]
            ],
            "type": "surface"
           }
          ],
          "table": [
           {
            "cells": {
             "fill": {
              "color": "#EBF0F8"
             },
             "line": {
              "color": "white"
             }
            },
            "header": {
             "fill": {
              "color": "#C8D4E3"
             },
             "line": {
              "color": "white"
             }
            },
            "type": "table"
           }
          ]
         },
         "layout": {
          "annotationdefaults": {
           "arrowcolor": "#2a3f5f",
           "arrowhead": 0,
           "arrowwidth": 1
          },
          "autotypenumbers": "strict",
          "coloraxis": {
           "colorbar": {
            "outlinewidth": 0,
            "ticks": ""
           }
          },
          "colorscale": {
           "diverging": [
            [
             0,
             "#8e0152"
            ],
            [
             0.1,
             "#c51b7d"
            ],
            [
             0.2,
             "#de77ae"
            ],
            [
             0.3,
             "#f1b6da"
            ],
            [
             0.4,
             "#fde0ef"
            ],
            [
             0.5,
             "#f7f7f7"
            ],
            [
             0.6,
             "#e6f5d0"
            ],
            [
             0.7,
             "#b8e186"
            ],
            [
             0.8,
             "#7fbc41"
            ],
            [
             0.9,
             "#4d9221"
            ],
            [
             1,
             "#276419"
            ]
           ],
           "sequential": [
            [
             0,
             "#0d0887"
            ],
            [
             0.1111111111111111,
             "#46039f"
            ],
            [
             0.2222222222222222,
             "#7201a8"
            ],
            [
             0.3333333333333333,
             "#9c179e"
            ],
            [
             0.4444444444444444,
             "#bd3786"
            ],
            [
             0.5555555555555556,
             "#d8576b"
            ],
            [
             0.6666666666666666,
             "#ed7953"
            ],
            [
             0.7777777777777778,
             "#fb9f3a"
            ],
            [
             0.8888888888888888,
             "#fdca26"
            ],
            [
             1,
             "#f0f921"
            ]
           ],
           "sequentialminus": [
            [
             0,
             "#0d0887"
            ],
            [
             0.1111111111111111,
             "#46039f"
            ],
            [
             0.2222222222222222,
             "#7201a8"
            ],
            [
             0.3333333333333333,
             "#9c179e"
            ],
            [
             0.4444444444444444,
             "#bd3786"
            ],
            [
             0.5555555555555556,
             "#d8576b"
            ],
            [
             0.6666666666666666,
             "#ed7953"
            ],
            [
             0.7777777777777778,
             "#fb9f3a"
            ],
            [
             0.8888888888888888,
             "#fdca26"
            ],
            [
             1,
             "#f0f921"
            ]
           ]
          },
          "colorway": [
           "#636efa",
           "#EF553B",
           "#00cc96",
           "#ab63fa",
           "#FFA15A",
           "#19d3f3",
           "#FF6692",
           "#B6E880",
           "#FF97FF",
           "#FECB52"
          ],
          "font": {
           "color": "#2a3f5f"
          },
          "geo": {
           "bgcolor": "white",
           "lakecolor": "white",
           "landcolor": "#E5ECF6",
           "showlakes": true,
           "showland": true,
           "subunitcolor": "white"
          },
          "hoverlabel": {
           "align": "left"
          },
          "hovermode": "closest",
          "mapbox": {
           "style": "light"
          },
          "paper_bgcolor": "white",
          "plot_bgcolor": "#E5ECF6",
          "polar": {
           "angularaxis": {
            "gridcolor": "white",
            "linecolor": "white",
            "ticks": ""
           },
           "bgcolor": "#E5ECF6",
           "radialaxis": {
            "gridcolor": "white",
            "linecolor": "white",
            "ticks": ""
           }
          },
          "scene": {
           "xaxis": {
            "backgroundcolor": "#E5ECF6",
            "gridcolor": "white",
            "gridwidth": 2,
            "linecolor": "white",
            "showbackground": true,
            "ticks": "",
            "zerolinecolor": "white"
           },
           "yaxis": {
            "backgroundcolor": "#E5ECF6",
            "gridcolor": "white",
            "gridwidth": 2,
            "linecolor": "white",
            "showbackground": true,
            "ticks": "",
            "zerolinecolor": "white"
           },
           "zaxis": {
            "backgroundcolor": "#E5ECF6",
            "gridcolor": "white",
            "gridwidth": 2,
            "linecolor": "white",
            "showbackground": true,
            "ticks": "",
            "zerolinecolor": "white"
           }
          },
          "shapedefaults": {
           "line": {
            "color": "#2a3f5f"
           }
          },
          "ternary": {
           "aaxis": {
            "gridcolor": "white",
            "linecolor": "white",
            "ticks": ""
           },
           "baxis": {
            "gridcolor": "white",
            "linecolor": "white",
            "ticks": ""
           },
           "bgcolor": "#E5ECF6",
           "caxis": {
            "gridcolor": "white",
            "linecolor": "white",
            "ticks": ""
           }
          },
          "title": {
           "x": 0.05
          },
          "xaxis": {
           "automargin": true,
           "gridcolor": "white",
           "linecolor": "white",
           "ticks": "",
           "title": {
            "standoff": 15
           },
           "zerolinecolor": "white",
           "zerolinewidth": 2
          },
          "yaxis": {
           "automargin": true,
           "gridcolor": "white",
           "linecolor": "white",
           "ticks": "",
           "title": {
            "standoff": 15
           },
           "zerolinecolor": "white",
           "zerolinewidth": 2
          }
         }
        },
        "title": {
         "text": "Top 15 Emojis"
        },
        "xaxis": {
         "title": {
          "text": "Emojis"
         }
        },
        "yaxis": {
         "title": {
          "text": "Number of emojis"
         }
        }
       }
      },
      "text/html": [
       "<div>                            <div id=\"9addfd0b-3a71-4a1b-8a00-7d2875eff42e\" class=\"plotly-graph-div\" style=\"height:525px; width:100%;\"></div>            <script type=\"text/javascript\">                require([\"plotly\"], function(Plotly) {                    window.PLOTLYENV=window.PLOTLYENV || {};                                    if (document.getElementById(\"9addfd0b-3a71-4a1b-8a00-7d2875eff42e\")) {                    Plotly.newPlot(                        \"9addfd0b-3a71-4a1b-8a00-7d2875eff42e\",                        [{\"marker\":{\"color\":[\"#FFC300\",\"#FF5733\",\"#C70039\",\"#900C3F\",\"#581845\",\"#DAF7A6\",\"#FFC300\",\"#FF5733\",\"#C70039\",\"#900C3F\",\"#581845\",\"#DAF7A6\",\"#FFC300\",\"#FF5733\",\"#C70039\"]},\"x\":[\"\\u2764\",\"\\ud83d\\ude02\",\"\\ud83d\\ude39\",\"\\ud83d\\ude3b\",\"\\ud83d\\udc93\",\"\\ud83d\\udda4\",\"\\u2728\",\"\\ud83e\\udd7a\",\"\\ud83e\\udd72\",\"\\ud83d\\udc96\"],\"y\":[753,532,253,113,66,59,57,56,46,45],\"type\":\"bar\"}],                        {\"template\":{\"data\":{\"histogram2dcontour\":[{\"type\":\"histogram2dcontour\",\"colorbar\":{\"outlinewidth\":0,\"ticks\":\"\"},\"colorscale\":[[0.0,\"#0d0887\"],[0.1111111111111111,\"#46039f\"],[0.2222222222222222,\"#7201a8\"],[0.3333333333333333,\"#9c179e\"],[0.4444444444444444,\"#bd3786\"],[0.5555555555555556,\"#d8576b\"],[0.6666666666666666,\"#ed7953\"],[0.7777777777777778,\"#fb9f3a\"],[0.8888888888888888,\"#fdca26\"],[1.0,\"#f0f921\"]]}],\"choropleth\":[{\"type\":\"choropleth\",\"colorbar\":{\"outlinewidth\":0,\"ticks\":\"\"}}],\"histogram2d\":[{\"type\":\"histogram2d\",\"colorbar\":{\"outlinewidth\":0,\"ticks\":\"\"},\"colorscale\":[[0.0,\"#0d0887\"],[0.1111111111111111,\"#46039f\"],[0.2222222222222222,\"#7201a8\"],[0.3333333333333333,\"#9c179e\"],[0.4444444444444444,\"#bd3786\"],[0.5555555555555556,\"#d8576b\"],[0.6666666666666666,\"#ed7953\"],[0.7777777777777778,\"#fb9f3a\"],[0.8888888888888888,\"#fdca26\"],[1.0,\"#f0f921\"]]}],\"heatmap\":[{\"type\":\"heatmap\",\"colorbar\":{\"outlinewidth\":0,\"ticks\":\"\"},\"colorscale\":[[0.0,\"#0d0887\"],[0.1111111111111111,\"#46039f\"],[0.2222222222222222,\"#7201a8\"],[0.3333333333333333,\"#9c179e\"],[0.4444444444444444,\"#bd3786\"],[0.5555555555555556,\"#d8576b\"],[0.6666666666666666,\"#ed7953\"],[0.7777777777777778,\"#fb9f3a\"],[0.8888888888888888,\"#fdca26\"],[1.0,\"#f0f921\"]]}],\"heatmapgl\":[{\"type\":\"heatmapgl\",\"colorbar\":{\"outlinewidth\":0,\"ticks\":\"\"},\"colorscale\":[[0.0,\"#0d0887\"],[0.1111111111111111,\"#46039f\"],[0.2222222222222222,\"#7201a8\"],[0.3333333333333333,\"#9c179e\"],[0.4444444444444444,\"#bd3786\"],[0.5555555555555556,\"#d8576b\"],[0.6666666666666666,\"#ed7953\"],[0.7777777777777778,\"#fb9f3a\"],[0.8888888888888888,\"#fdca26\"],[1.0,\"#f0f921\"]]}],\"contourcarpet\":[{\"type\":\"contourcarpet\",\"colorbar\":{\"outlinewidth\":0,\"ticks\":\"\"}}],\"contour\":[{\"type\":\"contour\",\"colorbar\":{\"outlinewidth\":0,\"ticks\":\"\"},\"colorscale\":[[0.0,\"#0d0887\"],[0.1111111111111111,\"#46039f\"],[0.2222222222222222,\"#7201a8\"],[0.3333333333333333,\"#9c179e\"],[0.4444444444444444,\"#bd3786\"],[0.5555555555555556,\"#d8576b\"],[0.6666666666666666,\"#ed7953\"],[0.7777777777777778,\"#fb9f3a\"],[0.8888888888888888,\"#fdca26\"],[1.0,\"#f0f921\"]]}],\"surface\":[{\"type\":\"surface\",\"colorbar\":{\"outlinewidth\":0,\"ticks\":\"\"},\"colorscale\":[[0.0,\"#0d0887\"],[0.1111111111111111,\"#46039f\"],[0.2222222222222222,\"#7201a8\"],[0.3333333333333333,\"#9c179e\"],[0.4444444444444444,\"#bd3786\"],[0.5555555555555556,\"#d8576b\"],[0.6666666666666666,\"#ed7953\"],[0.7777777777777778,\"#fb9f3a\"],[0.8888888888888888,\"#fdca26\"],[1.0,\"#f0f921\"]]}],\"mesh3d\":[{\"type\":\"mesh3d\",\"colorbar\":{\"outlinewidth\":0,\"ticks\":\"\"}}],\"scatter\":[{\"fillpattern\":{\"fillmode\":\"overlay\",\"size\":10,\"solidity\":0.2},\"type\":\"scatter\"}],\"parcoords\":[{\"type\":\"parcoords\",\"line\":{\"colorbar\":{\"outlinewidth\":0,\"ticks\":\"\"}}}],\"scatterpolargl\":[{\"type\":\"scatterpolargl\",\"marker\":{\"colorbar\":{\"outlinewidth\":0,\"ticks\":\"\"}}}],\"bar\":[{\"error_x\":{\"color\":\"#2a3f5f\"},\"error_y\":{\"color\":\"#2a3f5f\"},\"marker\":{\"line\":{\"color\":\"#E5ECF6\",\"width\":0.5},\"pattern\":{\"fillmode\":\"overlay\",\"size\":10,\"solidity\":0.2}},\"type\":\"bar\"}],\"scattergeo\":[{\"type\":\"scattergeo\",\"marker\":{\"colorbar\":{\"outlinewidth\":0,\"ticks\":\"\"}}}],\"scatterpolar\":[{\"type\":\"scatterpolar\",\"marker\":{\"colorbar\":{\"outlinewidth\":0,\"ticks\":\"\"}}}],\"histogram\":[{\"marker\":{\"pattern\":{\"fillmode\":\"overlay\",\"size\":10,\"solidity\":0.2}},\"type\":\"histogram\"}],\"scattergl\":[{\"type\":\"scattergl\",\"marker\":{\"colorbar\":{\"outlinewidth\":0,\"ticks\":\"\"}}}],\"scatter3d\":[{\"type\":\"scatter3d\",\"line\":{\"colorbar\":{\"outlinewidth\":0,\"ticks\":\"\"}},\"marker\":{\"colorbar\":{\"outlinewidth\":0,\"ticks\":\"\"}}}],\"scattermapbox\":[{\"type\":\"scattermapbox\",\"marker\":{\"colorbar\":{\"outlinewidth\":0,\"ticks\":\"\"}}}],\"scatterternary\":[{\"type\":\"scatterternary\",\"marker\":{\"colorbar\":{\"outlinewidth\":0,\"ticks\":\"\"}}}],\"scattercarpet\":[{\"type\":\"scattercarpet\",\"marker\":{\"colorbar\":{\"outlinewidth\":0,\"ticks\":\"\"}}}],\"carpet\":[{\"aaxis\":{\"endlinecolor\":\"#2a3f5f\",\"gridcolor\":\"white\",\"linecolor\":\"white\",\"minorgridcolor\":\"white\",\"startlinecolor\":\"#2a3f5f\"},\"baxis\":{\"endlinecolor\":\"#2a3f5f\",\"gridcolor\":\"white\",\"linecolor\":\"white\",\"minorgridcolor\":\"white\",\"startlinecolor\":\"#2a3f5f\"},\"type\":\"carpet\"}],\"table\":[{\"cells\":{\"fill\":{\"color\":\"#EBF0F8\"},\"line\":{\"color\":\"white\"}},\"header\":{\"fill\":{\"color\":\"#C8D4E3\"},\"line\":{\"color\":\"white\"}},\"type\":\"table\"}],\"barpolar\":[{\"marker\":{\"line\":{\"color\":\"#E5ECF6\",\"width\":0.5},\"pattern\":{\"fillmode\":\"overlay\",\"size\":10,\"solidity\":0.2}},\"type\":\"barpolar\"}],\"pie\":[{\"automargin\":true,\"type\":\"pie\"}]},\"layout\":{\"autotypenumbers\":\"strict\",\"colorway\":[\"#636efa\",\"#EF553B\",\"#00cc96\",\"#ab63fa\",\"#FFA15A\",\"#19d3f3\",\"#FF6692\",\"#B6E880\",\"#FF97FF\",\"#FECB52\"],\"font\":{\"color\":\"#2a3f5f\"},\"hovermode\":\"closest\",\"hoverlabel\":{\"align\":\"left\"},\"paper_bgcolor\":\"white\",\"plot_bgcolor\":\"#E5ECF6\",\"polar\":{\"bgcolor\":\"#E5ECF6\",\"angularaxis\":{\"gridcolor\":\"white\",\"linecolor\":\"white\",\"ticks\":\"\"},\"radialaxis\":{\"gridcolor\":\"white\",\"linecolor\":\"white\",\"ticks\":\"\"}},\"ternary\":{\"bgcolor\":\"#E5ECF6\",\"aaxis\":{\"gridcolor\":\"white\",\"linecolor\":\"white\",\"ticks\":\"\"},\"baxis\":{\"gridcolor\":\"white\",\"linecolor\":\"white\",\"ticks\":\"\"},\"caxis\":{\"gridcolor\":\"white\",\"linecolor\":\"white\",\"ticks\":\"\"}},\"coloraxis\":{\"colorbar\":{\"outlinewidth\":0,\"ticks\":\"\"}},\"colorscale\":{\"sequential\":[[0.0,\"#0d0887\"],[0.1111111111111111,\"#46039f\"],[0.2222222222222222,\"#7201a8\"],[0.3333333333333333,\"#9c179e\"],[0.4444444444444444,\"#bd3786\"],[0.5555555555555556,\"#d8576b\"],[0.6666666666666666,\"#ed7953\"],[0.7777777777777778,\"#fb9f3a\"],[0.8888888888888888,\"#fdca26\"],[1.0,\"#f0f921\"]],\"sequentialminus\":[[0.0,\"#0d0887\"],[0.1111111111111111,\"#46039f\"],[0.2222222222222222,\"#7201a8\"],[0.3333333333333333,\"#9c179e\"],[0.4444444444444444,\"#bd3786\"],[0.5555555555555556,\"#d8576b\"],[0.6666666666666666,\"#ed7953\"],[0.7777777777777778,\"#fb9f3a\"],[0.8888888888888888,\"#fdca26\"],[1.0,\"#f0f921\"]],\"diverging\":[[0,\"#8e0152\"],[0.1,\"#c51b7d\"],[0.2,\"#de77ae\"],[0.3,\"#f1b6da\"],[0.4,\"#fde0ef\"],[0.5,\"#f7f7f7\"],[0.6,\"#e6f5d0\"],[0.7,\"#b8e186\"],[0.8,\"#7fbc41\"],[0.9,\"#4d9221\"],[1,\"#276419\"]]},\"xaxis\":{\"gridcolor\":\"white\",\"linecolor\":\"white\",\"ticks\":\"\",\"title\":{\"standoff\":15},\"zerolinecolor\":\"white\",\"automargin\":true,\"zerolinewidth\":2},\"yaxis\":{\"gridcolor\":\"white\",\"linecolor\":\"white\",\"ticks\":\"\",\"title\":{\"standoff\":15},\"zerolinecolor\":\"white\",\"automargin\":true,\"zerolinewidth\":2},\"scene\":{\"xaxis\":{\"backgroundcolor\":\"#E5ECF6\",\"gridcolor\":\"white\",\"linecolor\":\"white\",\"showbackground\":true,\"ticks\":\"\",\"zerolinecolor\":\"white\",\"gridwidth\":2},\"yaxis\":{\"backgroundcolor\":\"#E5ECF6\",\"gridcolor\":\"white\",\"linecolor\":\"white\",\"showbackground\":true,\"ticks\":\"\",\"zerolinecolor\":\"white\",\"gridwidth\":2},\"zaxis\":{\"backgroundcolor\":\"#E5ECF6\",\"gridcolor\":\"white\",\"linecolor\":\"white\",\"showbackground\":true,\"ticks\":\"\",\"zerolinecolor\":\"white\",\"gridwidth\":2}},\"shapedefaults\":{\"line\":{\"color\":\"#2a3f5f\"}},\"annotationdefaults\":{\"arrowcolor\":\"#2a3f5f\",\"arrowhead\":0,\"arrowwidth\":1},\"geo\":{\"bgcolor\":\"white\",\"landcolor\":\"#E5ECF6\",\"subunitcolor\":\"white\",\"showland\":true,\"showlakes\":true,\"lakecolor\":\"white\"},\"title\":{\"x\":0.05},\"mapbox\":{\"style\":\"light\"}}},\"title\":{\"text\":\"Top 15 Emojis\"},\"xaxis\":{\"title\":{\"text\":\"Emojis\"}},\"yaxis\":{\"title\":{\"text\":\"Number of emojis\"}}},                        {\"responsive\": true}                    ).then(function(){\n",
       "                            \n",
       "var gd = document.getElementById('9addfd0b-3a71-4a1b-8a00-7d2875eff42e');\n",
       "var x = new MutationObserver(function (mutations, observer) {{\n",
       "        var display = window.getComputedStyle(gd).display;\n",
       "        if (!display || display === 'none') {{\n",
       "            console.log([gd, 'removed!']);\n",
       "            Plotly.purge(gd);\n",
       "            observer.disconnect();\n",
       "        }}\n",
       "}});\n",
       "\n",
       "// Listen for the removal of the full notebook cells\n",
       "var notebookContainer = gd.closest('#notebook-container');\n",
       "if (notebookContainer) {{\n",
       "    x.observe(notebookContainer, {childList: true});\n",
       "}}\n",
       "\n",
       "// Listen for the clearing of the current output cell\n",
       "var outputEl = gd.closest('.output');\n",
       "if (outputEl) {{\n",
       "    x.observe(outputEl, {childList: true});\n",
       "}}\n",
       "\n",
       "                        })                };                });            </script>        </div>"
      ]
     },
     "metadata": {},
     "output_type": "display_data"
    }
   ],
   "source": [
    "# Select the 15 emojis more used\n",
    "top_emojis = df['Emojis'].value_counts(sort=True, dropna=False).head(10)\n",
    "\n",
    "# Set attributes to the table. \n",
    "fig = go.Figure(\n",
    "    go.Bar(\n",
    "        x=top_emojis.index,\n",
    "        y=top_emojis.values,\n",
    "        marker=dict(\n",
    "            color=['#FFC300', '#FF5733', '#C70039', '#900C3F', '#581845', '#DAF7A6', '#FFC300', '#FF5733', '#C70039', '#900C3F', '#581845', '#DAF7A6', '#FFC300', '#FF5733', '#C70039']\n",
    "        )\n",
    "    )\n",
    ")\n",
    "\n",
    "\n",
    "# LABELS\n",
    "fig.update_layout(title='Top 15 Emojis',\n",
    "                  xaxis_title='Emojis',\n",
    "                  yaxis_title='Number of emojis')\n",
    "\n",
    "# SAVE\n",
    "fig.write_image(\"../figures/graph_top15.png\", width=1600, height=800, scale=2)\n",
    "fig.show()"
   ]
  },
  {
   "cell_type": "code",
   "execution_count": 30,
   "id": "5e7b33ff",
   "metadata": {},
   "outputs": [
    {
     "data": {
      "application/vnd.plotly.v1+json": {
       "config": {
        "plotlyServerURL": "https://plot.ly"
       },
       "data": [
        {
         "alignmentgroup": "True",
         "hovertemplate": "Rain=%{x}<br>Count=%{y}<extra></extra>",
         "legendgroup": "False",
         "marker": {
          "color": "#636efa",
          "pattern": {
           "shape": ""
          }
         },
         "name": "False",
         "offsetgroup": "False",
         "orientation": "v",
         "showlegend": true,
         "textposition": "auto",
         "type": "bar",
         "x": [
          false
         ],
         "xaxis": "x",
         "y": [
          1471
         ],
         "yaxis": "y"
        },
        {
         "alignmentgroup": "True",
         "hovertemplate": "Rain=%{x}<br>Count=%{y}<extra></extra>",
         "legendgroup": "True",
         "marker": {
          "color": "#EF553B",
          "pattern": {
           "shape": ""
          }
         },
         "name": "True",
         "offsetgroup": "True",
         "orientation": "v",
         "showlegend": true,
         "textposition": "auto",
         "type": "bar",
         "x": [
          true
         ],
         "xaxis": "x",
         "y": [
          1204
         ],
         "yaxis": "y"
        }
       ],
       "layout": {
        "barmode": "relative",
        "legend": {
         "title": {
          "text": "Rain"
         },
         "tracegroupgap": 0
        },
        "template": {
         "data": {
          "bar": [
           {
            "error_x": {
             "color": "#2a3f5f"
            },
            "error_y": {
             "color": "#2a3f5f"
            },
            "marker": {
             "line": {
              "color": "#E5ECF6",
              "width": 0.5
             },
             "pattern": {
              "fillmode": "overlay",
              "size": 10,
              "solidity": 0.2
             }
            },
            "type": "bar"
           }
          ],
          "barpolar": [
           {
            "marker": {
             "line": {
              "color": "#E5ECF6",
              "width": 0.5
             },
             "pattern": {
              "fillmode": "overlay",
              "size": 10,
              "solidity": 0.2
             }
            },
            "type": "barpolar"
           }
          ],
          "carpet": [
           {
            "aaxis": {
             "endlinecolor": "#2a3f5f",
             "gridcolor": "white",
             "linecolor": "white",
             "minorgridcolor": "white",
             "startlinecolor": "#2a3f5f"
            },
            "baxis": {
             "endlinecolor": "#2a3f5f",
             "gridcolor": "white",
             "linecolor": "white",
             "minorgridcolor": "white",
             "startlinecolor": "#2a3f5f"
            },
            "type": "carpet"
           }
          ],
          "choropleth": [
           {
            "colorbar": {
             "outlinewidth": 0,
             "ticks": ""
            },
            "type": "choropleth"
           }
          ],
          "contour": [
           {
            "colorbar": {
             "outlinewidth": 0,
             "ticks": ""
            },
            "colorscale": [
             [
              0,
              "#0d0887"
             ],
             [
              0.1111111111111111,
              "#46039f"
             ],
             [
              0.2222222222222222,
              "#7201a8"
             ],
             [
              0.3333333333333333,
              "#9c179e"
             ],
             [
              0.4444444444444444,
              "#bd3786"
             ],
             [
              0.5555555555555556,
              "#d8576b"
             ],
             [
              0.6666666666666666,
              "#ed7953"
             ],
             [
              0.7777777777777778,
              "#fb9f3a"
             ],
             [
              0.8888888888888888,
              "#fdca26"
             ],
             [
              1,
              "#f0f921"
             ]
            ],
            "type": "contour"
           }
          ],
          "contourcarpet": [
           {
            "colorbar": {
             "outlinewidth": 0,
             "ticks": ""
            },
            "type": "contourcarpet"
           }
          ],
          "heatmap": [
           {
            "colorbar": {
             "outlinewidth": 0,
             "ticks": ""
            },
            "colorscale": [
             [
              0,
              "#0d0887"
             ],
             [
              0.1111111111111111,
              "#46039f"
             ],
             [
              0.2222222222222222,
              "#7201a8"
             ],
             [
              0.3333333333333333,
              "#9c179e"
             ],
             [
              0.4444444444444444,
              "#bd3786"
             ],
             [
              0.5555555555555556,
              "#d8576b"
             ],
             [
              0.6666666666666666,
              "#ed7953"
             ],
             [
              0.7777777777777778,
              "#fb9f3a"
             ],
             [
              0.8888888888888888,
              "#fdca26"
             ],
             [
              1,
              "#f0f921"
             ]
            ],
            "type": "heatmap"
           }
          ],
          "heatmapgl": [
           {
            "colorbar": {
             "outlinewidth": 0,
             "ticks": ""
            },
            "colorscale": [
             [
              0,
              "#0d0887"
             ],
             [
              0.1111111111111111,
              "#46039f"
             ],
             [
              0.2222222222222222,
              "#7201a8"
             ],
             [
              0.3333333333333333,
              "#9c179e"
             ],
             [
              0.4444444444444444,
              "#bd3786"
             ],
             [
              0.5555555555555556,
              "#d8576b"
             ],
             [
              0.6666666666666666,
              "#ed7953"
             ],
             [
              0.7777777777777778,
              "#fb9f3a"
             ],
             [
              0.8888888888888888,
              "#fdca26"
             ],
             [
              1,
              "#f0f921"
             ]
            ],
            "type": "heatmapgl"
           }
          ],
          "histogram": [
           {
            "marker": {
             "pattern": {
              "fillmode": "overlay",
              "size": 10,
              "solidity": 0.2
             }
            },
            "type": "histogram"
           }
          ],
          "histogram2d": [
           {
            "colorbar": {
             "outlinewidth": 0,
             "ticks": ""
            },
            "colorscale": [
             [
              0,
              "#0d0887"
             ],
             [
              0.1111111111111111,
              "#46039f"
             ],
             [
              0.2222222222222222,
              "#7201a8"
             ],
             [
              0.3333333333333333,
              "#9c179e"
             ],
             [
              0.4444444444444444,
              "#bd3786"
             ],
             [
              0.5555555555555556,
              "#d8576b"
             ],
             [
              0.6666666666666666,
              "#ed7953"
             ],
             [
              0.7777777777777778,
              "#fb9f3a"
             ],
             [
              0.8888888888888888,
              "#fdca26"
             ],
             [
              1,
              "#f0f921"
             ]
            ],
            "type": "histogram2d"
           }
          ],
          "histogram2dcontour": [
           {
            "colorbar": {
             "outlinewidth": 0,
             "ticks": ""
            },
            "colorscale": [
             [
              0,
              "#0d0887"
             ],
             [
              0.1111111111111111,
              "#46039f"
             ],
             [
              0.2222222222222222,
              "#7201a8"
             ],
             [
              0.3333333333333333,
              "#9c179e"
             ],
             [
              0.4444444444444444,
              "#bd3786"
             ],
             [
              0.5555555555555556,
              "#d8576b"
             ],
             [
              0.6666666666666666,
              "#ed7953"
             ],
             [
              0.7777777777777778,
              "#fb9f3a"
             ],
             [
              0.8888888888888888,
              "#fdca26"
             ],
             [
              1,
              "#f0f921"
             ]
            ],
            "type": "histogram2dcontour"
           }
          ],
          "mesh3d": [
           {
            "colorbar": {
             "outlinewidth": 0,
             "ticks": ""
            },
            "type": "mesh3d"
           }
          ],
          "parcoords": [
           {
            "line": {
             "colorbar": {
              "outlinewidth": 0,
              "ticks": ""
             }
            },
            "type": "parcoords"
           }
          ],
          "pie": [
           {
            "automargin": true,
            "type": "pie"
           }
          ],
          "scatter": [
           {
            "fillpattern": {
             "fillmode": "overlay",
             "size": 10,
             "solidity": 0.2
            },
            "type": "scatter"
           }
          ],
          "scatter3d": [
           {
            "line": {
             "colorbar": {
              "outlinewidth": 0,
              "ticks": ""
             }
            },
            "marker": {
             "colorbar": {
              "outlinewidth": 0,
              "ticks": ""
             }
            },
            "type": "scatter3d"
           }
          ],
          "scattercarpet": [
           {
            "marker": {
             "colorbar": {
              "outlinewidth": 0,
              "ticks": ""
             }
            },
            "type": "scattercarpet"
           }
          ],
          "scattergeo": [
           {
            "marker": {
             "colorbar": {
              "outlinewidth": 0,
              "ticks": ""
             }
            },
            "type": "scattergeo"
           }
          ],
          "scattergl": [
           {
            "marker": {
             "colorbar": {
              "outlinewidth": 0,
              "ticks": ""
             }
            },
            "type": "scattergl"
           }
          ],
          "scattermapbox": [
           {
            "marker": {
             "colorbar": {
              "outlinewidth": 0,
              "ticks": ""
             }
            },
            "type": "scattermapbox"
           }
          ],
          "scatterpolar": [
           {
            "marker": {
             "colorbar": {
              "outlinewidth": 0,
              "ticks": ""
             }
            },
            "type": "scatterpolar"
           }
          ],
          "scatterpolargl": [
           {
            "marker": {
             "colorbar": {
              "outlinewidth": 0,
              "ticks": ""
             }
            },
            "type": "scatterpolargl"
           }
          ],
          "scatterternary": [
           {
            "marker": {
             "colorbar": {
              "outlinewidth": 0,
              "ticks": ""
             }
            },
            "type": "scatterternary"
           }
          ],
          "surface": [
           {
            "colorbar": {
             "outlinewidth": 0,
             "ticks": ""
            },
            "colorscale": [
             [
              0,
              "#0d0887"
             ],
             [
              0.1111111111111111,
              "#46039f"
             ],
             [
              0.2222222222222222,
              "#7201a8"
             ],
             [
              0.3333333333333333,
              "#9c179e"
             ],
             [
              0.4444444444444444,
              "#bd3786"
             ],
             [
              0.5555555555555556,
              "#d8576b"
             ],
             [
              0.6666666666666666,
              "#ed7953"
             ],
             [
              0.7777777777777778,
              "#fb9f3a"
             ],
             [
              0.8888888888888888,
              "#fdca26"
             ],
             [
              1,
              "#f0f921"
             ]
            ],
            "type": "surface"
           }
          ],
          "table": [
           {
            "cells": {
             "fill": {
              "color": "#EBF0F8"
             },
             "line": {
              "color": "white"
             }
            },
            "header": {
             "fill": {
              "color": "#C8D4E3"
             },
             "line": {
              "color": "white"
             }
            },
            "type": "table"
           }
          ]
         },
         "layout": {
          "annotationdefaults": {
           "arrowcolor": "#2a3f5f",
           "arrowhead": 0,
           "arrowwidth": 1
          },
          "autotypenumbers": "strict",
          "coloraxis": {
           "colorbar": {
            "outlinewidth": 0,
            "ticks": ""
           }
          },
          "colorscale": {
           "diverging": [
            [
             0,
             "#8e0152"
            ],
            [
             0.1,
             "#c51b7d"
            ],
            [
             0.2,
             "#de77ae"
            ],
            [
             0.3,
             "#f1b6da"
            ],
            [
             0.4,
             "#fde0ef"
            ],
            [
             0.5,
             "#f7f7f7"
            ],
            [
             0.6,
             "#e6f5d0"
            ],
            [
             0.7,
             "#b8e186"
            ],
            [
             0.8,
             "#7fbc41"
            ],
            [
             0.9,
             "#4d9221"
            ],
            [
             1,
             "#276419"
            ]
           ],
           "sequential": [
            [
             0,
             "#0d0887"
            ],
            [
             0.1111111111111111,
             "#46039f"
            ],
            [
             0.2222222222222222,
             "#7201a8"
            ],
            [
             0.3333333333333333,
             "#9c179e"
            ],
            [
             0.4444444444444444,
             "#bd3786"
            ],
            [
             0.5555555555555556,
             "#d8576b"
            ],
            [
             0.6666666666666666,
             "#ed7953"
            ],
            [
             0.7777777777777778,
             "#fb9f3a"
            ],
            [
             0.8888888888888888,
             "#fdca26"
            ],
            [
             1,
             "#f0f921"
            ]
           ],
           "sequentialminus": [
            [
             0,
             "#0d0887"
            ],
            [
             0.1111111111111111,
             "#46039f"
            ],
            [
             0.2222222222222222,
             "#7201a8"
            ],
            [
             0.3333333333333333,
             "#9c179e"
            ],
            [
             0.4444444444444444,
             "#bd3786"
            ],
            [
             0.5555555555555556,
             "#d8576b"
            ],
            [
             0.6666666666666666,
             "#ed7953"
            ],
            [
             0.7777777777777778,
             "#fb9f3a"
            ],
            [
             0.8888888888888888,
             "#fdca26"
            ],
            [
             1,
             "#f0f921"
            ]
           ]
          },
          "colorway": [
           "#636efa",
           "#EF553B",
           "#00cc96",
           "#ab63fa",
           "#FFA15A",
           "#19d3f3",
           "#FF6692",
           "#B6E880",
           "#FF97FF",
           "#FECB52"
          ],
          "font": {
           "color": "#2a3f5f"
          },
          "geo": {
           "bgcolor": "white",
           "lakecolor": "white",
           "landcolor": "#E5ECF6",
           "showlakes": true,
           "showland": true,
           "subunitcolor": "white"
          },
          "hoverlabel": {
           "align": "left"
          },
          "hovermode": "closest",
          "mapbox": {
           "style": "light"
          },
          "paper_bgcolor": "white",
          "plot_bgcolor": "#E5ECF6",
          "polar": {
           "angularaxis": {
            "gridcolor": "white",
            "linecolor": "white",
            "ticks": ""
           },
           "bgcolor": "#E5ECF6",
           "radialaxis": {
            "gridcolor": "white",
            "linecolor": "white",
            "ticks": ""
           }
          },
          "scene": {
           "xaxis": {
            "backgroundcolor": "#E5ECF6",
            "gridcolor": "white",
            "gridwidth": 2,
            "linecolor": "white",
            "showbackground": true,
            "ticks": "",
            "zerolinecolor": "white"
           },
           "yaxis": {
            "backgroundcolor": "#E5ECF6",
            "gridcolor": "white",
            "gridwidth": 2,
            "linecolor": "white",
            "showbackground": true,
            "ticks": "",
            "zerolinecolor": "white"
           },
           "zaxis": {
            "backgroundcolor": "#E5ECF6",
            "gridcolor": "white",
            "gridwidth": 2,
            "linecolor": "white",
            "showbackground": true,
            "ticks": "",
            "zerolinecolor": "white"
           }
          },
          "shapedefaults": {
           "line": {
            "color": "#2a3f5f"
           }
          },
          "ternary": {
           "aaxis": {
            "gridcolor": "white",
            "linecolor": "white",
            "ticks": ""
           },
           "baxis": {
            "gridcolor": "white",
            "linecolor": "white",
            "ticks": ""
           },
           "bgcolor": "#E5ECF6",
           "caxis": {
            "gridcolor": "white",
            "linecolor": "white",
            "ticks": ""
           }
          },
          "title": {
           "x": 0.05
          },
          "xaxis": {
           "automargin": true,
           "gridcolor": "white",
           "linecolor": "white",
           "ticks": "",
           "title": {
            "standoff": 15
           },
           "zerolinecolor": "white",
           "zerolinewidth": 2
          },
          "yaxis": {
           "automargin": true,
           "gridcolor": "white",
           "linecolor": "white",
           "ticks": "",
           "title": {
            "standoff": 15
           },
           "zerolinecolor": "white",
           "zerolinewidth": 2
          }
         }
        },
        "title": {
         "text": "Number of emoticons according to rainfall"
        },
        "xaxis": {
         "anchor": "y",
         "categoryarray": [
          false,
          true
         ],
         "categoryorder": "array",
         "domain": [
          0,
          1
         ],
         "tickmode": "array",
         "ticktext": [
          "No Rain",
          "Rain"
         ],
         "tickvals": [
          0,
          1
         ],
         "title": {
          "text": "Weather"
         }
        },
        "yaxis": {
         "anchor": "x",
         "domain": [
          0,
          1
         ],
         "title": {
          "text": "Count"
         }
        }
       }
      },
      "text/html": [
       "<div>                            <div id=\"fe3e3d19-f768-414a-bcb8-38d2105d18f3\" class=\"plotly-graph-div\" style=\"height:525px; width:100%;\"></div>            <script type=\"text/javascript\">                require([\"plotly\"], function(Plotly) {                    window.PLOTLYENV=window.PLOTLYENV || {};                                    if (document.getElementById(\"fe3e3d19-f768-414a-bcb8-38d2105d18f3\")) {                    Plotly.newPlot(                        \"fe3e3d19-f768-414a-bcb8-38d2105d18f3\",                        [{\"alignmentgroup\":\"True\",\"hovertemplate\":\"Rain=%{x}<br>Count=%{y}<extra></extra>\",\"legendgroup\":\"False\",\"marker\":{\"color\":\"#636efa\",\"pattern\":{\"shape\":\"\"}},\"name\":\"False\",\"offsetgroup\":\"False\",\"orientation\":\"v\",\"showlegend\":true,\"textposition\":\"auto\",\"x\":[false],\"xaxis\":\"x\",\"y\":[1471],\"yaxis\":\"y\",\"type\":\"bar\"},{\"alignmentgroup\":\"True\",\"hovertemplate\":\"Rain=%{x}<br>Count=%{y}<extra></extra>\",\"legendgroup\":\"True\",\"marker\":{\"color\":\"#EF553B\",\"pattern\":{\"shape\":\"\"}},\"name\":\"True\",\"offsetgroup\":\"True\",\"orientation\":\"v\",\"showlegend\":true,\"textposition\":\"auto\",\"x\":[true],\"xaxis\":\"x\",\"y\":[1204],\"yaxis\":\"y\",\"type\":\"bar\"}],                        {\"template\":{\"data\":{\"histogram2dcontour\":[{\"type\":\"histogram2dcontour\",\"colorbar\":{\"outlinewidth\":0,\"ticks\":\"\"},\"colorscale\":[[0.0,\"#0d0887\"],[0.1111111111111111,\"#46039f\"],[0.2222222222222222,\"#7201a8\"],[0.3333333333333333,\"#9c179e\"],[0.4444444444444444,\"#bd3786\"],[0.5555555555555556,\"#d8576b\"],[0.6666666666666666,\"#ed7953\"],[0.7777777777777778,\"#fb9f3a\"],[0.8888888888888888,\"#fdca26\"],[1.0,\"#f0f921\"]]}],\"choropleth\":[{\"type\":\"choropleth\",\"colorbar\":{\"outlinewidth\":0,\"ticks\":\"\"}}],\"histogram2d\":[{\"type\":\"histogram2d\",\"colorbar\":{\"outlinewidth\":0,\"ticks\":\"\"},\"colorscale\":[[0.0,\"#0d0887\"],[0.1111111111111111,\"#46039f\"],[0.2222222222222222,\"#7201a8\"],[0.3333333333333333,\"#9c179e\"],[0.4444444444444444,\"#bd3786\"],[0.5555555555555556,\"#d8576b\"],[0.6666666666666666,\"#ed7953\"],[0.7777777777777778,\"#fb9f3a\"],[0.8888888888888888,\"#fdca26\"],[1.0,\"#f0f921\"]]}],\"heatmap\":[{\"type\":\"heatmap\",\"colorbar\":{\"outlinewidth\":0,\"ticks\":\"\"},\"colorscale\":[[0.0,\"#0d0887\"],[0.1111111111111111,\"#46039f\"],[0.2222222222222222,\"#7201a8\"],[0.3333333333333333,\"#9c179e\"],[0.4444444444444444,\"#bd3786\"],[0.5555555555555556,\"#d8576b\"],[0.6666666666666666,\"#ed7953\"],[0.7777777777777778,\"#fb9f3a\"],[0.8888888888888888,\"#fdca26\"],[1.0,\"#f0f921\"]]}],\"heatmapgl\":[{\"type\":\"heatmapgl\",\"colorbar\":{\"outlinewidth\":0,\"ticks\":\"\"},\"colorscale\":[[0.0,\"#0d0887\"],[0.1111111111111111,\"#46039f\"],[0.2222222222222222,\"#7201a8\"],[0.3333333333333333,\"#9c179e\"],[0.4444444444444444,\"#bd3786\"],[0.5555555555555556,\"#d8576b\"],[0.6666666666666666,\"#ed7953\"],[0.7777777777777778,\"#fb9f3a\"],[0.8888888888888888,\"#fdca26\"],[1.0,\"#f0f921\"]]}],\"contourcarpet\":[{\"type\":\"contourcarpet\",\"colorbar\":{\"outlinewidth\":0,\"ticks\":\"\"}}],\"contour\":[{\"type\":\"contour\",\"colorbar\":{\"outlinewidth\":0,\"ticks\":\"\"},\"colorscale\":[[0.0,\"#0d0887\"],[0.1111111111111111,\"#46039f\"],[0.2222222222222222,\"#7201a8\"],[0.3333333333333333,\"#9c179e\"],[0.4444444444444444,\"#bd3786\"],[0.5555555555555556,\"#d8576b\"],[0.6666666666666666,\"#ed7953\"],[0.7777777777777778,\"#fb9f3a\"],[0.8888888888888888,\"#fdca26\"],[1.0,\"#f0f921\"]]}],\"surface\":[{\"type\":\"surface\",\"colorbar\":{\"outlinewidth\":0,\"ticks\":\"\"},\"colorscale\":[[0.0,\"#0d0887\"],[0.1111111111111111,\"#46039f\"],[0.2222222222222222,\"#7201a8\"],[0.3333333333333333,\"#9c179e\"],[0.4444444444444444,\"#bd3786\"],[0.5555555555555556,\"#d8576b\"],[0.6666666666666666,\"#ed7953\"],[0.7777777777777778,\"#fb9f3a\"],[0.8888888888888888,\"#fdca26\"],[1.0,\"#f0f921\"]]}],\"mesh3d\":[{\"type\":\"mesh3d\",\"colorbar\":{\"outlinewidth\":0,\"ticks\":\"\"}}],\"scatter\":[{\"fillpattern\":{\"fillmode\":\"overlay\",\"size\":10,\"solidity\":0.2},\"type\":\"scatter\"}],\"parcoords\":[{\"type\":\"parcoords\",\"line\":{\"colorbar\":{\"outlinewidth\":0,\"ticks\":\"\"}}}],\"scatterpolargl\":[{\"type\":\"scatterpolargl\",\"marker\":{\"colorbar\":{\"outlinewidth\":0,\"ticks\":\"\"}}}],\"bar\":[{\"error_x\":{\"color\":\"#2a3f5f\"},\"error_y\":{\"color\":\"#2a3f5f\"},\"marker\":{\"line\":{\"color\":\"#E5ECF6\",\"width\":0.5},\"pattern\":{\"fillmode\":\"overlay\",\"size\":10,\"solidity\":0.2}},\"type\":\"bar\"}],\"scattergeo\":[{\"type\":\"scattergeo\",\"marker\":{\"colorbar\":{\"outlinewidth\":0,\"ticks\":\"\"}}}],\"scatterpolar\":[{\"type\":\"scatterpolar\",\"marker\":{\"colorbar\":{\"outlinewidth\":0,\"ticks\":\"\"}}}],\"histogram\":[{\"marker\":{\"pattern\":{\"fillmode\":\"overlay\",\"size\":10,\"solidity\":0.2}},\"type\":\"histogram\"}],\"scattergl\":[{\"type\":\"scattergl\",\"marker\":{\"colorbar\":{\"outlinewidth\":0,\"ticks\":\"\"}}}],\"scatter3d\":[{\"type\":\"scatter3d\",\"line\":{\"colorbar\":{\"outlinewidth\":0,\"ticks\":\"\"}},\"marker\":{\"colorbar\":{\"outlinewidth\":0,\"ticks\":\"\"}}}],\"scattermapbox\":[{\"type\":\"scattermapbox\",\"marker\":{\"colorbar\":{\"outlinewidth\":0,\"ticks\":\"\"}}}],\"scatterternary\":[{\"type\":\"scatterternary\",\"marker\":{\"colorbar\":{\"outlinewidth\":0,\"ticks\":\"\"}}}],\"scattercarpet\":[{\"type\":\"scattercarpet\",\"marker\":{\"colorbar\":{\"outlinewidth\":0,\"ticks\":\"\"}}}],\"carpet\":[{\"aaxis\":{\"endlinecolor\":\"#2a3f5f\",\"gridcolor\":\"white\",\"linecolor\":\"white\",\"minorgridcolor\":\"white\",\"startlinecolor\":\"#2a3f5f\"},\"baxis\":{\"endlinecolor\":\"#2a3f5f\",\"gridcolor\":\"white\",\"linecolor\":\"white\",\"minorgridcolor\":\"white\",\"startlinecolor\":\"#2a3f5f\"},\"type\":\"carpet\"}],\"table\":[{\"cells\":{\"fill\":{\"color\":\"#EBF0F8\"},\"line\":{\"color\":\"white\"}},\"header\":{\"fill\":{\"color\":\"#C8D4E3\"},\"line\":{\"color\":\"white\"}},\"type\":\"table\"}],\"barpolar\":[{\"marker\":{\"line\":{\"color\":\"#E5ECF6\",\"width\":0.5},\"pattern\":{\"fillmode\":\"overlay\",\"size\":10,\"solidity\":0.2}},\"type\":\"barpolar\"}],\"pie\":[{\"automargin\":true,\"type\":\"pie\"}]},\"layout\":{\"autotypenumbers\":\"strict\",\"colorway\":[\"#636efa\",\"#EF553B\",\"#00cc96\",\"#ab63fa\",\"#FFA15A\",\"#19d3f3\",\"#FF6692\",\"#B6E880\",\"#FF97FF\",\"#FECB52\"],\"font\":{\"color\":\"#2a3f5f\"},\"hovermode\":\"closest\",\"hoverlabel\":{\"align\":\"left\"},\"paper_bgcolor\":\"white\",\"plot_bgcolor\":\"#E5ECF6\",\"polar\":{\"bgcolor\":\"#E5ECF6\",\"angularaxis\":{\"gridcolor\":\"white\",\"linecolor\":\"white\",\"ticks\":\"\"},\"radialaxis\":{\"gridcolor\":\"white\",\"linecolor\":\"white\",\"ticks\":\"\"}},\"ternary\":{\"bgcolor\":\"#E5ECF6\",\"aaxis\":{\"gridcolor\":\"white\",\"linecolor\":\"white\",\"ticks\":\"\"},\"baxis\":{\"gridcolor\":\"white\",\"linecolor\":\"white\",\"ticks\":\"\"},\"caxis\":{\"gridcolor\":\"white\",\"linecolor\":\"white\",\"ticks\":\"\"}},\"coloraxis\":{\"colorbar\":{\"outlinewidth\":0,\"ticks\":\"\"}},\"colorscale\":{\"sequential\":[[0.0,\"#0d0887\"],[0.1111111111111111,\"#46039f\"],[0.2222222222222222,\"#7201a8\"],[0.3333333333333333,\"#9c179e\"],[0.4444444444444444,\"#bd3786\"],[0.5555555555555556,\"#d8576b\"],[0.6666666666666666,\"#ed7953\"],[0.7777777777777778,\"#fb9f3a\"],[0.8888888888888888,\"#fdca26\"],[1.0,\"#f0f921\"]],\"sequentialminus\":[[0.0,\"#0d0887\"],[0.1111111111111111,\"#46039f\"],[0.2222222222222222,\"#7201a8\"],[0.3333333333333333,\"#9c179e\"],[0.4444444444444444,\"#bd3786\"],[0.5555555555555556,\"#d8576b\"],[0.6666666666666666,\"#ed7953\"],[0.7777777777777778,\"#fb9f3a\"],[0.8888888888888888,\"#fdca26\"],[1.0,\"#f0f921\"]],\"diverging\":[[0,\"#8e0152\"],[0.1,\"#c51b7d\"],[0.2,\"#de77ae\"],[0.3,\"#f1b6da\"],[0.4,\"#fde0ef\"],[0.5,\"#f7f7f7\"],[0.6,\"#e6f5d0\"],[0.7,\"#b8e186\"],[0.8,\"#7fbc41\"],[0.9,\"#4d9221\"],[1,\"#276419\"]]},\"xaxis\":{\"gridcolor\":\"white\",\"linecolor\":\"white\",\"ticks\":\"\",\"title\":{\"standoff\":15},\"zerolinecolor\":\"white\",\"automargin\":true,\"zerolinewidth\":2},\"yaxis\":{\"gridcolor\":\"white\",\"linecolor\":\"white\",\"ticks\":\"\",\"title\":{\"standoff\":15},\"zerolinecolor\":\"white\",\"automargin\":true,\"zerolinewidth\":2},\"scene\":{\"xaxis\":{\"backgroundcolor\":\"#E5ECF6\",\"gridcolor\":\"white\",\"linecolor\":\"white\",\"showbackground\":true,\"ticks\":\"\",\"zerolinecolor\":\"white\",\"gridwidth\":2},\"yaxis\":{\"backgroundcolor\":\"#E5ECF6\",\"gridcolor\":\"white\",\"linecolor\":\"white\",\"showbackground\":true,\"ticks\":\"\",\"zerolinecolor\":\"white\",\"gridwidth\":2},\"zaxis\":{\"backgroundcolor\":\"#E5ECF6\",\"gridcolor\":\"white\",\"linecolor\":\"white\",\"showbackground\":true,\"ticks\":\"\",\"zerolinecolor\":\"white\",\"gridwidth\":2}},\"shapedefaults\":{\"line\":{\"color\":\"#2a3f5f\"}},\"annotationdefaults\":{\"arrowcolor\":\"#2a3f5f\",\"arrowhead\":0,\"arrowwidth\":1},\"geo\":{\"bgcolor\":\"white\",\"landcolor\":\"#E5ECF6\",\"subunitcolor\":\"white\",\"showland\":true,\"showlakes\":true,\"lakecolor\":\"white\"},\"title\":{\"x\":0.05},\"mapbox\":{\"style\":\"light\"}}},\"xaxis\":{\"anchor\":\"y\",\"domain\":[0.0,1.0],\"title\":{\"text\":\"Weather\"},\"categoryorder\":\"array\",\"categoryarray\":[false,true],\"tickmode\":\"array\",\"tickvals\":[0,1],\"ticktext\":[\"No Rain\",\"Rain\"]},\"yaxis\":{\"anchor\":\"x\",\"domain\":[0.0,1.0],\"title\":{\"text\":\"Count\"}},\"legend\":{\"title\":{\"text\":\"Rain\"},\"tracegroupgap\":0},\"title\":{\"text\":\"Number of emoticons according to rainfall\"},\"barmode\":\"relative\"},                        {\"responsive\": true}                    ).then(function(){\n",
       "                            \n",
       "var gd = document.getElementById('fe3e3d19-f768-414a-bcb8-38d2105d18f3');\n",
       "var x = new MutationObserver(function (mutations, observer) {{\n",
       "        var display = window.getComputedStyle(gd).display;\n",
       "        if (!display || display === 'none') {{\n",
       "            console.log([gd, 'removed!']);\n",
       "            Plotly.purge(gd);\n",
       "            observer.disconnect();\n",
       "        }}\n",
       "}});\n",
       "\n",
       "// Listen for the removal of the full notebook cells\n",
       "var notebookContainer = gd.closest('#notebook-container');\n",
       "if (notebookContainer) {{\n",
       "    x.observe(notebookContainer, {childList: true});\n",
       "}}\n",
       "\n",
       "// Listen for the clearing of the current output cell\n",
       "var outputEl = gd.closest('.output');\n",
       "if (outputEl) {{\n",
       "    x.observe(outputEl, {childList: true});\n",
       "}}\n",
       "\n",
       "                        })                };                });            </script>        </div>"
      ]
     },
     "metadata": {},
     "output_type": "display_data"
    }
   ],
   "source": [
    "# Agrupar por la columna \"Rain\" y contar los emoticonos en cada grupo\n",
    "emojis_by_rain = df.groupby(\"Rain\")[\"Emojis\"].count().reset_index(name=\"Count\")\n",
    "\n",
    "# Crear la gráfica de barras\n",
    "fig = px.bar(emojis_by_rain, x=\"Rain\", y=\"Count\", color=\"Rain\",\n",
    "             title=\"Number of emoticons according to rainfall\")\n",
    "\n",
    "# Agregar etiquetas al eje x\n",
    "fig.update_layout(xaxis=dict(tickmode=\"array\", tickvals=[0, 1], ticktext=[\"No Rain\", \"Rain\"], title=\"Weather\"))\n",
    "\n",
    "# Save table\n",
    "fig.write_image(\"../figures/graph_rain.png\", width=1600, height=800, scale=2)\n",
    "\n",
    "# Mostrar la gráfica\n",
    "fig.show()"
   ]
  },
  {
   "cell_type": "code",
   "execution_count": 8,
   "id": "f7752642",
   "metadata": {
    "scrolled": false
   },
   "outputs": [
    {
     "data": {
      "application/vnd.plotly.v1+json": {
       "config": {
        "plotlyServerURL": "https://plot.ly"
       },
       "data": [
        {
         "alignmentgroup": "True",
         "hovertemplate": "Emojis=❤<br>Year=%{x}<br>Count=%{y}<extra></extra>",
         "legendgroup": "❤",
         "marker": {
          "color": "#636efa",
          "pattern": {
           "shape": ""
          }
         },
         "name": "❤",
         "offsetgroup": "❤",
         "orientation": "v",
         "showlegend": true,
         "textposition": "auto",
         "type": "bar",
         "x": [
          2021,
          2022,
          2023
         ],
         "xaxis": "x",
         "y": [
          500,
          217,
          36
         ],
         "yaxis": "y"
        },
        {
         "alignmentgroup": "True",
         "hovertemplate": "Emojis=😂<br>Year=%{x}<br>Count=%{y}<extra></extra>",
         "legendgroup": "😂",
         "marker": {
          "color": "#EF553B",
          "pattern": {
           "shape": ""
          }
         },
         "name": "😂",
         "offsetgroup": "😂",
         "orientation": "v",
         "showlegend": true,
         "textposition": "auto",
         "type": "bar",
         "x": [
          2021,
          2022,
          2023
         ],
         "xaxis": "x",
         "y": [
          350,
          173,
          9
         ],
         "yaxis": "y"
        },
        {
         "alignmentgroup": "True",
         "hovertemplate": "Emojis=💓<br>Year=%{x}<br>Count=%{y}<extra></extra>",
         "legendgroup": "💓",
         "marker": {
          "color": "#00cc96",
          "pattern": {
           "shape": ""
          }
         },
         "name": "💓",
         "offsetgroup": "💓",
         "orientation": "v",
         "showlegend": true,
         "textposition": "auto",
         "type": "bar",
         "x": [
          2021
         ],
         "xaxis": "x",
         "y": [
          62
         ],
         "yaxis": "y"
        },
        {
         "alignmentgroup": "True",
         "hovertemplate": "Emojis=😹<br>Year=%{x}<br>Count=%{y}<extra></extra>",
         "legendgroup": "😹",
         "marker": {
          "color": "#ab63fa",
          "pattern": {
           "shape": ""
          }
         },
         "name": "😹",
         "offsetgroup": "😹",
         "orientation": "v",
         "showlegend": true,
         "textposition": "auto",
         "type": "bar",
         "x": [
          2022,
          2023
         ],
         "xaxis": "x",
         "y": [
          106,
          147
         ],
         "yaxis": "y"
        }
       ],
       "layout": {
        "barmode": "relative",
        "legend": {
         "title": {
          "text": "Emojis"
         },
         "tracegroupgap": 0
        },
        "template": {
         "data": {
          "bar": [
           {
            "error_x": {
             "color": "#2a3f5f"
            },
            "error_y": {
             "color": "#2a3f5f"
            },
            "marker": {
             "line": {
              "color": "#E5ECF6",
              "width": 0.5
             },
             "pattern": {
              "fillmode": "overlay",
              "size": 10,
              "solidity": 0.2
             }
            },
            "type": "bar"
           }
          ],
          "barpolar": [
           {
            "marker": {
             "line": {
              "color": "#E5ECF6",
              "width": 0.5
             },
             "pattern": {
              "fillmode": "overlay",
              "size": 10,
              "solidity": 0.2
             }
            },
            "type": "barpolar"
           }
          ],
          "carpet": [
           {
            "aaxis": {
             "endlinecolor": "#2a3f5f",
             "gridcolor": "white",
             "linecolor": "white",
             "minorgridcolor": "white",
             "startlinecolor": "#2a3f5f"
            },
            "baxis": {
             "endlinecolor": "#2a3f5f",
             "gridcolor": "white",
             "linecolor": "white",
             "minorgridcolor": "white",
             "startlinecolor": "#2a3f5f"
            },
            "type": "carpet"
           }
          ],
          "choropleth": [
           {
            "colorbar": {
             "outlinewidth": 0,
             "ticks": ""
            },
            "type": "choropleth"
           }
          ],
          "contour": [
           {
            "colorbar": {
             "outlinewidth": 0,
             "ticks": ""
            },
            "colorscale": [
             [
              0,
              "#0d0887"
             ],
             [
              0.1111111111111111,
              "#46039f"
             ],
             [
              0.2222222222222222,
              "#7201a8"
             ],
             [
              0.3333333333333333,
              "#9c179e"
             ],
             [
              0.4444444444444444,
              "#bd3786"
             ],
             [
              0.5555555555555556,
              "#d8576b"
             ],
             [
              0.6666666666666666,
              "#ed7953"
             ],
             [
              0.7777777777777778,
              "#fb9f3a"
             ],
             [
              0.8888888888888888,
              "#fdca26"
             ],
             [
              1,
              "#f0f921"
             ]
            ],
            "type": "contour"
           }
          ],
          "contourcarpet": [
           {
            "colorbar": {
             "outlinewidth": 0,
             "ticks": ""
            },
            "type": "contourcarpet"
           }
          ],
          "heatmap": [
           {
            "colorbar": {
             "outlinewidth": 0,
             "ticks": ""
            },
            "colorscale": [
             [
              0,
              "#0d0887"
             ],
             [
              0.1111111111111111,
              "#46039f"
             ],
             [
              0.2222222222222222,
              "#7201a8"
             ],
             [
              0.3333333333333333,
              "#9c179e"
             ],
             [
              0.4444444444444444,
              "#bd3786"
             ],
             [
              0.5555555555555556,
              "#d8576b"
             ],
             [
              0.6666666666666666,
              "#ed7953"
             ],
             [
              0.7777777777777778,
              "#fb9f3a"
             ],
             [
              0.8888888888888888,
              "#fdca26"
             ],
             [
              1,
              "#f0f921"
             ]
            ],
            "type": "heatmap"
           }
          ],
          "heatmapgl": [
           {
            "colorbar": {
             "outlinewidth": 0,
             "ticks": ""
            },
            "colorscale": [
             [
              0,
              "#0d0887"
             ],
             [
              0.1111111111111111,
              "#46039f"
             ],
             [
              0.2222222222222222,
              "#7201a8"
             ],
             [
              0.3333333333333333,
              "#9c179e"
             ],
             [
              0.4444444444444444,
              "#bd3786"
             ],
             [
              0.5555555555555556,
              "#d8576b"
             ],
             [
              0.6666666666666666,
              "#ed7953"
             ],
             [
              0.7777777777777778,
              "#fb9f3a"
             ],
             [
              0.8888888888888888,
              "#fdca26"
             ],
             [
              1,
              "#f0f921"
             ]
            ],
            "type": "heatmapgl"
           }
          ],
          "histogram": [
           {
            "marker": {
             "pattern": {
              "fillmode": "overlay",
              "size": 10,
              "solidity": 0.2
             }
            },
            "type": "histogram"
           }
          ],
          "histogram2d": [
           {
            "colorbar": {
             "outlinewidth": 0,
             "ticks": ""
            },
            "colorscale": [
             [
              0,
              "#0d0887"
             ],
             [
              0.1111111111111111,
              "#46039f"
             ],
             [
              0.2222222222222222,
              "#7201a8"
             ],
             [
              0.3333333333333333,
              "#9c179e"
             ],
             [
              0.4444444444444444,
              "#bd3786"
             ],
             [
              0.5555555555555556,
              "#d8576b"
             ],
             [
              0.6666666666666666,
              "#ed7953"
             ],
             [
              0.7777777777777778,
              "#fb9f3a"
             ],
             [
              0.8888888888888888,
              "#fdca26"
             ],
             [
              1,
              "#f0f921"
             ]
            ],
            "type": "histogram2d"
           }
          ],
          "histogram2dcontour": [
           {
            "colorbar": {
             "outlinewidth": 0,
             "ticks": ""
            },
            "colorscale": [
             [
              0,
              "#0d0887"
             ],
             [
              0.1111111111111111,
              "#46039f"
             ],
             [
              0.2222222222222222,
              "#7201a8"
             ],
             [
              0.3333333333333333,
              "#9c179e"
             ],
             [
              0.4444444444444444,
              "#bd3786"
             ],
             [
              0.5555555555555556,
              "#d8576b"
             ],
             [
              0.6666666666666666,
              "#ed7953"
             ],
             [
              0.7777777777777778,
              "#fb9f3a"
             ],
             [
              0.8888888888888888,
              "#fdca26"
             ],
             [
              1,
              "#f0f921"
             ]
            ],
            "type": "histogram2dcontour"
           }
          ],
          "mesh3d": [
           {
            "colorbar": {
             "outlinewidth": 0,
             "ticks": ""
            },
            "type": "mesh3d"
           }
          ],
          "parcoords": [
           {
            "line": {
             "colorbar": {
              "outlinewidth": 0,
              "ticks": ""
             }
            },
            "type": "parcoords"
           }
          ],
          "pie": [
           {
            "automargin": true,
            "type": "pie"
           }
          ],
          "scatter": [
           {
            "fillpattern": {
             "fillmode": "overlay",
             "size": 10,
             "solidity": 0.2
            },
            "type": "scatter"
           }
          ],
          "scatter3d": [
           {
            "line": {
             "colorbar": {
              "outlinewidth": 0,
              "ticks": ""
             }
            },
            "marker": {
             "colorbar": {
              "outlinewidth": 0,
              "ticks": ""
             }
            },
            "type": "scatter3d"
           }
          ],
          "scattercarpet": [
           {
            "marker": {
             "colorbar": {
              "outlinewidth": 0,
              "ticks": ""
             }
            },
            "type": "scattercarpet"
           }
          ],
          "scattergeo": [
           {
            "marker": {
             "colorbar": {
              "outlinewidth": 0,
              "ticks": ""
             }
            },
            "type": "scattergeo"
           }
          ],
          "scattergl": [
           {
            "marker": {
             "colorbar": {
              "outlinewidth": 0,
              "ticks": ""
             }
            },
            "type": "scattergl"
           }
          ],
          "scattermapbox": [
           {
            "marker": {
             "colorbar": {
              "outlinewidth": 0,
              "ticks": ""
             }
            },
            "type": "scattermapbox"
           }
          ],
          "scatterpolar": [
           {
            "marker": {
             "colorbar": {
              "outlinewidth": 0,
              "ticks": ""
             }
            },
            "type": "scatterpolar"
           }
          ],
          "scatterpolargl": [
           {
            "marker": {
             "colorbar": {
              "outlinewidth": 0,
              "ticks": ""
             }
            },
            "type": "scatterpolargl"
           }
          ],
          "scatterternary": [
           {
            "marker": {
             "colorbar": {
              "outlinewidth": 0,
              "ticks": ""
             }
            },
            "type": "scatterternary"
           }
          ],
          "surface": [
           {
            "colorbar": {
             "outlinewidth": 0,
             "ticks": ""
            },
            "colorscale": [
             [
              0,
              "#0d0887"
             ],
             [
              0.1111111111111111,
              "#46039f"
             ],
             [
              0.2222222222222222,
              "#7201a8"
             ],
             [
              0.3333333333333333,
              "#9c179e"
             ],
             [
              0.4444444444444444,
              "#bd3786"
             ],
             [
              0.5555555555555556,
              "#d8576b"
             ],
             [
              0.6666666666666666,
              "#ed7953"
             ],
             [
              0.7777777777777778,
              "#fb9f3a"
             ],
             [
              0.8888888888888888,
              "#fdca26"
             ],
             [
              1,
              "#f0f921"
             ]
            ],
            "type": "surface"
           }
          ],
          "table": [
           {
            "cells": {
             "fill": {
              "color": "#EBF0F8"
             },
             "line": {
              "color": "white"
             }
            },
            "header": {
             "fill": {
              "color": "#C8D4E3"
             },
             "line": {
              "color": "white"
             }
            },
            "type": "table"
           }
          ]
         },
         "layout": {
          "annotationdefaults": {
           "arrowcolor": "#2a3f5f",
           "arrowhead": 0,
           "arrowwidth": 1
          },
          "autotypenumbers": "strict",
          "coloraxis": {
           "colorbar": {
            "outlinewidth": 0,
            "ticks": ""
           }
          },
          "colorscale": {
           "diverging": [
            [
             0,
             "#8e0152"
            ],
            [
             0.1,
             "#c51b7d"
            ],
            [
             0.2,
             "#de77ae"
            ],
            [
             0.3,
             "#f1b6da"
            ],
            [
             0.4,
             "#fde0ef"
            ],
            [
             0.5,
             "#f7f7f7"
            ],
            [
             0.6,
             "#e6f5d0"
            ],
            [
             0.7,
             "#b8e186"
            ],
            [
             0.8,
             "#7fbc41"
            ],
            [
             0.9,
             "#4d9221"
            ],
            [
             1,
             "#276419"
            ]
           ],
           "sequential": [
            [
             0,
             "#0d0887"
            ],
            [
             0.1111111111111111,
             "#46039f"
            ],
            [
             0.2222222222222222,
             "#7201a8"
            ],
            [
             0.3333333333333333,
             "#9c179e"
            ],
            [
             0.4444444444444444,
             "#bd3786"
            ],
            [
             0.5555555555555556,
             "#d8576b"
            ],
            [
             0.6666666666666666,
             "#ed7953"
            ],
            [
             0.7777777777777778,
             "#fb9f3a"
            ],
            [
             0.8888888888888888,
             "#fdca26"
            ],
            [
             1,
             "#f0f921"
            ]
           ],
           "sequentialminus": [
            [
             0,
             "#0d0887"
            ],
            [
             0.1111111111111111,
             "#46039f"
            ],
            [
             0.2222222222222222,
             "#7201a8"
            ],
            [
             0.3333333333333333,
             "#9c179e"
            ],
            [
             0.4444444444444444,
             "#bd3786"
            ],
            [
             0.5555555555555556,
             "#d8576b"
            ],
            [
             0.6666666666666666,
             "#ed7953"
            ],
            [
             0.7777777777777778,
             "#fb9f3a"
            ],
            [
             0.8888888888888888,
             "#fdca26"
            ],
            [
             1,
             "#f0f921"
            ]
           ]
          },
          "colorway": [
           "#636efa",
           "#EF553B",
           "#00cc96",
           "#ab63fa",
           "#FFA15A",
           "#19d3f3",
           "#FF6692",
           "#B6E880",
           "#FF97FF",
           "#FECB52"
          ],
          "font": {
           "color": "#2a3f5f"
          },
          "geo": {
           "bgcolor": "white",
           "lakecolor": "white",
           "landcolor": "#E5ECF6",
           "showlakes": true,
           "showland": true,
           "subunitcolor": "white"
          },
          "hoverlabel": {
           "align": "left"
          },
          "hovermode": "closest",
          "mapbox": {
           "style": "light"
          },
          "paper_bgcolor": "white",
          "plot_bgcolor": "#E5ECF6",
          "polar": {
           "angularaxis": {
            "gridcolor": "white",
            "linecolor": "white",
            "ticks": ""
           },
           "bgcolor": "#E5ECF6",
           "radialaxis": {
            "gridcolor": "white",
            "linecolor": "white",
            "ticks": ""
           }
          },
          "scene": {
           "xaxis": {
            "backgroundcolor": "#E5ECF6",
            "gridcolor": "white",
            "gridwidth": 2,
            "linecolor": "white",
            "showbackground": true,
            "ticks": "",
            "zerolinecolor": "white"
           },
           "yaxis": {
            "backgroundcolor": "#E5ECF6",
            "gridcolor": "white",
            "gridwidth": 2,
            "linecolor": "white",
            "showbackground": true,
            "ticks": "",
            "zerolinecolor": "white"
           },
           "zaxis": {
            "backgroundcolor": "#E5ECF6",
            "gridcolor": "white",
            "gridwidth": 2,
            "linecolor": "white",
            "showbackground": true,
            "ticks": "",
            "zerolinecolor": "white"
           }
          },
          "shapedefaults": {
           "line": {
            "color": "#2a3f5f"
           }
          },
          "ternary": {
           "aaxis": {
            "gridcolor": "white",
            "linecolor": "white",
            "ticks": ""
           },
           "baxis": {
            "gridcolor": "white",
            "linecolor": "white",
            "ticks": ""
           },
           "bgcolor": "#E5ECF6",
           "caxis": {
            "gridcolor": "white",
            "linecolor": "white",
            "ticks": ""
           }
          },
          "title": {
           "x": 0.05
          },
          "xaxis": {
           "automargin": true,
           "gridcolor": "white",
           "linecolor": "white",
           "ticks": "",
           "title": {
            "standoff": 15
           },
           "zerolinecolor": "white",
           "zerolinewidth": 2
          },
          "yaxis": {
           "automargin": true,
           "gridcolor": "white",
           "linecolor": "white",
           "ticks": "",
           "title": {
            "standoff": 15
           },
           "zerolinecolor": "white",
           "zerolinewidth": 2
          }
         }
        },
        "title": {
         "text": "Top 5 Most Sent Emojis by Year"
        },
        "xaxis": {
         "anchor": "y",
         "domain": [
          0,
          1
         ],
         "tickvals": [
          2021,
          2022,
          2023
         ],
         "title": {
          "text": "Year"
         }
        },
        "yaxis": {
         "anchor": "x",
         "domain": [
          0,
          1
         ],
         "title": {
          "text": "Number of emojis"
         }
        }
       }
      },
      "text/html": [
       "<div>                            <div id=\"d38478a4-f8a3-46f3-897a-ae846f7fd773\" class=\"plotly-graph-div\" style=\"height:525px; width:100%;\"></div>            <script type=\"text/javascript\">                require([\"plotly\"], function(Plotly) {                    window.PLOTLYENV=window.PLOTLYENV || {};                                    if (document.getElementById(\"d38478a4-f8a3-46f3-897a-ae846f7fd773\")) {                    Plotly.newPlot(                        \"d38478a4-f8a3-46f3-897a-ae846f7fd773\",                        [{\"alignmentgroup\":\"True\",\"hovertemplate\":\"Emojis=\\u2764<br>Year=%{x}<br>Count=%{y}<extra></extra>\",\"legendgroup\":\"\\u2764\",\"marker\":{\"color\":\"#636efa\",\"pattern\":{\"shape\":\"\"}},\"name\":\"\\u2764\",\"offsetgroup\":\"\\u2764\",\"orientation\":\"v\",\"showlegend\":true,\"textposition\":\"auto\",\"x\":[2021,2022,2023],\"xaxis\":\"x\",\"y\":[500,217,36],\"yaxis\":\"y\",\"type\":\"bar\"},{\"alignmentgroup\":\"True\",\"hovertemplate\":\"Emojis=\\ud83d\\ude02<br>Year=%{x}<br>Count=%{y}<extra></extra>\",\"legendgroup\":\"\\ud83d\\ude02\",\"marker\":{\"color\":\"#EF553B\",\"pattern\":{\"shape\":\"\"}},\"name\":\"\\ud83d\\ude02\",\"offsetgroup\":\"\\ud83d\\ude02\",\"orientation\":\"v\",\"showlegend\":true,\"textposition\":\"auto\",\"x\":[2021,2022,2023],\"xaxis\":\"x\",\"y\":[350,173,9],\"yaxis\":\"y\",\"type\":\"bar\"},{\"alignmentgroup\":\"True\",\"hovertemplate\":\"Emojis=\\ud83d\\udc93<br>Year=%{x}<br>Count=%{y}<extra></extra>\",\"legendgroup\":\"\\ud83d\\udc93\",\"marker\":{\"color\":\"#00cc96\",\"pattern\":{\"shape\":\"\"}},\"name\":\"\\ud83d\\udc93\",\"offsetgroup\":\"\\ud83d\\udc93\",\"orientation\":\"v\",\"showlegend\":true,\"textposition\":\"auto\",\"x\":[2021],\"xaxis\":\"x\",\"y\":[62],\"yaxis\":\"y\",\"type\":\"bar\"},{\"alignmentgroup\":\"True\",\"hovertemplate\":\"Emojis=\\ud83d\\ude39<br>Year=%{x}<br>Count=%{y}<extra></extra>\",\"legendgroup\":\"\\ud83d\\ude39\",\"marker\":{\"color\":\"#ab63fa\",\"pattern\":{\"shape\":\"\"}},\"name\":\"\\ud83d\\ude39\",\"offsetgroup\":\"\\ud83d\\ude39\",\"orientation\":\"v\",\"showlegend\":true,\"textposition\":\"auto\",\"x\":[2022,2023],\"xaxis\":\"x\",\"y\":[106,147],\"yaxis\":\"y\",\"type\":\"bar\"}],                        {\"template\":{\"data\":{\"histogram2dcontour\":[{\"type\":\"histogram2dcontour\",\"colorbar\":{\"outlinewidth\":0,\"ticks\":\"\"},\"colorscale\":[[0.0,\"#0d0887\"],[0.1111111111111111,\"#46039f\"],[0.2222222222222222,\"#7201a8\"],[0.3333333333333333,\"#9c179e\"],[0.4444444444444444,\"#bd3786\"],[0.5555555555555556,\"#d8576b\"],[0.6666666666666666,\"#ed7953\"],[0.7777777777777778,\"#fb9f3a\"],[0.8888888888888888,\"#fdca26\"],[1.0,\"#f0f921\"]]}],\"choropleth\":[{\"type\":\"choropleth\",\"colorbar\":{\"outlinewidth\":0,\"ticks\":\"\"}}],\"histogram2d\":[{\"type\":\"histogram2d\",\"colorbar\":{\"outlinewidth\":0,\"ticks\":\"\"},\"colorscale\":[[0.0,\"#0d0887\"],[0.1111111111111111,\"#46039f\"],[0.2222222222222222,\"#7201a8\"],[0.3333333333333333,\"#9c179e\"],[0.4444444444444444,\"#bd3786\"],[0.5555555555555556,\"#d8576b\"],[0.6666666666666666,\"#ed7953\"],[0.7777777777777778,\"#fb9f3a\"],[0.8888888888888888,\"#fdca26\"],[1.0,\"#f0f921\"]]}],\"heatmap\":[{\"type\":\"heatmap\",\"colorbar\":{\"outlinewidth\":0,\"ticks\":\"\"},\"colorscale\":[[0.0,\"#0d0887\"],[0.1111111111111111,\"#46039f\"],[0.2222222222222222,\"#7201a8\"],[0.3333333333333333,\"#9c179e\"],[0.4444444444444444,\"#bd3786\"],[0.5555555555555556,\"#d8576b\"],[0.6666666666666666,\"#ed7953\"],[0.7777777777777778,\"#fb9f3a\"],[0.8888888888888888,\"#fdca26\"],[1.0,\"#f0f921\"]]}],\"heatmapgl\":[{\"type\":\"heatmapgl\",\"colorbar\":{\"outlinewidth\":0,\"ticks\":\"\"},\"colorscale\":[[0.0,\"#0d0887\"],[0.1111111111111111,\"#46039f\"],[0.2222222222222222,\"#7201a8\"],[0.3333333333333333,\"#9c179e\"],[0.4444444444444444,\"#bd3786\"],[0.5555555555555556,\"#d8576b\"],[0.6666666666666666,\"#ed7953\"],[0.7777777777777778,\"#fb9f3a\"],[0.8888888888888888,\"#fdca26\"],[1.0,\"#f0f921\"]]}],\"contourcarpet\":[{\"type\":\"contourcarpet\",\"colorbar\":{\"outlinewidth\":0,\"ticks\":\"\"}}],\"contour\":[{\"type\":\"contour\",\"colorbar\":{\"outlinewidth\":0,\"ticks\":\"\"},\"colorscale\":[[0.0,\"#0d0887\"],[0.1111111111111111,\"#46039f\"],[0.2222222222222222,\"#7201a8\"],[0.3333333333333333,\"#9c179e\"],[0.4444444444444444,\"#bd3786\"],[0.5555555555555556,\"#d8576b\"],[0.6666666666666666,\"#ed7953\"],[0.7777777777777778,\"#fb9f3a\"],[0.8888888888888888,\"#fdca26\"],[1.0,\"#f0f921\"]]}],\"surface\":[{\"type\":\"surface\",\"colorbar\":{\"outlinewidth\":0,\"ticks\":\"\"},\"colorscale\":[[0.0,\"#0d0887\"],[0.1111111111111111,\"#46039f\"],[0.2222222222222222,\"#7201a8\"],[0.3333333333333333,\"#9c179e\"],[0.4444444444444444,\"#bd3786\"],[0.5555555555555556,\"#d8576b\"],[0.6666666666666666,\"#ed7953\"],[0.7777777777777778,\"#fb9f3a\"],[0.8888888888888888,\"#fdca26\"],[1.0,\"#f0f921\"]]}],\"mesh3d\":[{\"type\":\"mesh3d\",\"colorbar\":{\"outlinewidth\":0,\"ticks\":\"\"}}],\"scatter\":[{\"fillpattern\":{\"fillmode\":\"overlay\",\"size\":10,\"solidity\":0.2},\"type\":\"scatter\"}],\"parcoords\":[{\"type\":\"parcoords\",\"line\":{\"colorbar\":{\"outlinewidth\":0,\"ticks\":\"\"}}}],\"scatterpolargl\":[{\"type\":\"scatterpolargl\",\"marker\":{\"colorbar\":{\"outlinewidth\":0,\"ticks\":\"\"}}}],\"bar\":[{\"error_x\":{\"color\":\"#2a3f5f\"},\"error_y\":{\"color\":\"#2a3f5f\"},\"marker\":{\"line\":{\"color\":\"#E5ECF6\",\"width\":0.5},\"pattern\":{\"fillmode\":\"overlay\",\"size\":10,\"solidity\":0.2}},\"type\":\"bar\"}],\"scattergeo\":[{\"type\":\"scattergeo\",\"marker\":{\"colorbar\":{\"outlinewidth\":0,\"ticks\":\"\"}}}],\"scatterpolar\":[{\"type\":\"scatterpolar\",\"marker\":{\"colorbar\":{\"outlinewidth\":0,\"ticks\":\"\"}}}],\"histogram\":[{\"marker\":{\"pattern\":{\"fillmode\":\"overlay\",\"size\":10,\"solidity\":0.2}},\"type\":\"histogram\"}],\"scattergl\":[{\"type\":\"scattergl\",\"marker\":{\"colorbar\":{\"outlinewidth\":0,\"ticks\":\"\"}}}],\"scatter3d\":[{\"type\":\"scatter3d\",\"line\":{\"colorbar\":{\"outlinewidth\":0,\"ticks\":\"\"}},\"marker\":{\"colorbar\":{\"outlinewidth\":0,\"ticks\":\"\"}}}],\"scattermapbox\":[{\"type\":\"scattermapbox\",\"marker\":{\"colorbar\":{\"outlinewidth\":0,\"ticks\":\"\"}}}],\"scatterternary\":[{\"type\":\"scatterternary\",\"marker\":{\"colorbar\":{\"outlinewidth\":0,\"ticks\":\"\"}}}],\"scattercarpet\":[{\"type\":\"scattercarpet\",\"marker\":{\"colorbar\":{\"outlinewidth\":0,\"ticks\":\"\"}}}],\"carpet\":[{\"aaxis\":{\"endlinecolor\":\"#2a3f5f\",\"gridcolor\":\"white\",\"linecolor\":\"white\",\"minorgridcolor\":\"white\",\"startlinecolor\":\"#2a3f5f\"},\"baxis\":{\"endlinecolor\":\"#2a3f5f\",\"gridcolor\":\"white\",\"linecolor\":\"white\",\"minorgridcolor\":\"white\",\"startlinecolor\":\"#2a3f5f\"},\"type\":\"carpet\"}],\"table\":[{\"cells\":{\"fill\":{\"color\":\"#EBF0F8\"},\"line\":{\"color\":\"white\"}},\"header\":{\"fill\":{\"color\":\"#C8D4E3\"},\"line\":{\"color\":\"white\"}},\"type\":\"table\"}],\"barpolar\":[{\"marker\":{\"line\":{\"color\":\"#E5ECF6\",\"width\":0.5},\"pattern\":{\"fillmode\":\"overlay\",\"size\":10,\"solidity\":0.2}},\"type\":\"barpolar\"}],\"pie\":[{\"automargin\":true,\"type\":\"pie\"}]},\"layout\":{\"autotypenumbers\":\"strict\",\"colorway\":[\"#636efa\",\"#EF553B\",\"#00cc96\",\"#ab63fa\",\"#FFA15A\",\"#19d3f3\",\"#FF6692\",\"#B6E880\",\"#FF97FF\",\"#FECB52\"],\"font\":{\"color\":\"#2a3f5f\"},\"hovermode\":\"closest\",\"hoverlabel\":{\"align\":\"left\"},\"paper_bgcolor\":\"white\",\"plot_bgcolor\":\"#E5ECF6\",\"polar\":{\"bgcolor\":\"#E5ECF6\",\"angularaxis\":{\"gridcolor\":\"white\",\"linecolor\":\"white\",\"ticks\":\"\"},\"radialaxis\":{\"gridcolor\":\"white\",\"linecolor\":\"white\",\"ticks\":\"\"}},\"ternary\":{\"bgcolor\":\"#E5ECF6\",\"aaxis\":{\"gridcolor\":\"white\",\"linecolor\":\"white\",\"ticks\":\"\"},\"baxis\":{\"gridcolor\":\"white\",\"linecolor\":\"white\",\"ticks\":\"\"},\"caxis\":{\"gridcolor\":\"white\",\"linecolor\":\"white\",\"ticks\":\"\"}},\"coloraxis\":{\"colorbar\":{\"outlinewidth\":0,\"ticks\":\"\"}},\"colorscale\":{\"sequential\":[[0.0,\"#0d0887\"],[0.1111111111111111,\"#46039f\"],[0.2222222222222222,\"#7201a8\"],[0.3333333333333333,\"#9c179e\"],[0.4444444444444444,\"#bd3786\"],[0.5555555555555556,\"#d8576b\"],[0.6666666666666666,\"#ed7953\"],[0.7777777777777778,\"#fb9f3a\"],[0.8888888888888888,\"#fdca26\"],[1.0,\"#f0f921\"]],\"sequentialminus\":[[0.0,\"#0d0887\"],[0.1111111111111111,\"#46039f\"],[0.2222222222222222,\"#7201a8\"],[0.3333333333333333,\"#9c179e\"],[0.4444444444444444,\"#bd3786\"],[0.5555555555555556,\"#d8576b\"],[0.6666666666666666,\"#ed7953\"],[0.7777777777777778,\"#fb9f3a\"],[0.8888888888888888,\"#fdca26\"],[1.0,\"#f0f921\"]],\"diverging\":[[0,\"#8e0152\"],[0.1,\"#c51b7d\"],[0.2,\"#de77ae\"],[0.3,\"#f1b6da\"],[0.4,\"#fde0ef\"],[0.5,\"#f7f7f7\"],[0.6,\"#e6f5d0\"],[0.7,\"#b8e186\"],[0.8,\"#7fbc41\"],[0.9,\"#4d9221\"],[1,\"#276419\"]]},\"xaxis\":{\"gridcolor\":\"white\",\"linecolor\":\"white\",\"ticks\":\"\",\"title\":{\"standoff\":15},\"zerolinecolor\":\"white\",\"automargin\":true,\"zerolinewidth\":2},\"yaxis\":{\"gridcolor\":\"white\",\"linecolor\":\"white\",\"ticks\":\"\",\"title\":{\"standoff\":15},\"zerolinecolor\":\"white\",\"automargin\":true,\"zerolinewidth\":2},\"scene\":{\"xaxis\":{\"backgroundcolor\":\"#E5ECF6\",\"gridcolor\":\"white\",\"linecolor\":\"white\",\"showbackground\":true,\"ticks\":\"\",\"zerolinecolor\":\"white\",\"gridwidth\":2},\"yaxis\":{\"backgroundcolor\":\"#E5ECF6\",\"gridcolor\":\"white\",\"linecolor\":\"white\",\"showbackground\":true,\"ticks\":\"\",\"zerolinecolor\":\"white\",\"gridwidth\":2},\"zaxis\":{\"backgroundcolor\":\"#E5ECF6\",\"gridcolor\":\"white\",\"linecolor\":\"white\",\"showbackground\":true,\"ticks\":\"\",\"zerolinecolor\":\"white\",\"gridwidth\":2}},\"shapedefaults\":{\"line\":{\"color\":\"#2a3f5f\"}},\"annotationdefaults\":{\"arrowcolor\":\"#2a3f5f\",\"arrowhead\":0,\"arrowwidth\":1},\"geo\":{\"bgcolor\":\"white\",\"landcolor\":\"#E5ECF6\",\"subunitcolor\":\"white\",\"showland\":true,\"showlakes\":true,\"lakecolor\":\"white\"},\"title\":{\"x\":0.05},\"mapbox\":{\"style\":\"light\"}}},\"xaxis\":{\"anchor\":\"y\",\"domain\":[0.0,1.0],\"title\":{\"text\":\"Year\"},\"tickvals\":[2021,2022,2023]},\"yaxis\":{\"anchor\":\"x\",\"domain\":[0.0,1.0],\"title\":{\"text\":\"Number of emojis\"}},\"legend\":{\"title\":{\"text\":\"Emojis\"},\"tracegroupgap\":0},\"title\":{\"text\":\"Top 5 Most Sent Emojis by Year\"},\"barmode\":\"relative\"},                        {\"responsive\": true}                    ).then(function(){\n",
       "                            \n",
       "var gd = document.getElementById('d38478a4-f8a3-46f3-897a-ae846f7fd773');\n",
       "var x = new MutationObserver(function (mutations, observer) {{\n",
       "        var display = window.getComputedStyle(gd).display;\n",
       "        if (!display || display === 'none') {{\n",
       "            console.log([gd, 'removed!']);\n",
       "            Plotly.purge(gd);\n",
       "            observer.disconnect();\n",
       "        }}\n",
       "}});\n",
       "\n",
       "// Listen for the removal of the full notebook cells\n",
       "var notebookContainer = gd.closest('#notebook-container');\n",
       "if (notebookContainer) {{\n",
       "    x.observe(notebookContainer, {childList: true});\n",
       "}}\n",
       "\n",
       "// Listen for the clearing of the current output cell\n",
       "var outputEl = gd.closest('.output');\n",
       "if (outputEl) {{\n",
       "    x.observe(outputEl, {childList: true});\n",
       "}}\n",
       "\n",
       "                        })                };                });            </script>        </div>"
      ]
     },
     "metadata": {},
     "output_type": "display_data"
    }
   ],
   "source": [
    "# Agrupar los datos por año y emoji, contar la frecuencia de cada combinación y resetear el índice\n",
    "top_emojis_by_year = df.groupby([\"Year\", \"Emojis\"]).size().reset_index(name=\"Count\")\n",
    "\n",
    "# Ordenar los datos por año y por la frecuencia de cada emoji dentro del año\n",
    "top_emojis_by_year = top_emojis_by_year.sort_values([\"Year\", \"Count\"], ascending=[True, False])\n",
    "\n",
    "# Quedarse con los 5 emojis más frecuentes para cada año\n",
    "top_emojis_by_year = top_emojis_by_year.groupby(\"Year\").head(3)\n",
    "\n",
    "fig = px.bar(top_emojis_by_year, x=\"Year\", y=\"Count\", color=\"Emojis\",\n",
    "             title=\"Top 5 Most Sent Emojis by Year\")\n",
    "fig.update_layout(xaxis_title=\"Year\", yaxis_title=\"Number of emojis\",\n",
    "                  xaxis=dict(tickvals=[2021, 2022, 2023]))\n",
    "\n",
    "# Mostrar la gráfica\n",
    "fig.show()\n"
   ]
  },
  {
   "cell_type": "code",
   "execution_count": 9,
   "id": "3f66443d",
   "metadata": {
    "scrolled": false
   },
   "outputs": [
    {
     "data": {
      "application/vnd.plotly.v1+json": {
       "config": {
        "plotlyServerURL": "https://plot.ly"
       },
       "data": [
        {
         "alignmentgroup": "True",
         "bingroup": "x",
         "hovertemplate": "Emojis=❤<br>Temp_mean=%{x}<br>count=%{y}<extra></extra>",
         "legendgroup": "❤",
         "marker": {
          "color": "#636efa",
          "pattern": {
           "shape": ""
          }
         },
         "name": "❤",
         "nbinsx": 3,
         "offsetgroup": "❤",
         "orientation": "v",
         "showlegend": true,
         "text": [
          5,
          1,
          1,
          1,
          3,
          2,
          3,
          1,
          3,
          5,
          1,
          2,
          2,
          9,
          5,
          1,
          2,
          2,
          22,
          2,
          5,
          14,
          4,
          2,
          6,
          1,
          4,
          2,
          2,
          15,
          12,
          8,
          15,
          11,
          14,
          22,
          17,
          3,
          10,
          11,
          1,
          10,
          11,
          14,
          6,
          27,
          4,
          5,
          9,
          8,
          2,
          1,
          4,
          8,
          17,
          3,
          1,
          11,
          4,
          8,
          2,
          5,
          9,
          15,
          3,
          3,
          1,
          2,
          2,
          1,
          1,
          2,
          8,
          6,
          1,
          5,
          1,
          10,
          10,
          2,
          10,
          1,
          4,
          4,
          1,
          5,
          4,
          1,
          15,
          1,
          4,
          4,
          1,
          12,
          1,
          1,
          2,
          3,
          10,
          2,
          1,
          9,
          1,
          18,
          3,
          3,
          10,
          5,
          8,
          4,
          6,
          1,
          1,
          7,
          6,
          4,
          6,
          12,
          4,
          5,
          5,
          5,
          5,
          4,
          7,
          2,
          2,
          6,
          3,
          3,
          8,
          5,
          1,
          1,
          2,
          12,
          1,
          6,
          2,
          8,
          1,
          2,
          10,
          16,
          10,
          5,
          2,
          8,
          1,
          4,
          5,
          5,
          1,
          6,
          11,
          18,
          15,
          11,
          12,
          5,
          1,
          7,
          15,
          2,
          3,
          6,
          2,
          13,
          19,
          2,
          5,
          6,
          2,
          1,
          11,
          3,
          4,
          3,
          6,
          17,
          14,
          1,
          1,
          1,
          6,
          4,
          1,
          8,
          5,
          4,
          3,
          1,
          1,
          1,
          2,
          1,
          10,
          1,
          1,
          5,
          1,
          3,
          1,
          2,
          5,
          13,
          1,
          23,
          7,
          13,
          19,
          9,
          2,
          2,
          1,
          13,
          13,
          3,
          1,
          5,
          6,
          3,
          4,
          5,
          1,
          1,
          7,
          1,
          2,
          7,
          19,
          9,
          9,
          4,
          9,
          3,
          1,
          28,
          1,
          6,
          9,
          2,
          5,
          2,
          1,
          5,
          1,
          7,
          5,
          7,
          8,
          6,
          2,
          4,
          1,
          1,
          14,
          4,
          29,
          1,
          5,
          1,
          1,
          1,
          1,
          1,
          2,
          1,
          10,
          8,
          1
         ],
         "texttemplate": "%{y}",
         "type": "histogram",
         "x": [
          7,
          7.8,
          9.7,
          12,
          12,
          12,
          12.4,
          12.4,
          12.4,
          12.4,
          12.4,
          12.4,
          9.9,
          9.9,
          13,
          13,
          13,
          13,
          13.1,
          13.1,
          13.1,
          13.4,
          13.4,
          13.4,
          13.4,
          13.4,
          13.4,
          13.4,
          13.4,
          13.4,
          20.4,
          21.4,
          15.2,
          11.6,
          11.6,
          10.5,
          10.5,
          10.5,
          13.7,
          12.3,
          15.6,
          15.6,
          24.4,
          23,
          23,
          23,
          11.6,
          11.6,
          11.6,
          12.9,
          12.9,
          13.3,
          13.3,
          14.7,
          21.1,
          21.1,
          21.1,
          21.1,
          23.8,
          11.6,
          11.6,
          11.6,
          11.1,
          11.1,
          12,
          12,
          12,
          12,
          12,
          12,
          12,
          12,
          12,
          12,
          12.9,
          12.7,
          12.7,
          12.7,
          12.7,
          11.3,
          9.7,
          12.5,
          12.5,
          12.5,
          12.5,
          12.5,
          12.8,
          13.1,
          13.1,
          13.1,
          13.1,
          13.1,
          13.1,
          13.1,
          13.1,
          13.1,
          13.1,
          13.1,
          13.1,
          13.1,
          15.3,
          15.3,
          15.3,
          15.3,
          15.3,
          15.3,
          15.3,
          15.3,
          15.3,
          18.9,
          12.1,
          12.1,
          12.1,
          12.1,
          12.1,
          10,
          10,
          10,
          10,
          25.6,
          25.6,
          25.6,
          25.6,
          26,
          26,
          26,
          26,
          26,
          23.9,
          23.9,
          23.9,
          23.9,
          23.9,
          23.9,
          20.7,
          23.1,
          23.1,
          23.1,
          23.1,
          23.1,
          23.1,
          23.1,
          23.1,
          23.1,
          23.3,
          5.3,
          16.8,
          16.8,
          20.6,
          20.6,
          20.6,
          20.6,
          24.1,
          24.1,
          25.7,
          25.7,
          18.6,
          12.8,
          12.8,
          12.8,
          12.8,
          12.8,
          22.5,
          23.1,
          23.6,
          23.6,
          23.6,
          23.6,
          23.6,
          23.6,
          23.6,
          23.6,
          23.6,
          23.6,
          23.6,
          23.6,
          23.6,
          23.6,
          23.6,
          24.8,
          24.8,
          26.2,
          25.7,
          26.2,
          26.2,
          26.2,
          25.3,
          25.3,
          25.3,
          24.6,
          24.6,
          24.6,
          24.6,
          24.7,
          24.7,
          24.7,
          25.2,
          25.2,
          25.2,
          25.2,
          25.2,
          25.6,
          10.2,
          10.2,
          10.2,
          10.2,
          10.2,
          10.2,
          10.2,
          10.2,
          10.2,
          10.2,
          10.2,
          10.2,
          10.8,
          17.9,
          17.9,
          17.9,
          17.9,
          17.9,
          17.9,
          17.9,
          17.9,
          17.9,
          17.9,
          21.9,
          23.4,
          23.4,
          23.4,
          23.4,
          23.4,
          24.3,
          24.3,
          24.3,
          24.3,
          24.3,
          25.2,
          25.2,
          25.2,
          25.2,
          18.6,
          18.6,
          18.6,
          18.6,
          18.6,
          18.6,
          26.3,
          26.3,
          26.3,
          26.3,
          24,
          24,
          24,
          24,
          24,
          24.7,
          24.7,
          24.7,
          25.2,
          25.2,
          25.1,
          25.1,
          25.1,
          25.1,
          25.1,
          25.1,
          24.2,
          24.2,
          24.2,
          23.4,
          23.4,
          23.4,
          23.4,
          22.4,
          11.3,
          11.3,
          11.3,
          11.3,
          11.3,
          11.3,
          22.5,
          23.7,
          23.7,
          23.7,
          24.3,
          13.9,
          13.9,
          8.7,
          24.8,
          24.8,
          25.7,
          25.7,
          24.1,
          24.1,
          24.1,
          24.1,
          24.1,
          24.1,
          23.2,
          21.9,
          21.9,
          21.9,
          21.9,
          21.9,
          21.9,
          21.9,
          21.9,
          21.9,
          21.9,
          21.9,
          21.3,
          21.3,
          21.3,
          20.2,
          20.2,
          20.2,
          20.2,
          19.3,
          21.3,
          20.6,
          20.6,
          20.6,
          20.6,
          20.6,
          20.6,
          20.6,
          20.6,
          20.6,
          20.6,
          7.3,
          7.3,
          7.3,
          7.3,
          7.3,
          11.5,
          11.5,
          11.5,
          11.5,
          11.5,
          11.5,
          11.5,
          11.5,
          12.2,
          12.2,
          16.9,
          23.2,
          23.8,
          23.8,
          18.1,
          18.1,
          18.1,
          18.1,
          18.1,
          18.1,
          18.1,
          18.1,
          18.6,
          18.6,
          18.6,
          19.1,
          20,
          20,
          20,
          20,
          20,
          17.1,
          17.1,
          17.1,
          17.1,
          17.1,
          16.2,
          15.8,
          15.8,
          16.8,
          16.8,
          19.1,
          19.1,
          6.4,
          6.4,
          6.4,
          13.2,
          13.2,
          13.2,
          13.2,
          15.6,
          23.5,
          17.7,
          10.6,
          10.6,
          15.3,
          13.9,
          13.9,
          11.9,
          11.9,
          11.9,
          11.9,
          11.9,
          12.2,
          12.2,
          12.2,
          12.2,
          12.2,
          12.2,
          12.2,
          12.2,
          12.2,
          12.2,
          12.2,
          12.2,
          12.2,
          12.2,
          13.6,
          13.6,
          13.6,
          13.6,
          13.6,
          13.6,
          13.6,
          13.6,
          12.7,
          12.7,
          12.7,
          12.4,
          12.4,
          12.4,
          12.1,
          9.4,
          9.4,
          8.9,
          9.8,
          9.8,
          4.9,
          4.9,
          4.9,
          4.9,
          4.9,
          11.5,
          11.8,
          11.8,
          11.8,
          12.3,
          12.3,
          18.1,
          18.1,
          8.9,
          7.2,
          7.2,
          7.2,
          8.6,
          8.6,
          9.8,
          9.8,
          12.1,
          12.1,
          12.1,
          12.1,
          12.1,
          12.1,
          12.1,
          12.1,
          12.1,
          12.1,
          12.1,
          11.8,
          11.8,
          11.8,
          11.8,
          11.8,
          11.8,
          11.8,
          14.2,
          14.2,
          14.2,
          14.2,
          14.2,
          14.2,
          14.2,
          14.2,
          14.2,
          14.2,
          14.2,
          14.2,
          14.2,
          14.2,
          14.2,
          14.2,
          14.2,
          15,
          15,
          15,
          15,
          15,
          13.1,
          13.1,
          13.1,
          13.1,
          13.1,
          13.1,
          13.1,
          11.9,
          11.2,
          11.2,
          23.6,
          23.6,
          23.6,
          19.3,
          19.3,
          19.3,
          6.9,
          6.9,
          6.9,
          8.4,
          8.4,
          8.7,
          8.7,
          9.8,
          9.8,
          9.8,
          9.8,
          9.8,
          9.8,
          9.8,
          9.8,
          9.8,
          9.8,
          9.8,
          9.8,
          9.8,
          9.8,
          9.8,
          9.8,
          9.8,
          11.3,
          11.3,
          13.3,
          13.3,
          13.3,
          11.5,
          11.3,
          12.1,
          12.1,
          12.1,
          12.1,
          12.1,
          10.2,
          11.9,
          11.9,
          11.9,
          11.9,
          25.5,
          25.5,
          25.5,
          28.7,
          28.7,
          18.3,
          18.3,
          12.9,
          12.9,
          12.9,
          12.9,
          12.9,
          12.9,
          12.9,
          12.9,
          12.9,
          14.3,
          14.3,
          14.3,
          14.5,
          14.5,
          14.5,
          14.5,
          14.5,
          14.5,
          14.5,
          14.1,
          14.1,
          14.1,
          14.1,
          14.1,
          14.1,
          14.1,
          14.1,
          12.8,
          12.8,
          12.8,
          12.8,
          12.8,
          11.8,
          11.3,
          11.3,
          11.3,
          11.8,
          11.8,
          13.1,
          12.7,
          13,
          13,
          12.4,
          12.2,
          28.3,
          10,
          16.6,
          16.6,
          16.6,
          16.6,
          16.6,
          16.6,
          16.6,
          16.6,
          14.6,
          14.6,
          14.6,
          15.3,
          15.3,
          15.3,
          15.3,
          15.3,
          15.7,
          28.1,
          28.1,
          26.4,
          26.7,
          26.7,
          27.7,
          27.7,
          27.7,
          25.3,
          24.5,
          24.2,
          24.6,
          24.6,
          24.6,
          15.2,
          15.2,
          15.2,
          15.2,
          15.2,
          15.2,
          15.2,
          15.2,
          11.8,
          11.8,
          28.4,
          28.1,
          28.1,
          28.1,
          27.9,
          27.9,
          27.9,
          27.9,
          27.9,
          27.9,
          27.9,
          27.9,
          26.9,
          26.4,
          26.9,
          26.9,
          26.9,
          26.9,
          26.9,
          8.7,
          8.7,
          8.7,
          8.7,
          8.7,
          8.7,
          19.5,
          16.8,
          16.8,
          23.9,
          23.9,
          23.9,
          23.9,
          26.3,
          26.3,
          26.3,
          25.5,
          25.5,
          10.9,
          10.9,
          10.2,
          22.2,
          27.8,
          27.8,
          27.8,
          14.6,
          19.1,
          11.5,
          11.5,
          20.6,
          12.7,
          10.5,
          11.9,
          25.2,
          12.5,
          12.5,
          12.5,
          12.5,
          12.5,
          12.5,
          13.7,
          12,
          12.7,
          14.8,
          14.8,
          12.9,
          12.9,
          10.7,
          10.7,
          10.7,
          10.7,
          10.7,
          10.7,
          13.1,
          13.1,
          9.8,
          11.3,
          11.3,
          8.9,
          8.9,
          5.8,
          6.7,
          6.7,
          6.2,
          13.8,
          8.9,
          9,
          12.6,
          13.1,
          14.4,
          16,
          16,
          14.5,
          14.5,
          14.5,
          14.5,
          16.5,
          16.5,
          10.9,
          10.9,
          14.7,
          14.7,
          14.7,
          14.7,
          14.7,
          14.7,
          14.7,
          15.5,
          15.5,
          15.5,
          16.4
         ],
         "xaxis": "x",
         "yaxis": "y"
        },
        {
         "alignmentgroup": "True",
         "bingroup": "x",
         "hovertemplate": "Emojis=😂<br>Temp_mean=%{x}<br>count=%{y}<extra></extra>",
         "legendgroup": "😂",
         "marker": {
          "color": "#EF553B",
          "pattern": {
           "shape": ""
          }
         },
         "name": "😂",
         "nbinsx": 3,
         "offsetgroup": "😂",
         "orientation": "v",
         "showlegend": true,
         "text": [
          5,
          1,
          1,
          1,
          3,
          2,
          3,
          1,
          3,
          5,
          1,
          2,
          2,
          9,
          5,
          1,
          2,
          2,
          22,
          2,
          5,
          14,
          4,
          2,
          6,
          1,
          4,
          2,
          2,
          15,
          12,
          8,
          15,
          11,
          14,
          22,
          17,
          3,
          10,
          11,
          1,
          10,
          11,
          14,
          6,
          27,
          4,
          5,
          9,
          8,
          2,
          1,
          4,
          8,
          17,
          3,
          1,
          11,
          4,
          8,
          2,
          5,
          9,
          15,
          3,
          3,
          1,
          2,
          2,
          1,
          1,
          2,
          8,
          6,
          1,
          5,
          1,
          10,
          10,
          2,
          10,
          1,
          4,
          4,
          1,
          5,
          4,
          1,
          15,
          1,
          4,
          4,
          1,
          12,
          1,
          1,
          2,
          3,
          10,
          2,
          1,
          9,
          1,
          18,
          3,
          3,
          10,
          5,
          8,
          4,
          6,
          1,
          1,
          7,
          6,
          4,
          6,
          12,
          4,
          5,
          5,
          5,
          5,
          4,
          7,
          2,
          2,
          6,
          3,
          3,
          8,
          5,
          1,
          1,
          2,
          12,
          1,
          6,
          2,
          8,
          1,
          2,
          10,
          16,
          10,
          5,
          2,
          8,
          1,
          4,
          5,
          5,
          1,
          6,
          11,
          18,
          15,
          11,
          12,
          5,
          1,
          7,
          15,
          2,
          3,
          6,
          2,
          13,
          19,
          2,
          5,
          6,
          2,
          1,
          11,
          3,
          4,
          3,
          6,
          17,
          14,
          1,
          1,
          1,
          6,
          4,
          1,
          8,
          5,
          4,
          3,
          1,
          1,
          1,
          2,
          1,
          10,
          1,
          1,
          5,
          1,
          3,
          1,
          2,
          5,
          13,
          1,
          23,
          7,
          13,
          19,
          9,
          2,
          2,
          1,
          13,
          13,
          3,
          1,
          5,
          6,
          3,
          4,
          5,
          1,
          1,
          7,
          1,
          2,
          7,
          19,
          9,
          9,
          4,
          9,
          3,
          1,
          28,
          1,
          6,
          9,
          2,
          5,
          2,
          1,
          5,
          1,
          7,
          5,
          7,
          8,
          6,
          2,
          4,
          1,
          1,
          14,
          4,
          29,
          1,
          5,
          1,
          1,
          1,
          1,
          1,
          2,
          1,
          10,
          8,
          1
         ],
         "texttemplate": "%{y}",
         "type": "histogram",
         "x": [
          9.2,
          9.2,
          9.2,
          9.2,
          9.2,
          9.2,
          9.2,
          9.2,
          9.2,
          9.2,
          12,
          12,
          12,
          12,
          12,
          12,
          10.8,
          10.8,
          10.8,
          10.8,
          12.4,
          12.4,
          12.4,
          11.3,
          11.3,
          11.3,
          11.3,
          11.3,
          11.3,
          11.3,
          11.3,
          14.3,
          12.8,
          13.4,
          13.4,
          13.4,
          13.4,
          13.4,
          13.4,
          13.4,
          13.4,
          13.4,
          13.4,
          13.4,
          13.4,
          13.4,
          13.4,
          13.4,
          13.4,
          13.4,
          13.4,
          13.4,
          22.5,
          22.5,
          22.5,
          15.2,
          15.2,
          15.2,
          15.2,
          15.2,
          15.2,
          11.7,
          11.7,
          11.7,
          11.7,
          11.7,
          11.7,
          11.7,
          11.7,
          11.7,
          11.7,
          11.7,
          11.7,
          13.7,
          13.7,
          13.7,
          13.7,
          13.7,
          24.4,
          24.4,
          24.4,
          24.4,
          24.4,
          24.4,
          24.4,
          24.4,
          24.4,
          23.9,
          8.7,
          8.7,
          8.7,
          8.7,
          11,
          12,
          12,
          12,
          12,
          12,
          12,
          13.1,
          13.8,
          13.8,
          13.8,
          13.8,
          13.8,
          13.8,
          5.1,
          5.1,
          5.1,
          5.1,
          5.1,
          5.1,
          5.1,
          5.1,
          5.1,
          5.1,
          5.1,
          5.1,
          12.9,
          12.9,
          12.9,
          12.5,
          12.5,
          12.5,
          12.5,
          12.5,
          12.5,
          12.5,
          12.5,
          12.5,
          12.8,
          13.1,
          13.1,
          13.1,
          13.1,
          13.1,
          15.3,
          15.3,
          15.3,
          15.3,
          15.3,
          24.8,
          24.8,
          24.8,
          24.8,
          24.8,
          24.8,
          24.8,
          24.8,
          24.8,
          24.8,
          12.1,
          12.1,
          12.1,
          12.1,
          12.1,
          25.6,
          26.2,
          26.2,
          26.2,
          23.4,
          23.6,
          23.6,
          23.6,
          23.6,
          22.3,
          22.3,
          22.3,
          22.3,
          22.3,
          23.1,
          23.3,
          23.3,
          23.3,
          23.3,
          23.3,
          5.3,
          24.1,
          24.1,
          24.1,
          24.1,
          24.1,
          24.1,
          24.1,
          24.1,
          24.1,
          24.1,
          24.1,
          18.6,
          18.6,
          18.6,
          18.6,
          23.6,
          23.6,
          23.6,
          23.6,
          23.6,
          23.6,
          23.6,
          23.6,
          23.6,
          24.1,
          24.1,
          24.1,
          24.1,
          24.1,
          24.1,
          24.1,
          24.1,
          25.3,
          24.7,
          24.6,
          24.8,
          24.8,
          24.8,
          11.7,
          11.7,
          11.7,
          25.2,
          25.2,
          25.2,
          18.6,
          24.5,
          25.2,
          25.2,
          25.7,
          25.7,
          25.7,
          25.7,
          23.4,
          23.4,
          23.4,
          23.4,
          23.4,
          23.4,
          23.4,
          23.4,
          23.4,
          23.4,
          23.4,
          23.4,
          22.4,
          10.8,
          25.7,
          25.9,
          25.9,
          25.9,
          25.9,
          25.9,
          25.9,
          23.2,
          21.9,
          21.3,
          20.2,
          7.3,
          7.3,
          23.2,
          25.3,
          25.3,
          18.1,
          18.1,
          18.1,
          18.1,
          18.1,
          18.1,
          18.1,
          18.1,
          19.1,
          19.1,
          19.1,
          19.1,
          16.5,
          16.2,
          15.8,
          13.2,
          13.2,
          23.5,
          23.6,
          23.6,
          23.6,
          23.6,
          23.6,
          23.6,
          23.6,
          23.6,
          23.6,
          23.6,
          10.6,
          12.5,
          12.5,
          12.5,
          12.5,
          12.5,
          11.9,
          11.9,
          13.6,
          13.6,
          10.9,
          10.9,
          10.9,
          10.9,
          10.9,
          12.3,
          28.5,
          28.5,
          28.5,
          28.5,
          28.5,
          9.1,
          9.1,
          9.1,
          9.1,
          9.1,
          9.1,
          9.1,
          9.1,
          9.1,
          9.1,
          9.1,
          9.1,
          9.1,
          9.1,
          9.1,
          9.1,
          9.3,
          9.3,
          9.3,
          9.3,
          9.3,
          7.2,
          7.2,
          7.2,
          7.2,
          7.2,
          7.2,
          9.8,
          9.8,
          11.8,
          11.8,
          11.8,
          11.8,
          11.8,
          11.8,
          15,
          15,
          15,
          11.9,
          11.9,
          11.9,
          11.9,
          21.6,
          21.6,
          21.6,
          21.6,
          21.6,
          21.6,
          21.6,
          21.6,
          21.6,
          21.6,
          10.7,
          10.7,
          10.7,
          10.7,
          7.4,
          7.4,
          7.4,
          7.4,
          7.4,
          7.4,
          7.4,
          7.4,
          7.9,
          8.4,
          8.4,
          8.7,
          8.7,
          8.7,
          8.7,
          8.7,
          8.7,
          11.2,
          11.2,
          11.2,
          11.2,
          11.2,
          11.2,
          20.5,
          11.9,
          11.9,
          11.9,
          11.9,
          11.9,
          28.7,
          14.5,
          14.5,
          14.5,
          11.8,
          11.3,
          11.3,
          11.3,
          11.8,
          11.8,
          11.8,
          11.8,
          11.8,
          11.8,
          11.8,
          13.3,
          12.4,
          12.4,
          12.4,
          12.4,
          10,
          10,
          10,
          10,
          10,
          10,
          10,
          10,
          16.6,
          16.6,
          16.6,
          16.6,
          16.6,
          16.6,
          17.9,
          14.1,
          14.1,
          13.3,
          13.3,
          13.3,
          13.3,
          13.3,
          13.3,
          13.3,
          13.3,
          13.3,
          13.3,
          13.3,
          13.3,
          14.4,
          14.4,
          14.4,
          14.4,
          14.4,
          14.4,
          14.4,
          14.4,
          14.4,
          14.4,
          15.3,
          15.3,
          15.3,
          15.3,
          15.3,
          15.3,
          15.3,
          15.3,
          15.3,
          15.3,
          15.3,
          15.3,
          15.7,
          15.7,
          15.7,
          15.7,
          15.7,
          15.7,
          15.7,
          15.7,
          15.7,
          15.7,
          15.7,
          15.7,
          15.7,
          15.7,
          17.6,
          17.6,
          17.6,
          17.6,
          22.2,
          23.8,
          23.8,
          23.8,
          23.8,
          23.8,
          23.8,
          23.8,
          25.2,
          25.2,
          25.2,
          25.2,
          25.2,
          25.2,
          25.2,
          25.2,
          24.5,
          23.9,
          23.9,
          23.9,
          23.9,
          23.9,
          23.9,
          23.9,
          23.9,
          23.9,
          23.9,
          23.9,
          23.9,
          24.6,
          28.1,
          28.1,
          28.1,
          28.1,
          19.3,
          19.3,
          19.3,
          19.4,
          20.8,
          20.8,
          12.5,
          11.7,
          11.7,
          11.7,
          11.8,
          14.7,
          14.7,
          14.7,
          14.7,
          14.4
         ],
         "xaxis": "x",
         "yaxis": "y"
        },
        {
         "alignmentgroup": "True",
         "bingroup": "x",
         "hovertemplate": "Emojis=😹<br>Temp_mean=%{x}<br>count=%{y}<extra></extra>",
         "legendgroup": "😹",
         "marker": {
          "color": "#00cc96",
          "pattern": {
           "shape": ""
          }
         },
         "name": "😹",
         "nbinsx": 3,
         "offsetgroup": "😹",
         "orientation": "v",
         "showlegend": true,
         "text": [
          5,
          1,
          1,
          1,
          3,
          2,
          3,
          1,
          3,
          5,
          1,
          2,
          2,
          9,
          5,
          1,
          2,
          2,
          22,
          2,
          5,
          14,
          4,
          2,
          6,
          1,
          4,
          2,
          2,
          15,
          12,
          8,
          15,
          11,
          14,
          22,
          17,
          3,
          10,
          11,
          1,
          10,
          11,
          14,
          6,
          27,
          4,
          5,
          9,
          8,
          2,
          1,
          4,
          8,
          17,
          3,
          1,
          11,
          4,
          8,
          2,
          5,
          9,
          15,
          3,
          3,
          1,
          2,
          2,
          1,
          1,
          2,
          8,
          6,
          1,
          5,
          1,
          10,
          10,
          2,
          10,
          1,
          4,
          4,
          1,
          5,
          4,
          1,
          15,
          1,
          4,
          4,
          1,
          12,
          1,
          1,
          2,
          3,
          10,
          2,
          1,
          9,
          1,
          18,
          3,
          3,
          10,
          5,
          8,
          4,
          6,
          1,
          1,
          7,
          6,
          4,
          6,
          12,
          4,
          5,
          5,
          5,
          5,
          4,
          7,
          2,
          2,
          6,
          3,
          3,
          8,
          5,
          1,
          1,
          2,
          12,
          1,
          6,
          2,
          8,
          1,
          2,
          10,
          16,
          10,
          5,
          2,
          8,
          1,
          4,
          5,
          5,
          1,
          6,
          11,
          18,
          15,
          11,
          12,
          5,
          1,
          7,
          15,
          2,
          3,
          6,
          2,
          13,
          19,
          2,
          5,
          6,
          2,
          1,
          11,
          3,
          4,
          3,
          6,
          17,
          14,
          1,
          1,
          1,
          6,
          4,
          1,
          8,
          5,
          4,
          3,
          1,
          1,
          1,
          2,
          1,
          10,
          1,
          1,
          5,
          1,
          3,
          1,
          2,
          5,
          13,
          1,
          23,
          7,
          13,
          19,
          9,
          2,
          2,
          1,
          13,
          13,
          3,
          1,
          5,
          6,
          3,
          4,
          5,
          1,
          1,
          7,
          1,
          2,
          7,
          19,
          9,
          9,
          4,
          9,
          3,
          1,
          28,
          1,
          6,
          9,
          2,
          5,
          2,
          1,
          5,
          1,
          7,
          5,
          7,
          8,
          6,
          2,
          4,
          1,
          1,
          14,
          4,
          29,
          1,
          5,
          1,
          1,
          1,
          1,
          1,
          2,
          1,
          10,
          8,
          1
         ],
         "texttemplate": "%{y}",
         "type": "histogram",
         "x": [
          26.9,
          26.9,
          26.9,
          26.2,
          26.9,
          26.9,
          26.9,
          26.9,
          26.9,
          8.7,
          25.3,
          26.3,
          26.3,
          26.3,
          26.3,
          26.3,
          26.3,
          26.3,
          26.3,
          26.3,
          26.3,
          24.8,
          27.8,
          19.3,
          19.3,
          19.3,
          19.3,
          14.6,
          14.6,
          14.6,
          14.6,
          14.6,
          21.3,
          20.9,
          19.4,
          19.4,
          19.4,
          19.4,
          19.4,
          19.4,
          19.4,
          19.4,
          19.4,
          19.4,
          19.4,
          19.4,
          19.4,
          19.4,
          19.4,
          19.4,
          19.4,
          19.4,
          19.4,
          19.4,
          19.4,
          19.4,
          19.4,
          19.4,
          19.4,
          19.4,
          19.4,
          19.4,
          19.4,
          20.8,
          20.8,
          20.8,
          20.8,
          20.8,
          19.1,
          19.1,
          19.1,
          19.1,
          19.1,
          19.1,
          19.1,
          19.1,
          19.1,
          19.1,
          19.1,
          19.1,
          19.1,
          19.1,
          16.4,
          16.4,
          16.4,
          10.3,
          10.3,
          10.3,
          11.5,
          11.5,
          11.5,
          11.5,
          11.5,
          11.5,
          22.9,
          16.9,
          20.6,
          25.5,
          25.5,
          12.5,
          12.5,
          12.5,
          12.5,
          12.5,
          12.7,
          12.7,
          10.4,
          11.3,
          8.7,
          8.7,
          8.7,
          8.7,
          8.7,
          8.7,
          8.9,
          8.9,
          8.9,
          8.9,
          8.9,
          8.9,
          8.9,
          8.9,
          8.9,
          8.9,
          8.9,
          8.9,
          8.9,
          8.9,
          8.9,
          8.9,
          8.9,
          8.9,
          6.2,
          6.2,
          6.2,
          6.2,
          6.2,
          6.2,
          6.2,
          9.5,
          6.9,
          6.9,
          6.7,
          8.9,
          11.7,
          11.7,
          11.7,
          11.7,
          11.7,
          11.7,
          11.7,
          11.7,
          11.7,
          10,
          10,
          10,
          10,
          10,
          10,
          10,
          10,
          10,
          9,
          9,
          9,
          9,
          9,
          9,
          9,
          9,
          9,
          5,
          9.5,
          9.5,
          9.5,
          9.5,
          9.5,
          9.5,
          9.5,
          9.5,
          12.1,
          12.1,
          9.8,
          9.8,
          9.8,
          9.8,
          13.6,
          13.6,
          13.6,
          13.6,
          13.6,
          15.3,
          15.3,
          15.3,
          15.3,
          15.3,
          15.3,
          15.3,
          15.3,
          13.1,
          14,
          16.5,
          10.9,
          10.9,
          10.9,
          10.9,
          10.9,
          10.9,
          10.9,
          10.9,
          10.9,
          10.9,
          10.9,
          10.9,
          10.9,
          10.9,
          10.9,
          10.9,
          10.9,
          10.9,
          10.9,
          10.9,
          10.9,
          10.9,
          10.9,
          10.9,
          10.9,
          10.9,
          10.9,
          10.9,
          14.7,
          14.7,
          14.7,
          14.7,
          14.7,
          14.7,
          14.7,
          16.1,
          16.1,
          15.5,
          15.5,
          15.5,
          15.5,
          15.5,
          15.5,
          14.4,
          14.4,
          14.4,
          14.4,
          14.4,
          14.4,
          14.4,
          16.4
         ],
         "xaxis": "x",
         "yaxis": "y"
        }
       ],
       "layout": {
        "bargap": 0.1,
        "barmode": "relative",
        "legend": {
         "title": {
          "text": "Emojis"
         },
         "tracegroupgap": 0
        },
        "margin": {
         "t": 60
        },
        "template": {
         "data": {
          "bar": [
           {
            "error_x": {
             "color": "#2a3f5f"
            },
            "error_y": {
             "color": "#2a3f5f"
            },
            "marker": {
             "line": {
              "color": "#E5ECF6",
              "width": 0.5
             },
             "pattern": {
              "fillmode": "overlay",
              "size": 10,
              "solidity": 0.2
             }
            },
            "type": "bar"
           }
          ],
          "barpolar": [
           {
            "marker": {
             "line": {
              "color": "#E5ECF6",
              "width": 0.5
             },
             "pattern": {
              "fillmode": "overlay",
              "size": 10,
              "solidity": 0.2
             }
            },
            "type": "barpolar"
           }
          ],
          "carpet": [
           {
            "aaxis": {
             "endlinecolor": "#2a3f5f",
             "gridcolor": "white",
             "linecolor": "white",
             "minorgridcolor": "white",
             "startlinecolor": "#2a3f5f"
            },
            "baxis": {
             "endlinecolor": "#2a3f5f",
             "gridcolor": "white",
             "linecolor": "white",
             "minorgridcolor": "white",
             "startlinecolor": "#2a3f5f"
            },
            "type": "carpet"
           }
          ],
          "choropleth": [
           {
            "colorbar": {
             "outlinewidth": 0,
             "ticks": ""
            },
            "type": "choropleth"
           }
          ],
          "contour": [
           {
            "colorbar": {
             "outlinewidth": 0,
             "ticks": ""
            },
            "colorscale": [
             [
              0,
              "#0d0887"
             ],
             [
              0.1111111111111111,
              "#46039f"
             ],
             [
              0.2222222222222222,
              "#7201a8"
             ],
             [
              0.3333333333333333,
              "#9c179e"
             ],
             [
              0.4444444444444444,
              "#bd3786"
             ],
             [
              0.5555555555555556,
              "#d8576b"
             ],
             [
              0.6666666666666666,
              "#ed7953"
             ],
             [
              0.7777777777777778,
              "#fb9f3a"
             ],
             [
              0.8888888888888888,
              "#fdca26"
             ],
             [
              1,
              "#f0f921"
             ]
            ],
            "type": "contour"
           }
          ],
          "contourcarpet": [
           {
            "colorbar": {
             "outlinewidth": 0,
             "ticks": ""
            },
            "type": "contourcarpet"
           }
          ],
          "heatmap": [
           {
            "colorbar": {
             "outlinewidth": 0,
             "ticks": ""
            },
            "colorscale": [
             [
              0,
              "#0d0887"
             ],
             [
              0.1111111111111111,
              "#46039f"
             ],
             [
              0.2222222222222222,
              "#7201a8"
             ],
             [
              0.3333333333333333,
              "#9c179e"
             ],
             [
              0.4444444444444444,
              "#bd3786"
             ],
             [
              0.5555555555555556,
              "#d8576b"
             ],
             [
              0.6666666666666666,
              "#ed7953"
             ],
             [
              0.7777777777777778,
              "#fb9f3a"
             ],
             [
              0.8888888888888888,
              "#fdca26"
             ],
             [
              1,
              "#f0f921"
             ]
            ],
            "type": "heatmap"
           }
          ],
          "heatmapgl": [
           {
            "colorbar": {
             "outlinewidth": 0,
             "ticks": ""
            },
            "colorscale": [
             [
              0,
              "#0d0887"
             ],
             [
              0.1111111111111111,
              "#46039f"
             ],
             [
              0.2222222222222222,
              "#7201a8"
             ],
             [
              0.3333333333333333,
              "#9c179e"
             ],
             [
              0.4444444444444444,
              "#bd3786"
             ],
             [
              0.5555555555555556,
              "#d8576b"
             ],
             [
              0.6666666666666666,
              "#ed7953"
             ],
             [
              0.7777777777777778,
              "#fb9f3a"
             ],
             [
              0.8888888888888888,
              "#fdca26"
             ],
             [
              1,
              "#f0f921"
             ]
            ],
            "type": "heatmapgl"
           }
          ],
          "histogram": [
           {
            "marker": {
             "pattern": {
              "fillmode": "overlay",
              "size": 10,
              "solidity": 0.2
             }
            },
            "type": "histogram"
           }
          ],
          "histogram2d": [
           {
            "colorbar": {
             "outlinewidth": 0,
             "ticks": ""
            },
            "colorscale": [
             [
              0,
              "#0d0887"
             ],
             [
              0.1111111111111111,
              "#46039f"
             ],
             [
              0.2222222222222222,
              "#7201a8"
             ],
             [
              0.3333333333333333,
              "#9c179e"
             ],
             [
              0.4444444444444444,
              "#bd3786"
             ],
             [
              0.5555555555555556,
              "#d8576b"
             ],
             [
              0.6666666666666666,
              "#ed7953"
             ],
             [
              0.7777777777777778,
              "#fb9f3a"
             ],
             [
              0.8888888888888888,
              "#fdca26"
             ],
             [
              1,
              "#f0f921"
             ]
            ],
            "type": "histogram2d"
           }
          ],
          "histogram2dcontour": [
           {
            "colorbar": {
             "outlinewidth": 0,
             "ticks": ""
            },
            "colorscale": [
             [
              0,
              "#0d0887"
             ],
             [
              0.1111111111111111,
              "#46039f"
             ],
             [
              0.2222222222222222,
              "#7201a8"
             ],
             [
              0.3333333333333333,
              "#9c179e"
             ],
             [
              0.4444444444444444,
              "#bd3786"
             ],
             [
              0.5555555555555556,
              "#d8576b"
             ],
             [
              0.6666666666666666,
              "#ed7953"
             ],
             [
              0.7777777777777778,
              "#fb9f3a"
             ],
             [
              0.8888888888888888,
              "#fdca26"
             ],
             [
              1,
              "#f0f921"
             ]
            ],
            "type": "histogram2dcontour"
           }
          ],
          "mesh3d": [
           {
            "colorbar": {
             "outlinewidth": 0,
             "ticks": ""
            },
            "type": "mesh3d"
           }
          ],
          "parcoords": [
           {
            "line": {
             "colorbar": {
              "outlinewidth": 0,
              "ticks": ""
             }
            },
            "type": "parcoords"
           }
          ],
          "pie": [
           {
            "automargin": true,
            "type": "pie"
           }
          ],
          "scatter": [
           {
            "fillpattern": {
             "fillmode": "overlay",
             "size": 10,
             "solidity": 0.2
            },
            "type": "scatter"
           }
          ],
          "scatter3d": [
           {
            "line": {
             "colorbar": {
              "outlinewidth": 0,
              "ticks": ""
             }
            },
            "marker": {
             "colorbar": {
              "outlinewidth": 0,
              "ticks": ""
             }
            },
            "type": "scatter3d"
           }
          ],
          "scattercarpet": [
           {
            "marker": {
             "colorbar": {
              "outlinewidth": 0,
              "ticks": ""
             }
            },
            "type": "scattercarpet"
           }
          ],
          "scattergeo": [
           {
            "marker": {
             "colorbar": {
              "outlinewidth": 0,
              "ticks": ""
             }
            },
            "type": "scattergeo"
           }
          ],
          "scattergl": [
           {
            "marker": {
             "colorbar": {
              "outlinewidth": 0,
              "ticks": ""
             }
            },
            "type": "scattergl"
           }
          ],
          "scattermapbox": [
           {
            "marker": {
             "colorbar": {
              "outlinewidth": 0,
              "ticks": ""
             }
            },
            "type": "scattermapbox"
           }
          ],
          "scatterpolar": [
           {
            "marker": {
             "colorbar": {
              "outlinewidth": 0,
              "ticks": ""
             }
            },
            "type": "scatterpolar"
           }
          ],
          "scatterpolargl": [
           {
            "marker": {
             "colorbar": {
              "outlinewidth": 0,
              "ticks": ""
             }
            },
            "type": "scatterpolargl"
           }
          ],
          "scatterternary": [
           {
            "marker": {
             "colorbar": {
              "outlinewidth": 0,
              "ticks": ""
             }
            },
            "type": "scatterternary"
           }
          ],
          "surface": [
           {
            "colorbar": {
             "outlinewidth": 0,
             "ticks": ""
            },
            "colorscale": [
             [
              0,
              "#0d0887"
             ],
             [
              0.1111111111111111,
              "#46039f"
             ],
             [
              0.2222222222222222,
              "#7201a8"
             ],
             [
              0.3333333333333333,
              "#9c179e"
             ],
             [
              0.4444444444444444,
              "#bd3786"
             ],
             [
              0.5555555555555556,
              "#d8576b"
             ],
             [
              0.6666666666666666,
              "#ed7953"
             ],
             [
              0.7777777777777778,
              "#fb9f3a"
             ],
             [
              0.8888888888888888,
              "#fdca26"
             ],
             [
              1,
              "#f0f921"
             ]
            ],
            "type": "surface"
           }
          ],
          "table": [
           {
            "cells": {
             "fill": {
              "color": "#EBF0F8"
             },
             "line": {
              "color": "white"
             }
            },
            "header": {
             "fill": {
              "color": "#C8D4E3"
             },
             "line": {
              "color": "white"
             }
            },
            "type": "table"
           }
          ]
         },
         "layout": {
          "annotationdefaults": {
           "arrowcolor": "#2a3f5f",
           "arrowhead": 0,
           "arrowwidth": 1
          },
          "autotypenumbers": "strict",
          "coloraxis": {
           "colorbar": {
            "outlinewidth": 0,
            "ticks": ""
           }
          },
          "colorscale": {
           "diverging": [
            [
             0,
             "#8e0152"
            ],
            [
             0.1,
             "#c51b7d"
            ],
            [
             0.2,
             "#de77ae"
            ],
            [
             0.3,
             "#f1b6da"
            ],
            [
             0.4,
             "#fde0ef"
            ],
            [
             0.5,
             "#f7f7f7"
            ],
            [
             0.6,
             "#e6f5d0"
            ],
            [
             0.7,
             "#b8e186"
            ],
            [
             0.8,
             "#7fbc41"
            ],
            [
             0.9,
             "#4d9221"
            ],
            [
             1,
             "#276419"
            ]
           ],
           "sequential": [
            [
             0,
             "#0d0887"
            ],
            [
             0.1111111111111111,
             "#46039f"
            ],
            [
             0.2222222222222222,
             "#7201a8"
            ],
            [
             0.3333333333333333,
             "#9c179e"
            ],
            [
             0.4444444444444444,
             "#bd3786"
            ],
            [
             0.5555555555555556,
             "#d8576b"
            ],
            [
             0.6666666666666666,
             "#ed7953"
            ],
            [
             0.7777777777777778,
             "#fb9f3a"
            ],
            [
             0.8888888888888888,
             "#fdca26"
            ],
            [
             1,
             "#f0f921"
            ]
           ],
           "sequentialminus": [
            [
             0,
             "#0d0887"
            ],
            [
             0.1111111111111111,
             "#46039f"
            ],
            [
             0.2222222222222222,
             "#7201a8"
            ],
            [
             0.3333333333333333,
             "#9c179e"
            ],
            [
             0.4444444444444444,
             "#bd3786"
            ],
            [
             0.5555555555555556,
             "#d8576b"
            ],
            [
             0.6666666666666666,
             "#ed7953"
            ],
            [
             0.7777777777777778,
             "#fb9f3a"
            ],
            [
             0.8888888888888888,
             "#fdca26"
            ],
            [
             1,
             "#f0f921"
            ]
           ]
          },
          "colorway": [
           "#636efa",
           "#EF553B",
           "#00cc96",
           "#ab63fa",
           "#FFA15A",
           "#19d3f3",
           "#FF6692",
           "#B6E880",
           "#FF97FF",
           "#FECB52"
          ],
          "font": {
           "color": "#2a3f5f"
          },
          "geo": {
           "bgcolor": "white",
           "lakecolor": "white",
           "landcolor": "#E5ECF6",
           "showlakes": true,
           "showland": true,
           "subunitcolor": "white"
          },
          "hoverlabel": {
           "align": "left"
          },
          "hovermode": "closest",
          "mapbox": {
           "style": "light"
          },
          "paper_bgcolor": "white",
          "plot_bgcolor": "#E5ECF6",
          "polar": {
           "angularaxis": {
            "gridcolor": "white",
            "linecolor": "white",
            "ticks": ""
           },
           "bgcolor": "#E5ECF6",
           "radialaxis": {
            "gridcolor": "white",
            "linecolor": "white",
            "ticks": ""
           }
          },
          "scene": {
           "xaxis": {
            "backgroundcolor": "#E5ECF6",
            "gridcolor": "white",
            "gridwidth": 2,
            "linecolor": "white",
            "showbackground": true,
            "ticks": "",
            "zerolinecolor": "white"
           },
           "yaxis": {
            "backgroundcolor": "#E5ECF6",
            "gridcolor": "white",
            "gridwidth": 2,
            "linecolor": "white",
            "showbackground": true,
            "ticks": "",
            "zerolinecolor": "white"
           },
           "zaxis": {
            "backgroundcolor": "#E5ECF6",
            "gridcolor": "white",
            "gridwidth": 2,
            "linecolor": "white",
            "showbackground": true,
            "ticks": "",
            "zerolinecolor": "white"
           }
          },
          "shapedefaults": {
           "line": {
            "color": "#2a3f5f"
           }
          },
          "ternary": {
           "aaxis": {
            "gridcolor": "white",
            "linecolor": "white",
            "ticks": ""
           },
           "baxis": {
            "gridcolor": "white",
            "linecolor": "white",
            "ticks": ""
           },
           "bgcolor": "#E5ECF6",
           "caxis": {
            "gridcolor": "white",
            "linecolor": "white",
            "ticks": ""
           }
          },
          "title": {
           "x": 0.05
          },
          "xaxis": {
           "automargin": true,
           "gridcolor": "white",
           "linecolor": "white",
           "ticks": "",
           "title": {
            "standoff": 15
           },
           "zerolinecolor": "white",
           "zerolinewidth": 2
          },
          "yaxis": {
           "automargin": true,
           "gridcolor": "white",
           "linecolor": "white",
           "ticks": "",
           "title": {
            "standoff": 15
           },
           "zerolinecolor": "white",
           "zerolinewidth": 2
          }
         }
        },
        "title": {
         "text": "Top 5 emojis sent by temperature"
        },
        "xaxis": {
         "anchor": "y",
         "domain": [
          0,
          1
         ],
         "title": {
          "text": "Mean temperature"
         }
        },
        "yaxis": {
         "anchor": "x",
         "domain": [
          0,
          1
         ],
         "title": {
          "text": "Number of Emojis"
         }
        }
       }
      },
      "text/html": [
       "<div>                            <div id=\"333afb79-4c8a-435d-9776-ff3e20ab7a7b\" class=\"plotly-graph-div\" style=\"height:525px; width:100%;\"></div>            <script type=\"text/javascript\">                require([\"plotly\"], function(Plotly) {                    window.PLOTLYENV=window.PLOTLYENV || {};                                    if (document.getElementById(\"333afb79-4c8a-435d-9776-ff3e20ab7a7b\")) {                    Plotly.newPlot(                        \"333afb79-4c8a-435d-9776-ff3e20ab7a7b\",                        [{\"alignmentgroup\":\"True\",\"bingroup\":\"x\",\"hovertemplate\":\"Emojis=\\u2764<br>Temp_mean=%{x}<br>count=%{y}<extra></extra>\",\"legendgroup\":\"\\u2764\",\"marker\":{\"color\":\"#636efa\",\"pattern\":{\"shape\":\"\"}},\"name\":\"\\u2764\",\"nbinsx\":3,\"offsetgroup\":\"\\u2764\",\"orientation\":\"v\",\"showlegend\":true,\"x\":[7.0,7.8,9.7,12.0,12.0,12.0,12.4,12.4,12.4,12.4,12.4,12.4,9.9,9.9,13.0,13.0,13.0,13.0,13.1,13.1,13.1,13.4,13.4,13.4,13.4,13.4,13.4,13.4,13.4,13.4,20.4,21.4,15.2,11.6,11.6,10.5,10.5,10.5,13.7,12.3,15.6,15.6,24.4,23.0,23.0,23.0,11.6,11.6,11.6,12.9,12.9,13.3,13.3,14.7,21.1,21.1,21.1,21.1,23.8,11.6,11.6,11.6,11.1,11.1,12.0,12.0,12.0,12.0,12.0,12.0,12.0,12.0,12.0,12.0,12.9,12.7,12.7,12.7,12.7,11.3,9.7,12.5,12.5,12.5,12.5,12.5,12.8,13.1,13.1,13.1,13.1,13.1,13.1,13.1,13.1,13.1,13.1,13.1,13.1,13.1,15.3,15.3,15.3,15.3,15.3,15.3,15.3,15.3,15.3,18.9,12.1,12.1,12.1,12.1,12.1,10.0,10.0,10.0,10.0,25.6,25.6,25.6,25.6,26.0,26.0,26.0,26.0,26.0,23.9,23.9,23.9,23.9,23.9,23.9,20.7,23.1,23.1,23.1,23.1,23.1,23.1,23.1,23.1,23.1,23.3,5.3,16.8,16.8,20.6,20.6,20.6,20.6,24.1,24.1,25.7,25.7,18.6,12.8,12.8,12.8,12.8,12.8,22.5,23.1,23.6,23.6,23.6,23.6,23.6,23.6,23.6,23.6,23.6,23.6,23.6,23.6,23.6,23.6,23.6,24.8,24.8,26.2,25.7,26.2,26.2,26.2,25.3,25.3,25.3,24.6,24.6,24.6,24.6,24.7,24.7,24.7,25.2,25.2,25.2,25.2,25.2,25.6,10.2,10.2,10.2,10.2,10.2,10.2,10.2,10.2,10.2,10.2,10.2,10.2,10.8,17.9,17.9,17.9,17.9,17.9,17.9,17.9,17.9,17.9,17.9,21.9,23.4,23.4,23.4,23.4,23.4,24.3,24.3,24.3,24.3,24.3,25.2,25.2,25.2,25.2,18.6,18.6,18.6,18.6,18.6,18.6,26.3,26.3,26.3,26.3,24.0,24.0,24.0,24.0,24.0,24.7,24.7,24.7,25.2,25.2,25.1,25.1,25.1,25.1,25.1,25.1,24.2,24.2,24.2,23.4,23.4,23.4,23.4,22.4,11.3,11.3,11.3,11.3,11.3,11.3,22.5,23.7,23.7,23.7,24.3,13.9,13.9,8.7,24.8,24.8,25.7,25.7,24.1,24.1,24.1,24.1,24.1,24.1,23.2,21.9,21.9,21.9,21.9,21.9,21.9,21.9,21.9,21.9,21.9,21.9,21.3,21.3,21.3,20.2,20.2,20.2,20.2,19.3,21.3,20.6,20.6,20.6,20.6,20.6,20.6,20.6,20.6,20.6,20.6,7.3,7.3,7.3,7.3,7.3,11.5,11.5,11.5,11.5,11.5,11.5,11.5,11.5,12.2,12.2,16.9,23.2,23.8,23.8,18.1,18.1,18.1,18.1,18.1,18.1,18.1,18.1,18.6,18.6,18.6,19.1,20.0,20.0,20.0,20.0,20.0,17.1,17.1,17.1,17.1,17.1,16.2,15.8,15.8,16.8,16.8,19.1,19.1,6.4,6.4,6.4,13.2,13.2,13.2,13.2,15.6,23.5,17.7,10.6,10.6,15.3,13.9,13.9,11.9,11.9,11.9,11.9,11.9,12.2,12.2,12.2,12.2,12.2,12.2,12.2,12.2,12.2,12.2,12.2,12.2,12.2,12.2,13.6,13.6,13.6,13.6,13.6,13.6,13.6,13.6,12.7,12.7,12.7,12.4,12.4,12.4,12.1,9.4,9.4,8.9,9.8,9.8,4.9,4.9,4.9,4.9,4.9,11.5,11.8,11.8,11.8,12.3,12.3,18.1,18.1,8.9,7.2,7.2,7.2,8.6,8.6,9.8,9.8,12.1,12.1,12.1,12.1,12.1,12.1,12.1,12.1,12.1,12.1,12.1,11.8,11.8,11.8,11.8,11.8,11.8,11.8,14.2,14.2,14.2,14.2,14.2,14.2,14.2,14.2,14.2,14.2,14.2,14.2,14.2,14.2,14.2,14.2,14.2,15.0,15.0,15.0,15.0,15.0,13.1,13.1,13.1,13.1,13.1,13.1,13.1,11.9,11.2,11.2,23.6,23.6,23.6,19.3,19.3,19.3,6.9,6.9,6.9,8.4,8.4,8.7,8.7,9.8,9.8,9.8,9.8,9.8,9.8,9.8,9.8,9.8,9.8,9.8,9.8,9.8,9.8,9.8,9.8,9.8,11.3,11.3,13.3,13.3,13.3,11.5,11.3,12.1,12.1,12.1,12.1,12.1,10.2,11.9,11.9,11.9,11.9,25.5,25.5,25.5,28.7,28.7,18.3,18.3,12.9,12.9,12.9,12.9,12.9,12.9,12.9,12.9,12.9,14.3,14.3,14.3,14.5,14.5,14.5,14.5,14.5,14.5,14.5,14.1,14.1,14.1,14.1,14.1,14.1,14.1,14.1,12.8,12.8,12.8,12.8,12.8,11.8,11.3,11.3,11.3,11.8,11.8,13.1,12.7,13.0,13.0,12.4,12.2,28.3,10.0,16.6,16.6,16.6,16.6,16.6,16.6,16.6,16.6,14.6,14.6,14.6,15.3,15.3,15.3,15.3,15.3,15.7,28.1,28.1,26.4,26.7,26.7,27.7,27.7,27.7,25.3,24.5,24.2,24.6,24.6,24.6,15.2,15.2,15.2,15.2,15.2,15.2,15.2,15.2,11.8,11.8,28.4,28.1,28.1,28.1,27.9,27.9,27.9,27.9,27.9,27.9,27.9,27.9,26.9,26.4,26.9,26.9,26.9,26.9,26.9,8.7,8.7,8.7,8.7,8.7,8.7,19.5,16.8,16.8,23.9,23.9,23.9,23.9,26.3,26.3,26.3,25.5,25.5,10.9,10.9,10.2,22.2,27.8,27.8,27.8,14.6,19.1,11.5,11.5,20.6,12.7,10.5,11.9,25.2,12.5,12.5,12.5,12.5,12.5,12.5,13.7,12.0,12.7,14.8,14.8,12.9,12.9,10.7,10.7,10.7,10.7,10.7,10.7,13.1,13.1,9.8,11.3,11.3,8.9,8.9,5.8,6.7,6.7,6.2,13.8,8.9,9.0,12.6,13.1,14.4,16.0,16.0,14.5,14.5,14.5,14.5,16.5,16.5,10.9,10.9,14.7,14.7,14.7,14.7,14.7,14.7,14.7,15.5,15.5,15.5,16.4],\"xaxis\":\"x\",\"yaxis\":\"y\",\"type\":\"histogram\",\"text\":[5.0,1.0,1.0,1.0,3.0,2.0,3.0,1.0,3.0,5.0,1.0,2.0,2.0,9.0,5.0,1.0,2.0,2.0,22.0,2.0,5.0,14.0,4.0,2.0,6.0,1.0,4.0,2.0,2.0,15.0,12.0,8.0,15.0,11.0,14.0,22.0,17.0,3.0,10.0,11.0,1.0,10.0,11.0,14.0,6.0,27.0,4.0,5.0,9.0,8.0,2.0,1.0,4.0,8.0,17.0,3.0,1.0,11.0,4.0,8.0,2.0,5.0,9.0,15.0,3.0,3.0,1.0,2.0,2.0,1.0,1.0,2.0,8.0,6.0,1.0,5.0,1.0,10.0,10.0,2.0,10.0,1.0,4.0,4.0,1.0,5.0,4.0,1.0,15.0,1.0,4.0,4.0,1.0,12.0,1.0,1.0,2.0,3.0,10.0,2.0,1.0,9.0,1.0,18.0,3.0,3.0,10.0,5.0,8.0,4.0,6.0,1.0,1.0,7.0,6.0,4.0,6.0,12.0,4.0,5.0,5.0,5.0,5.0,4.0,7.0,2.0,2.0,6.0,3.0,3.0,8.0,5.0,1.0,1.0,2.0,12.0,1.0,6.0,2.0,8.0,1.0,2.0,10.0,16.0,10.0,5.0,2.0,8.0,1.0,4.0,5.0,5.0,1.0,6.0,11.0,18.0,15.0,11.0,12.0,5.0,1.0,7.0,15.0,2.0,3.0,6.0,2.0,13.0,19.0,2.0,5.0,6.0,2.0,1.0,11.0,3.0,4.0,3.0,6.0,17.0,14.0,1.0,1.0,1.0,6.0,4.0,1.0,8.0,5.0,4.0,3.0,1.0,1.0,1.0,2.0,1.0,10.0,1.0,1.0,5.0,1.0,3.0,1.0,2.0,5.0,13.0,1.0,23.0,7.0,13.0,19.0,9.0,2.0,2.0,1.0,13.0,13.0,3.0,1.0,5.0,6.0,3.0,4.0,5.0,1.0,1.0,7.0,1.0,2.0,7.0,19.0,9.0,9.0,4.0,9.0,3.0,1.0,28.0,1.0,6.0,9.0,2.0,5.0,2.0,1.0,5.0,1.0,7.0,5.0,7.0,8.0,6.0,2.0,4.0,1.0,1.0,14.0,4.0,29.0,1.0,5.0,1.0,1.0,1.0,1.0,1.0,2.0,1.0,10.0,8.0,1.0],\"texttemplate\":\"%{y}\"},{\"alignmentgroup\":\"True\",\"bingroup\":\"x\",\"hovertemplate\":\"Emojis=\\ud83d\\ude02<br>Temp_mean=%{x}<br>count=%{y}<extra></extra>\",\"legendgroup\":\"\\ud83d\\ude02\",\"marker\":{\"color\":\"#EF553B\",\"pattern\":{\"shape\":\"\"}},\"name\":\"\\ud83d\\ude02\",\"nbinsx\":3,\"offsetgroup\":\"\\ud83d\\ude02\",\"orientation\":\"v\",\"showlegend\":true,\"x\":[9.2,9.2,9.2,9.2,9.2,9.2,9.2,9.2,9.2,9.2,12.0,12.0,12.0,12.0,12.0,12.0,10.8,10.8,10.8,10.8,12.4,12.4,12.4,11.3,11.3,11.3,11.3,11.3,11.3,11.3,11.3,14.3,12.8,13.4,13.4,13.4,13.4,13.4,13.4,13.4,13.4,13.4,13.4,13.4,13.4,13.4,13.4,13.4,13.4,13.4,13.4,13.4,22.5,22.5,22.5,15.2,15.2,15.2,15.2,15.2,15.2,11.7,11.7,11.7,11.7,11.7,11.7,11.7,11.7,11.7,11.7,11.7,11.7,13.7,13.7,13.7,13.7,13.7,24.4,24.4,24.4,24.4,24.4,24.4,24.4,24.4,24.4,23.9,8.7,8.7,8.7,8.7,11.0,12.0,12.0,12.0,12.0,12.0,12.0,13.1,13.8,13.8,13.8,13.8,13.8,13.8,5.1,5.1,5.1,5.1,5.1,5.1,5.1,5.1,5.1,5.1,5.1,5.1,12.9,12.9,12.9,12.5,12.5,12.5,12.5,12.5,12.5,12.5,12.5,12.5,12.8,13.1,13.1,13.1,13.1,13.1,15.3,15.3,15.3,15.3,15.3,24.8,24.8,24.8,24.8,24.8,24.8,24.8,24.8,24.8,24.8,12.1,12.1,12.1,12.1,12.1,25.6,26.2,26.2,26.2,23.4,23.6,23.6,23.6,23.6,22.3,22.3,22.3,22.3,22.3,23.1,23.3,23.3,23.3,23.3,23.3,5.3,24.1,24.1,24.1,24.1,24.1,24.1,24.1,24.1,24.1,24.1,24.1,18.6,18.6,18.6,18.6,23.6,23.6,23.6,23.6,23.6,23.6,23.6,23.6,23.6,24.1,24.1,24.1,24.1,24.1,24.1,24.1,24.1,25.3,24.7,24.6,24.8,24.8,24.8,11.7,11.7,11.7,25.2,25.2,25.2,18.6,24.5,25.2,25.2,25.7,25.7,25.7,25.7,23.4,23.4,23.4,23.4,23.4,23.4,23.4,23.4,23.4,23.4,23.4,23.4,22.4,10.8,25.7,25.9,25.9,25.9,25.9,25.9,25.9,23.2,21.9,21.3,20.2,7.3,7.3,23.2,25.3,25.3,18.1,18.1,18.1,18.1,18.1,18.1,18.1,18.1,19.1,19.1,19.1,19.1,16.5,16.2,15.8,13.2,13.2,23.5,23.6,23.6,23.6,23.6,23.6,23.6,23.6,23.6,23.6,23.6,10.6,12.5,12.5,12.5,12.5,12.5,11.9,11.9,13.6,13.6,10.9,10.9,10.9,10.9,10.9,12.3,28.5,28.5,28.5,28.5,28.5,9.1,9.1,9.1,9.1,9.1,9.1,9.1,9.1,9.1,9.1,9.1,9.1,9.1,9.1,9.1,9.1,9.3,9.3,9.3,9.3,9.3,7.2,7.2,7.2,7.2,7.2,7.2,9.8,9.8,11.8,11.8,11.8,11.8,11.8,11.8,15.0,15.0,15.0,11.9,11.9,11.9,11.9,21.6,21.6,21.6,21.6,21.6,21.6,21.6,21.6,21.6,21.6,10.7,10.7,10.7,10.7,7.4,7.4,7.4,7.4,7.4,7.4,7.4,7.4,7.9,8.4,8.4,8.7,8.7,8.7,8.7,8.7,8.7,11.2,11.2,11.2,11.2,11.2,11.2,20.5,11.9,11.9,11.9,11.9,11.9,28.7,14.5,14.5,14.5,11.8,11.3,11.3,11.3,11.8,11.8,11.8,11.8,11.8,11.8,11.8,13.3,12.4,12.4,12.4,12.4,10.0,10.0,10.0,10.0,10.0,10.0,10.0,10.0,16.6,16.6,16.6,16.6,16.6,16.6,17.9,14.1,14.1,13.3,13.3,13.3,13.3,13.3,13.3,13.3,13.3,13.3,13.3,13.3,13.3,14.4,14.4,14.4,14.4,14.4,14.4,14.4,14.4,14.4,14.4,15.3,15.3,15.3,15.3,15.3,15.3,15.3,15.3,15.3,15.3,15.3,15.3,15.7,15.7,15.7,15.7,15.7,15.7,15.7,15.7,15.7,15.7,15.7,15.7,15.7,15.7,17.6,17.6,17.6,17.6,22.2,23.8,23.8,23.8,23.8,23.8,23.8,23.8,25.2,25.2,25.2,25.2,25.2,25.2,25.2,25.2,24.5,23.9,23.9,23.9,23.9,23.9,23.9,23.9,23.9,23.9,23.9,23.9,23.9,24.6,28.1,28.1,28.1,28.1,19.3,19.3,19.3,19.4,20.8,20.8,12.5,11.7,11.7,11.7,11.8,14.7,14.7,14.7,14.7,14.4],\"xaxis\":\"x\",\"yaxis\":\"y\",\"type\":\"histogram\",\"text\":[5.0,1.0,1.0,1.0,3.0,2.0,3.0,1.0,3.0,5.0,1.0,2.0,2.0,9.0,5.0,1.0,2.0,2.0,22.0,2.0,5.0,14.0,4.0,2.0,6.0,1.0,4.0,2.0,2.0,15.0,12.0,8.0,15.0,11.0,14.0,22.0,17.0,3.0,10.0,11.0,1.0,10.0,11.0,14.0,6.0,27.0,4.0,5.0,9.0,8.0,2.0,1.0,4.0,8.0,17.0,3.0,1.0,11.0,4.0,8.0,2.0,5.0,9.0,15.0,3.0,3.0,1.0,2.0,2.0,1.0,1.0,2.0,8.0,6.0,1.0,5.0,1.0,10.0,10.0,2.0,10.0,1.0,4.0,4.0,1.0,5.0,4.0,1.0,15.0,1.0,4.0,4.0,1.0,12.0,1.0,1.0,2.0,3.0,10.0,2.0,1.0,9.0,1.0,18.0,3.0,3.0,10.0,5.0,8.0,4.0,6.0,1.0,1.0,7.0,6.0,4.0,6.0,12.0,4.0,5.0,5.0,5.0,5.0,4.0,7.0,2.0,2.0,6.0,3.0,3.0,8.0,5.0,1.0,1.0,2.0,12.0,1.0,6.0,2.0,8.0,1.0,2.0,10.0,16.0,10.0,5.0,2.0,8.0,1.0,4.0,5.0,5.0,1.0,6.0,11.0,18.0,15.0,11.0,12.0,5.0,1.0,7.0,15.0,2.0,3.0,6.0,2.0,13.0,19.0,2.0,5.0,6.0,2.0,1.0,11.0,3.0,4.0,3.0,6.0,17.0,14.0,1.0,1.0,1.0,6.0,4.0,1.0,8.0,5.0,4.0,3.0,1.0,1.0,1.0,2.0,1.0,10.0,1.0,1.0,5.0,1.0,3.0,1.0,2.0,5.0,13.0,1.0,23.0,7.0,13.0,19.0,9.0,2.0,2.0,1.0,13.0,13.0,3.0,1.0,5.0,6.0,3.0,4.0,5.0,1.0,1.0,7.0,1.0,2.0,7.0,19.0,9.0,9.0,4.0,9.0,3.0,1.0,28.0,1.0,6.0,9.0,2.0,5.0,2.0,1.0,5.0,1.0,7.0,5.0,7.0,8.0,6.0,2.0,4.0,1.0,1.0,14.0,4.0,29.0,1.0,5.0,1.0,1.0,1.0,1.0,1.0,2.0,1.0,10.0,8.0,1.0],\"texttemplate\":\"%{y}\"},{\"alignmentgroup\":\"True\",\"bingroup\":\"x\",\"hovertemplate\":\"Emojis=\\ud83d\\ude39<br>Temp_mean=%{x}<br>count=%{y}<extra></extra>\",\"legendgroup\":\"\\ud83d\\ude39\",\"marker\":{\"color\":\"#00cc96\",\"pattern\":{\"shape\":\"\"}},\"name\":\"\\ud83d\\ude39\",\"nbinsx\":3,\"offsetgroup\":\"\\ud83d\\ude39\",\"orientation\":\"v\",\"showlegend\":true,\"x\":[26.9,26.9,26.9,26.2,26.9,26.9,26.9,26.9,26.9,8.7,25.3,26.3,26.3,26.3,26.3,26.3,26.3,26.3,26.3,26.3,26.3,24.8,27.8,19.3,19.3,19.3,19.3,14.6,14.6,14.6,14.6,14.6,21.3,20.9,19.4,19.4,19.4,19.4,19.4,19.4,19.4,19.4,19.4,19.4,19.4,19.4,19.4,19.4,19.4,19.4,19.4,19.4,19.4,19.4,19.4,19.4,19.4,19.4,19.4,19.4,19.4,19.4,19.4,20.8,20.8,20.8,20.8,20.8,19.1,19.1,19.1,19.1,19.1,19.1,19.1,19.1,19.1,19.1,19.1,19.1,19.1,19.1,16.4,16.4,16.4,10.3,10.3,10.3,11.5,11.5,11.5,11.5,11.5,11.5,22.9,16.9,20.6,25.5,25.5,12.5,12.5,12.5,12.5,12.5,12.7,12.7,10.4,11.3,8.7,8.7,8.7,8.7,8.7,8.7,8.9,8.9,8.9,8.9,8.9,8.9,8.9,8.9,8.9,8.9,8.9,8.9,8.9,8.9,8.9,8.9,8.9,8.9,6.2,6.2,6.2,6.2,6.2,6.2,6.2,9.5,6.9,6.9,6.7,8.9,11.7,11.7,11.7,11.7,11.7,11.7,11.7,11.7,11.7,10.0,10.0,10.0,10.0,10.0,10.0,10.0,10.0,10.0,9.0,9.0,9.0,9.0,9.0,9.0,9.0,9.0,9.0,5.0,9.5,9.5,9.5,9.5,9.5,9.5,9.5,9.5,12.1,12.1,9.8,9.8,9.8,9.8,13.6,13.6,13.6,13.6,13.6,15.3,15.3,15.3,15.3,15.3,15.3,15.3,15.3,13.1,14.0,16.5,10.9,10.9,10.9,10.9,10.9,10.9,10.9,10.9,10.9,10.9,10.9,10.9,10.9,10.9,10.9,10.9,10.9,10.9,10.9,10.9,10.9,10.9,10.9,10.9,10.9,10.9,10.9,10.9,14.7,14.7,14.7,14.7,14.7,14.7,14.7,16.1,16.1,15.5,15.5,15.5,15.5,15.5,15.5,14.4,14.4,14.4,14.4,14.4,14.4,14.4,16.4],\"xaxis\":\"x\",\"yaxis\":\"y\",\"type\":\"histogram\",\"text\":[5.0,1.0,1.0,1.0,3.0,2.0,3.0,1.0,3.0,5.0,1.0,2.0,2.0,9.0,5.0,1.0,2.0,2.0,22.0,2.0,5.0,14.0,4.0,2.0,6.0,1.0,4.0,2.0,2.0,15.0,12.0,8.0,15.0,11.0,14.0,22.0,17.0,3.0,10.0,11.0,1.0,10.0,11.0,14.0,6.0,27.0,4.0,5.0,9.0,8.0,2.0,1.0,4.0,8.0,17.0,3.0,1.0,11.0,4.0,8.0,2.0,5.0,9.0,15.0,3.0,3.0,1.0,2.0,2.0,1.0,1.0,2.0,8.0,6.0,1.0,5.0,1.0,10.0,10.0,2.0,10.0,1.0,4.0,4.0,1.0,5.0,4.0,1.0,15.0,1.0,4.0,4.0,1.0,12.0,1.0,1.0,2.0,3.0,10.0,2.0,1.0,9.0,1.0,18.0,3.0,3.0,10.0,5.0,8.0,4.0,6.0,1.0,1.0,7.0,6.0,4.0,6.0,12.0,4.0,5.0,5.0,5.0,5.0,4.0,7.0,2.0,2.0,6.0,3.0,3.0,8.0,5.0,1.0,1.0,2.0,12.0,1.0,6.0,2.0,8.0,1.0,2.0,10.0,16.0,10.0,5.0,2.0,8.0,1.0,4.0,5.0,5.0,1.0,6.0,11.0,18.0,15.0,11.0,12.0,5.0,1.0,7.0,15.0,2.0,3.0,6.0,2.0,13.0,19.0,2.0,5.0,6.0,2.0,1.0,11.0,3.0,4.0,3.0,6.0,17.0,14.0,1.0,1.0,1.0,6.0,4.0,1.0,8.0,5.0,4.0,3.0,1.0,1.0,1.0,2.0,1.0,10.0,1.0,1.0,5.0,1.0,3.0,1.0,2.0,5.0,13.0,1.0,23.0,7.0,13.0,19.0,9.0,2.0,2.0,1.0,13.0,13.0,3.0,1.0,5.0,6.0,3.0,4.0,5.0,1.0,1.0,7.0,1.0,2.0,7.0,19.0,9.0,9.0,4.0,9.0,3.0,1.0,28.0,1.0,6.0,9.0,2.0,5.0,2.0,1.0,5.0,1.0,7.0,5.0,7.0,8.0,6.0,2.0,4.0,1.0,1.0,14.0,4.0,29.0,1.0,5.0,1.0,1.0,1.0,1.0,1.0,2.0,1.0,10.0,8.0,1.0],\"texttemplate\":\"%{y}\"}],                        {\"template\":{\"data\":{\"histogram2dcontour\":[{\"type\":\"histogram2dcontour\",\"colorbar\":{\"outlinewidth\":0,\"ticks\":\"\"},\"colorscale\":[[0.0,\"#0d0887\"],[0.1111111111111111,\"#46039f\"],[0.2222222222222222,\"#7201a8\"],[0.3333333333333333,\"#9c179e\"],[0.4444444444444444,\"#bd3786\"],[0.5555555555555556,\"#d8576b\"],[0.6666666666666666,\"#ed7953\"],[0.7777777777777778,\"#fb9f3a\"],[0.8888888888888888,\"#fdca26\"],[1.0,\"#f0f921\"]]}],\"choropleth\":[{\"type\":\"choropleth\",\"colorbar\":{\"outlinewidth\":0,\"ticks\":\"\"}}],\"histogram2d\":[{\"type\":\"histogram2d\",\"colorbar\":{\"outlinewidth\":0,\"ticks\":\"\"},\"colorscale\":[[0.0,\"#0d0887\"],[0.1111111111111111,\"#46039f\"],[0.2222222222222222,\"#7201a8\"],[0.3333333333333333,\"#9c179e\"],[0.4444444444444444,\"#bd3786\"],[0.5555555555555556,\"#d8576b\"],[0.6666666666666666,\"#ed7953\"],[0.7777777777777778,\"#fb9f3a\"],[0.8888888888888888,\"#fdca26\"],[1.0,\"#f0f921\"]]}],\"heatmap\":[{\"type\":\"heatmap\",\"colorbar\":{\"outlinewidth\":0,\"ticks\":\"\"},\"colorscale\":[[0.0,\"#0d0887\"],[0.1111111111111111,\"#46039f\"],[0.2222222222222222,\"#7201a8\"],[0.3333333333333333,\"#9c179e\"],[0.4444444444444444,\"#bd3786\"],[0.5555555555555556,\"#d8576b\"],[0.6666666666666666,\"#ed7953\"],[0.7777777777777778,\"#fb9f3a\"],[0.8888888888888888,\"#fdca26\"],[1.0,\"#f0f921\"]]}],\"heatmapgl\":[{\"type\":\"heatmapgl\",\"colorbar\":{\"outlinewidth\":0,\"ticks\":\"\"},\"colorscale\":[[0.0,\"#0d0887\"],[0.1111111111111111,\"#46039f\"],[0.2222222222222222,\"#7201a8\"],[0.3333333333333333,\"#9c179e\"],[0.4444444444444444,\"#bd3786\"],[0.5555555555555556,\"#d8576b\"],[0.6666666666666666,\"#ed7953\"],[0.7777777777777778,\"#fb9f3a\"],[0.8888888888888888,\"#fdca26\"],[1.0,\"#f0f921\"]]}],\"contourcarpet\":[{\"type\":\"contourcarpet\",\"colorbar\":{\"outlinewidth\":0,\"ticks\":\"\"}}],\"contour\":[{\"type\":\"contour\",\"colorbar\":{\"outlinewidth\":0,\"ticks\":\"\"},\"colorscale\":[[0.0,\"#0d0887\"],[0.1111111111111111,\"#46039f\"],[0.2222222222222222,\"#7201a8\"],[0.3333333333333333,\"#9c179e\"],[0.4444444444444444,\"#bd3786\"],[0.5555555555555556,\"#d8576b\"],[0.6666666666666666,\"#ed7953\"],[0.7777777777777778,\"#fb9f3a\"],[0.8888888888888888,\"#fdca26\"],[1.0,\"#f0f921\"]]}],\"surface\":[{\"type\":\"surface\",\"colorbar\":{\"outlinewidth\":0,\"ticks\":\"\"},\"colorscale\":[[0.0,\"#0d0887\"],[0.1111111111111111,\"#46039f\"],[0.2222222222222222,\"#7201a8\"],[0.3333333333333333,\"#9c179e\"],[0.4444444444444444,\"#bd3786\"],[0.5555555555555556,\"#d8576b\"],[0.6666666666666666,\"#ed7953\"],[0.7777777777777778,\"#fb9f3a\"],[0.8888888888888888,\"#fdca26\"],[1.0,\"#f0f921\"]]}],\"mesh3d\":[{\"type\":\"mesh3d\",\"colorbar\":{\"outlinewidth\":0,\"ticks\":\"\"}}],\"scatter\":[{\"fillpattern\":{\"fillmode\":\"overlay\",\"size\":10,\"solidity\":0.2},\"type\":\"scatter\"}],\"parcoords\":[{\"type\":\"parcoords\",\"line\":{\"colorbar\":{\"outlinewidth\":0,\"ticks\":\"\"}}}],\"scatterpolargl\":[{\"type\":\"scatterpolargl\",\"marker\":{\"colorbar\":{\"outlinewidth\":0,\"ticks\":\"\"}}}],\"bar\":[{\"error_x\":{\"color\":\"#2a3f5f\"},\"error_y\":{\"color\":\"#2a3f5f\"},\"marker\":{\"line\":{\"color\":\"#E5ECF6\",\"width\":0.5},\"pattern\":{\"fillmode\":\"overlay\",\"size\":10,\"solidity\":0.2}},\"type\":\"bar\"}],\"scattergeo\":[{\"type\":\"scattergeo\",\"marker\":{\"colorbar\":{\"outlinewidth\":0,\"ticks\":\"\"}}}],\"scatterpolar\":[{\"type\":\"scatterpolar\",\"marker\":{\"colorbar\":{\"outlinewidth\":0,\"ticks\":\"\"}}}],\"histogram\":[{\"marker\":{\"pattern\":{\"fillmode\":\"overlay\",\"size\":10,\"solidity\":0.2}},\"type\":\"histogram\"}],\"scattergl\":[{\"type\":\"scattergl\",\"marker\":{\"colorbar\":{\"outlinewidth\":0,\"ticks\":\"\"}}}],\"scatter3d\":[{\"type\":\"scatter3d\",\"line\":{\"colorbar\":{\"outlinewidth\":0,\"ticks\":\"\"}},\"marker\":{\"colorbar\":{\"outlinewidth\":0,\"ticks\":\"\"}}}],\"scattermapbox\":[{\"type\":\"scattermapbox\",\"marker\":{\"colorbar\":{\"outlinewidth\":0,\"ticks\":\"\"}}}],\"scatterternary\":[{\"type\":\"scatterternary\",\"marker\":{\"colorbar\":{\"outlinewidth\":0,\"ticks\":\"\"}}}],\"scattercarpet\":[{\"type\":\"scattercarpet\",\"marker\":{\"colorbar\":{\"outlinewidth\":0,\"ticks\":\"\"}}}],\"carpet\":[{\"aaxis\":{\"endlinecolor\":\"#2a3f5f\",\"gridcolor\":\"white\",\"linecolor\":\"white\",\"minorgridcolor\":\"white\",\"startlinecolor\":\"#2a3f5f\"},\"baxis\":{\"endlinecolor\":\"#2a3f5f\",\"gridcolor\":\"white\",\"linecolor\":\"white\",\"minorgridcolor\":\"white\",\"startlinecolor\":\"#2a3f5f\"},\"type\":\"carpet\"}],\"table\":[{\"cells\":{\"fill\":{\"color\":\"#EBF0F8\"},\"line\":{\"color\":\"white\"}},\"header\":{\"fill\":{\"color\":\"#C8D4E3\"},\"line\":{\"color\":\"white\"}},\"type\":\"table\"}],\"barpolar\":[{\"marker\":{\"line\":{\"color\":\"#E5ECF6\",\"width\":0.5},\"pattern\":{\"fillmode\":\"overlay\",\"size\":10,\"solidity\":0.2}},\"type\":\"barpolar\"}],\"pie\":[{\"automargin\":true,\"type\":\"pie\"}]},\"layout\":{\"autotypenumbers\":\"strict\",\"colorway\":[\"#636efa\",\"#EF553B\",\"#00cc96\",\"#ab63fa\",\"#FFA15A\",\"#19d3f3\",\"#FF6692\",\"#B6E880\",\"#FF97FF\",\"#FECB52\"],\"font\":{\"color\":\"#2a3f5f\"},\"hovermode\":\"closest\",\"hoverlabel\":{\"align\":\"left\"},\"paper_bgcolor\":\"white\",\"plot_bgcolor\":\"#E5ECF6\",\"polar\":{\"bgcolor\":\"#E5ECF6\",\"angularaxis\":{\"gridcolor\":\"white\",\"linecolor\":\"white\",\"ticks\":\"\"},\"radialaxis\":{\"gridcolor\":\"white\",\"linecolor\":\"white\",\"ticks\":\"\"}},\"ternary\":{\"bgcolor\":\"#E5ECF6\",\"aaxis\":{\"gridcolor\":\"white\",\"linecolor\":\"white\",\"ticks\":\"\"},\"baxis\":{\"gridcolor\":\"white\",\"linecolor\":\"white\",\"ticks\":\"\"},\"caxis\":{\"gridcolor\":\"white\",\"linecolor\":\"white\",\"ticks\":\"\"}},\"coloraxis\":{\"colorbar\":{\"outlinewidth\":0,\"ticks\":\"\"}},\"colorscale\":{\"sequential\":[[0.0,\"#0d0887\"],[0.1111111111111111,\"#46039f\"],[0.2222222222222222,\"#7201a8\"],[0.3333333333333333,\"#9c179e\"],[0.4444444444444444,\"#bd3786\"],[0.5555555555555556,\"#d8576b\"],[0.6666666666666666,\"#ed7953\"],[0.7777777777777778,\"#fb9f3a\"],[0.8888888888888888,\"#fdca26\"],[1.0,\"#f0f921\"]],\"sequentialminus\":[[0.0,\"#0d0887\"],[0.1111111111111111,\"#46039f\"],[0.2222222222222222,\"#7201a8\"],[0.3333333333333333,\"#9c179e\"],[0.4444444444444444,\"#bd3786\"],[0.5555555555555556,\"#d8576b\"],[0.6666666666666666,\"#ed7953\"],[0.7777777777777778,\"#fb9f3a\"],[0.8888888888888888,\"#fdca26\"],[1.0,\"#f0f921\"]],\"diverging\":[[0,\"#8e0152\"],[0.1,\"#c51b7d\"],[0.2,\"#de77ae\"],[0.3,\"#f1b6da\"],[0.4,\"#fde0ef\"],[0.5,\"#f7f7f7\"],[0.6,\"#e6f5d0\"],[0.7,\"#b8e186\"],[0.8,\"#7fbc41\"],[0.9,\"#4d9221\"],[1,\"#276419\"]]},\"xaxis\":{\"gridcolor\":\"white\",\"linecolor\":\"white\",\"ticks\":\"\",\"title\":{\"standoff\":15},\"zerolinecolor\":\"white\",\"automargin\":true,\"zerolinewidth\":2},\"yaxis\":{\"gridcolor\":\"white\",\"linecolor\":\"white\",\"ticks\":\"\",\"title\":{\"standoff\":15},\"zerolinecolor\":\"white\",\"automargin\":true,\"zerolinewidth\":2},\"scene\":{\"xaxis\":{\"backgroundcolor\":\"#E5ECF6\",\"gridcolor\":\"white\",\"linecolor\":\"white\",\"showbackground\":true,\"ticks\":\"\",\"zerolinecolor\":\"white\",\"gridwidth\":2},\"yaxis\":{\"backgroundcolor\":\"#E5ECF6\",\"gridcolor\":\"white\",\"linecolor\":\"white\",\"showbackground\":true,\"ticks\":\"\",\"zerolinecolor\":\"white\",\"gridwidth\":2},\"zaxis\":{\"backgroundcolor\":\"#E5ECF6\",\"gridcolor\":\"white\",\"linecolor\":\"white\",\"showbackground\":true,\"ticks\":\"\",\"zerolinecolor\":\"white\",\"gridwidth\":2}},\"shapedefaults\":{\"line\":{\"color\":\"#2a3f5f\"}},\"annotationdefaults\":{\"arrowcolor\":\"#2a3f5f\",\"arrowhead\":0,\"arrowwidth\":1},\"geo\":{\"bgcolor\":\"white\",\"landcolor\":\"#E5ECF6\",\"subunitcolor\":\"white\",\"showland\":true,\"showlakes\":true,\"lakecolor\":\"white\"},\"title\":{\"x\":0.05},\"mapbox\":{\"style\":\"light\"}}},\"xaxis\":{\"anchor\":\"y\",\"domain\":[0.0,1.0],\"title\":{\"text\":\"Mean temperature\"}},\"yaxis\":{\"anchor\":\"x\",\"domain\":[0.0,1.0],\"title\":{\"text\":\"Number of Emojis\"}},\"legend\":{\"title\":{\"text\":\"Emojis\"},\"tracegroupgap\":0},\"margin\":{\"t\":60},\"barmode\":\"relative\",\"title\":{\"text\":\"Top 5 emojis sent by temperature\"},\"bargap\":0.1},                        {\"responsive\": true}                    ).then(function(){\n",
       "                            \n",
       "var gd = document.getElementById('333afb79-4c8a-435d-9776-ff3e20ab7a7b');\n",
       "var x = new MutationObserver(function (mutations, observer) {{\n",
       "        var display = window.getComputedStyle(gd).display;\n",
       "        if (!display || display === 'none') {{\n",
       "            console.log([gd, 'removed!']);\n",
       "            Plotly.purge(gd);\n",
       "            observer.disconnect();\n",
       "        }}\n",
       "}});\n",
       "\n",
       "// Listen for the removal of the full notebook cells\n",
       "var notebookContainer = gd.closest('#notebook-container');\n",
       "if (notebookContainer) {{\n",
       "    x.observe(notebookContainer, {childList: true});\n",
       "}}\n",
       "\n",
       "// Listen for the clearing of the current output cell\n",
       "var outputEl = gd.closest('.output');\n",
       "if (outputEl) {{\n",
       "    x.observe(outputEl, {childList: true});\n",
       "}}\n",
       "\n",
       "                        })                };                });            </script>        </div>"
      ]
     },
     "metadata": {},
     "output_type": "display_data"
    }
   ],
   "source": [
    "# group by temperature and count the number of emojis\n",
    "temp_counts = df.groupby('Temp_mean')['Emojis'].count()\n",
    "\n",
    "# get the top 5 emojis by count\n",
    "top_emojis = df.groupby('Emojis')['Temp_mean'].count().sort_values(ascending=False).head(3).index\n",
    "\n",
    "# filter the DataFrame to include only the top 5 emojis\n",
    "df_top_emojis = df[df['Emojis'].isin(top_emojis)]\n",
    "\n",
    "# create histogram with Plotly Express\n",
    "fig = px.histogram(df_top_emojis, x=\"Temp_mean\", color=\"Emojis\", nbins=3)\n",
    "\n",
    "# customize the layout\n",
    "fig.update_layout(\n",
    "    title='Top 5 emojis sent by temperature',\n",
    "    xaxis_title='Mean temperature',\n",
    "    yaxis_title='Number of Emojis',\n",
    "    bargap=0.1\n",
    ")\n",
    "\n",
    "fig.update_traces(\n",
    "    texttemplate='%{y}', # establece el formato del texto\n",
    "    text=df_top_emojis.groupby(['Emojis', 'Temp_mean']).size().reset_index(name='Count')['Count'] # utiliza el DataFrame df_top_emojis para obtener los valores de conteo de cada emoji\n",
    ")\n",
    "\n",
    "# show the figure\n",
    "fig.show()\n"
   ]
  },
  {
   "cell_type": "code",
   "execution_count": 31,
   "id": "fa7c91a3",
   "metadata": {},
   "outputs": [
    {
     "data": {
      "application/vnd.plotly.v1+json": {
       "config": {
        "plotlyServerURL": "https://plot.ly"
       },
       "data": [
        {
         "marker": {
          "color": [
           5.1,
           5.3,
           7.300000000000001,
           6.400000000000001,
           4.9,
           7,
           7.8,
           9.2,
           9.7,
           9.5,
           12,
           10.8,
           12.4,
           11.3,
           9.9,
           10.3,
           13,
           14.3,
           12.9,
           13.1,
           13.699999999999998,
           12.2,
           10.2,
           11.3,
           11.5,
           11.5,
           11.6,
           9.6,
           11.699999999999998,
           11,
           10.9,
           10.5,
           12.8,
           12.3,
           11.7,
           10.800000000000002,
           11.800000000000002,
           11.9,
           11,
           9.4,
           11.6,
           12,
           13.1,
           12.9,
           13.3,
           13.8,
           15.1,
           15.6,
           10.800000000000002,
           12.2,
           13.2,
           12.3,
           12,
           12.9,
           12.7,
           11.3,
           9.7,
           12.5,
           12.8,
           13,
           13.1,
           15.300000000000002,
           15.300000000000002,
           13.4,
           14.3,
           14.7,
           16.8,
           17.9,
           16.9,
           15.6,
           20.4,
           21.1,
           20.6,
           21.9,
           22.5,
           23.2,
           23.5,
           25.600000000000005,
           26,
           26.2,
           23.9,
           23.4,
           23.6,
           23.8,
           22.3,
           20.7,
           23.1,
           23.3,
           23,
           24.2,
           24.4,
           24.8,
           24.8,
           24.1,
           23.4,
           23.7,
           22.5,
           23.1,
           23.6,
           24.1,
           24.8,
           26.2,
           25.7,
           26.2,
           25.3,
           24.600000000000005,
           24.7,
           24.6,
           25.2,
           25.6,
           24.8,
           22.5,
           24.6,
           24.8,
           25.7,
           24.3,
           24.3,
           25.3,
           28.5,
           26.3,
           24.5,
           24,
           24.7,
           25.2,
           25.1,
           24.2,
           23.9,
           25.7,
           23.399999999999995,
           22.4,
           23.6,
           23.9,
           23.8,
           25.2,
           23.8,
           23.6,
           24.8,
           25.7,
           25.9,
           24.1,
           23.2,
           21.9,
           21.3,
           20.199999999999996,
           19.3,
           21,
           21.3,
           21.9,
           23,
           21.2,
           20.6,
           21.4,
           23,
           18.9,
           18.6,
           18.6,
           18.6,
           17.7,
           18.1,
           18.1,
           17.1,
           18.1,
           18.6,
           19.1,
           20,
           18.3,
           17.1,
           16.5,
           17.2,
           16.2,
           15.8,
           16.8,
           19.1,
           15.2,
           11.6,
           12.1,
           12.800000000000002,
           13.9,
           15.3,
           13.9,
           12.5,
           11.9,
           12.9,
           12.2,
           11.9,
           13.599999999999998,
           12.7,
           12.4,
           12.1,
           10.900000000000002,
           9.4,
           8.9,
           9.8,
           9.4,
           8.7,
           11.1,
           10,
           8.7,
           12.7,
           10.6,
           10.1,
           9.1,
           9.3,
           8.9,
           7.2,
           8.6,
           9.8,
           12.1,
           12.1,
           11.8,
           14.2,
           15,
           14.4,
           13.1,
           11.9,
           11.199999999999998,
           11.2,
           11.3,
           12.4,
           10.8,
           8.7,
           10.9,
           10.3,
           10.5,
           7.3999999999999995,
           6.900000000000001,
           7.3,
           7.3,
           7.9,
           8.2,
           8.4,
           8.7,
           9.3,
           9.8,
           10.2,
           10.2,
           10.7,
           12.9,
           13.3,
           13.199999999999998,
           11.5,
           11.3,
           11.9,
           11.4,
           12.1,
           11.3,
           11.9,
           12.199999999999998,
           10.5,
           10.8,
           11.5,
           11.9,
           12.9,
           14.300000000000002,
           14.5,
           14.1,
           12.800000000000002,
           12.800000000000002,
           11.8,
           11.300000000000002,
           11.8,
           13.3,
           13.1,
           12.7,
           13,
           12.5,
           7,
           14.7,
           14.1,
           16.6,
           17.9,
           16.6,
           15.5,
           14.6,
           14.1,
           13.3,
           14.4,
           15.3,
           15.7,
           15.7,
           17.1,
           17.6,
           16.9,
           16.1,
           18.3,
           17.8,
           20.8,
           22.3,
           22.2,
           22.9,
           23.8,
           20.3,
           21.6,
           22.7,
           22.6,
           22.9,
           22.2,
           22.9,
           25.2,
           26.7,
           27.7,
           25.3,
           25.3,
           24.5,
           24.5,
           23.899999999999995,
           24.2,
           24.6,
           23.6,
           25.5,
           26.3,
           25.2,
           25.8,
           28.4,
           28.1,
           27.9,
           26.9,
           26.2,
           26.4,
           26.9,
           28,
           28.5,
           28.7,
           28.3,
           27.6,
           28.1,
           27.8,
           25.3,
           23.9,
           25.4,
           26,
           26.300000000000004,
           25.5,
           24.8,
           25,
           26.4,
           24,
           25.5,
           26,
           21.8,
           21.2,
           21.3,
           20.9,
           19.4,
           18.9,
           20.8,
           19.1,
           16.4,
           20.5,
           19.5,
           19.3,
           19.7,
           20.2,
           20.6,
           20.6,
           19.3,
           18.3,
           15.199999999999998,
           16.8,
           16.9,
           12.7,
           12,
           10.5,
           10.699999999999998,
           10,
           11.8,
           14.6,
           12.5,
           13.7,
           12,
           12.7,
           13,
           14.8,
           12.9,
           12.7,
           10.699999999999998,
           13.1,
           12.1,
           10.4,
           9.8,
           11.3,
           8.7,
           8.9,
           6.2,
           5.8,
           9.5,
           6.900000000000001,
           6.7,
           6.2,
           8,
           10.9,
           8,
           8.6,
           8.9,
           10.3,
           11.2,
           11.7,
           11.7,
           11.8,
           10,
           9,
           5,
           9.5,
           9.8,
           15.3,
           12.6,
           13.1,
           13.1,
           14.4,
           16,
           14,
           14.5,
           16.5,
           13.8,
           13.6,
           12.7,
           14.700000000000001,
           16.1,
           15.5,
           14.399999999999999,
           16.4
          ],
          "colorbar": {
           "title": {
            "text": "Temperatura media"
           }
          },
          "colorscale": [
           [
            0,
            "#000004"
           ],
           [
            0.1111111111111111,
            "#180f3d"
           ],
           [
            0.2222222222222222,
            "#440f76"
           ],
           [
            0.3333333333333333,
            "#721f81"
           ],
           [
            0.4444444444444444,
            "#9e2f7f"
           ],
           [
            0.5555555555555556,
            "#cd4071"
           ],
           [
            0.6666666666666666,
            "#f1605d"
           ],
           [
            0.7777777777777778,
            "#fd9668"
           ],
           [
            0.8888888888888888,
            "#feca8d"
           ],
           [
            1,
            "#fcfdbf"
           ]
          ],
          "size": 8
         },
         "mode": "markers",
         "type": "scatter",
         "x": [
          5.1,
          5.3,
          7.300000000000001,
          6.400000000000001,
          4.9,
          7,
          7.8,
          9.2,
          9.7,
          9.5,
          12,
          10.8,
          12.4,
          11.3,
          9.9,
          10.3,
          13,
          14.3,
          12.9,
          13.1,
          13.699999999999998,
          12.2,
          10.2,
          11.3,
          11.5,
          11.5,
          11.6,
          9.6,
          11.699999999999998,
          11,
          10.9,
          10.5,
          12.8,
          12.3,
          11.7,
          10.800000000000002,
          11.800000000000002,
          11.9,
          11,
          9.4,
          11.6,
          12,
          13.1,
          12.9,
          13.3,
          13.8,
          15.1,
          15.6,
          10.800000000000002,
          12.2,
          13.2,
          12.3,
          12,
          12.9,
          12.7,
          11.3,
          9.7,
          12.5,
          12.8,
          13,
          13.1,
          15.300000000000002,
          15.300000000000002,
          13.4,
          14.3,
          14.7,
          16.8,
          17.9,
          16.9,
          15.6,
          20.4,
          21.1,
          20.6,
          21.9,
          22.5,
          23.2,
          23.5,
          25.600000000000005,
          26,
          26.2,
          23.9,
          23.4,
          23.6,
          23.8,
          22.3,
          20.7,
          23.1,
          23.3,
          23,
          24.2,
          24.4,
          24.8,
          24.8,
          24.1,
          23.4,
          23.7,
          22.5,
          23.1,
          23.6,
          24.1,
          24.8,
          26.2,
          25.7,
          26.2,
          25.3,
          24.600000000000005,
          24.7,
          24.6,
          25.2,
          25.6,
          24.8,
          22.5,
          24.6,
          24.8,
          25.7,
          24.3,
          24.3,
          25.3,
          28.5,
          26.3,
          24.5,
          24,
          24.7,
          25.2,
          25.1,
          24.2,
          23.9,
          25.7,
          23.399999999999995,
          22.4,
          23.6,
          23.9,
          23.8,
          25.2,
          23.8,
          23.6,
          24.8,
          25.7,
          25.9,
          24.1,
          23.2,
          21.9,
          21.3,
          20.199999999999996,
          19.3,
          21,
          21.3,
          21.9,
          23,
          21.2,
          20.6,
          21.4,
          23,
          18.9,
          18.6,
          18.6,
          18.6,
          17.7,
          18.1,
          18.1,
          17.1,
          18.1,
          18.6,
          19.1,
          20,
          18.3,
          17.1,
          16.5,
          17.2,
          16.2,
          15.8,
          16.8,
          19.1,
          15.2,
          11.6,
          12.1,
          12.800000000000002,
          13.9,
          15.3,
          13.9,
          12.5,
          11.9,
          12.9,
          12.2,
          11.9,
          13.599999999999998,
          12.7,
          12.4,
          12.1,
          10.900000000000002,
          9.4,
          8.9,
          9.8,
          9.4,
          8.7,
          11.1,
          10,
          8.7,
          12.7,
          10.6,
          10.1,
          9.1,
          9.3,
          8.9,
          7.2,
          8.6,
          9.8,
          12.1,
          12.1,
          11.8,
          14.2,
          15,
          14.4,
          13.1,
          11.9,
          11.199999999999998,
          11.2,
          11.3,
          12.4,
          10.8,
          8.7,
          10.9,
          10.3,
          10.5,
          7.3999999999999995,
          6.900000000000001,
          7.3,
          7.3,
          7.9,
          8.2,
          8.4,
          8.7,
          9.3,
          9.8,
          10.2,
          10.2,
          10.7,
          12.9,
          13.3,
          13.199999999999998,
          11.5,
          11.3,
          11.9,
          11.4,
          12.1,
          11.3,
          11.9,
          12.199999999999998,
          10.5,
          10.8,
          11.5,
          11.9,
          12.9,
          14.300000000000002,
          14.5,
          14.1,
          12.800000000000002,
          12.800000000000002,
          11.8,
          11.300000000000002,
          11.8,
          13.3,
          13.1,
          12.7,
          13,
          12.5,
          7,
          14.7,
          14.1,
          16.6,
          17.9,
          16.6,
          15.5,
          14.6,
          14.1,
          13.3,
          14.4,
          15.3,
          15.7,
          15.7,
          17.1,
          17.6,
          16.9,
          16.1,
          18.3,
          17.8,
          20.8,
          22.3,
          22.2,
          22.9,
          23.8,
          20.3,
          21.6,
          22.7,
          22.6,
          22.9,
          22.2,
          22.9,
          25.2,
          26.7,
          27.7,
          25.3,
          25.3,
          24.5,
          24.5,
          23.899999999999995,
          24.2,
          24.6,
          23.6,
          25.5,
          26.3,
          25.2,
          25.8,
          28.4,
          28.1,
          27.9,
          26.9,
          26.2,
          26.4,
          26.9,
          28,
          28.5,
          28.7,
          28.3,
          27.6,
          28.1,
          27.8,
          25.3,
          23.9,
          25.4,
          26,
          26.300000000000004,
          25.5,
          24.8,
          25,
          26.4,
          24,
          25.5,
          26,
          21.8,
          21.2,
          21.3,
          20.9,
          19.4,
          18.9,
          20.8,
          19.1,
          16.4,
          20.5,
          19.5,
          19.3,
          19.7,
          20.2,
          20.6,
          20.6,
          19.3,
          18.3,
          15.199999999999998,
          16.8,
          16.9,
          12.7,
          12,
          10.5,
          10.699999999999998,
          10,
          11.8,
          14.6,
          12.5,
          13.7,
          12,
          12.7,
          13,
          14.8,
          12.9,
          12.7,
          10.699999999999998,
          13.1,
          12.1,
          10.4,
          9.8,
          11.3,
          8.7,
          8.9,
          6.2,
          5.8,
          9.5,
          6.900000000000001,
          6.7,
          6.2,
          8,
          10.9,
          8,
          8.6,
          8.9,
          10.3,
          11.2,
          11.7,
          11.7,
          11.8,
          10,
          9,
          5,
          9.5,
          9.8,
          15.3,
          12.6,
          13.1,
          13.1,
          14.4,
          16,
          14,
          14.5,
          16.5,
          13.8,
          13.6,
          12.7,
          14.700000000000001,
          16.1,
          15.5,
          14.399999999999999,
          16.4
         ],
         "y": [
          12,
          2,
          9,
          3,
          8,
          15,
          6,
          14,
          1,
          1,
          12,
          11,
          15,
          14,
          5,
          10,
          15,
          2,
          2,
          4,
          6,
          2,
          14,
          7,
          8,
          1,
          4,
          3,
          12,
          3,
          5,
          4,
          1,
          2,
          4,
          3,
          6,
          7,
          1,
          1,
          4,
          7,
          1,
          3,
          2,
          7,
          6,
          8,
          6,
          2,
          15,
          5,
          13,
          5,
          11,
          8,
          3,
          21,
          17,
          1,
          24,
          6,
          12,
          45,
          2,
          1,
          4,
          10,
          2,
          1,
          5,
          4,
          32,
          1,
          3,
          8,
          2,
          6,
          5,
          3,
          7,
          1,
          4,
          1,
          5,
          2,
          25,
          6,
          2,
          4,
          13,
          2,
          2,
          14,
          15,
          3,
          2,
          1,
          43,
          10,
          3,
          1,
          2,
          3,
          8,
          6,
          4,
          9,
          5,
          1,
          3,
          5,
          1,
          10,
          2,
          12,
          1,
          2,
          5,
          10,
          1,
          10,
          3,
          4,
          7,
          3,
          1,
          4,
          24,
          2,
          2,
          1,
          1,
          8,
          8,
          13,
          10,
          3,
          7,
          8,
          2,
          19,
          6,
          13,
          8,
          1,
          1,
          2,
          1,
          1,
          22,
          1,
          3,
          3,
          6,
          7,
          5,
          10,
          3,
          17,
          2,
          6,
          3,
          13,
          22,
          1,
          6,
          3,
          5,
          2,
          8,
          14,
          2,
          11,
          3,
          14,
          6,
          2,
          1,
          2,
          8,
          23,
          9,
          37,
          1,
          21,
          8,
          4,
          6,
          13,
          5,
          2,
          7,
          1,
          4,
          2,
          4,
          2,
          1,
          7,
          3,
          16,
          13,
          1,
          30,
          9,
          14,
          11,
          23,
          20,
          23,
          10,
          6,
          11,
          6,
          3,
          7,
          4,
          7,
          1,
          23,
          2,
          4,
          1,
          19,
          3,
          1,
          3,
          1,
          3,
          5,
          26,
          3,
          18,
          1,
          2,
          1,
          1,
          5,
          3,
          1,
          7,
          5,
          1,
          6,
          2,
          4,
          3,
          2,
          1,
          9,
          2,
          10,
          6,
          23,
          15,
          3,
          3,
          13,
          6,
          11,
          1,
          1,
          2,
          3,
          1,
          2,
          1,
          7,
          11,
          1,
          7,
          1,
          3,
          3,
          13,
          10,
          22,
          20,
          5,
          1,
          4,
          8,
          1,
          1,
          3,
          1,
          1,
          10,
          5,
          9,
          2,
          10,
          7,
          1,
          1,
          1,
          1,
          4,
          5,
          3,
          2,
          1,
          3,
          1,
          12,
          1,
          5,
          7,
          4,
          4,
          8,
          2,
          2,
          9,
          9,
          7,
          4,
          1,
          10,
          1,
          1,
          8,
          2,
          4,
          7,
          8,
          1,
          5,
          7,
          3,
          13,
          5,
          5,
          1,
          1,
          1,
          3,
          1,
          1,
          1,
          5,
          1,
          42,
          1,
          15,
          27,
          5,
          10,
          1,
          7,
          3,
          2,
          1,
          1,
          6,
          2,
          9,
          4,
          2,
          1,
          5,
          1,
          6,
          12,
          9,
          10,
          16,
          1,
          3,
          5,
          2,
          2,
          5,
          1,
          6,
          2,
          3,
          1,
          2,
          5,
          6,
          20,
          8,
          1,
          1,
          6,
          3,
          1,
          4,
          30,
          1,
          2,
          3,
          1,
          1,
          4,
          9,
          2,
          9,
          12,
          1,
          9,
          4,
          8,
          1,
          1,
          3,
          1,
          2,
          1,
          10,
          4,
          2,
          6,
          1,
          19,
          2,
          10,
          9,
          2
         ]
        }
       ],
       "layout": {
        "showlegend": false,
        "template": {
         "data": {
          "bar": [
           {
            "error_x": {
             "color": "#2a3f5f"
            },
            "error_y": {
             "color": "#2a3f5f"
            },
            "marker": {
             "line": {
              "color": "#E5ECF6",
              "width": 0.5
             },
             "pattern": {
              "fillmode": "overlay",
              "size": 10,
              "solidity": 0.2
             }
            },
            "type": "bar"
           }
          ],
          "barpolar": [
           {
            "marker": {
             "line": {
              "color": "#E5ECF6",
              "width": 0.5
             },
             "pattern": {
              "fillmode": "overlay",
              "size": 10,
              "solidity": 0.2
             }
            },
            "type": "barpolar"
           }
          ],
          "carpet": [
           {
            "aaxis": {
             "endlinecolor": "#2a3f5f",
             "gridcolor": "white",
             "linecolor": "white",
             "minorgridcolor": "white",
             "startlinecolor": "#2a3f5f"
            },
            "baxis": {
             "endlinecolor": "#2a3f5f",
             "gridcolor": "white",
             "linecolor": "white",
             "minorgridcolor": "white",
             "startlinecolor": "#2a3f5f"
            },
            "type": "carpet"
           }
          ],
          "choropleth": [
           {
            "colorbar": {
             "outlinewidth": 0,
             "ticks": ""
            },
            "type": "choropleth"
           }
          ],
          "contour": [
           {
            "colorbar": {
             "outlinewidth": 0,
             "ticks": ""
            },
            "colorscale": [
             [
              0,
              "#0d0887"
             ],
             [
              0.1111111111111111,
              "#46039f"
             ],
             [
              0.2222222222222222,
              "#7201a8"
             ],
             [
              0.3333333333333333,
              "#9c179e"
             ],
             [
              0.4444444444444444,
              "#bd3786"
             ],
             [
              0.5555555555555556,
              "#d8576b"
             ],
             [
              0.6666666666666666,
              "#ed7953"
             ],
             [
              0.7777777777777778,
              "#fb9f3a"
             ],
             [
              0.8888888888888888,
              "#fdca26"
             ],
             [
              1,
              "#f0f921"
             ]
            ],
            "type": "contour"
           }
          ],
          "contourcarpet": [
           {
            "colorbar": {
             "outlinewidth": 0,
             "ticks": ""
            },
            "type": "contourcarpet"
           }
          ],
          "heatmap": [
           {
            "colorbar": {
             "outlinewidth": 0,
             "ticks": ""
            },
            "colorscale": [
             [
              0,
              "#0d0887"
             ],
             [
              0.1111111111111111,
              "#46039f"
             ],
             [
              0.2222222222222222,
              "#7201a8"
             ],
             [
              0.3333333333333333,
              "#9c179e"
             ],
             [
              0.4444444444444444,
              "#bd3786"
             ],
             [
              0.5555555555555556,
              "#d8576b"
             ],
             [
              0.6666666666666666,
              "#ed7953"
             ],
             [
              0.7777777777777778,
              "#fb9f3a"
             ],
             [
              0.8888888888888888,
              "#fdca26"
             ],
             [
              1,
              "#f0f921"
             ]
            ],
            "type": "heatmap"
           }
          ],
          "heatmapgl": [
           {
            "colorbar": {
             "outlinewidth": 0,
             "ticks": ""
            },
            "colorscale": [
             [
              0,
              "#0d0887"
             ],
             [
              0.1111111111111111,
              "#46039f"
             ],
             [
              0.2222222222222222,
              "#7201a8"
             ],
             [
              0.3333333333333333,
              "#9c179e"
             ],
             [
              0.4444444444444444,
              "#bd3786"
             ],
             [
              0.5555555555555556,
              "#d8576b"
             ],
             [
              0.6666666666666666,
              "#ed7953"
             ],
             [
              0.7777777777777778,
              "#fb9f3a"
             ],
             [
              0.8888888888888888,
              "#fdca26"
             ],
             [
              1,
              "#f0f921"
             ]
            ],
            "type": "heatmapgl"
           }
          ],
          "histogram": [
           {
            "marker": {
             "pattern": {
              "fillmode": "overlay",
              "size": 10,
              "solidity": 0.2
             }
            },
            "type": "histogram"
           }
          ],
          "histogram2d": [
           {
            "colorbar": {
             "outlinewidth": 0,
             "ticks": ""
            },
            "colorscale": [
             [
              0,
              "#0d0887"
             ],
             [
              0.1111111111111111,
              "#46039f"
             ],
             [
              0.2222222222222222,
              "#7201a8"
             ],
             [
              0.3333333333333333,
              "#9c179e"
             ],
             [
              0.4444444444444444,
              "#bd3786"
             ],
             [
              0.5555555555555556,
              "#d8576b"
             ],
             [
              0.6666666666666666,
              "#ed7953"
             ],
             [
              0.7777777777777778,
              "#fb9f3a"
             ],
             [
              0.8888888888888888,
              "#fdca26"
             ],
             [
              1,
              "#f0f921"
             ]
            ],
            "type": "histogram2d"
           }
          ],
          "histogram2dcontour": [
           {
            "colorbar": {
             "outlinewidth": 0,
             "ticks": ""
            },
            "colorscale": [
             [
              0,
              "#0d0887"
             ],
             [
              0.1111111111111111,
              "#46039f"
             ],
             [
              0.2222222222222222,
              "#7201a8"
             ],
             [
              0.3333333333333333,
              "#9c179e"
             ],
             [
              0.4444444444444444,
              "#bd3786"
             ],
             [
              0.5555555555555556,
              "#d8576b"
             ],
             [
              0.6666666666666666,
              "#ed7953"
             ],
             [
              0.7777777777777778,
              "#fb9f3a"
             ],
             [
              0.8888888888888888,
              "#fdca26"
             ],
             [
              1,
              "#f0f921"
             ]
            ],
            "type": "histogram2dcontour"
           }
          ],
          "mesh3d": [
           {
            "colorbar": {
             "outlinewidth": 0,
             "ticks": ""
            },
            "type": "mesh3d"
           }
          ],
          "parcoords": [
           {
            "line": {
             "colorbar": {
              "outlinewidth": 0,
              "ticks": ""
             }
            },
            "type": "parcoords"
           }
          ],
          "pie": [
           {
            "automargin": true,
            "type": "pie"
           }
          ],
          "scatter": [
           {
            "fillpattern": {
             "fillmode": "overlay",
             "size": 10,
             "solidity": 0.2
            },
            "type": "scatter"
           }
          ],
          "scatter3d": [
           {
            "line": {
             "colorbar": {
              "outlinewidth": 0,
              "ticks": ""
             }
            },
            "marker": {
             "colorbar": {
              "outlinewidth": 0,
              "ticks": ""
             }
            },
            "type": "scatter3d"
           }
          ],
          "scattercarpet": [
           {
            "marker": {
             "colorbar": {
              "outlinewidth": 0,
              "ticks": ""
             }
            },
            "type": "scattercarpet"
           }
          ],
          "scattergeo": [
           {
            "marker": {
             "colorbar": {
              "outlinewidth": 0,
              "ticks": ""
             }
            },
            "type": "scattergeo"
           }
          ],
          "scattergl": [
           {
            "marker": {
             "colorbar": {
              "outlinewidth": 0,
              "ticks": ""
             }
            },
            "type": "scattergl"
           }
          ],
          "scattermapbox": [
           {
            "marker": {
             "colorbar": {
              "outlinewidth": 0,
              "ticks": ""
             }
            },
            "type": "scattermapbox"
           }
          ],
          "scatterpolar": [
           {
            "marker": {
             "colorbar": {
              "outlinewidth": 0,
              "ticks": ""
             }
            },
            "type": "scatterpolar"
           }
          ],
          "scatterpolargl": [
           {
            "marker": {
             "colorbar": {
              "outlinewidth": 0,
              "ticks": ""
             }
            },
            "type": "scatterpolargl"
           }
          ],
          "scatterternary": [
           {
            "marker": {
             "colorbar": {
              "outlinewidth": 0,
              "ticks": ""
             }
            },
            "type": "scatterternary"
           }
          ],
          "surface": [
           {
            "colorbar": {
             "outlinewidth": 0,
             "ticks": ""
            },
            "colorscale": [
             [
              0,
              "#0d0887"
             ],
             [
              0.1111111111111111,
              "#46039f"
             ],
             [
              0.2222222222222222,
              "#7201a8"
             ],
             [
              0.3333333333333333,
              "#9c179e"
             ],
             [
              0.4444444444444444,
              "#bd3786"
             ],
             [
              0.5555555555555556,
              "#d8576b"
             ],
             [
              0.6666666666666666,
              "#ed7953"
             ],
             [
              0.7777777777777778,
              "#fb9f3a"
             ],
             [
              0.8888888888888888,
              "#fdca26"
             ],
             [
              1,
              "#f0f921"
             ]
            ],
            "type": "surface"
           }
          ],
          "table": [
           {
            "cells": {
             "fill": {
              "color": "#EBF0F8"
             },
             "line": {
              "color": "white"
             }
            },
            "header": {
             "fill": {
              "color": "#C8D4E3"
             },
             "line": {
              "color": "white"
             }
            },
            "type": "table"
           }
          ]
         },
         "layout": {
          "annotationdefaults": {
           "arrowcolor": "#2a3f5f",
           "arrowhead": 0,
           "arrowwidth": 1
          },
          "autotypenumbers": "strict",
          "coloraxis": {
           "colorbar": {
            "outlinewidth": 0,
            "ticks": ""
           }
          },
          "colorscale": {
           "diverging": [
            [
             0,
             "#8e0152"
            ],
            [
             0.1,
             "#c51b7d"
            ],
            [
             0.2,
             "#de77ae"
            ],
            [
             0.3,
             "#f1b6da"
            ],
            [
             0.4,
             "#fde0ef"
            ],
            [
             0.5,
             "#f7f7f7"
            ],
            [
             0.6,
             "#e6f5d0"
            ],
            [
             0.7,
             "#b8e186"
            ],
            [
             0.8,
             "#7fbc41"
            ],
            [
             0.9,
             "#4d9221"
            ],
            [
             1,
             "#276419"
            ]
           ],
           "sequential": [
            [
             0,
             "#0d0887"
            ],
            [
             0.1111111111111111,
             "#46039f"
            ],
            [
             0.2222222222222222,
             "#7201a8"
            ],
            [
             0.3333333333333333,
             "#9c179e"
            ],
            [
             0.4444444444444444,
             "#bd3786"
            ],
            [
             0.5555555555555556,
             "#d8576b"
            ],
            [
             0.6666666666666666,
             "#ed7953"
            ],
            [
             0.7777777777777778,
             "#fb9f3a"
            ],
            [
             0.8888888888888888,
             "#fdca26"
            ],
            [
             1,
             "#f0f921"
            ]
           ],
           "sequentialminus": [
            [
             0,
             "#0d0887"
            ],
            [
             0.1111111111111111,
             "#46039f"
            ],
            [
             0.2222222222222222,
             "#7201a8"
            ],
            [
             0.3333333333333333,
             "#9c179e"
            ],
            [
             0.4444444444444444,
             "#bd3786"
            ],
            [
             0.5555555555555556,
             "#d8576b"
            ],
            [
             0.6666666666666666,
             "#ed7953"
            ],
            [
             0.7777777777777778,
             "#fb9f3a"
            ],
            [
             0.8888888888888888,
             "#fdca26"
            ],
            [
             1,
             "#f0f921"
            ]
           ]
          },
          "colorway": [
           "#636efa",
           "#EF553B",
           "#00cc96",
           "#ab63fa",
           "#FFA15A",
           "#19d3f3",
           "#FF6692",
           "#B6E880",
           "#FF97FF",
           "#FECB52"
          ],
          "font": {
           "color": "#2a3f5f"
          },
          "geo": {
           "bgcolor": "white",
           "lakecolor": "white",
           "landcolor": "#E5ECF6",
           "showlakes": true,
           "showland": true,
           "subunitcolor": "white"
          },
          "hoverlabel": {
           "align": "left"
          },
          "hovermode": "closest",
          "mapbox": {
           "style": "light"
          },
          "paper_bgcolor": "white",
          "plot_bgcolor": "#E5ECF6",
          "polar": {
           "angularaxis": {
            "gridcolor": "white",
            "linecolor": "white",
            "ticks": ""
           },
           "bgcolor": "#E5ECF6",
           "radialaxis": {
            "gridcolor": "white",
            "linecolor": "white",
            "ticks": ""
           }
          },
          "scene": {
           "xaxis": {
            "backgroundcolor": "#E5ECF6",
            "gridcolor": "white",
            "gridwidth": 2,
            "linecolor": "white",
            "showbackground": true,
            "ticks": "",
            "zerolinecolor": "white"
           },
           "yaxis": {
            "backgroundcolor": "#E5ECF6",
            "gridcolor": "white",
            "gridwidth": 2,
            "linecolor": "white",
            "showbackground": true,
            "ticks": "",
            "zerolinecolor": "white"
           },
           "zaxis": {
            "backgroundcolor": "#E5ECF6",
            "gridcolor": "white",
            "gridwidth": 2,
            "linecolor": "white",
            "showbackground": true,
            "ticks": "",
            "zerolinecolor": "white"
           }
          },
          "shapedefaults": {
           "line": {
            "color": "#2a3f5f"
           }
          },
          "ternary": {
           "aaxis": {
            "gridcolor": "white",
            "linecolor": "white",
            "ticks": ""
           },
           "baxis": {
            "gridcolor": "white",
            "linecolor": "white",
            "ticks": ""
           },
           "bgcolor": "#E5ECF6",
           "caxis": {
            "gridcolor": "white",
            "linecolor": "white",
            "ticks": ""
           }
          },
          "title": {
           "x": 0.05
          },
          "xaxis": {
           "automargin": true,
           "gridcolor": "white",
           "linecolor": "white",
           "ticks": "",
           "title": {
            "standoff": 15
           },
           "zerolinecolor": "white",
           "zerolinewidth": 2
          },
          "yaxis": {
           "automargin": true,
           "gridcolor": "white",
           "linecolor": "white",
           "ticks": "",
           "title": {
            "standoff": 15
           },
           "zerolinecolor": "white",
           "zerolinewidth": 2
          }
         }
        },
        "title": {
         "text": "Number of emojis sent per temperature"
        },
        "xaxis": {
         "title": {
          "text": "Mean temperature"
         }
        },
        "yaxis": {
         "title": {
          "text": "Number of emojis"
         }
        }
       }
      },
      "text/html": [
       "<div>                            <div id=\"9d5d2db3-2102-479f-9dac-ec6726381fdf\" class=\"plotly-graph-div\" style=\"height:525px; width:100%;\"></div>            <script type=\"text/javascript\">                require([\"plotly\"], function(Plotly) {                    window.PLOTLYENV=window.PLOTLYENV || {};                                    if (document.getElementById(\"9d5d2db3-2102-479f-9dac-ec6726381fdf\")) {                    Plotly.newPlot(                        \"9d5d2db3-2102-479f-9dac-ec6726381fdf\",                        [{\"marker\":{\"color\":[5.1,5.3,7.300000000000001,6.400000000000001,4.9,7.0,7.8,9.2,9.7,9.5,12.0,10.8,12.4,11.3,9.9,10.3,13.0,14.3,12.9,13.1,13.699999999999998,12.2,10.2,11.3,11.5,11.5,11.6,9.6,11.699999999999998,11.0,10.9,10.5,12.8,12.3,11.7,10.800000000000002,11.800000000000002,11.9,11.0,9.4,11.6,12.0,13.1,12.9,13.3,13.8,15.1,15.6,10.800000000000002,12.2,13.2,12.3,12.0,12.9,12.7,11.3,9.7,12.5,12.8,13.0,13.1,15.300000000000002,15.300000000000002,13.4,14.3,14.7,16.8,17.9,16.9,15.6,20.4,21.1,20.6,21.9,22.5,23.2,23.5,25.600000000000005,26.0,26.2,23.9,23.4,23.6,23.8,22.3,20.7,23.1,23.3,23.0,24.2,24.4,24.8,24.8,24.1,23.4,23.7,22.5,23.1,23.6,24.1,24.8,26.2,25.7,26.2,25.3,24.600000000000005,24.7,24.6,25.2,25.6,24.8,22.5,24.6,24.8,25.7,24.3,24.3,25.3,28.5,26.3,24.5,24.0,24.7,25.2,25.1,24.2,23.9,25.7,23.399999999999995,22.4,23.6,23.9,23.8,25.2,23.8,23.6,24.8,25.7,25.9,24.1,23.2,21.9,21.3,20.199999999999996,19.3,21.0,21.3,21.9,23.0,21.2,20.6,21.4,23.0,18.9,18.6,18.6,18.6,17.7,18.1,18.1,17.1,18.1,18.6,19.1,20.0,18.3,17.1,16.5,17.2,16.2,15.8,16.8,19.1,15.2,11.6,12.1,12.800000000000002,13.9,15.3,13.9,12.5,11.9,12.9,12.2,11.9,13.599999999999998,12.7,12.4,12.1,10.900000000000002,9.4,8.9,9.8,9.4,8.7,11.1,10.0,8.7,12.7,10.6,10.1,9.1,9.3,8.9,7.2,8.6,9.8,12.1,12.1,11.8,14.2,15.0,14.4,13.1,11.9,11.199999999999998,11.2,11.3,12.4,10.8,8.7,10.9,10.3,10.5,7.3999999999999995,6.900000000000001,7.3,7.3,7.9,8.2,8.4,8.7,9.3,9.8,10.2,10.2,10.7,12.9,13.3,13.199999999999998,11.5,11.3,11.9,11.4,12.1,11.3,11.9,12.199999999999998,10.5,10.8,11.5,11.9,12.9,14.300000000000002,14.5,14.1,12.800000000000002,12.800000000000002,11.8,11.300000000000002,11.8,13.3,13.1,12.7,13.0,12.5,7.0,14.7,14.1,16.6,17.9,16.6,15.5,14.6,14.1,13.3,14.4,15.3,15.7,15.7,17.1,17.6,16.9,16.1,18.3,17.8,20.8,22.3,22.2,22.9,23.8,20.3,21.6,22.7,22.6,22.9,22.2,22.9,25.2,26.7,27.7,25.3,25.3,24.5,24.5,23.899999999999995,24.2,24.6,23.6,25.5,26.3,25.2,25.8,28.4,28.1,27.9,26.9,26.2,26.4,26.9,28.0,28.5,28.7,28.3,27.6,28.1,27.8,25.3,23.9,25.4,26.0,26.300000000000004,25.5,24.8,25.0,26.4,24.0,25.5,26.0,21.8,21.2,21.3,20.9,19.4,18.9,20.8,19.1,16.4,20.5,19.5,19.3,19.7,20.2,20.6,20.6,19.3,18.3,15.199999999999998,16.8,16.9,12.7,12.0,10.5,10.699999999999998,10.0,11.8,14.6,12.5,13.7,12.0,12.7,13.0,14.8,12.9,12.7,10.699999999999998,13.1,12.1,10.4,9.8,11.3,8.7,8.9,6.2,5.8,9.5,6.900000000000001,6.7,6.2,8.0,10.9,8.0,8.6,8.9,10.3,11.2,11.7,11.7,11.8,10.0,9.0,5.0,9.5,9.8,15.3,12.6,13.1,13.1,14.4,16.0,14.0,14.5,16.5,13.8,13.6,12.7,14.700000000000001,16.1,15.5,14.399999999999999,16.4],\"colorbar\":{\"title\":{\"text\":\"Temperatura media\"}},\"colorscale\":[[0.0,\"#000004\"],[0.1111111111111111,\"#180f3d\"],[0.2222222222222222,\"#440f76\"],[0.3333333333333333,\"#721f81\"],[0.4444444444444444,\"#9e2f7f\"],[0.5555555555555556,\"#cd4071\"],[0.6666666666666666,\"#f1605d\"],[0.7777777777777778,\"#fd9668\"],[0.8888888888888888,\"#feca8d\"],[1.0,\"#fcfdbf\"]],\"size\":8},\"mode\":\"markers\",\"x\":[5.1,5.3,7.300000000000001,6.400000000000001,4.9,7.0,7.8,9.2,9.7,9.5,12.0,10.8,12.4,11.3,9.9,10.3,13.0,14.3,12.9,13.1,13.699999999999998,12.2,10.2,11.3,11.5,11.5,11.6,9.6,11.699999999999998,11.0,10.9,10.5,12.8,12.3,11.7,10.800000000000002,11.800000000000002,11.9,11.0,9.4,11.6,12.0,13.1,12.9,13.3,13.8,15.1,15.6,10.800000000000002,12.2,13.2,12.3,12.0,12.9,12.7,11.3,9.7,12.5,12.8,13.0,13.1,15.300000000000002,15.300000000000002,13.4,14.3,14.7,16.8,17.9,16.9,15.6,20.4,21.1,20.6,21.9,22.5,23.2,23.5,25.600000000000005,26.0,26.2,23.9,23.4,23.6,23.8,22.3,20.7,23.1,23.3,23.0,24.2,24.4,24.8,24.8,24.1,23.4,23.7,22.5,23.1,23.6,24.1,24.8,26.2,25.7,26.2,25.3,24.600000000000005,24.7,24.6,25.2,25.6,24.8,22.5,24.6,24.8,25.7,24.3,24.3,25.3,28.5,26.3,24.5,24.0,24.7,25.2,25.1,24.2,23.9,25.7,23.399999999999995,22.4,23.6,23.9,23.8,25.2,23.8,23.6,24.8,25.7,25.9,24.1,23.2,21.9,21.3,20.199999999999996,19.3,21.0,21.3,21.9,23.0,21.2,20.6,21.4,23.0,18.9,18.6,18.6,18.6,17.7,18.1,18.1,17.1,18.1,18.6,19.1,20.0,18.3,17.1,16.5,17.2,16.2,15.8,16.8,19.1,15.2,11.6,12.1,12.800000000000002,13.9,15.3,13.9,12.5,11.9,12.9,12.2,11.9,13.599999999999998,12.7,12.4,12.1,10.900000000000002,9.4,8.9,9.8,9.4,8.7,11.1,10.0,8.7,12.7,10.6,10.1,9.1,9.3,8.9,7.2,8.6,9.8,12.1,12.1,11.8,14.2,15.0,14.4,13.1,11.9,11.199999999999998,11.2,11.3,12.4,10.8,8.7,10.9,10.3,10.5,7.3999999999999995,6.900000000000001,7.3,7.3,7.9,8.2,8.4,8.7,9.3,9.8,10.2,10.2,10.7,12.9,13.3,13.199999999999998,11.5,11.3,11.9,11.4,12.1,11.3,11.9,12.199999999999998,10.5,10.8,11.5,11.9,12.9,14.300000000000002,14.5,14.1,12.800000000000002,12.800000000000002,11.8,11.300000000000002,11.8,13.3,13.1,12.7,13.0,12.5,7.0,14.7,14.1,16.6,17.9,16.6,15.5,14.6,14.1,13.3,14.4,15.3,15.7,15.7,17.1,17.6,16.9,16.1,18.3,17.8,20.8,22.3,22.2,22.9,23.8,20.3,21.6,22.7,22.6,22.9,22.2,22.9,25.2,26.7,27.7,25.3,25.3,24.5,24.5,23.899999999999995,24.2,24.6,23.6,25.5,26.3,25.2,25.8,28.4,28.1,27.9,26.9,26.2,26.4,26.9,28.0,28.5,28.7,28.3,27.6,28.1,27.8,25.3,23.9,25.4,26.0,26.300000000000004,25.5,24.8,25.0,26.4,24.0,25.5,26.0,21.8,21.2,21.3,20.9,19.4,18.9,20.8,19.1,16.4,20.5,19.5,19.3,19.7,20.2,20.6,20.6,19.3,18.3,15.199999999999998,16.8,16.9,12.7,12.0,10.5,10.699999999999998,10.0,11.8,14.6,12.5,13.7,12.0,12.7,13.0,14.8,12.9,12.7,10.699999999999998,13.1,12.1,10.4,9.8,11.3,8.7,8.9,6.2,5.8,9.5,6.900000000000001,6.7,6.2,8.0,10.9,8.0,8.6,8.9,10.3,11.2,11.7,11.7,11.8,10.0,9.0,5.0,9.5,9.8,15.3,12.6,13.1,13.1,14.4,16.0,14.0,14.5,16.5,13.8,13.6,12.7,14.700000000000001,16.1,15.5,14.399999999999999,16.4],\"y\":[12,2,9,3,8,15,6,14,1,1,12,11,15,14,5,10,15,2,2,4,6,2,14,7,8,1,4,3,12,3,5,4,1,2,4,3,6,7,1,1,4,7,1,3,2,7,6,8,6,2,15,5,13,5,11,8,3,21,17,1,24,6,12,45,2,1,4,10,2,1,5,4,32,1,3,8,2,6,5,3,7,1,4,1,5,2,25,6,2,4,13,2,2,14,15,3,2,1,43,10,3,1,2,3,8,6,4,9,5,1,3,5,1,10,2,12,1,2,5,10,1,10,3,4,7,3,1,4,24,2,2,1,1,8,8,13,10,3,7,8,2,19,6,13,8,1,1,2,1,1,22,1,3,3,6,7,5,10,3,17,2,6,3,13,22,1,6,3,5,2,8,14,2,11,3,14,6,2,1,2,8,23,9,37,1,21,8,4,6,13,5,2,7,1,4,2,4,2,1,7,3,16,13,1,30,9,14,11,23,20,23,10,6,11,6,3,7,4,7,1,23,2,4,1,19,3,1,3,1,3,5,26,3,18,1,2,1,1,5,3,1,7,5,1,6,2,4,3,2,1,9,2,10,6,23,15,3,3,13,6,11,1,1,2,3,1,2,1,7,11,1,7,1,3,3,13,10,22,20,5,1,4,8,1,1,3,1,1,10,5,9,2,10,7,1,1,1,1,4,5,3,2,1,3,1,12,1,5,7,4,4,8,2,2,9,9,7,4,1,10,1,1,8,2,4,7,8,1,5,7,3,13,5,5,1,1,1,3,1,1,1,5,1,42,1,15,27,5,10,1,7,3,2,1,1,6,2,9,4,2,1,5,1,6,12,9,10,16,1,3,5,2,2,5,1,6,2,3,1,2,5,6,20,8,1,1,6,3,1,4,30,1,2,3,1,1,4,9,2,9,12,1,9,4,8,1,1,3,1,2,1,10,4,2,6,1,19,2,10,9,2],\"type\":\"scatter\"}],                        {\"template\":{\"data\":{\"histogram2dcontour\":[{\"type\":\"histogram2dcontour\",\"colorbar\":{\"outlinewidth\":0,\"ticks\":\"\"},\"colorscale\":[[0.0,\"#0d0887\"],[0.1111111111111111,\"#46039f\"],[0.2222222222222222,\"#7201a8\"],[0.3333333333333333,\"#9c179e\"],[0.4444444444444444,\"#bd3786\"],[0.5555555555555556,\"#d8576b\"],[0.6666666666666666,\"#ed7953\"],[0.7777777777777778,\"#fb9f3a\"],[0.8888888888888888,\"#fdca26\"],[1.0,\"#f0f921\"]]}],\"choropleth\":[{\"type\":\"choropleth\",\"colorbar\":{\"outlinewidth\":0,\"ticks\":\"\"}}],\"histogram2d\":[{\"type\":\"histogram2d\",\"colorbar\":{\"outlinewidth\":0,\"ticks\":\"\"},\"colorscale\":[[0.0,\"#0d0887\"],[0.1111111111111111,\"#46039f\"],[0.2222222222222222,\"#7201a8\"],[0.3333333333333333,\"#9c179e\"],[0.4444444444444444,\"#bd3786\"],[0.5555555555555556,\"#d8576b\"],[0.6666666666666666,\"#ed7953\"],[0.7777777777777778,\"#fb9f3a\"],[0.8888888888888888,\"#fdca26\"],[1.0,\"#f0f921\"]]}],\"heatmap\":[{\"type\":\"heatmap\",\"colorbar\":{\"outlinewidth\":0,\"ticks\":\"\"},\"colorscale\":[[0.0,\"#0d0887\"],[0.1111111111111111,\"#46039f\"],[0.2222222222222222,\"#7201a8\"],[0.3333333333333333,\"#9c179e\"],[0.4444444444444444,\"#bd3786\"],[0.5555555555555556,\"#d8576b\"],[0.6666666666666666,\"#ed7953\"],[0.7777777777777778,\"#fb9f3a\"],[0.8888888888888888,\"#fdca26\"],[1.0,\"#f0f921\"]]}],\"heatmapgl\":[{\"type\":\"heatmapgl\",\"colorbar\":{\"outlinewidth\":0,\"ticks\":\"\"},\"colorscale\":[[0.0,\"#0d0887\"],[0.1111111111111111,\"#46039f\"],[0.2222222222222222,\"#7201a8\"],[0.3333333333333333,\"#9c179e\"],[0.4444444444444444,\"#bd3786\"],[0.5555555555555556,\"#d8576b\"],[0.6666666666666666,\"#ed7953\"],[0.7777777777777778,\"#fb9f3a\"],[0.8888888888888888,\"#fdca26\"],[1.0,\"#f0f921\"]]}],\"contourcarpet\":[{\"type\":\"contourcarpet\",\"colorbar\":{\"outlinewidth\":0,\"ticks\":\"\"}}],\"contour\":[{\"type\":\"contour\",\"colorbar\":{\"outlinewidth\":0,\"ticks\":\"\"},\"colorscale\":[[0.0,\"#0d0887\"],[0.1111111111111111,\"#46039f\"],[0.2222222222222222,\"#7201a8\"],[0.3333333333333333,\"#9c179e\"],[0.4444444444444444,\"#bd3786\"],[0.5555555555555556,\"#d8576b\"],[0.6666666666666666,\"#ed7953\"],[0.7777777777777778,\"#fb9f3a\"],[0.8888888888888888,\"#fdca26\"],[1.0,\"#f0f921\"]]}],\"surface\":[{\"type\":\"surface\",\"colorbar\":{\"outlinewidth\":0,\"ticks\":\"\"},\"colorscale\":[[0.0,\"#0d0887\"],[0.1111111111111111,\"#46039f\"],[0.2222222222222222,\"#7201a8\"],[0.3333333333333333,\"#9c179e\"],[0.4444444444444444,\"#bd3786\"],[0.5555555555555556,\"#d8576b\"],[0.6666666666666666,\"#ed7953\"],[0.7777777777777778,\"#fb9f3a\"],[0.8888888888888888,\"#fdca26\"],[1.0,\"#f0f921\"]]}],\"mesh3d\":[{\"type\":\"mesh3d\",\"colorbar\":{\"outlinewidth\":0,\"ticks\":\"\"}}],\"scatter\":[{\"fillpattern\":{\"fillmode\":\"overlay\",\"size\":10,\"solidity\":0.2},\"type\":\"scatter\"}],\"parcoords\":[{\"type\":\"parcoords\",\"line\":{\"colorbar\":{\"outlinewidth\":0,\"ticks\":\"\"}}}],\"scatterpolargl\":[{\"type\":\"scatterpolargl\",\"marker\":{\"colorbar\":{\"outlinewidth\":0,\"ticks\":\"\"}}}],\"bar\":[{\"error_x\":{\"color\":\"#2a3f5f\"},\"error_y\":{\"color\":\"#2a3f5f\"},\"marker\":{\"line\":{\"color\":\"#E5ECF6\",\"width\":0.5},\"pattern\":{\"fillmode\":\"overlay\",\"size\":10,\"solidity\":0.2}},\"type\":\"bar\"}],\"scattergeo\":[{\"type\":\"scattergeo\",\"marker\":{\"colorbar\":{\"outlinewidth\":0,\"ticks\":\"\"}}}],\"scatterpolar\":[{\"type\":\"scatterpolar\",\"marker\":{\"colorbar\":{\"outlinewidth\":0,\"ticks\":\"\"}}}],\"histogram\":[{\"marker\":{\"pattern\":{\"fillmode\":\"overlay\",\"size\":10,\"solidity\":0.2}},\"type\":\"histogram\"}],\"scattergl\":[{\"type\":\"scattergl\",\"marker\":{\"colorbar\":{\"outlinewidth\":0,\"ticks\":\"\"}}}],\"scatter3d\":[{\"type\":\"scatter3d\",\"line\":{\"colorbar\":{\"outlinewidth\":0,\"ticks\":\"\"}},\"marker\":{\"colorbar\":{\"outlinewidth\":0,\"ticks\":\"\"}}}],\"scattermapbox\":[{\"type\":\"scattermapbox\",\"marker\":{\"colorbar\":{\"outlinewidth\":0,\"ticks\":\"\"}}}],\"scatterternary\":[{\"type\":\"scatterternary\",\"marker\":{\"colorbar\":{\"outlinewidth\":0,\"ticks\":\"\"}}}],\"scattercarpet\":[{\"type\":\"scattercarpet\",\"marker\":{\"colorbar\":{\"outlinewidth\":0,\"ticks\":\"\"}}}],\"carpet\":[{\"aaxis\":{\"endlinecolor\":\"#2a3f5f\",\"gridcolor\":\"white\",\"linecolor\":\"white\",\"minorgridcolor\":\"white\",\"startlinecolor\":\"#2a3f5f\"},\"baxis\":{\"endlinecolor\":\"#2a3f5f\",\"gridcolor\":\"white\",\"linecolor\":\"white\",\"minorgridcolor\":\"white\",\"startlinecolor\":\"#2a3f5f\"},\"type\":\"carpet\"}],\"table\":[{\"cells\":{\"fill\":{\"color\":\"#EBF0F8\"},\"line\":{\"color\":\"white\"}},\"header\":{\"fill\":{\"color\":\"#C8D4E3\"},\"line\":{\"color\":\"white\"}},\"type\":\"table\"}],\"barpolar\":[{\"marker\":{\"line\":{\"color\":\"#E5ECF6\",\"width\":0.5},\"pattern\":{\"fillmode\":\"overlay\",\"size\":10,\"solidity\":0.2}},\"type\":\"barpolar\"}],\"pie\":[{\"automargin\":true,\"type\":\"pie\"}]},\"layout\":{\"autotypenumbers\":\"strict\",\"colorway\":[\"#636efa\",\"#EF553B\",\"#00cc96\",\"#ab63fa\",\"#FFA15A\",\"#19d3f3\",\"#FF6692\",\"#B6E880\",\"#FF97FF\",\"#FECB52\"],\"font\":{\"color\":\"#2a3f5f\"},\"hovermode\":\"closest\",\"hoverlabel\":{\"align\":\"left\"},\"paper_bgcolor\":\"white\",\"plot_bgcolor\":\"#E5ECF6\",\"polar\":{\"bgcolor\":\"#E5ECF6\",\"angularaxis\":{\"gridcolor\":\"white\",\"linecolor\":\"white\",\"ticks\":\"\"},\"radialaxis\":{\"gridcolor\":\"white\",\"linecolor\":\"white\",\"ticks\":\"\"}},\"ternary\":{\"bgcolor\":\"#E5ECF6\",\"aaxis\":{\"gridcolor\":\"white\",\"linecolor\":\"white\",\"ticks\":\"\"},\"baxis\":{\"gridcolor\":\"white\",\"linecolor\":\"white\",\"ticks\":\"\"},\"caxis\":{\"gridcolor\":\"white\",\"linecolor\":\"white\",\"ticks\":\"\"}},\"coloraxis\":{\"colorbar\":{\"outlinewidth\":0,\"ticks\":\"\"}},\"colorscale\":{\"sequential\":[[0.0,\"#0d0887\"],[0.1111111111111111,\"#46039f\"],[0.2222222222222222,\"#7201a8\"],[0.3333333333333333,\"#9c179e\"],[0.4444444444444444,\"#bd3786\"],[0.5555555555555556,\"#d8576b\"],[0.6666666666666666,\"#ed7953\"],[0.7777777777777778,\"#fb9f3a\"],[0.8888888888888888,\"#fdca26\"],[1.0,\"#f0f921\"]],\"sequentialminus\":[[0.0,\"#0d0887\"],[0.1111111111111111,\"#46039f\"],[0.2222222222222222,\"#7201a8\"],[0.3333333333333333,\"#9c179e\"],[0.4444444444444444,\"#bd3786\"],[0.5555555555555556,\"#d8576b\"],[0.6666666666666666,\"#ed7953\"],[0.7777777777777778,\"#fb9f3a\"],[0.8888888888888888,\"#fdca26\"],[1.0,\"#f0f921\"]],\"diverging\":[[0,\"#8e0152\"],[0.1,\"#c51b7d\"],[0.2,\"#de77ae\"],[0.3,\"#f1b6da\"],[0.4,\"#fde0ef\"],[0.5,\"#f7f7f7\"],[0.6,\"#e6f5d0\"],[0.7,\"#b8e186\"],[0.8,\"#7fbc41\"],[0.9,\"#4d9221\"],[1,\"#276419\"]]},\"xaxis\":{\"gridcolor\":\"white\",\"linecolor\":\"white\",\"ticks\":\"\",\"title\":{\"standoff\":15},\"zerolinecolor\":\"white\",\"automargin\":true,\"zerolinewidth\":2},\"yaxis\":{\"gridcolor\":\"white\",\"linecolor\":\"white\",\"ticks\":\"\",\"title\":{\"standoff\":15},\"zerolinecolor\":\"white\",\"automargin\":true,\"zerolinewidth\":2},\"scene\":{\"xaxis\":{\"backgroundcolor\":\"#E5ECF6\",\"gridcolor\":\"white\",\"linecolor\":\"white\",\"showbackground\":true,\"ticks\":\"\",\"zerolinecolor\":\"white\",\"gridwidth\":2},\"yaxis\":{\"backgroundcolor\":\"#E5ECF6\",\"gridcolor\":\"white\",\"linecolor\":\"white\",\"showbackground\":true,\"ticks\":\"\",\"zerolinecolor\":\"white\",\"gridwidth\":2},\"zaxis\":{\"backgroundcolor\":\"#E5ECF6\",\"gridcolor\":\"white\",\"linecolor\":\"white\",\"showbackground\":true,\"ticks\":\"\",\"zerolinecolor\":\"white\",\"gridwidth\":2}},\"shapedefaults\":{\"line\":{\"color\":\"#2a3f5f\"}},\"annotationdefaults\":{\"arrowcolor\":\"#2a3f5f\",\"arrowhead\":0,\"arrowwidth\":1},\"geo\":{\"bgcolor\":\"white\",\"landcolor\":\"#E5ECF6\",\"subunitcolor\":\"white\",\"showland\":true,\"showlakes\":true,\"lakecolor\":\"white\"},\"title\":{\"x\":0.05},\"mapbox\":{\"style\":\"light\"}}},\"title\":{\"text\":\"Number of emojis sent per temperature\"},\"xaxis\":{\"title\":{\"text\":\"Mean temperature\"}},\"yaxis\":{\"title\":{\"text\":\"Number of emojis\"}},\"showlegend\":false},                        {\"responsive\": true}                    ).then(function(){\n",
       "                            \n",
       "var gd = document.getElementById('9d5d2db3-2102-479f-9dac-ec6726381fdf');\n",
       "var x = new MutationObserver(function (mutations, observer) {{\n",
       "        var display = window.getComputedStyle(gd).display;\n",
       "        if (!display || display === 'none') {{\n",
       "            console.log([gd, 'removed!']);\n",
       "            Plotly.purge(gd);\n",
       "            observer.disconnect();\n",
       "        }}\n",
       "}});\n",
       "\n",
       "// Listen for the removal of the full notebook cells\n",
       "var notebookContainer = gd.closest('#notebook-container');\n",
       "if (notebookContainer) {{\n",
       "    x.observe(notebookContainer, {childList: true});\n",
       "}}\n",
       "\n",
       "// Listen for the clearing of the current output cell\n",
       "var outputEl = gd.closest('.output');\n",
       "if (outputEl) {{\n",
       "    x.observe(outputEl, {childList: true});\n",
       "}}\n",
       "\n",
       "                        })                };                });            </script>        </div>"
      ]
     },
     "metadata": {},
     "output_type": "display_data"
    }
   ],
   "source": [
    "import plotly.graph_objects as go\n",
    "\n",
    "# group by date and calculate the number of emojis and the average temperature\n",
    "df_temp_emojis = df.groupby('Date').agg({'Temp_mean': 'mean', 'Emojis': 'count'}).reset_index()\n",
    "\n",
    "# create a scatter plot\n",
    "fig = go.Figure(\n",
    "    go.Scatter(\n",
    "        x=df_temp_emojis['Temp_mean'],\n",
    "        y=df_temp_emojis['Emojis'],\n",
    "        mode='markers',\n",
    "        marker=dict(\n",
    "            size=8,\n",
    "            color=df_temp_emojis['Temp_mean'],\n",
    "            colorbar=dict(title='Temperatura media'),\n",
    "            colorscale='magma')\n",
    "    )\n",
    ")\n",
    "\n",
    "# customize the layout\n",
    "fig.update_layout(\n",
    "    title='Number of emojis sent per temperature',\n",
    "    xaxis_title='Mean temperature',\n",
    "    yaxis_title='Number of emojis',\n",
    "    showlegend=False\n",
    ")\n",
    "\n",
    "# show the figure\n",
    "fig.show()\n"
   ]
  },
  {
   "cell_type": "code",
   "execution_count": 11,
   "id": "5b0cee4d",
   "metadata": {},
   "outputs": [
    {
     "data": {
      "application/vnd.plotly.v1+json": {
       "config": {
        "plotlyServerURL": "https://plot.ly"
       },
       "data": [
        {
         "alignmentgroup": "True",
         "bingroup": "x",
         "histfunc": "sum",
         "hovertemplate": "Date=%{x}<br>sum of Number of emojis=%{y}<extra></extra>",
         "legendgroup": "",
         "marker": {
          "color": "#636efa",
          "pattern": {
           "shape": ""
          }
         },
         "name": "",
         "nbinsx": 30,
         "offsetgroup": "",
         "orientation": "v",
         "showlegend": false,
         "type": "histogram",
         "x": [
          "2021-01-04",
          "2021-01-07",
          "2021-01-10",
          "2021-01-11",
          "2021-01-12",
          "2021-01-14",
          "2021-01-15",
          "2021-01-17",
          "2021-01-18",
          "2021-01-20",
          "2021-01-22",
          "2021-01-23",
          "2021-01-24",
          "2021-01-25",
          "2021-01-26",
          "2021-01-27",
          "2021-01-28",
          "2021-01-29",
          "2021-01-31",
          "2021-02-02",
          "2021-02-03",
          "2021-02-04",
          "2021-02-08",
          "2021-02-09",
          "2021-02-10",
          "2021-02-12",
          "2021-02-13",
          "2021-02-15",
          "2021-02-16",
          "2021-02-17",
          "2021-02-18",
          "2021-02-19",
          "2021-03-02",
          "2021-03-03",
          "2021-03-08",
          "2021-03-09",
          "2021-03-12",
          "2021-03-15",
          "2021-03-18",
          "2021-03-21",
          "2021-03-24",
          "2021-03-25",
          "2021-03-26",
          "2021-03-28",
          "2021-03-29",
          "2021-03-31",
          "2021-04-02",
          "2021-04-03",
          "2021-04-08",
          "2021-04-10",
          "2021-04-11",
          "2021-04-12",
          "2021-04-13",
          "2021-04-14",
          "2021-04-15",
          "2021-04-16",
          "2021-04-17",
          "2021-04-19",
          "2021-04-20",
          "2021-04-21",
          "2021-04-22",
          "2021-04-25",
          "2021-04-26",
          "2021-05-02",
          "2021-05-03",
          "2021-05-04",
          "2021-05-07",
          "2021-05-08",
          "2021-05-10",
          "2021-05-11",
          "2021-06-02",
          "2021-06-04",
          "2021-06-07",
          "2021-06-08",
          "2021-06-09",
          "2021-06-10",
          "2021-06-11",
          "2021-06-13",
          "2021-06-14",
          "2021-06-15",
          "2021-06-17",
          "2021-06-18",
          "2021-06-20",
          "2021-06-21",
          "2021-06-22",
          "2021-06-23",
          "2021-06-27",
          "2021-06-28",
          "2021-06-29",
          "2021-07-02",
          "2021-07-03",
          "2021-07-04",
          "2021-07-06",
          "2021-07-07",
          "2021-07-08",
          "2021-07-09",
          "2021-07-14",
          "2021-07-15",
          "2021-07-16",
          "2021-07-17",
          "2021-07-18",
          "2021-07-19",
          "2021-07-21",
          "2021-07-23",
          "2021-07-25",
          "2021-07-26",
          "2021-07-27",
          "2021-07-28",
          "2021-07-29",
          "2021-07-30",
          "2021-07-31",
          "2021-08-02",
          "2021-08-04",
          "2021-08-06",
          "2021-08-07",
          "2021-08-08",
          "2021-08-09",
          "2021-08-10",
          "2021-08-12",
          "2021-08-16",
          "2021-08-17",
          "2021-08-18",
          "2021-08-20",
          "2021-08-22",
          "2021-08-23",
          "2021-08-24",
          "2021-08-25",
          "2021-08-27",
          "2021-08-29",
          "2021-08-30",
          "2021-09-02",
          "2021-09-03",
          "2021-09-04",
          "2021-09-08",
          "2021-09-10",
          "2021-09-11",
          "2021-09-13",
          "2021-09-14",
          "2021-09-15",
          "2021-09-16",
          "2021-09-17",
          "2021-09-18",
          "2021-09-19",
          "2021-09-20",
          "2021-09-21",
          "2021-09-22",
          "2021-09-23",
          "2021-09-24",
          "2021-09-27",
          "2021-09-29",
          "2021-09-30",
          "2021-10-02",
          "2021-10-03",
          "2021-10-06",
          "2021-10-07",
          "2021-10-08",
          "2021-10-09",
          "2021-10-11",
          "2021-10-12",
          "2021-10-13",
          "2021-10-14",
          "2021-10-15",
          "2021-10-18",
          "2021-10-19",
          "2021-10-20",
          "2021-10-21",
          "2021-10-22",
          "2021-10-25",
          "2021-10-26",
          "2021-10-27",
          "2021-10-28",
          "2021-10-29",
          "2021-10-31",
          "2021-11-02",
          "2021-11-04",
          "2021-11-06",
          "2021-11-07",
          "2021-11-09",
          "2021-11-13",
          "2021-11-14",
          "2021-11-16",
          "2021-11-17",
          "2021-11-18",
          "2021-11-19",
          "2021-11-20",
          "2021-11-21",
          "2021-11-22",
          "2021-11-23",
          "2021-11-24",
          "2021-11-25",
          "2021-11-27",
          "2021-11-29",
          "2021-11-30",
          "2021-12-01",
          "2021-12-03",
          "2021-12-04",
          "2021-12-06",
          "2021-12-09",
          "2021-12-10",
          "2021-12-11",
          "2021-12-15",
          "2021-12-16",
          "2021-12-17",
          "2021-12-19",
          "2021-12-20",
          "2021-12-21",
          "2021-12-22",
          "2021-12-23",
          "2021-12-24",
          "2021-12-26",
          "2021-12-27",
          "2021-12-28",
          "2021-12-29",
          "2021-12-30",
          "2021-12-31"
         ],
         "xaxis": "x",
         "y": [
          12,
          2,
          9,
          3,
          8,
          15,
          6,
          14,
          1,
          1,
          12,
          11,
          15,
          14,
          5,
          10,
          15,
          2,
          2,
          4,
          6,
          2,
          14,
          7,
          8,
          1,
          4,
          3,
          12,
          3,
          5,
          4,
          1,
          2,
          4,
          3,
          6,
          7,
          1,
          1,
          4,
          7,
          1,
          3,
          2,
          7,
          6,
          8,
          6,
          2,
          15,
          5,
          13,
          5,
          11,
          8,
          3,
          21,
          17,
          1,
          24,
          6,
          12,
          45,
          2,
          1,
          4,
          10,
          2,
          1,
          5,
          4,
          32,
          1,
          3,
          8,
          2,
          6,
          5,
          3,
          7,
          1,
          4,
          1,
          5,
          2,
          25,
          6,
          2,
          4,
          13,
          2,
          2,
          14,
          15,
          3,
          2,
          1,
          43,
          10,
          3,
          1,
          2,
          3,
          8,
          6,
          4,
          9,
          5,
          1,
          3,
          5,
          1,
          10,
          2,
          12,
          1,
          2,
          5,
          10,
          1,
          10,
          3,
          4,
          7,
          3,
          1,
          4,
          24,
          2,
          2,
          1,
          1,
          8,
          8,
          13,
          10,
          3,
          7,
          8,
          2,
          19,
          6,
          13,
          8,
          1,
          1,
          2,
          1,
          1,
          22,
          1,
          3,
          3,
          6,
          7,
          5,
          10,
          3,
          17,
          2,
          6,
          3,
          13,
          22,
          1,
          6,
          3,
          5,
          2,
          8,
          14,
          2,
          11,
          3,
          14,
          6,
          2,
          1,
          2,
          8,
          23,
          9,
          37,
          1,
          21,
          8,
          4,
          6,
          13,
          5,
          2,
          7,
          1,
          4,
          2,
          4,
          2,
          1,
          7,
          3,
          16,
          13,
          1,
          30,
          9,
          14,
          11,
          23,
          20,
          23,
          10,
          6,
          11,
          6
         ],
         "yaxis": "y"
        }
       ],
       "layout": {
        "barmode": "relative",
        "legend": {
         "tracegroupgap": 0
        },
        "template": {
         "data": {
          "bar": [
           {
            "error_x": {
             "color": "#2a3f5f"
            },
            "error_y": {
             "color": "#2a3f5f"
            },
            "marker": {
             "line": {
              "color": "#E5ECF6",
              "width": 0.5
             },
             "pattern": {
              "fillmode": "overlay",
              "size": 10,
              "solidity": 0.2
             }
            },
            "type": "bar"
           }
          ],
          "barpolar": [
           {
            "marker": {
             "line": {
              "color": "#E5ECF6",
              "width": 0.5
             },
             "pattern": {
              "fillmode": "overlay",
              "size": 10,
              "solidity": 0.2
             }
            },
            "type": "barpolar"
           }
          ],
          "carpet": [
           {
            "aaxis": {
             "endlinecolor": "#2a3f5f",
             "gridcolor": "white",
             "linecolor": "white",
             "minorgridcolor": "white",
             "startlinecolor": "#2a3f5f"
            },
            "baxis": {
             "endlinecolor": "#2a3f5f",
             "gridcolor": "white",
             "linecolor": "white",
             "minorgridcolor": "white",
             "startlinecolor": "#2a3f5f"
            },
            "type": "carpet"
           }
          ],
          "choropleth": [
           {
            "colorbar": {
             "outlinewidth": 0,
             "ticks": ""
            },
            "type": "choropleth"
           }
          ],
          "contour": [
           {
            "colorbar": {
             "outlinewidth": 0,
             "ticks": ""
            },
            "colorscale": [
             [
              0,
              "#0d0887"
             ],
             [
              0.1111111111111111,
              "#46039f"
             ],
             [
              0.2222222222222222,
              "#7201a8"
             ],
             [
              0.3333333333333333,
              "#9c179e"
             ],
             [
              0.4444444444444444,
              "#bd3786"
             ],
             [
              0.5555555555555556,
              "#d8576b"
             ],
             [
              0.6666666666666666,
              "#ed7953"
             ],
             [
              0.7777777777777778,
              "#fb9f3a"
             ],
             [
              0.8888888888888888,
              "#fdca26"
             ],
             [
              1,
              "#f0f921"
             ]
            ],
            "type": "contour"
           }
          ],
          "contourcarpet": [
           {
            "colorbar": {
             "outlinewidth": 0,
             "ticks": ""
            },
            "type": "contourcarpet"
           }
          ],
          "heatmap": [
           {
            "colorbar": {
             "outlinewidth": 0,
             "ticks": ""
            },
            "colorscale": [
             [
              0,
              "#0d0887"
             ],
             [
              0.1111111111111111,
              "#46039f"
             ],
             [
              0.2222222222222222,
              "#7201a8"
             ],
             [
              0.3333333333333333,
              "#9c179e"
             ],
             [
              0.4444444444444444,
              "#bd3786"
             ],
             [
              0.5555555555555556,
              "#d8576b"
             ],
             [
              0.6666666666666666,
              "#ed7953"
             ],
             [
              0.7777777777777778,
              "#fb9f3a"
             ],
             [
              0.8888888888888888,
              "#fdca26"
             ],
             [
              1,
              "#f0f921"
             ]
            ],
            "type": "heatmap"
           }
          ],
          "heatmapgl": [
           {
            "colorbar": {
             "outlinewidth": 0,
             "ticks": ""
            },
            "colorscale": [
             [
              0,
              "#0d0887"
             ],
             [
              0.1111111111111111,
              "#46039f"
             ],
             [
              0.2222222222222222,
              "#7201a8"
             ],
             [
              0.3333333333333333,
              "#9c179e"
             ],
             [
              0.4444444444444444,
              "#bd3786"
             ],
             [
              0.5555555555555556,
              "#d8576b"
             ],
             [
              0.6666666666666666,
              "#ed7953"
             ],
             [
              0.7777777777777778,
              "#fb9f3a"
             ],
             [
              0.8888888888888888,
              "#fdca26"
             ],
             [
              1,
              "#f0f921"
             ]
            ],
            "type": "heatmapgl"
           }
          ],
          "histogram": [
           {
            "marker": {
             "pattern": {
              "fillmode": "overlay",
              "size": 10,
              "solidity": 0.2
             }
            },
            "type": "histogram"
           }
          ],
          "histogram2d": [
           {
            "colorbar": {
             "outlinewidth": 0,
             "ticks": ""
            },
            "colorscale": [
             [
              0,
              "#0d0887"
             ],
             [
              0.1111111111111111,
              "#46039f"
             ],
             [
              0.2222222222222222,
              "#7201a8"
             ],
             [
              0.3333333333333333,
              "#9c179e"
             ],
             [
              0.4444444444444444,
              "#bd3786"
             ],
             [
              0.5555555555555556,
              "#d8576b"
             ],
             [
              0.6666666666666666,
              "#ed7953"
             ],
             [
              0.7777777777777778,
              "#fb9f3a"
             ],
             [
              0.8888888888888888,
              "#fdca26"
             ],
             [
              1,
              "#f0f921"
             ]
            ],
            "type": "histogram2d"
           }
          ],
          "histogram2dcontour": [
           {
            "colorbar": {
             "outlinewidth": 0,
             "ticks": ""
            },
            "colorscale": [
             [
              0,
              "#0d0887"
             ],
             [
              0.1111111111111111,
              "#46039f"
             ],
             [
              0.2222222222222222,
              "#7201a8"
             ],
             [
              0.3333333333333333,
              "#9c179e"
             ],
             [
              0.4444444444444444,
              "#bd3786"
             ],
             [
              0.5555555555555556,
              "#d8576b"
             ],
             [
              0.6666666666666666,
              "#ed7953"
             ],
             [
              0.7777777777777778,
              "#fb9f3a"
             ],
             [
              0.8888888888888888,
              "#fdca26"
             ],
             [
              1,
              "#f0f921"
             ]
            ],
            "type": "histogram2dcontour"
           }
          ],
          "mesh3d": [
           {
            "colorbar": {
             "outlinewidth": 0,
             "ticks": ""
            },
            "type": "mesh3d"
           }
          ],
          "parcoords": [
           {
            "line": {
             "colorbar": {
              "outlinewidth": 0,
              "ticks": ""
             }
            },
            "type": "parcoords"
           }
          ],
          "pie": [
           {
            "automargin": true,
            "type": "pie"
           }
          ],
          "scatter": [
           {
            "fillpattern": {
             "fillmode": "overlay",
             "size": 10,
             "solidity": 0.2
            },
            "type": "scatter"
           }
          ],
          "scatter3d": [
           {
            "line": {
             "colorbar": {
              "outlinewidth": 0,
              "ticks": ""
             }
            },
            "marker": {
             "colorbar": {
              "outlinewidth": 0,
              "ticks": ""
             }
            },
            "type": "scatter3d"
           }
          ],
          "scattercarpet": [
           {
            "marker": {
             "colorbar": {
              "outlinewidth": 0,
              "ticks": ""
             }
            },
            "type": "scattercarpet"
           }
          ],
          "scattergeo": [
           {
            "marker": {
             "colorbar": {
              "outlinewidth": 0,
              "ticks": ""
             }
            },
            "type": "scattergeo"
           }
          ],
          "scattergl": [
           {
            "marker": {
             "colorbar": {
              "outlinewidth": 0,
              "ticks": ""
             }
            },
            "type": "scattergl"
           }
          ],
          "scattermapbox": [
           {
            "marker": {
             "colorbar": {
              "outlinewidth": 0,
              "ticks": ""
             }
            },
            "type": "scattermapbox"
           }
          ],
          "scatterpolar": [
           {
            "marker": {
             "colorbar": {
              "outlinewidth": 0,
              "ticks": ""
             }
            },
            "type": "scatterpolar"
           }
          ],
          "scatterpolargl": [
           {
            "marker": {
             "colorbar": {
              "outlinewidth": 0,
              "ticks": ""
             }
            },
            "type": "scatterpolargl"
           }
          ],
          "scatterternary": [
           {
            "marker": {
             "colorbar": {
              "outlinewidth": 0,
              "ticks": ""
             }
            },
            "type": "scatterternary"
           }
          ],
          "surface": [
           {
            "colorbar": {
             "outlinewidth": 0,
             "ticks": ""
            },
            "colorscale": [
             [
              0,
              "#0d0887"
             ],
             [
              0.1111111111111111,
              "#46039f"
             ],
             [
              0.2222222222222222,
              "#7201a8"
             ],
             [
              0.3333333333333333,
              "#9c179e"
             ],
             [
              0.4444444444444444,
              "#bd3786"
             ],
             [
              0.5555555555555556,
              "#d8576b"
             ],
             [
              0.6666666666666666,
              "#ed7953"
             ],
             [
              0.7777777777777778,
              "#fb9f3a"
             ],
             [
              0.8888888888888888,
              "#fdca26"
             ],
             [
              1,
              "#f0f921"
             ]
            ],
            "type": "surface"
           }
          ],
          "table": [
           {
            "cells": {
             "fill": {
              "color": "#EBF0F8"
             },
             "line": {
              "color": "white"
             }
            },
            "header": {
             "fill": {
              "color": "#C8D4E3"
             },
             "line": {
              "color": "white"
             }
            },
            "type": "table"
           }
          ]
         },
         "layout": {
          "annotationdefaults": {
           "arrowcolor": "#2a3f5f",
           "arrowhead": 0,
           "arrowwidth": 1
          },
          "autotypenumbers": "strict",
          "coloraxis": {
           "colorbar": {
            "outlinewidth": 0,
            "ticks": ""
           }
          },
          "colorscale": {
           "diverging": [
            [
             0,
             "#8e0152"
            ],
            [
             0.1,
             "#c51b7d"
            ],
            [
             0.2,
             "#de77ae"
            ],
            [
             0.3,
             "#f1b6da"
            ],
            [
             0.4,
             "#fde0ef"
            ],
            [
             0.5,
             "#f7f7f7"
            ],
            [
             0.6,
             "#e6f5d0"
            ],
            [
             0.7,
             "#b8e186"
            ],
            [
             0.8,
             "#7fbc41"
            ],
            [
             0.9,
             "#4d9221"
            ],
            [
             1,
             "#276419"
            ]
           ],
           "sequential": [
            [
             0,
             "#0d0887"
            ],
            [
             0.1111111111111111,
             "#46039f"
            ],
            [
             0.2222222222222222,
             "#7201a8"
            ],
            [
             0.3333333333333333,
             "#9c179e"
            ],
            [
             0.4444444444444444,
             "#bd3786"
            ],
            [
             0.5555555555555556,
             "#d8576b"
            ],
            [
             0.6666666666666666,
             "#ed7953"
            ],
            [
             0.7777777777777778,
             "#fb9f3a"
            ],
            [
             0.8888888888888888,
             "#fdca26"
            ],
            [
             1,
             "#f0f921"
            ]
           ],
           "sequentialminus": [
            [
             0,
             "#0d0887"
            ],
            [
             0.1111111111111111,
             "#46039f"
            ],
            [
             0.2222222222222222,
             "#7201a8"
            ],
            [
             0.3333333333333333,
             "#9c179e"
            ],
            [
             0.4444444444444444,
             "#bd3786"
            ],
            [
             0.5555555555555556,
             "#d8576b"
            ],
            [
             0.6666666666666666,
             "#ed7953"
            ],
            [
             0.7777777777777778,
             "#fb9f3a"
            ],
            [
             0.8888888888888888,
             "#fdca26"
            ],
            [
             1,
             "#f0f921"
            ]
           ]
          },
          "colorway": [
           "#636efa",
           "#EF553B",
           "#00cc96",
           "#ab63fa",
           "#FFA15A",
           "#19d3f3",
           "#FF6692",
           "#B6E880",
           "#FF97FF",
           "#FECB52"
          ],
          "font": {
           "color": "#2a3f5f"
          },
          "geo": {
           "bgcolor": "white",
           "lakecolor": "white",
           "landcolor": "#E5ECF6",
           "showlakes": true,
           "showland": true,
           "subunitcolor": "white"
          },
          "hoverlabel": {
           "align": "left"
          },
          "hovermode": "closest",
          "mapbox": {
           "style": "light"
          },
          "paper_bgcolor": "white",
          "plot_bgcolor": "#E5ECF6",
          "polar": {
           "angularaxis": {
            "gridcolor": "white",
            "linecolor": "white",
            "ticks": ""
           },
           "bgcolor": "#E5ECF6",
           "radialaxis": {
            "gridcolor": "white",
            "linecolor": "white",
            "ticks": ""
           }
          },
          "scene": {
           "xaxis": {
            "backgroundcolor": "#E5ECF6",
            "gridcolor": "white",
            "gridwidth": 2,
            "linecolor": "white",
            "showbackground": true,
            "ticks": "",
            "zerolinecolor": "white"
           },
           "yaxis": {
            "backgroundcolor": "#E5ECF6",
            "gridcolor": "white",
            "gridwidth": 2,
            "linecolor": "white",
            "showbackground": true,
            "ticks": "",
            "zerolinecolor": "white"
           },
           "zaxis": {
            "backgroundcolor": "#E5ECF6",
            "gridcolor": "white",
            "gridwidth": 2,
            "linecolor": "white",
            "showbackground": true,
            "ticks": "",
            "zerolinecolor": "white"
           }
          },
          "shapedefaults": {
           "line": {
            "color": "#2a3f5f"
           }
          },
          "ternary": {
           "aaxis": {
            "gridcolor": "white",
            "linecolor": "white",
            "ticks": ""
           },
           "baxis": {
            "gridcolor": "white",
            "linecolor": "white",
            "ticks": ""
           },
           "bgcolor": "#E5ECF6",
           "caxis": {
            "gridcolor": "white",
            "linecolor": "white",
            "ticks": ""
           }
          },
          "title": {
           "x": 0.05
          },
          "xaxis": {
           "automargin": true,
           "gridcolor": "white",
           "linecolor": "white",
           "ticks": "",
           "title": {
            "standoff": 15
           },
           "zerolinecolor": "white",
           "zerolinewidth": 2
          },
          "yaxis": {
           "automargin": true,
           "gridcolor": "white",
           "linecolor": "white",
           "ticks": "",
           "title": {
            "standoff": 15
           },
           "zerolinecolor": "white",
           "zerolinewidth": 2
          }
         }
        },
        "title": {
         "text": "Number of Emojis Sent per Day in 2021"
        },
        "xaxis": {
         "anchor": "y",
         "domain": [
          0,
          1
         ],
         "title": {
          "text": "Date"
         }
        },
        "yaxis": {
         "anchor": "x",
         "domain": [
          0,
          1
         ],
         "title": {
          "text": "sum of Number of emojis"
         }
        }
       }
      },
      "text/html": [
       "<div>                            <div id=\"e96bd27c-bc99-494b-93bc-1529128e97b3\" class=\"plotly-graph-div\" style=\"height:525px; width:100%;\"></div>            <script type=\"text/javascript\">                require([\"plotly\"], function(Plotly) {                    window.PLOTLYENV=window.PLOTLYENV || {};                                    if (document.getElementById(\"e96bd27c-bc99-494b-93bc-1529128e97b3\")) {                    Plotly.newPlot(                        \"e96bd27c-bc99-494b-93bc-1529128e97b3\",                        [{\"alignmentgroup\":\"True\",\"bingroup\":\"x\",\"histfunc\":\"sum\",\"hovertemplate\":\"Date=%{x}<br>sum of Number of emojis=%{y}<extra></extra>\",\"legendgroup\":\"\",\"marker\":{\"color\":\"#636efa\",\"pattern\":{\"shape\":\"\"}},\"name\":\"\",\"nbinsx\":30,\"offsetgroup\":\"\",\"orientation\":\"v\",\"showlegend\":false,\"x\":[\"2021-01-04\",\"2021-01-07\",\"2021-01-10\",\"2021-01-11\",\"2021-01-12\",\"2021-01-14\",\"2021-01-15\",\"2021-01-17\",\"2021-01-18\",\"2021-01-20\",\"2021-01-22\",\"2021-01-23\",\"2021-01-24\",\"2021-01-25\",\"2021-01-26\",\"2021-01-27\",\"2021-01-28\",\"2021-01-29\",\"2021-01-31\",\"2021-02-02\",\"2021-02-03\",\"2021-02-04\",\"2021-02-08\",\"2021-02-09\",\"2021-02-10\",\"2021-02-12\",\"2021-02-13\",\"2021-02-15\",\"2021-02-16\",\"2021-02-17\",\"2021-02-18\",\"2021-02-19\",\"2021-03-02\",\"2021-03-03\",\"2021-03-08\",\"2021-03-09\",\"2021-03-12\",\"2021-03-15\",\"2021-03-18\",\"2021-03-21\",\"2021-03-24\",\"2021-03-25\",\"2021-03-26\",\"2021-03-28\",\"2021-03-29\",\"2021-03-31\",\"2021-04-02\",\"2021-04-03\",\"2021-04-08\",\"2021-04-10\",\"2021-04-11\",\"2021-04-12\",\"2021-04-13\",\"2021-04-14\",\"2021-04-15\",\"2021-04-16\",\"2021-04-17\",\"2021-04-19\",\"2021-04-20\",\"2021-04-21\",\"2021-04-22\",\"2021-04-25\",\"2021-04-26\",\"2021-05-02\",\"2021-05-03\",\"2021-05-04\",\"2021-05-07\",\"2021-05-08\",\"2021-05-10\",\"2021-05-11\",\"2021-06-02\",\"2021-06-04\",\"2021-06-07\",\"2021-06-08\",\"2021-06-09\",\"2021-06-10\",\"2021-06-11\",\"2021-06-13\",\"2021-06-14\",\"2021-06-15\",\"2021-06-17\",\"2021-06-18\",\"2021-06-20\",\"2021-06-21\",\"2021-06-22\",\"2021-06-23\",\"2021-06-27\",\"2021-06-28\",\"2021-06-29\",\"2021-07-02\",\"2021-07-03\",\"2021-07-04\",\"2021-07-06\",\"2021-07-07\",\"2021-07-08\",\"2021-07-09\",\"2021-07-14\",\"2021-07-15\",\"2021-07-16\",\"2021-07-17\",\"2021-07-18\",\"2021-07-19\",\"2021-07-21\",\"2021-07-23\",\"2021-07-25\",\"2021-07-26\",\"2021-07-27\",\"2021-07-28\",\"2021-07-29\",\"2021-07-30\",\"2021-07-31\",\"2021-08-02\",\"2021-08-04\",\"2021-08-06\",\"2021-08-07\",\"2021-08-08\",\"2021-08-09\",\"2021-08-10\",\"2021-08-12\",\"2021-08-16\",\"2021-08-17\",\"2021-08-18\",\"2021-08-20\",\"2021-08-22\",\"2021-08-23\",\"2021-08-24\",\"2021-08-25\",\"2021-08-27\",\"2021-08-29\",\"2021-08-30\",\"2021-09-02\",\"2021-09-03\",\"2021-09-04\",\"2021-09-08\",\"2021-09-10\",\"2021-09-11\",\"2021-09-13\",\"2021-09-14\",\"2021-09-15\",\"2021-09-16\",\"2021-09-17\",\"2021-09-18\",\"2021-09-19\",\"2021-09-20\",\"2021-09-21\",\"2021-09-22\",\"2021-09-23\",\"2021-09-24\",\"2021-09-27\",\"2021-09-29\",\"2021-09-30\",\"2021-10-02\",\"2021-10-03\",\"2021-10-06\",\"2021-10-07\",\"2021-10-08\",\"2021-10-09\",\"2021-10-11\",\"2021-10-12\",\"2021-10-13\",\"2021-10-14\",\"2021-10-15\",\"2021-10-18\",\"2021-10-19\",\"2021-10-20\",\"2021-10-21\",\"2021-10-22\",\"2021-10-25\",\"2021-10-26\",\"2021-10-27\",\"2021-10-28\",\"2021-10-29\",\"2021-10-31\",\"2021-11-02\",\"2021-11-04\",\"2021-11-06\",\"2021-11-07\",\"2021-11-09\",\"2021-11-13\",\"2021-11-14\",\"2021-11-16\",\"2021-11-17\",\"2021-11-18\",\"2021-11-19\",\"2021-11-20\",\"2021-11-21\",\"2021-11-22\",\"2021-11-23\",\"2021-11-24\",\"2021-11-25\",\"2021-11-27\",\"2021-11-29\",\"2021-11-30\",\"2021-12-01\",\"2021-12-03\",\"2021-12-04\",\"2021-12-06\",\"2021-12-09\",\"2021-12-10\",\"2021-12-11\",\"2021-12-15\",\"2021-12-16\",\"2021-12-17\",\"2021-12-19\",\"2021-12-20\",\"2021-12-21\",\"2021-12-22\",\"2021-12-23\",\"2021-12-24\",\"2021-12-26\",\"2021-12-27\",\"2021-12-28\",\"2021-12-29\",\"2021-12-30\",\"2021-12-31\"],\"xaxis\":\"x\",\"y\":[12,2,9,3,8,15,6,14,1,1,12,11,15,14,5,10,15,2,2,4,6,2,14,7,8,1,4,3,12,3,5,4,1,2,4,3,6,7,1,1,4,7,1,3,2,7,6,8,6,2,15,5,13,5,11,8,3,21,17,1,24,6,12,45,2,1,4,10,2,1,5,4,32,1,3,8,2,6,5,3,7,1,4,1,5,2,25,6,2,4,13,2,2,14,15,3,2,1,43,10,3,1,2,3,8,6,4,9,5,1,3,5,1,10,2,12,1,2,5,10,1,10,3,4,7,3,1,4,24,2,2,1,1,8,8,13,10,3,7,8,2,19,6,13,8,1,1,2,1,1,22,1,3,3,6,7,5,10,3,17,2,6,3,13,22,1,6,3,5,2,8,14,2,11,3,14,6,2,1,2,8,23,9,37,1,21,8,4,6,13,5,2,7,1,4,2,4,2,1,7,3,16,13,1,30,9,14,11,23,20,23,10,6,11,6],\"yaxis\":\"y\",\"type\":\"histogram\"}],                        {\"template\":{\"data\":{\"histogram2dcontour\":[{\"type\":\"histogram2dcontour\",\"colorbar\":{\"outlinewidth\":0,\"ticks\":\"\"},\"colorscale\":[[0.0,\"#0d0887\"],[0.1111111111111111,\"#46039f\"],[0.2222222222222222,\"#7201a8\"],[0.3333333333333333,\"#9c179e\"],[0.4444444444444444,\"#bd3786\"],[0.5555555555555556,\"#d8576b\"],[0.6666666666666666,\"#ed7953\"],[0.7777777777777778,\"#fb9f3a\"],[0.8888888888888888,\"#fdca26\"],[1.0,\"#f0f921\"]]}],\"choropleth\":[{\"type\":\"choropleth\",\"colorbar\":{\"outlinewidth\":0,\"ticks\":\"\"}}],\"histogram2d\":[{\"type\":\"histogram2d\",\"colorbar\":{\"outlinewidth\":0,\"ticks\":\"\"},\"colorscale\":[[0.0,\"#0d0887\"],[0.1111111111111111,\"#46039f\"],[0.2222222222222222,\"#7201a8\"],[0.3333333333333333,\"#9c179e\"],[0.4444444444444444,\"#bd3786\"],[0.5555555555555556,\"#d8576b\"],[0.6666666666666666,\"#ed7953\"],[0.7777777777777778,\"#fb9f3a\"],[0.8888888888888888,\"#fdca26\"],[1.0,\"#f0f921\"]]}],\"heatmap\":[{\"type\":\"heatmap\",\"colorbar\":{\"outlinewidth\":0,\"ticks\":\"\"},\"colorscale\":[[0.0,\"#0d0887\"],[0.1111111111111111,\"#46039f\"],[0.2222222222222222,\"#7201a8\"],[0.3333333333333333,\"#9c179e\"],[0.4444444444444444,\"#bd3786\"],[0.5555555555555556,\"#d8576b\"],[0.6666666666666666,\"#ed7953\"],[0.7777777777777778,\"#fb9f3a\"],[0.8888888888888888,\"#fdca26\"],[1.0,\"#f0f921\"]]}],\"heatmapgl\":[{\"type\":\"heatmapgl\",\"colorbar\":{\"outlinewidth\":0,\"ticks\":\"\"},\"colorscale\":[[0.0,\"#0d0887\"],[0.1111111111111111,\"#46039f\"],[0.2222222222222222,\"#7201a8\"],[0.3333333333333333,\"#9c179e\"],[0.4444444444444444,\"#bd3786\"],[0.5555555555555556,\"#d8576b\"],[0.6666666666666666,\"#ed7953\"],[0.7777777777777778,\"#fb9f3a\"],[0.8888888888888888,\"#fdca26\"],[1.0,\"#f0f921\"]]}],\"contourcarpet\":[{\"type\":\"contourcarpet\",\"colorbar\":{\"outlinewidth\":0,\"ticks\":\"\"}}],\"contour\":[{\"type\":\"contour\",\"colorbar\":{\"outlinewidth\":0,\"ticks\":\"\"},\"colorscale\":[[0.0,\"#0d0887\"],[0.1111111111111111,\"#46039f\"],[0.2222222222222222,\"#7201a8\"],[0.3333333333333333,\"#9c179e\"],[0.4444444444444444,\"#bd3786\"],[0.5555555555555556,\"#d8576b\"],[0.6666666666666666,\"#ed7953\"],[0.7777777777777778,\"#fb9f3a\"],[0.8888888888888888,\"#fdca26\"],[1.0,\"#f0f921\"]]}],\"surface\":[{\"type\":\"surface\",\"colorbar\":{\"outlinewidth\":0,\"ticks\":\"\"},\"colorscale\":[[0.0,\"#0d0887\"],[0.1111111111111111,\"#46039f\"],[0.2222222222222222,\"#7201a8\"],[0.3333333333333333,\"#9c179e\"],[0.4444444444444444,\"#bd3786\"],[0.5555555555555556,\"#d8576b\"],[0.6666666666666666,\"#ed7953\"],[0.7777777777777778,\"#fb9f3a\"],[0.8888888888888888,\"#fdca26\"],[1.0,\"#f0f921\"]]}],\"mesh3d\":[{\"type\":\"mesh3d\",\"colorbar\":{\"outlinewidth\":0,\"ticks\":\"\"}}],\"scatter\":[{\"fillpattern\":{\"fillmode\":\"overlay\",\"size\":10,\"solidity\":0.2},\"type\":\"scatter\"}],\"parcoords\":[{\"type\":\"parcoords\",\"line\":{\"colorbar\":{\"outlinewidth\":0,\"ticks\":\"\"}}}],\"scatterpolargl\":[{\"type\":\"scatterpolargl\",\"marker\":{\"colorbar\":{\"outlinewidth\":0,\"ticks\":\"\"}}}],\"bar\":[{\"error_x\":{\"color\":\"#2a3f5f\"},\"error_y\":{\"color\":\"#2a3f5f\"},\"marker\":{\"line\":{\"color\":\"#E5ECF6\",\"width\":0.5},\"pattern\":{\"fillmode\":\"overlay\",\"size\":10,\"solidity\":0.2}},\"type\":\"bar\"}],\"scattergeo\":[{\"type\":\"scattergeo\",\"marker\":{\"colorbar\":{\"outlinewidth\":0,\"ticks\":\"\"}}}],\"scatterpolar\":[{\"type\":\"scatterpolar\",\"marker\":{\"colorbar\":{\"outlinewidth\":0,\"ticks\":\"\"}}}],\"histogram\":[{\"marker\":{\"pattern\":{\"fillmode\":\"overlay\",\"size\":10,\"solidity\":0.2}},\"type\":\"histogram\"}],\"scattergl\":[{\"type\":\"scattergl\",\"marker\":{\"colorbar\":{\"outlinewidth\":0,\"ticks\":\"\"}}}],\"scatter3d\":[{\"type\":\"scatter3d\",\"line\":{\"colorbar\":{\"outlinewidth\":0,\"ticks\":\"\"}},\"marker\":{\"colorbar\":{\"outlinewidth\":0,\"ticks\":\"\"}}}],\"scattermapbox\":[{\"type\":\"scattermapbox\",\"marker\":{\"colorbar\":{\"outlinewidth\":0,\"ticks\":\"\"}}}],\"scatterternary\":[{\"type\":\"scatterternary\",\"marker\":{\"colorbar\":{\"outlinewidth\":0,\"ticks\":\"\"}}}],\"scattercarpet\":[{\"type\":\"scattercarpet\",\"marker\":{\"colorbar\":{\"outlinewidth\":0,\"ticks\":\"\"}}}],\"carpet\":[{\"aaxis\":{\"endlinecolor\":\"#2a3f5f\",\"gridcolor\":\"white\",\"linecolor\":\"white\",\"minorgridcolor\":\"white\",\"startlinecolor\":\"#2a3f5f\"},\"baxis\":{\"endlinecolor\":\"#2a3f5f\",\"gridcolor\":\"white\",\"linecolor\":\"white\",\"minorgridcolor\":\"white\",\"startlinecolor\":\"#2a3f5f\"},\"type\":\"carpet\"}],\"table\":[{\"cells\":{\"fill\":{\"color\":\"#EBF0F8\"},\"line\":{\"color\":\"white\"}},\"header\":{\"fill\":{\"color\":\"#C8D4E3\"},\"line\":{\"color\":\"white\"}},\"type\":\"table\"}],\"barpolar\":[{\"marker\":{\"line\":{\"color\":\"#E5ECF6\",\"width\":0.5},\"pattern\":{\"fillmode\":\"overlay\",\"size\":10,\"solidity\":0.2}},\"type\":\"barpolar\"}],\"pie\":[{\"automargin\":true,\"type\":\"pie\"}]},\"layout\":{\"autotypenumbers\":\"strict\",\"colorway\":[\"#636efa\",\"#EF553B\",\"#00cc96\",\"#ab63fa\",\"#FFA15A\",\"#19d3f3\",\"#FF6692\",\"#B6E880\",\"#FF97FF\",\"#FECB52\"],\"font\":{\"color\":\"#2a3f5f\"},\"hovermode\":\"closest\",\"hoverlabel\":{\"align\":\"left\"},\"paper_bgcolor\":\"white\",\"plot_bgcolor\":\"#E5ECF6\",\"polar\":{\"bgcolor\":\"#E5ECF6\",\"angularaxis\":{\"gridcolor\":\"white\",\"linecolor\":\"white\",\"ticks\":\"\"},\"radialaxis\":{\"gridcolor\":\"white\",\"linecolor\":\"white\",\"ticks\":\"\"}},\"ternary\":{\"bgcolor\":\"#E5ECF6\",\"aaxis\":{\"gridcolor\":\"white\",\"linecolor\":\"white\",\"ticks\":\"\"},\"baxis\":{\"gridcolor\":\"white\",\"linecolor\":\"white\",\"ticks\":\"\"},\"caxis\":{\"gridcolor\":\"white\",\"linecolor\":\"white\",\"ticks\":\"\"}},\"coloraxis\":{\"colorbar\":{\"outlinewidth\":0,\"ticks\":\"\"}},\"colorscale\":{\"sequential\":[[0.0,\"#0d0887\"],[0.1111111111111111,\"#46039f\"],[0.2222222222222222,\"#7201a8\"],[0.3333333333333333,\"#9c179e\"],[0.4444444444444444,\"#bd3786\"],[0.5555555555555556,\"#d8576b\"],[0.6666666666666666,\"#ed7953\"],[0.7777777777777778,\"#fb9f3a\"],[0.8888888888888888,\"#fdca26\"],[1.0,\"#f0f921\"]],\"sequentialminus\":[[0.0,\"#0d0887\"],[0.1111111111111111,\"#46039f\"],[0.2222222222222222,\"#7201a8\"],[0.3333333333333333,\"#9c179e\"],[0.4444444444444444,\"#bd3786\"],[0.5555555555555556,\"#d8576b\"],[0.6666666666666666,\"#ed7953\"],[0.7777777777777778,\"#fb9f3a\"],[0.8888888888888888,\"#fdca26\"],[1.0,\"#f0f921\"]],\"diverging\":[[0,\"#8e0152\"],[0.1,\"#c51b7d\"],[0.2,\"#de77ae\"],[0.3,\"#f1b6da\"],[0.4,\"#fde0ef\"],[0.5,\"#f7f7f7\"],[0.6,\"#e6f5d0\"],[0.7,\"#b8e186\"],[0.8,\"#7fbc41\"],[0.9,\"#4d9221\"],[1,\"#276419\"]]},\"xaxis\":{\"gridcolor\":\"white\",\"linecolor\":\"white\",\"ticks\":\"\",\"title\":{\"standoff\":15},\"zerolinecolor\":\"white\",\"automargin\":true,\"zerolinewidth\":2},\"yaxis\":{\"gridcolor\":\"white\",\"linecolor\":\"white\",\"ticks\":\"\",\"title\":{\"standoff\":15},\"zerolinecolor\":\"white\",\"automargin\":true,\"zerolinewidth\":2},\"scene\":{\"xaxis\":{\"backgroundcolor\":\"#E5ECF6\",\"gridcolor\":\"white\",\"linecolor\":\"white\",\"showbackground\":true,\"ticks\":\"\",\"zerolinecolor\":\"white\",\"gridwidth\":2},\"yaxis\":{\"backgroundcolor\":\"#E5ECF6\",\"gridcolor\":\"white\",\"linecolor\":\"white\",\"showbackground\":true,\"ticks\":\"\",\"zerolinecolor\":\"white\",\"gridwidth\":2},\"zaxis\":{\"backgroundcolor\":\"#E5ECF6\",\"gridcolor\":\"white\",\"linecolor\":\"white\",\"showbackground\":true,\"ticks\":\"\",\"zerolinecolor\":\"white\",\"gridwidth\":2}},\"shapedefaults\":{\"line\":{\"color\":\"#2a3f5f\"}},\"annotationdefaults\":{\"arrowcolor\":\"#2a3f5f\",\"arrowhead\":0,\"arrowwidth\":1},\"geo\":{\"bgcolor\":\"white\",\"landcolor\":\"#E5ECF6\",\"subunitcolor\":\"white\",\"showland\":true,\"showlakes\":true,\"lakecolor\":\"white\"},\"title\":{\"x\":0.05},\"mapbox\":{\"style\":\"light\"}}},\"xaxis\":{\"anchor\":\"y\",\"domain\":[0.0,1.0],\"title\":{\"text\":\"Date\"}},\"yaxis\":{\"anchor\":\"x\",\"domain\":[0.0,1.0],\"title\":{\"text\":\"sum of Number of emojis\"}},\"legend\":{\"tracegroupgap\":0},\"title\":{\"text\":\"Number of Emojis Sent per Day in 2021\"},\"barmode\":\"relative\"},                        {\"responsive\": true}                    ).then(function(){\n",
       "                            \n",
       "var gd = document.getElementById('e96bd27c-bc99-494b-93bc-1529128e97b3');\n",
       "var x = new MutationObserver(function (mutations, observer) {{\n",
       "        var display = window.getComputedStyle(gd).display;\n",
       "        if (!display || display === 'none') {{\n",
       "            console.log([gd, 'removed!']);\n",
       "            Plotly.purge(gd);\n",
       "            observer.disconnect();\n",
       "        }}\n",
       "}});\n",
       "\n",
       "// Listen for the removal of the full notebook cells\n",
       "var notebookContainer = gd.closest('#notebook-container');\n",
       "if (notebookContainer) {{\n",
       "    x.observe(notebookContainer, {childList: true});\n",
       "}}\n",
       "\n",
       "// Listen for the clearing of the current output cell\n",
       "var outputEl = gd.closest('.output');\n",
       "if (outputEl) {{\n",
       "    x.observe(outputEl, {childList: true});\n",
       "}}\n",
       "\n",
       "                        })                };                });            </script>        </div>"
      ]
     },
     "metadata": {},
     "output_type": "display_data"
    }
   ],
   "source": [
    "# Filtrar los datos del año 2021\n",
    "df_2021 = df[df[\"Year\"] == 2021]\n",
    "\n",
    "# Agrupar los datos por fecha y contar la frecuencia de emojis por fecha\n",
    "emoji_counts = df_2021.groupby(\"Date\")[\"Emojis\"].count().reset_index(name=\"Count\")\n",
    "\n",
    "# Crear el histograma\n",
    "fig = px.histogram(emoji_counts, x=\"Date\", y=\"Count\", nbins=30,\n",
    "                   title=\"Number of Emojis Sent per Day in 2021\",\n",
    "                   labels={\"Date\": \"Date\", \"Count\": \"Number of emojis\"})\n",
    "fig.show()"
   ]
  },
  {
   "cell_type": "code",
   "execution_count": 12,
   "id": "7bb3426b",
   "metadata": {},
   "outputs": [
    {
     "data": {
      "application/vnd.plotly.v1+json": {
       "config": {
        "plotlyServerURL": "https://plot.ly"
       },
       "data": [
        {
         "marker": {
          "color": [
           5.3,
           7.3,
           6.400000000000001,
           4.9,
           7,
           7.8,
           9.7,
           12,
           12.4,
           9.9,
           13,
           13.1,
           13.7,
           10.2,
           11.300000000000002,
           11.5,
           11.5,
           11.6,
           10.5,
           12.3,
           11.800000000000002,
           11.6,
           12.9,
           13.3,
           15.6,
           10.8,
           12.2,
           13.2,
           12.3,
           12,
           12.9,
           12.7,
           11.3,
           9.7,
           12.5,
           12.8,
           13.099999999999998,
           15.3,
           15.3,
           13.4,
           14.7,
           16.8,
           17.9,
           16.9,
           15.6,
           20.4,
           21.1,
           20.6,
           21.9,
           22.5,
           23.2,
           23.5,
           25.6,
           26,
           23.899999999999995,
           20.7,
           23.1,
           23.3,
           24.4,
           24.1,
           23.4,
           23.7,
           22.5,
           23.1,
           23.6,
           24.8,
           26.2,
           25.7,
           26.2,
           25.3,
           24.6,
           24.7,
           25.2,
           25.6,
           25.7,
           24.3,
           24.3,
           26.3,
           24,
           24.7,
           25.2,
           25.100000000000005,
           24.2,
           23.4,
           22.4,
           23.8,
           25.2,
           23.8,
           24.8,
           25.7,
           24.100000000000005,
           23.2,
           21.9,
           21.3,
           20.2,
           19.3,
           21.3,
           20.6,
           21.4,
           23,
           18.9,
           18.6,
           18.6,
           17.7,
           18.1,
           18.1,
           18.1,
           18.6,
           19.1,
           20,
           17.1,
           16.2,
           15.8,
           16.8,
           19.1,
           15.2,
           11.6,
           12.1,
           12.8,
           13.9,
           15.3,
           13.9,
           11.9,
           12.2,
           13.6,
           12.699999999999998,
           12.4,
           12.1,
           9.4,
           8.9,
           9.8,
           11.1,
           10,
           8.7,
           10.6,
           8.9,
           7.2,
           8.6,
           9.8,
           12.1,
           12.1,
           11.8,
           14.2,
           15,
           13.1,
           11.9,
           11.2,
           12.4,
           8.7,
           10.9,
           6.900000000000001,
           8.4,
           8.7,
           9.8,
           10.2,
           10.2,
           13.300000000000002,
           11.5,
           11.3,
           12.1,
           11.3,
           11.9,
           12.2,
           11.5,
           11.9,
           12.9,
           14.300000000000002,
           14.5,
           14.1,
           12.800000000000002,
           12.8,
           11.8,
           11.300000000000002,
           11.8,
           13.1,
           12.7,
           13,
           16.6,
           16.6,
           14.6,
           15.3,
           15.7,
           22.2,
           25.2,
           26.7,
           27.7,
           25.3,
           24.5,
           24.2,
           24.600000000000005,
           23.600000000000005,
           25.5,
           28.4,
           28.100000000000005,
           27.9,
           26.9,
           26.4,
           26.9,
           28.7,
           28.3,
           28.1,
           27.8,
           23.9,
           26.3,
           25.5,
           26.4,
           19.1,
           19.5,
           20.6,
           19.3,
           18.3,
           15.2,
           16.8,
           12.7,
           10.5,
           10,
           11.8,
           14.6,
           12.5,
           13.7,
           12,
           12.7,
           14.8,
           12.9,
           10.699999999999998,
           13.1,
           9.8,
           11.3,
           8.9,
           5.8,
           6.7,
           6.2,
           10.9,
           8.9,
           9,
           12.6,
           13.1,
           14.4,
           16,
           14.5,
           16.5,
           13.8,
           14.7,
           15.5,
           16.4
          ],
          "colorbar": {
           "title": {
            "text": "Temperatura media"
           }
          },
          "colorscale": [
           [
            0,
            "#440154"
           ],
           [
            0.1111111111111111,
            "#482878"
           ],
           [
            0.2222222222222222,
            "#3e4989"
           ],
           [
            0.3333333333333333,
            "#31688e"
           ],
           [
            0.4444444444444444,
            "#26828e"
           ],
           [
            0.5555555555555556,
            "#1f9e89"
           ],
           [
            0.6666666666666666,
            "#35b779"
           ],
           [
            0.7777777777777778,
            "#6ece58"
           ],
           [
            0.8888888888888888,
            "#b5de2b"
           ],
           [
            1,
            "#fde725"
           ]
          ],
          "size": 8
         },
         "mode": "markers",
         "type": "scatter",
         "x": [
          5.3,
          7.3,
          6.400000000000001,
          4.9,
          7,
          7.8,
          9.7,
          12,
          12.4,
          9.9,
          13,
          13.1,
          13.7,
          10.2,
          11.300000000000002,
          11.5,
          11.5,
          11.6,
          10.5,
          12.3,
          11.800000000000002,
          11.6,
          12.9,
          13.3,
          15.6,
          10.8,
          12.2,
          13.2,
          12.3,
          12,
          12.9,
          12.7,
          11.3,
          9.7,
          12.5,
          12.8,
          13.099999999999998,
          15.3,
          15.3,
          13.4,
          14.7,
          16.8,
          17.9,
          16.9,
          15.6,
          20.4,
          21.1,
          20.6,
          21.9,
          22.5,
          23.2,
          23.5,
          25.6,
          26,
          23.899999999999995,
          20.7,
          23.1,
          23.3,
          24.4,
          24.1,
          23.4,
          23.7,
          22.5,
          23.1,
          23.6,
          24.8,
          26.2,
          25.7,
          26.2,
          25.3,
          24.6,
          24.7,
          25.2,
          25.6,
          25.7,
          24.3,
          24.3,
          26.3,
          24,
          24.7,
          25.2,
          25.100000000000005,
          24.2,
          23.4,
          22.4,
          23.8,
          25.2,
          23.8,
          24.8,
          25.7,
          24.100000000000005,
          23.2,
          21.9,
          21.3,
          20.2,
          19.3,
          21.3,
          20.6,
          21.4,
          23,
          18.9,
          18.6,
          18.6,
          17.7,
          18.1,
          18.1,
          18.1,
          18.6,
          19.1,
          20,
          17.1,
          16.2,
          15.8,
          16.8,
          19.1,
          15.2,
          11.6,
          12.1,
          12.8,
          13.9,
          15.3,
          13.9,
          11.9,
          12.2,
          13.6,
          12.699999999999998,
          12.4,
          12.1,
          9.4,
          8.9,
          9.8,
          11.1,
          10,
          8.7,
          10.6,
          8.9,
          7.2,
          8.6,
          9.8,
          12.1,
          12.1,
          11.8,
          14.2,
          15,
          13.1,
          11.9,
          11.2,
          12.4,
          8.7,
          10.9,
          6.900000000000001,
          8.4,
          8.7,
          9.8,
          10.2,
          10.2,
          13.300000000000002,
          11.5,
          11.3,
          12.1,
          11.3,
          11.9,
          12.2,
          11.5,
          11.9,
          12.9,
          14.300000000000002,
          14.5,
          14.1,
          12.800000000000002,
          12.8,
          11.8,
          11.300000000000002,
          11.8,
          13.1,
          12.7,
          13,
          16.6,
          16.6,
          14.6,
          15.3,
          15.7,
          22.2,
          25.2,
          26.7,
          27.7,
          25.3,
          24.5,
          24.2,
          24.600000000000005,
          23.600000000000005,
          25.5,
          28.4,
          28.100000000000005,
          27.9,
          26.9,
          26.4,
          26.9,
          28.7,
          28.3,
          28.1,
          27.8,
          23.9,
          26.3,
          25.5,
          26.4,
          19.1,
          19.5,
          20.6,
          19.3,
          18.3,
          15.2,
          16.8,
          12.7,
          10.5,
          10,
          11.8,
          14.6,
          12.5,
          13.7,
          12,
          12.7,
          14.8,
          12.9,
          10.699999999999998,
          13.1,
          9.8,
          11.3,
          8.9,
          5.8,
          6.7,
          6.2,
          10.9,
          8.9,
          9,
          12.6,
          13.1,
          14.4,
          16,
          14.5,
          16.5,
          13.8,
          14.7,
          15.5,
          16.4
         ],
         "y": [
          1,
          5,
          3,
          5,
          1,
          1,
          1,
          3,
          6,
          2,
          4,
          3,
          1,
          12,
          6,
          8,
          1,
          2,
          3,
          1,
          3,
          3,
          2,
          2,
          2,
          1,
          2,
          4,
          2,
          10,
          1,
          4,
          1,
          1,
          5,
          1,
          13,
          5,
          4,
          9,
          1,
          2,
          10,
          1,
          1,
          1,
          4,
          4,
          1,
          1,
          1,
          1,
          4,
          5,
          6,
          1,
          9,
          1,
          1,
          2,
          5,
          3,
          1,
          1,
          15,
          2,
          1,
          1,
          3,
          3,
          4,
          3,
          5,
          1,
          2,
          5,
          1,
          4,
          5,
          3,
          2,
          6,
          3,
          4,
          1,
          1,
          4,
          2,
          2,
          2,
          6,
          1,
          11,
          3,
          4,
          1,
          1,
          10,
          1,
          3,
          1,
          1,
          6,
          1,
          2,
          5,
          3,
          3,
          1,
          5,
          5,
          1,
          2,
          2,
          2,
          1,
          3,
          5,
          5,
          2,
          1,
          2,
          5,
          14,
          8,
          3,
          3,
          1,
          2,
          1,
          2,
          2,
          4,
          1,
          2,
          1,
          3,
          2,
          2,
          2,
          9,
          7,
          17,
          5,
          7,
          1,
          2,
          1,
          6,
          2,
          3,
          2,
          2,
          17,
          1,
          1,
          3,
          1,
          1,
          5,
          2,
          4,
          1,
          2,
          1,
          9,
          3,
          7,
          8,
          3,
          2,
          1,
          3,
          2,
          1,
          1,
          2,
          4,
          4,
          3,
          5,
          1,
          1,
          1,
          2,
          3,
          1,
          1,
          1,
          3,
          3,
          3,
          1,
          3,
          8,
          1,
          1,
          5,
          2,
          1,
          2,
          3,
          4,
          3,
          2,
          1,
          1,
          1,
          1,
          3,
          2,
          8,
          2,
          1,
          1,
          1,
          2,
          1,
          6,
          1,
          1,
          1,
          2,
          2,
          6,
          2,
          1,
          2,
          2,
          1,
          2,
          1,
          2,
          1,
          1,
          1,
          1,
          1,
          2,
          4,
          2,
          1,
          7,
          3,
          1
         ]
        }
       ],
       "layout": {
        "showlegend": false,
        "template": {
         "data": {
          "bar": [
           {
            "error_x": {
             "color": "#2a3f5f"
            },
            "error_y": {
             "color": "#2a3f5f"
            },
            "marker": {
             "line": {
              "color": "#E5ECF6",
              "width": 0.5
             },
             "pattern": {
              "fillmode": "overlay",
              "size": 10,
              "solidity": 0.2
             }
            },
            "type": "bar"
           }
          ],
          "barpolar": [
           {
            "marker": {
             "line": {
              "color": "#E5ECF6",
              "width": 0.5
             },
             "pattern": {
              "fillmode": "overlay",
              "size": 10,
              "solidity": 0.2
             }
            },
            "type": "barpolar"
           }
          ],
          "carpet": [
           {
            "aaxis": {
             "endlinecolor": "#2a3f5f",
             "gridcolor": "white",
             "linecolor": "white",
             "minorgridcolor": "white",
             "startlinecolor": "#2a3f5f"
            },
            "baxis": {
             "endlinecolor": "#2a3f5f",
             "gridcolor": "white",
             "linecolor": "white",
             "minorgridcolor": "white",
             "startlinecolor": "#2a3f5f"
            },
            "type": "carpet"
           }
          ],
          "choropleth": [
           {
            "colorbar": {
             "outlinewidth": 0,
             "ticks": ""
            },
            "type": "choropleth"
           }
          ],
          "contour": [
           {
            "colorbar": {
             "outlinewidth": 0,
             "ticks": ""
            },
            "colorscale": [
             [
              0,
              "#0d0887"
             ],
             [
              0.1111111111111111,
              "#46039f"
             ],
             [
              0.2222222222222222,
              "#7201a8"
             ],
             [
              0.3333333333333333,
              "#9c179e"
             ],
             [
              0.4444444444444444,
              "#bd3786"
             ],
             [
              0.5555555555555556,
              "#d8576b"
             ],
             [
              0.6666666666666666,
              "#ed7953"
             ],
             [
              0.7777777777777778,
              "#fb9f3a"
             ],
             [
              0.8888888888888888,
              "#fdca26"
             ],
             [
              1,
              "#f0f921"
             ]
            ],
            "type": "contour"
           }
          ],
          "contourcarpet": [
           {
            "colorbar": {
             "outlinewidth": 0,
             "ticks": ""
            },
            "type": "contourcarpet"
           }
          ],
          "heatmap": [
           {
            "colorbar": {
             "outlinewidth": 0,
             "ticks": ""
            },
            "colorscale": [
             [
              0,
              "#0d0887"
             ],
             [
              0.1111111111111111,
              "#46039f"
             ],
             [
              0.2222222222222222,
              "#7201a8"
             ],
             [
              0.3333333333333333,
              "#9c179e"
             ],
             [
              0.4444444444444444,
              "#bd3786"
             ],
             [
              0.5555555555555556,
              "#d8576b"
             ],
             [
              0.6666666666666666,
              "#ed7953"
             ],
             [
              0.7777777777777778,
              "#fb9f3a"
             ],
             [
              0.8888888888888888,
              "#fdca26"
             ],
             [
              1,
              "#f0f921"
             ]
            ],
            "type": "heatmap"
           }
          ],
          "heatmapgl": [
           {
            "colorbar": {
             "outlinewidth": 0,
             "ticks": ""
            },
            "colorscale": [
             [
              0,
              "#0d0887"
             ],
             [
              0.1111111111111111,
              "#46039f"
             ],
             [
              0.2222222222222222,
              "#7201a8"
             ],
             [
              0.3333333333333333,
              "#9c179e"
             ],
             [
              0.4444444444444444,
              "#bd3786"
             ],
             [
              0.5555555555555556,
              "#d8576b"
             ],
             [
              0.6666666666666666,
              "#ed7953"
             ],
             [
              0.7777777777777778,
              "#fb9f3a"
             ],
             [
              0.8888888888888888,
              "#fdca26"
             ],
             [
              1,
              "#f0f921"
             ]
            ],
            "type": "heatmapgl"
           }
          ],
          "histogram": [
           {
            "marker": {
             "pattern": {
              "fillmode": "overlay",
              "size": 10,
              "solidity": 0.2
             }
            },
            "type": "histogram"
           }
          ],
          "histogram2d": [
           {
            "colorbar": {
             "outlinewidth": 0,
             "ticks": ""
            },
            "colorscale": [
             [
              0,
              "#0d0887"
             ],
             [
              0.1111111111111111,
              "#46039f"
             ],
             [
              0.2222222222222222,
              "#7201a8"
             ],
             [
              0.3333333333333333,
              "#9c179e"
             ],
             [
              0.4444444444444444,
              "#bd3786"
             ],
             [
              0.5555555555555556,
              "#d8576b"
             ],
             [
              0.6666666666666666,
              "#ed7953"
             ],
             [
              0.7777777777777778,
              "#fb9f3a"
             ],
             [
              0.8888888888888888,
              "#fdca26"
             ],
             [
              1,
              "#f0f921"
             ]
            ],
            "type": "histogram2d"
           }
          ],
          "histogram2dcontour": [
           {
            "colorbar": {
             "outlinewidth": 0,
             "ticks": ""
            },
            "colorscale": [
             [
              0,
              "#0d0887"
             ],
             [
              0.1111111111111111,
              "#46039f"
             ],
             [
              0.2222222222222222,
              "#7201a8"
             ],
             [
              0.3333333333333333,
              "#9c179e"
             ],
             [
              0.4444444444444444,
              "#bd3786"
             ],
             [
              0.5555555555555556,
              "#d8576b"
             ],
             [
              0.6666666666666666,
              "#ed7953"
             ],
             [
              0.7777777777777778,
              "#fb9f3a"
             ],
             [
              0.8888888888888888,
              "#fdca26"
             ],
             [
              1,
              "#f0f921"
             ]
            ],
            "type": "histogram2dcontour"
           }
          ],
          "mesh3d": [
           {
            "colorbar": {
             "outlinewidth": 0,
             "ticks": ""
            },
            "type": "mesh3d"
           }
          ],
          "parcoords": [
           {
            "line": {
             "colorbar": {
              "outlinewidth": 0,
              "ticks": ""
             }
            },
            "type": "parcoords"
           }
          ],
          "pie": [
           {
            "automargin": true,
            "type": "pie"
           }
          ],
          "scatter": [
           {
            "fillpattern": {
             "fillmode": "overlay",
             "size": 10,
             "solidity": 0.2
            },
            "type": "scatter"
           }
          ],
          "scatter3d": [
           {
            "line": {
             "colorbar": {
              "outlinewidth": 0,
              "ticks": ""
             }
            },
            "marker": {
             "colorbar": {
              "outlinewidth": 0,
              "ticks": ""
             }
            },
            "type": "scatter3d"
           }
          ],
          "scattercarpet": [
           {
            "marker": {
             "colorbar": {
              "outlinewidth": 0,
              "ticks": ""
             }
            },
            "type": "scattercarpet"
           }
          ],
          "scattergeo": [
           {
            "marker": {
             "colorbar": {
              "outlinewidth": 0,
              "ticks": ""
             }
            },
            "type": "scattergeo"
           }
          ],
          "scattergl": [
           {
            "marker": {
             "colorbar": {
              "outlinewidth": 0,
              "ticks": ""
             }
            },
            "type": "scattergl"
           }
          ],
          "scattermapbox": [
           {
            "marker": {
             "colorbar": {
              "outlinewidth": 0,
              "ticks": ""
             }
            },
            "type": "scattermapbox"
           }
          ],
          "scatterpolar": [
           {
            "marker": {
             "colorbar": {
              "outlinewidth": 0,
              "ticks": ""
             }
            },
            "type": "scatterpolar"
           }
          ],
          "scatterpolargl": [
           {
            "marker": {
             "colorbar": {
              "outlinewidth": 0,
              "ticks": ""
             }
            },
            "type": "scatterpolargl"
           }
          ],
          "scatterternary": [
           {
            "marker": {
             "colorbar": {
              "outlinewidth": 0,
              "ticks": ""
             }
            },
            "type": "scatterternary"
           }
          ],
          "surface": [
           {
            "colorbar": {
             "outlinewidth": 0,
             "ticks": ""
            },
            "colorscale": [
             [
              0,
              "#0d0887"
             ],
             [
              0.1111111111111111,
              "#46039f"
             ],
             [
              0.2222222222222222,
              "#7201a8"
             ],
             [
              0.3333333333333333,
              "#9c179e"
             ],
             [
              0.4444444444444444,
              "#bd3786"
             ],
             [
              0.5555555555555556,
              "#d8576b"
             ],
             [
              0.6666666666666666,
              "#ed7953"
             ],
             [
              0.7777777777777778,
              "#fb9f3a"
             ],
             [
              0.8888888888888888,
              "#fdca26"
             ],
             [
              1,
              "#f0f921"
             ]
            ],
            "type": "surface"
           }
          ],
          "table": [
           {
            "cells": {
             "fill": {
              "color": "#EBF0F8"
             },
             "line": {
              "color": "white"
             }
            },
            "header": {
             "fill": {
              "color": "#C8D4E3"
             },
             "line": {
              "color": "white"
             }
            },
            "type": "table"
           }
          ]
         },
         "layout": {
          "annotationdefaults": {
           "arrowcolor": "#2a3f5f",
           "arrowhead": 0,
           "arrowwidth": 1
          },
          "autotypenumbers": "strict",
          "coloraxis": {
           "colorbar": {
            "outlinewidth": 0,
            "ticks": ""
           }
          },
          "colorscale": {
           "diverging": [
            [
             0,
             "#8e0152"
            ],
            [
             0.1,
             "#c51b7d"
            ],
            [
             0.2,
             "#de77ae"
            ],
            [
             0.3,
             "#f1b6da"
            ],
            [
             0.4,
             "#fde0ef"
            ],
            [
             0.5,
             "#f7f7f7"
            ],
            [
             0.6,
             "#e6f5d0"
            ],
            [
             0.7,
             "#b8e186"
            ],
            [
             0.8,
             "#7fbc41"
            ],
            [
             0.9,
             "#4d9221"
            ],
            [
             1,
             "#276419"
            ]
           ],
           "sequential": [
            [
             0,
             "#0d0887"
            ],
            [
             0.1111111111111111,
             "#46039f"
            ],
            [
             0.2222222222222222,
             "#7201a8"
            ],
            [
             0.3333333333333333,
             "#9c179e"
            ],
            [
             0.4444444444444444,
             "#bd3786"
            ],
            [
             0.5555555555555556,
             "#d8576b"
            ],
            [
             0.6666666666666666,
             "#ed7953"
            ],
            [
             0.7777777777777778,
             "#fb9f3a"
            ],
            [
             0.8888888888888888,
             "#fdca26"
            ],
            [
             1,
             "#f0f921"
            ]
           ],
           "sequentialminus": [
            [
             0,
             "#0d0887"
            ],
            [
             0.1111111111111111,
             "#46039f"
            ],
            [
             0.2222222222222222,
             "#7201a8"
            ],
            [
             0.3333333333333333,
             "#9c179e"
            ],
            [
             0.4444444444444444,
             "#bd3786"
            ],
            [
             0.5555555555555556,
             "#d8576b"
            ],
            [
             0.6666666666666666,
             "#ed7953"
            ],
            [
             0.7777777777777778,
             "#fb9f3a"
            ],
            [
             0.8888888888888888,
             "#fdca26"
            ],
            [
             1,
             "#f0f921"
            ]
           ]
          },
          "colorway": [
           "#636efa",
           "#EF553B",
           "#00cc96",
           "#ab63fa",
           "#FFA15A",
           "#19d3f3",
           "#FF6692",
           "#B6E880",
           "#FF97FF",
           "#FECB52"
          ],
          "font": {
           "color": "#2a3f5f"
          },
          "geo": {
           "bgcolor": "white",
           "lakecolor": "white",
           "landcolor": "#E5ECF6",
           "showlakes": true,
           "showland": true,
           "subunitcolor": "white"
          },
          "hoverlabel": {
           "align": "left"
          },
          "hovermode": "closest",
          "mapbox": {
           "style": "light"
          },
          "paper_bgcolor": "white",
          "plot_bgcolor": "#E5ECF6",
          "polar": {
           "angularaxis": {
            "gridcolor": "white",
            "linecolor": "white",
            "ticks": ""
           },
           "bgcolor": "#E5ECF6",
           "radialaxis": {
            "gridcolor": "white",
            "linecolor": "white",
            "ticks": ""
           }
          },
          "scene": {
           "xaxis": {
            "backgroundcolor": "#E5ECF6",
            "gridcolor": "white",
            "gridwidth": 2,
            "linecolor": "white",
            "showbackground": true,
            "ticks": "",
            "zerolinecolor": "white"
           },
           "yaxis": {
            "backgroundcolor": "#E5ECF6",
            "gridcolor": "white",
            "gridwidth": 2,
            "linecolor": "white",
            "showbackground": true,
            "ticks": "",
            "zerolinecolor": "white"
           },
           "zaxis": {
            "backgroundcolor": "#E5ECF6",
            "gridcolor": "white",
            "gridwidth": 2,
            "linecolor": "white",
            "showbackground": true,
            "ticks": "",
            "zerolinecolor": "white"
           }
          },
          "shapedefaults": {
           "line": {
            "color": "#2a3f5f"
           }
          },
          "ternary": {
           "aaxis": {
            "gridcolor": "white",
            "linecolor": "white",
            "ticks": ""
           },
           "baxis": {
            "gridcolor": "white",
            "linecolor": "white",
            "ticks": ""
           },
           "bgcolor": "#E5ECF6",
           "caxis": {
            "gridcolor": "white",
            "linecolor": "white",
            "ticks": ""
           }
          },
          "title": {
           "x": 0.05
          },
          "xaxis": {
           "automargin": true,
           "gridcolor": "white",
           "linecolor": "white",
           "ticks": "",
           "title": {
            "standoff": 15
           },
           "zerolinecolor": "white",
           "zerolinewidth": 2
          },
          "yaxis": {
           "automargin": true,
           "gridcolor": "white",
           "linecolor": "white",
           "ticks": "",
           "title": {
            "standoff": 15
           },
           "zerolinecolor": "white",
           "zerolinewidth": 2
          }
         }
        },
        "title": {
         "text": "Number of hearts sent per temperature"
        },
        "xaxis": {
         "title": {
          "text": "Mean temperature"
         }
        },
        "yaxis": {
         "title": {
          "text": "Number of hearts"
         }
        }
       }
      },
      "text/html": [
       "<div>                            <div id=\"ae613599-13cc-4685-a370-ff96d31bc962\" class=\"plotly-graph-div\" style=\"height:525px; width:100%;\"></div>            <script type=\"text/javascript\">                require([\"plotly\"], function(Plotly) {                    window.PLOTLYENV=window.PLOTLYENV || {};                                    if (document.getElementById(\"ae613599-13cc-4685-a370-ff96d31bc962\")) {                    Plotly.newPlot(                        \"ae613599-13cc-4685-a370-ff96d31bc962\",                        [{\"marker\":{\"color\":[5.3,7.3,6.400000000000001,4.9,7.0,7.8,9.7,12.0,12.4,9.9,13.0,13.1,13.7,10.2,11.300000000000002,11.5,11.5,11.6,10.5,12.3,11.800000000000002,11.6,12.9,13.3,15.6,10.8,12.2,13.2,12.3,12.0,12.9,12.7,11.3,9.7,12.5,12.8,13.099999999999998,15.3,15.3,13.4,14.7,16.8,17.9,16.9,15.6,20.4,21.1,20.6,21.9,22.5,23.2,23.5,25.6,26.0,23.899999999999995,20.7,23.1,23.3,24.4,24.1,23.4,23.7,22.5,23.1,23.6,24.8,26.2,25.7,26.2,25.3,24.6,24.7,25.2,25.6,25.7,24.3,24.3,26.3,24.0,24.7,25.2,25.100000000000005,24.2,23.4,22.4,23.8,25.2,23.8,24.8,25.7,24.100000000000005,23.2,21.9,21.3,20.2,19.3,21.3,20.6,21.4,23.0,18.9,18.6,18.6,17.7,18.1,18.1,18.1,18.6,19.1,20.0,17.1,16.2,15.8,16.8,19.1,15.2,11.6,12.1,12.8,13.9,15.3,13.9,11.9,12.2,13.6,12.699999999999998,12.4,12.1,9.4,8.9,9.8,11.1,10.0,8.7,10.6,8.9,7.2,8.6,9.8,12.1,12.1,11.8,14.2,15.0,13.1,11.9,11.2,12.4,8.7,10.9,6.900000000000001,8.4,8.7,9.8,10.2,10.2,13.300000000000002,11.5,11.3,12.1,11.3,11.9,12.2,11.5,11.9,12.9,14.300000000000002,14.5,14.1,12.800000000000002,12.8,11.8,11.300000000000002,11.8,13.1,12.7,13.0,16.6,16.6,14.6,15.3,15.7,22.2,25.2,26.7,27.7,25.3,24.5,24.2,24.600000000000005,23.600000000000005,25.5,28.4,28.100000000000005,27.9,26.9,26.4,26.9,28.7,28.3,28.1,27.8,23.9,26.3,25.5,26.4,19.1,19.5,20.6,19.3,18.3,15.2,16.8,12.7,10.5,10.0,11.8,14.6,12.5,13.7,12.0,12.7,14.8,12.9,10.699999999999998,13.1,9.8,11.3,8.9,5.8,6.7,6.2,10.9,8.9,9.0,12.6,13.1,14.4,16.0,14.5,16.5,13.8,14.7,15.5,16.4],\"colorbar\":{\"title\":{\"text\":\"Temperatura media\"}},\"colorscale\":[[0.0,\"#440154\"],[0.1111111111111111,\"#482878\"],[0.2222222222222222,\"#3e4989\"],[0.3333333333333333,\"#31688e\"],[0.4444444444444444,\"#26828e\"],[0.5555555555555556,\"#1f9e89\"],[0.6666666666666666,\"#35b779\"],[0.7777777777777778,\"#6ece58\"],[0.8888888888888888,\"#b5de2b\"],[1.0,\"#fde725\"]],\"size\":8},\"mode\":\"markers\",\"x\":[5.3,7.3,6.400000000000001,4.9,7.0,7.8,9.7,12.0,12.4,9.9,13.0,13.1,13.7,10.2,11.300000000000002,11.5,11.5,11.6,10.5,12.3,11.800000000000002,11.6,12.9,13.3,15.6,10.8,12.2,13.2,12.3,12.0,12.9,12.7,11.3,9.7,12.5,12.8,13.099999999999998,15.3,15.3,13.4,14.7,16.8,17.9,16.9,15.6,20.4,21.1,20.6,21.9,22.5,23.2,23.5,25.6,26.0,23.899999999999995,20.7,23.1,23.3,24.4,24.1,23.4,23.7,22.5,23.1,23.6,24.8,26.2,25.7,26.2,25.3,24.6,24.7,25.2,25.6,25.7,24.3,24.3,26.3,24.0,24.7,25.2,25.100000000000005,24.2,23.4,22.4,23.8,25.2,23.8,24.8,25.7,24.100000000000005,23.2,21.9,21.3,20.2,19.3,21.3,20.6,21.4,23.0,18.9,18.6,18.6,17.7,18.1,18.1,18.1,18.6,19.1,20.0,17.1,16.2,15.8,16.8,19.1,15.2,11.6,12.1,12.8,13.9,15.3,13.9,11.9,12.2,13.6,12.699999999999998,12.4,12.1,9.4,8.9,9.8,11.1,10.0,8.7,10.6,8.9,7.2,8.6,9.8,12.1,12.1,11.8,14.2,15.0,13.1,11.9,11.2,12.4,8.7,10.9,6.900000000000001,8.4,8.7,9.8,10.2,10.2,13.300000000000002,11.5,11.3,12.1,11.3,11.9,12.2,11.5,11.9,12.9,14.300000000000002,14.5,14.1,12.800000000000002,12.8,11.8,11.300000000000002,11.8,13.1,12.7,13.0,16.6,16.6,14.6,15.3,15.7,22.2,25.2,26.7,27.7,25.3,24.5,24.2,24.600000000000005,23.600000000000005,25.5,28.4,28.100000000000005,27.9,26.9,26.4,26.9,28.7,28.3,28.1,27.8,23.9,26.3,25.5,26.4,19.1,19.5,20.6,19.3,18.3,15.2,16.8,12.7,10.5,10.0,11.8,14.6,12.5,13.7,12.0,12.7,14.8,12.9,10.699999999999998,13.1,9.8,11.3,8.9,5.8,6.7,6.2,10.9,8.9,9.0,12.6,13.1,14.4,16.0,14.5,16.5,13.8,14.7,15.5,16.4],\"y\":[1,5,3,5,1,1,1,3,6,2,4,3,1,12,6,8,1,2,3,1,3,3,2,2,2,1,2,4,2,10,1,4,1,1,5,1,13,5,4,9,1,2,10,1,1,1,4,4,1,1,1,1,4,5,6,1,9,1,1,2,5,3,1,1,15,2,1,1,3,3,4,3,5,1,2,5,1,4,5,3,2,6,3,4,1,1,4,2,2,2,6,1,11,3,4,1,1,10,1,3,1,1,6,1,2,5,3,3,1,5,5,1,2,2,2,1,3,5,5,2,1,2,5,14,8,3,3,1,2,1,2,2,4,1,2,1,3,2,2,2,9,7,17,5,7,1,2,1,6,2,3,2,2,17,1,1,3,1,1,5,2,4,1,2,1,9,3,7,8,3,2,1,3,2,1,1,2,4,4,3,5,1,1,1,2,3,1,1,1,3,3,3,1,3,8,1,1,5,2,1,2,3,4,3,2,1,1,1,1,3,2,8,2,1,1,1,2,1,6,1,1,1,2,2,6,2,1,2,2,1,2,1,2,1,1,1,1,1,2,4,2,1,7,3,1],\"type\":\"scatter\"}],                        {\"template\":{\"data\":{\"histogram2dcontour\":[{\"type\":\"histogram2dcontour\",\"colorbar\":{\"outlinewidth\":0,\"ticks\":\"\"},\"colorscale\":[[0.0,\"#0d0887\"],[0.1111111111111111,\"#46039f\"],[0.2222222222222222,\"#7201a8\"],[0.3333333333333333,\"#9c179e\"],[0.4444444444444444,\"#bd3786\"],[0.5555555555555556,\"#d8576b\"],[0.6666666666666666,\"#ed7953\"],[0.7777777777777778,\"#fb9f3a\"],[0.8888888888888888,\"#fdca26\"],[1.0,\"#f0f921\"]]}],\"choropleth\":[{\"type\":\"choropleth\",\"colorbar\":{\"outlinewidth\":0,\"ticks\":\"\"}}],\"histogram2d\":[{\"type\":\"histogram2d\",\"colorbar\":{\"outlinewidth\":0,\"ticks\":\"\"},\"colorscale\":[[0.0,\"#0d0887\"],[0.1111111111111111,\"#46039f\"],[0.2222222222222222,\"#7201a8\"],[0.3333333333333333,\"#9c179e\"],[0.4444444444444444,\"#bd3786\"],[0.5555555555555556,\"#d8576b\"],[0.6666666666666666,\"#ed7953\"],[0.7777777777777778,\"#fb9f3a\"],[0.8888888888888888,\"#fdca26\"],[1.0,\"#f0f921\"]]}],\"heatmap\":[{\"type\":\"heatmap\",\"colorbar\":{\"outlinewidth\":0,\"ticks\":\"\"},\"colorscale\":[[0.0,\"#0d0887\"],[0.1111111111111111,\"#46039f\"],[0.2222222222222222,\"#7201a8\"],[0.3333333333333333,\"#9c179e\"],[0.4444444444444444,\"#bd3786\"],[0.5555555555555556,\"#d8576b\"],[0.6666666666666666,\"#ed7953\"],[0.7777777777777778,\"#fb9f3a\"],[0.8888888888888888,\"#fdca26\"],[1.0,\"#f0f921\"]]}],\"heatmapgl\":[{\"type\":\"heatmapgl\",\"colorbar\":{\"outlinewidth\":0,\"ticks\":\"\"},\"colorscale\":[[0.0,\"#0d0887\"],[0.1111111111111111,\"#46039f\"],[0.2222222222222222,\"#7201a8\"],[0.3333333333333333,\"#9c179e\"],[0.4444444444444444,\"#bd3786\"],[0.5555555555555556,\"#d8576b\"],[0.6666666666666666,\"#ed7953\"],[0.7777777777777778,\"#fb9f3a\"],[0.8888888888888888,\"#fdca26\"],[1.0,\"#f0f921\"]]}],\"contourcarpet\":[{\"type\":\"contourcarpet\",\"colorbar\":{\"outlinewidth\":0,\"ticks\":\"\"}}],\"contour\":[{\"type\":\"contour\",\"colorbar\":{\"outlinewidth\":0,\"ticks\":\"\"},\"colorscale\":[[0.0,\"#0d0887\"],[0.1111111111111111,\"#46039f\"],[0.2222222222222222,\"#7201a8\"],[0.3333333333333333,\"#9c179e\"],[0.4444444444444444,\"#bd3786\"],[0.5555555555555556,\"#d8576b\"],[0.6666666666666666,\"#ed7953\"],[0.7777777777777778,\"#fb9f3a\"],[0.8888888888888888,\"#fdca26\"],[1.0,\"#f0f921\"]]}],\"surface\":[{\"type\":\"surface\",\"colorbar\":{\"outlinewidth\":0,\"ticks\":\"\"},\"colorscale\":[[0.0,\"#0d0887\"],[0.1111111111111111,\"#46039f\"],[0.2222222222222222,\"#7201a8\"],[0.3333333333333333,\"#9c179e\"],[0.4444444444444444,\"#bd3786\"],[0.5555555555555556,\"#d8576b\"],[0.6666666666666666,\"#ed7953\"],[0.7777777777777778,\"#fb9f3a\"],[0.8888888888888888,\"#fdca26\"],[1.0,\"#f0f921\"]]}],\"mesh3d\":[{\"type\":\"mesh3d\",\"colorbar\":{\"outlinewidth\":0,\"ticks\":\"\"}}],\"scatter\":[{\"fillpattern\":{\"fillmode\":\"overlay\",\"size\":10,\"solidity\":0.2},\"type\":\"scatter\"}],\"parcoords\":[{\"type\":\"parcoords\",\"line\":{\"colorbar\":{\"outlinewidth\":0,\"ticks\":\"\"}}}],\"scatterpolargl\":[{\"type\":\"scatterpolargl\",\"marker\":{\"colorbar\":{\"outlinewidth\":0,\"ticks\":\"\"}}}],\"bar\":[{\"error_x\":{\"color\":\"#2a3f5f\"},\"error_y\":{\"color\":\"#2a3f5f\"},\"marker\":{\"line\":{\"color\":\"#E5ECF6\",\"width\":0.5},\"pattern\":{\"fillmode\":\"overlay\",\"size\":10,\"solidity\":0.2}},\"type\":\"bar\"}],\"scattergeo\":[{\"type\":\"scattergeo\",\"marker\":{\"colorbar\":{\"outlinewidth\":0,\"ticks\":\"\"}}}],\"scatterpolar\":[{\"type\":\"scatterpolar\",\"marker\":{\"colorbar\":{\"outlinewidth\":0,\"ticks\":\"\"}}}],\"histogram\":[{\"marker\":{\"pattern\":{\"fillmode\":\"overlay\",\"size\":10,\"solidity\":0.2}},\"type\":\"histogram\"}],\"scattergl\":[{\"type\":\"scattergl\",\"marker\":{\"colorbar\":{\"outlinewidth\":0,\"ticks\":\"\"}}}],\"scatter3d\":[{\"type\":\"scatter3d\",\"line\":{\"colorbar\":{\"outlinewidth\":0,\"ticks\":\"\"}},\"marker\":{\"colorbar\":{\"outlinewidth\":0,\"ticks\":\"\"}}}],\"scattermapbox\":[{\"type\":\"scattermapbox\",\"marker\":{\"colorbar\":{\"outlinewidth\":0,\"ticks\":\"\"}}}],\"scatterternary\":[{\"type\":\"scatterternary\",\"marker\":{\"colorbar\":{\"outlinewidth\":0,\"ticks\":\"\"}}}],\"scattercarpet\":[{\"type\":\"scattercarpet\",\"marker\":{\"colorbar\":{\"outlinewidth\":0,\"ticks\":\"\"}}}],\"carpet\":[{\"aaxis\":{\"endlinecolor\":\"#2a3f5f\",\"gridcolor\":\"white\",\"linecolor\":\"white\",\"minorgridcolor\":\"white\",\"startlinecolor\":\"#2a3f5f\"},\"baxis\":{\"endlinecolor\":\"#2a3f5f\",\"gridcolor\":\"white\",\"linecolor\":\"white\",\"minorgridcolor\":\"white\",\"startlinecolor\":\"#2a3f5f\"},\"type\":\"carpet\"}],\"table\":[{\"cells\":{\"fill\":{\"color\":\"#EBF0F8\"},\"line\":{\"color\":\"white\"}},\"header\":{\"fill\":{\"color\":\"#C8D4E3\"},\"line\":{\"color\":\"white\"}},\"type\":\"table\"}],\"barpolar\":[{\"marker\":{\"line\":{\"color\":\"#E5ECF6\",\"width\":0.5},\"pattern\":{\"fillmode\":\"overlay\",\"size\":10,\"solidity\":0.2}},\"type\":\"barpolar\"}],\"pie\":[{\"automargin\":true,\"type\":\"pie\"}]},\"layout\":{\"autotypenumbers\":\"strict\",\"colorway\":[\"#636efa\",\"#EF553B\",\"#00cc96\",\"#ab63fa\",\"#FFA15A\",\"#19d3f3\",\"#FF6692\",\"#B6E880\",\"#FF97FF\",\"#FECB52\"],\"font\":{\"color\":\"#2a3f5f\"},\"hovermode\":\"closest\",\"hoverlabel\":{\"align\":\"left\"},\"paper_bgcolor\":\"white\",\"plot_bgcolor\":\"#E5ECF6\",\"polar\":{\"bgcolor\":\"#E5ECF6\",\"angularaxis\":{\"gridcolor\":\"white\",\"linecolor\":\"white\",\"ticks\":\"\"},\"radialaxis\":{\"gridcolor\":\"white\",\"linecolor\":\"white\",\"ticks\":\"\"}},\"ternary\":{\"bgcolor\":\"#E5ECF6\",\"aaxis\":{\"gridcolor\":\"white\",\"linecolor\":\"white\",\"ticks\":\"\"},\"baxis\":{\"gridcolor\":\"white\",\"linecolor\":\"white\",\"ticks\":\"\"},\"caxis\":{\"gridcolor\":\"white\",\"linecolor\":\"white\",\"ticks\":\"\"}},\"coloraxis\":{\"colorbar\":{\"outlinewidth\":0,\"ticks\":\"\"}},\"colorscale\":{\"sequential\":[[0.0,\"#0d0887\"],[0.1111111111111111,\"#46039f\"],[0.2222222222222222,\"#7201a8\"],[0.3333333333333333,\"#9c179e\"],[0.4444444444444444,\"#bd3786\"],[0.5555555555555556,\"#d8576b\"],[0.6666666666666666,\"#ed7953\"],[0.7777777777777778,\"#fb9f3a\"],[0.8888888888888888,\"#fdca26\"],[1.0,\"#f0f921\"]],\"sequentialminus\":[[0.0,\"#0d0887\"],[0.1111111111111111,\"#46039f\"],[0.2222222222222222,\"#7201a8\"],[0.3333333333333333,\"#9c179e\"],[0.4444444444444444,\"#bd3786\"],[0.5555555555555556,\"#d8576b\"],[0.6666666666666666,\"#ed7953\"],[0.7777777777777778,\"#fb9f3a\"],[0.8888888888888888,\"#fdca26\"],[1.0,\"#f0f921\"]],\"diverging\":[[0,\"#8e0152\"],[0.1,\"#c51b7d\"],[0.2,\"#de77ae\"],[0.3,\"#f1b6da\"],[0.4,\"#fde0ef\"],[0.5,\"#f7f7f7\"],[0.6,\"#e6f5d0\"],[0.7,\"#b8e186\"],[0.8,\"#7fbc41\"],[0.9,\"#4d9221\"],[1,\"#276419\"]]},\"xaxis\":{\"gridcolor\":\"white\",\"linecolor\":\"white\",\"ticks\":\"\",\"title\":{\"standoff\":15},\"zerolinecolor\":\"white\",\"automargin\":true,\"zerolinewidth\":2},\"yaxis\":{\"gridcolor\":\"white\",\"linecolor\":\"white\",\"ticks\":\"\",\"title\":{\"standoff\":15},\"zerolinecolor\":\"white\",\"automargin\":true,\"zerolinewidth\":2},\"scene\":{\"xaxis\":{\"backgroundcolor\":\"#E5ECF6\",\"gridcolor\":\"white\",\"linecolor\":\"white\",\"showbackground\":true,\"ticks\":\"\",\"zerolinecolor\":\"white\",\"gridwidth\":2},\"yaxis\":{\"backgroundcolor\":\"#E5ECF6\",\"gridcolor\":\"white\",\"linecolor\":\"white\",\"showbackground\":true,\"ticks\":\"\",\"zerolinecolor\":\"white\",\"gridwidth\":2},\"zaxis\":{\"backgroundcolor\":\"#E5ECF6\",\"gridcolor\":\"white\",\"linecolor\":\"white\",\"showbackground\":true,\"ticks\":\"\",\"zerolinecolor\":\"white\",\"gridwidth\":2}},\"shapedefaults\":{\"line\":{\"color\":\"#2a3f5f\"}},\"annotationdefaults\":{\"arrowcolor\":\"#2a3f5f\",\"arrowhead\":0,\"arrowwidth\":1},\"geo\":{\"bgcolor\":\"white\",\"landcolor\":\"#E5ECF6\",\"subunitcolor\":\"white\",\"showland\":true,\"showlakes\":true,\"lakecolor\":\"white\"},\"title\":{\"x\":0.05},\"mapbox\":{\"style\":\"light\"}}},\"title\":{\"text\":\"Number of hearts sent per temperature\"},\"xaxis\":{\"title\":{\"text\":\"Mean temperature\"}},\"yaxis\":{\"title\":{\"text\":\"Number of hearts\"}},\"showlegend\":false},                        {\"responsive\": true}                    ).then(function(){\n",
       "                            \n",
       "var gd = document.getElementById('ae613599-13cc-4685-a370-ff96d31bc962');\n",
       "var x = new MutationObserver(function (mutations, observer) {{\n",
       "        var display = window.getComputedStyle(gd).display;\n",
       "        if (!display || display === 'none') {{\n",
       "            console.log([gd, 'removed!']);\n",
       "            Plotly.purge(gd);\n",
       "            observer.disconnect();\n",
       "        }}\n",
       "}});\n",
       "\n",
       "// Listen for the removal of the full notebook cells\n",
       "var notebookContainer = gd.closest('#notebook-container');\n",
       "if (notebookContainer) {{\n",
       "    x.observe(notebookContainer, {childList: true});\n",
       "}}\n",
       "\n",
       "// Listen for the clearing of the current output cell\n",
       "var outputEl = gd.closest('.output');\n",
       "if (outputEl) {{\n",
       "    x.observe(outputEl, {childList: true});\n",
       "}}\n",
       "\n",
       "                        })                };                });            </script>        </div>"
      ]
     },
     "metadata": {},
     "output_type": "display_data"
    }
   ],
   "source": [
    "import plotly.graph_objects as go\n",
    "\n",
    "# filter the DataFrame to include only the rows with the heart emoji\n",
    "df_hearts = df[df['Emojis'] == '❤']\n",
    "\n",
    "# group by date and calculate the number of heart emojis and the average temperature\n",
    "df_temp_hearts = df_hearts.groupby('Date').agg({'Temp_mean': 'mean', 'Emojis': 'count'}).reset_index()\n",
    "\n",
    "# create a scatter plot\n",
    "fig = go.Figure(\n",
    "    go.Scatter(\n",
    "        x=df_temp_hearts['Temp_mean'],\n",
    "        y=df_temp_hearts['Emojis'],\n",
    "        mode='markers',\n",
    "        marker=dict(\n",
    "            size=8,\n",
    "            color=df_temp_hearts['Temp_mean'],\n",
    "            colorbar=dict(title='Temperatura media'),\n",
    "            colorscale='Viridis')\n",
    "    )\n",
    ")\n",
    "\n",
    "# customize the layout\n",
    "fig.update_layout(\n",
    "    title='Number of hearts sent per temperature',\n",
    "    xaxis_title='Mean temperature',\n",
    "    yaxis_title='Number of hearts',\n",
    "    showlegend=False\n",
    ")\n",
    "\n",
    "# show the figure\n",
    "fig.show()\n"
   ]
  },
  {
   "cell_type": "code",
   "execution_count": 13,
   "id": "ec3780df",
   "metadata": {},
   "outputs": [
    {
     "data": {
      "application/vnd.plotly.v1+json": {
       "config": {
        "plotlyServerURL": "https://plot.ly"
       },
       "data": [
        {
         "name": "Bego",
         "type": "bar",
         "x": [
          "❤",
          "🖤",
          "🥲"
         ],
         "y": [
          216,
          59,
          42
         ]
        },
        {
         "name": "Ju",
         "type": "bar",
         "x": [
          "❤",
          "😂",
          "😹"
         ],
         "y": [
          537,
          504,
          253
         ]
        }
       ],
       "layout": {
        "template": {
         "data": {
          "bar": [
           {
            "error_x": {
             "color": "#2a3f5f"
            },
            "error_y": {
             "color": "#2a3f5f"
            },
            "marker": {
             "line": {
              "color": "#E5ECF6",
              "width": 0.5
             },
             "pattern": {
              "fillmode": "overlay",
              "size": 10,
              "solidity": 0.2
             }
            },
            "type": "bar"
           }
          ],
          "barpolar": [
           {
            "marker": {
             "line": {
              "color": "#E5ECF6",
              "width": 0.5
             },
             "pattern": {
              "fillmode": "overlay",
              "size": 10,
              "solidity": 0.2
             }
            },
            "type": "barpolar"
           }
          ],
          "carpet": [
           {
            "aaxis": {
             "endlinecolor": "#2a3f5f",
             "gridcolor": "white",
             "linecolor": "white",
             "minorgridcolor": "white",
             "startlinecolor": "#2a3f5f"
            },
            "baxis": {
             "endlinecolor": "#2a3f5f",
             "gridcolor": "white",
             "linecolor": "white",
             "minorgridcolor": "white",
             "startlinecolor": "#2a3f5f"
            },
            "type": "carpet"
           }
          ],
          "choropleth": [
           {
            "colorbar": {
             "outlinewidth": 0,
             "ticks": ""
            },
            "type": "choropleth"
           }
          ],
          "contour": [
           {
            "colorbar": {
             "outlinewidth": 0,
             "ticks": ""
            },
            "colorscale": [
             [
              0,
              "#0d0887"
             ],
             [
              0.1111111111111111,
              "#46039f"
             ],
             [
              0.2222222222222222,
              "#7201a8"
             ],
             [
              0.3333333333333333,
              "#9c179e"
             ],
             [
              0.4444444444444444,
              "#bd3786"
             ],
             [
              0.5555555555555556,
              "#d8576b"
             ],
             [
              0.6666666666666666,
              "#ed7953"
             ],
             [
              0.7777777777777778,
              "#fb9f3a"
             ],
             [
              0.8888888888888888,
              "#fdca26"
             ],
             [
              1,
              "#f0f921"
             ]
            ],
            "type": "contour"
           }
          ],
          "contourcarpet": [
           {
            "colorbar": {
             "outlinewidth": 0,
             "ticks": ""
            },
            "type": "contourcarpet"
           }
          ],
          "heatmap": [
           {
            "colorbar": {
             "outlinewidth": 0,
             "ticks": ""
            },
            "colorscale": [
             [
              0,
              "#0d0887"
             ],
             [
              0.1111111111111111,
              "#46039f"
             ],
             [
              0.2222222222222222,
              "#7201a8"
             ],
             [
              0.3333333333333333,
              "#9c179e"
             ],
             [
              0.4444444444444444,
              "#bd3786"
             ],
             [
              0.5555555555555556,
              "#d8576b"
             ],
             [
              0.6666666666666666,
              "#ed7953"
             ],
             [
              0.7777777777777778,
              "#fb9f3a"
             ],
             [
              0.8888888888888888,
              "#fdca26"
             ],
             [
              1,
              "#f0f921"
             ]
            ],
            "type": "heatmap"
           }
          ],
          "heatmapgl": [
           {
            "colorbar": {
             "outlinewidth": 0,
             "ticks": ""
            },
            "colorscale": [
             [
              0,
              "#0d0887"
             ],
             [
              0.1111111111111111,
              "#46039f"
             ],
             [
              0.2222222222222222,
              "#7201a8"
             ],
             [
              0.3333333333333333,
              "#9c179e"
             ],
             [
              0.4444444444444444,
              "#bd3786"
             ],
             [
              0.5555555555555556,
              "#d8576b"
             ],
             [
              0.6666666666666666,
              "#ed7953"
             ],
             [
              0.7777777777777778,
              "#fb9f3a"
             ],
             [
              0.8888888888888888,
              "#fdca26"
             ],
             [
              1,
              "#f0f921"
             ]
            ],
            "type": "heatmapgl"
           }
          ],
          "histogram": [
           {
            "marker": {
             "pattern": {
              "fillmode": "overlay",
              "size": 10,
              "solidity": 0.2
             }
            },
            "type": "histogram"
           }
          ],
          "histogram2d": [
           {
            "colorbar": {
             "outlinewidth": 0,
             "ticks": ""
            },
            "colorscale": [
             [
              0,
              "#0d0887"
             ],
             [
              0.1111111111111111,
              "#46039f"
             ],
             [
              0.2222222222222222,
              "#7201a8"
             ],
             [
              0.3333333333333333,
              "#9c179e"
             ],
             [
              0.4444444444444444,
              "#bd3786"
             ],
             [
              0.5555555555555556,
              "#d8576b"
             ],
             [
              0.6666666666666666,
              "#ed7953"
             ],
             [
              0.7777777777777778,
              "#fb9f3a"
             ],
             [
              0.8888888888888888,
              "#fdca26"
             ],
             [
              1,
              "#f0f921"
             ]
            ],
            "type": "histogram2d"
           }
          ],
          "histogram2dcontour": [
           {
            "colorbar": {
             "outlinewidth": 0,
             "ticks": ""
            },
            "colorscale": [
             [
              0,
              "#0d0887"
             ],
             [
              0.1111111111111111,
              "#46039f"
             ],
             [
              0.2222222222222222,
              "#7201a8"
             ],
             [
              0.3333333333333333,
              "#9c179e"
             ],
             [
              0.4444444444444444,
              "#bd3786"
             ],
             [
              0.5555555555555556,
              "#d8576b"
             ],
             [
              0.6666666666666666,
              "#ed7953"
             ],
             [
              0.7777777777777778,
              "#fb9f3a"
             ],
             [
              0.8888888888888888,
              "#fdca26"
             ],
             [
              1,
              "#f0f921"
             ]
            ],
            "type": "histogram2dcontour"
           }
          ],
          "mesh3d": [
           {
            "colorbar": {
             "outlinewidth": 0,
             "ticks": ""
            },
            "type": "mesh3d"
           }
          ],
          "parcoords": [
           {
            "line": {
             "colorbar": {
              "outlinewidth": 0,
              "ticks": ""
             }
            },
            "type": "parcoords"
           }
          ],
          "pie": [
           {
            "automargin": true,
            "type": "pie"
           }
          ],
          "scatter": [
           {
            "fillpattern": {
             "fillmode": "overlay",
             "size": 10,
             "solidity": 0.2
            },
            "type": "scatter"
           }
          ],
          "scatter3d": [
           {
            "line": {
             "colorbar": {
              "outlinewidth": 0,
              "ticks": ""
             }
            },
            "marker": {
             "colorbar": {
              "outlinewidth": 0,
              "ticks": ""
             }
            },
            "type": "scatter3d"
           }
          ],
          "scattercarpet": [
           {
            "marker": {
             "colorbar": {
              "outlinewidth": 0,
              "ticks": ""
             }
            },
            "type": "scattercarpet"
           }
          ],
          "scattergeo": [
           {
            "marker": {
             "colorbar": {
              "outlinewidth": 0,
              "ticks": ""
             }
            },
            "type": "scattergeo"
           }
          ],
          "scattergl": [
           {
            "marker": {
             "colorbar": {
              "outlinewidth": 0,
              "ticks": ""
             }
            },
            "type": "scattergl"
           }
          ],
          "scattermapbox": [
           {
            "marker": {
             "colorbar": {
              "outlinewidth": 0,
              "ticks": ""
             }
            },
            "type": "scattermapbox"
           }
          ],
          "scatterpolar": [
           {
            "marker": {
             "colorbar": {
              "outlinewidth": 0,
              "ticks": ""
             }
            },
            "type": "scatterpolar"
           }
          ],
          "scatterpolargl": [
           {
            "marker": {
             "colorbar": {
              "outlinewidth": 0,
              "ticks": ""
             }
            },
            "type": "scatterpolargl"
           }
          ],
          "scatterternary": [
           {
            "marker": {
             "colorbar": {
              "outlinewidth": 0,
              "ticks": ""
             }
            },
            "type": "scatterternary"
           }
          ],
          "surface": [
           {
            "colorbar": {
             "outlinewidth": 0,
             "ticks": ""
            },
            "colorscale": [
             [
              0,
              "#0d0887"
             ],
             [
              0.1111111111111111,
              "#46039f"
             ],
             [
              0.2222222222222222,
              "#7201a8"
             ],
             [
              0.3333333333333333,
              "#9c179e"
             ],
             [
              0.4444444444444444,
              "#bd3786"
             ],
             [
              0.5555555555555556,
              "#d8576b"
             ],
             [
              0.6666666666666666,
              "#ed7953"
             ],
             [
              0.7777777777777778,
              "#fb9f3a"
             ],
             [
              0.8888888888888888,
              "#fdca26"
             ],
             [
              1,
              "#f0f921"
             ]
            ],
            "type": "surface"
           }
          ],
          "table": [
           {
            "cells": {
             "fill": {
              "color": "#EBF0F8"
             },
             "line": {
              "color": "white"
             }
            },
            "header": {
             "fill": {
              "color": "#C8D4E3"
             },
             "line": {
              "color": "white"
             }
            },
            "type": "table"
           }
          ]
         },
         "layout": {
          "annotationdefaults": {
           "arrowcolor": "#2a3f5f",
           "arrowhead": 0,
           "arrowwidth": 1
          },
          "autotypenumbers": "strict",
          "coloraxis": {
           "colorbar": {
            "outlinewidth": 0,
            "ticks": ""
           }
          },
          "colorscale": {
           "diverging": [
            [
             0,
             "#8e0152"
            ],
            [
             0.1,
             "#c51b7d"
            ],
            [
             0.2,
             "#de77ae"
            ],
            [
             0.3,
             "#f1b6da"
            ],
            [
             0.4,
             "#fde0ef"
            ],
            [
             0.5,
             "#f7f7f7"
            ],
            [
             0.6,
             "#e6f5d0"
            ],
            [
             0.7,
             "#b8e186"
            ],
            [
             0.8,
             "#7fbc41"
            ],
            [
             0.9,
             "#4d9221"
            ],
            [
             1,
             "#276419"
            ]
           ],
           "sequential": [
            [
             0,
             "#0d0887"
            ],
            [
             0.1111111111111111,
             "#46039f"
            ],
            [
             0.2222222222222222,
             "#7201a8"
            ],
            [
             0.3333333333333333,
             "#9c179e"
            ],
            [
             0.4444444444444444,
             "#bd3786"
            ],
            [
             0.5555555555555556,
             "#d8576b"
            ],
            [
             0.6666666666666666,
             "#ed7953"
            ],
            [
             0.7777777777777778,
             "#fb9f3a"
            ],
            [
             0.8888888888888888,
             "#fdca26"
            ],
            [
             1,
             "#f0f921"
            ]
           ],
           "sequentialminus": [
            [
             0,
             "#0d0887"
            ],
            [
             0.1111111111111111,
             "#46039f"
            ],
            [
             0.2222222222222222,
             "#7201a8"
            ],
            [
             0.3333333333333333,
             "#9c179e"
            ],
            [
             0.4444444444444444,
             "#bd3786"
            ],
            [
             0.5555555555555556,
             "#d8576b"
            ],
            [
             0.6666666666666666,
             "#ed7953"
            ],
            [
             0.7777777777777778,
             "#fb9f3a"
            ],
            [
             0.8888888888888888,
             "#fdca26"
            ],
            [
             1,
             "#f0f921"
            ]
           ]
          },
          "colorway": [
           "#636efa",
           "#EF553B",
           "#00cc96",
           "#ab63fa",
           "#FFA15A",
           "#19d3f3",
           "#FF6692",
           "#B6E880",
           "#FF97FF",
           "#FECB52"
          ],
          "font": {
           "color": "#2a3f5f"
          },
          "geo": {
           "bgcolor": "white",
           "lakecolor": "white",
           "landcolor": "#E5ECF6",
           "showlakes": true,
           "showland": true,
           "subunitcolor": "white"
          },
          "hoverlabel": {
           "align": "left"
          },
          "hovermode": "closest",
          "mapbox": {
           "style": "light"
          },
          "paper_bgcolor": "white",
          "plot_bgcolor": "#E5ECF6",
          "polar": {
           "angularaxis": {
            "gridcolor": "white",
            "linecolor": "white",
            "ticks": ""
           },
           "bgcolor": "#E5ECF6",
           "radialaxis": {
            "gridcolor": "white",
            "linecolor": "white",
            "ticks": ""
           }
          },
          "scene": {
           "xaxis": {
            "backgroundcolor": "#E5ECF6",
            "gridcolor": "white",
            "gridwidth": 2,
            "linecolor": "white",
            "showbackground": true,
            "ticks": "",
            "zerolinecolor": "white"
           },
           "yaxis": {
            "backgroundcolor": "#E5ECF6",
            "gridcolor": "white",
            "gridwidth": 2,
            "linecolor": "white",
            "showbackground": true,
            "ticks": "",
            "zerolinecolor": "white"
           },
           "zaxis": {
            "backgroundcolor": "#E5ECF6",
            "gridcolor": "white",
            "gridwidth": 2,
            "linecolor": "white",
            "showbackground": true,
            "ticks": "",
            "zerolinecolor": "white"
           }
          },
          "shapedefaults": {
           "line": {
            "color": "#2a3f5f"
           }
          },
          "ternary": {
           "aaxis": {
            "gridcolor": "white",
            "linecolor": "white",
            "ticks": ""
           },
           "baxis": {
            "gridcolor": "white",
            "linecolor": "white",
            "ticks": ""
           },
           "bgcolor": "#E5ECF6",
           "caxis": {
            "gridcolor": "white",
            "linecolor": "white",
            "ticks": ""
           }
          },
          "title": {
           "x": 0.05
          },
          "xaxis": {
           "automargin": true,
           "gridcolor": "white",
           "linecolor": "white",
           "ticks": "",
           "title": {
            "standoff": 15
           },
           "zerolinecolor": "white",
           "zerolinewidth": 2
          },
          "yaxis": {
           "automargin": true,
           "gridcolor": "white",
           "linecolor": "white",
           "ticks": "",
           "title": {
            "standoff": 15
           },
           "zerolinecolor": "white",
           "zerolinewidth": 2
          }
         }
        },
        "title": {
         "text": "Top 15 Emojis por Name"
        },
        "xaxis": {
         "title": {
          "text": "Emoji"
         }
        },
        "yaxis": {
         "title": {
          "text": "Count"
         }
        }
       }
      },
      "text/html": [
       "<div>                            <div id=\"9af747ef-f546-4c24-b99a-795c42898b89\" class=\"plotly-graph-div\" style=\"height:525px; width:100%;\"></div>            <script type=\"text/javascript\">                require([\"plotly\"], function(Plotly) {                    window.PLOTLYENV=window.PLOTLYENV || {};                                    if (document.getElementById(\"9af747ef-f546-4c24-b99a-795c42898b89\")) {                    Plotly.newPlot(                        \"9af747ef-f546-4c24-b99a-795c42898b89\",                        [{\"name\":\"Bego\",\"x\":[\"\\u2764\",\"\\ud83d\\udda4\",\"\\ud83e\\udd72\"],\"y\":[216,59,42],\"type\":\"bar\"},{\"name\":\"Ju\",\"x\":[\"\\u2764\",\"\\ud83d\\ude02\",\"\\ud83d\\ude39\"],\"y\":[537,504,253],\"type\":\"bar\"}],                        {\"template\":{\"data\":{\"histogram2dcontour\":[{\"type\":\"histogram2dcontour\",\"colorbar\":{\"outlinewidth\":0,\"ticks\":\"\"},\"colorscale\":[[0.0,\"#0d0887\"],[0.1111111111111111,\"#46039f\"],[0.2222222222222222,\"#7201a8\"],[0.3333333333333333,\"#9c179e\"],[0.4444444444444444,\"#bd3786\"],[0.5555555555555556,\"#d8576b\"],[0.6666666666666666,\"#ed7953\"],[0.7777777777777778,\"#fb9f3a\"],[0.8888888888888888,\"#fdca26\"],[1.0,\"#f0f921\"]]}],\"choropleth\":[{\"type\":\"choropleth\",\"colorbar\":{\"outlinewidth\":0,\"ticks\":\"\"}}],\"histogram2d\":[{\"type\":\"histogram2d\",\"colorbar\":{\"outlinewidth\":0,\"ticks\":\"\"},\"colorscale\":[[0.0,\"#0d0887\"],[0.1111111111111111,\"#46039f\"],[0.2222222222222222,\"#7201a8\"],[0.3333333333333333,\"#9c179e\"],[0.4444444444444444,\"#bd3786\"],[0.5555555555555556,\"#d8576b\"],[0.6666666666666666,\"#ed7953\"],[0.7777777777777778,\"#fb9f3a\"],[0.8888888888888888,\"#fdca26\"],[1.0,\"#f0f921\"]]}],\"heatmap\":[{\"type\":\"heatmap\",\"colorbar\":{\"outlinewidth\":0,\"ticks\":\"\"},\"colorscale\":[[0.0,\"#0d0887\"],[0.1111111111111111,\"#46039f\"],[0.2222222222222222,\"#7201a8\"],[0.3333333333333333,\"#9c179e\"],[0.4444444444444444,\"#bd3786\"],[0.5555555555555556,\"#d8576b\"],[0.6666666666666666,\"#ed7953\"],[0.7777777777777778,\"#fb9f3a\"],[0.8888888888888888,\"#fdca26\"],[1.0,\"#f0f921\"]]}],\"heatmapgl\":[{\"type\":\"heatmapgl\",\"colorbar\":{\"outlinewidth\":0,\"ticks\":\"\"},\"colorscale\":[[0.0,\"#0d0887\"],[0.1111111111111111,\"#46039f\"],[0.2222222222222222,\"#7201a8\"],[0.3333333333333333,\"#9c179e\"],[0.4444444444444444,\"#bd3786\"],[0.5555555555555556,\"#d8576b\"],[0.6666666666666666,\"#ed7953\"],[0.7777777777777778,\"#fb9f3a\"],[0.8888888888888888,\"#fdca26\"],[1.0,\"#f0f921\"]]}],\"contourcarpet\":[{\"type\":\"contourcarpet\",\"colorbar\":{\"outlinewidth\":0,\"ticks\":\"\"}}],\"contour\":[{\"type\":\"contour\",\"colorbar\":{\"outlinewidth\":0,\"ticks\":\"\"},\"colorscale\":[[0.0,\"#0d0887\"],[0.1111111111111111,\"#46039f\"],[0.2222222222222222,\"#7201a8\"],[0.3333333333333333,\"#9c179e\"],[0.4444444444444444,\"#bd3786\"],[0.5555555555555556,\"#d8576b\"],[0.6666666666666666,\"#ed7953\"],[0.7777777777777778,\"#fb9f3a\"],[0.8888888888888888,\"#fdca26\"],[1.0,\"#f0f921\"]]}],\"surface\":[{\"type\":\"surface\",\"colorbar\":{\"outlinewidth\":0,\"ticks\":\"\"},\"colorscale\":[[0.0,\"#0d0887\"],[0.1111111111111111,\"#46039f\"],[0.2222222222222222,\"#7201a8\"],[0.3333333333333333,\"#9c179e\"],[0.4444444444444444,\"#bd3786\"],[0.5555555555555556,\"#d8576b\"],[0.6666666666666666,\"#ed7953\"],[0.7777777777777778,\"#fb9f3a\"],[0.8888888888888888,\"#fdca26\"],[1.0,\"#f0f921\"]]}],\"mesh3d\":[{\"type\":\"mesh3d\",\"colorbar\":{\"outlinewidth\":0,\"ticks\":\"\"}}],\"scatter\":[{\"fillpattern\":{\"fillmode\":\"overlay\",\"size\":10,\"solidity\":0.2},\"type\":\"scatter\"}],\"parcoords\":[{\"type\":\"parcoords\",\"line\":{\"colorbar\":{\"outlinewidth\":0,\"ticks\":\"\"}}}],\"scatterpolargl\":[{\"type\":\"scatterpolargl\",\"marker\":{\"colorbar\":{\"outlinewidth\":0,\"ticks\":\"\"}}}],\"bar\":[{\"error_x\":{\"color\":\"#2a3f5f\"},\"error_y\":{\"color\":\"#2a3f5f\"},\"marker\":{\"line\":{\"color\":\"#E5ECF6\",\"width\":0.5},\"pattern\":{\"fillmode\":\"overlay\",\"size\":10,\"solidity\":0.2}},\"type\":\"bar\"}],\"scattergeo\":[{\"type\":\"scattergeo\",\"marker\":{\"colorbar\":{\"outlinewidth\":0,\"ticks\":\"\"}}}],\"scatterpolar\":[{\"type\":\"scatterpolar\",\"marker\":{\"colorbar\":{\"outlinewidth\":0,\"ticks\":\"\"}}}],\"histogram\":[{\"marker\":{\"pattern\":{\"fillmode\":\"overlay\",\"size\":10,\"solidity\":0.2}},\"type\":\"histogram\"}],\"scattergl\":[{\"type\":\"scattergl\",\"marker\":{\"colorbar\":{\"outlinewidth\":0,\"ticks\":\"\"}}}],\"scatter3d\":[{\"type\":\"scatter3d\",\"line\":{\"colorbar\":{\"outlinewidth\":0,\"ticks\":\"\"}},\"marker\":{\"colorbar\":{\"outlinewidth\":0,\"ticks\":\"\"}}}],\"scattermapbox\":[{\"type\":\"scattermapbox\",\"marker\":{\"colorbar\":{\"outlinewidth\":0,\"ticks\":\"\"}}}],\"scatterternary\":[{\"type\":\"scatterternary\",\"marker\":{\"colorbar\":{\"outlinewidth\":0,\"ticks\":\"\"}}}],\"scattercarpet\":[{\"type\":\"scattercarpet\",\"marker\":{\"colorbar\":{\"outlinewidth\":0,\"ticks\":\"\"}}}],\"carpet\":[{\"aaxis\":{\"endlinecolor\":\"#2a3f5f\",\"gridcolor\":\"white\",\"linecolor\":\"white\",\"minorgridcolor\":\"white\",\"startlinecolor\":\"#2a3f5f\"},\"baxis\":{\"endlinecolor\":\"#2a3f5f\",\"gridcolor\":\"white\",\"linecolor\":\"white\",\"minorgridcolor\":\"white\",\"startlinecolor\":\"#2a3f5f\"},\"type\":\"carpet\"}],\"table\":[{\"cells\":{\"fill\":{\"color\":\"#EBF0F8\"},\"line\":{\"color\":\"white\"}},\"header\":{\"fill\":{\"color\":\"#C8D4E3\"},\"line\":{\"color\":\"white\"}},\"type\":\"table\"}],\"barpolar\":[{\"marker\":{\"line\":{\"color\":\"#E5ECF6\",\"width\":0.5},\"pattern\":{\"fillmode\":\"overlay\",\"size\":10,\"solidity\":0.2}},\"type\":\"barpolar\"}],\"pie\":[{\"automargin\":true,\"type\":\"pie\"}]},\"layout\":{\"autotypenumbers\":\"strict\",\"colorway\":[\"#636efa\",\"#EF553B\",\"#00cc96\",\"#ab63fa\",\"#FFA15A\",\"#19d3f3\",\"#FF6692\",\"#B6E880\",\"#FF97FF\",\"#FECB52\"],\"font\":{\"color\":\"#2a3f5f\"},\"hovermode\":\"closest\",\"hoverlabel\":{\"align\":\"left\"},\"paper_bgcolor\":\"white\",\"plot_bgcolor\":\"#E5ECF6\",\"polar\":{\"bgcolor\":\"#E5ECF6\",\"angularaxis\":{\"gridcolor\":\"white\",\"linecolor\":\"white\",\"ticks\":\"\"},\"radialaxis\":{\"gridcolor\":\"white\",\"linecolor\":\"white\",\"ticks\":\"\"}},\"ternary\":{\"bgcolor\":\"#E5ECF6\",\"aaxis\":{\"gridcolor\":\"white\",\"linecolor\":\"white\",\"ticks\":\"\"},\"baxis\":{\"gridcolor\":\"white\",\"linecolor\":\"white\",\"ticks\":\"\"},\"caxis\":{\"gridcolor\":\"white\",\"linecolor\":\"white\",\"ticks\":\"\"}},\"coloraxis\":{\"colorbar\":{\"outlinewidth\":0,\"ticks\":\"\"}},\"colorscale\":{\"sequential\":[[0.0,\"#0d0887\"],[0.1111111111111111,\"#46039f\"],[0.2222222222222222,\"#7201a8\"],[0.3333333333333333,\"#9c179e\"],[0.4444444444444444,\"#bd3786\"],[0.5555555555555556,\"#d8576b\"],[0.6666666666666666,\"#ed7953\"],[0.7777777777777778,\"#fb9f3a\"],[0.8888888888888888,\"#fdca26\"],[1.0,\"#f0f921\"]],\"sequentialminus\":[[0.0,\"#0d0887\"],[0.1111111111111111,\"#46039f\"],[0.2222222222222222,\"#7201a8\"],[0.3333333333333333,\"#9c179e\"],[0.4444444444444444,\"#bd3786\"],[0.5555555555555556,\"#d8576b\"],[0.6666666666666666,\"#ed7953\"],[0.7777777777777778,\"#fb9f3a\"],[0.8888888888888888,\"#fdca26\"],[1.0,\"#f0f921\"]],\"diverging\":[[0,\"#8e0152\"],[0.1,\"#c51b7d\"],[0.2,\"#de77ae\"],[0.3,\"#f1b6da\"],[0.4,\"#fde0ef\"],[0.5,\"#f7f7f7\"],[0.6,\"#e6f5d0\"],[0.7,\"#b8e186\"],[0.8,\"#7fbc41\"],[0.9,\"#4d9221\"],[1,\"#276419\"]]},\"xaxis\":{\"gridcolor\":\"white\",\"linecolor\":\"white\",\"ticks\":\"\",\"title\":{\"standoff\":15},\"zerolinecolor\":\"white\",\"automargin\":true,\"zerolinewidth\":2},\"yaxis\":{\"gridcolor\":\"white\",\"linecolor\":\"white\",\"ticks\":\"\",\"title\":{\"standoff\":15},\"zerolinecolor\":\"white\",\"automargin\":true,\"zerolinewidth\":2},\"scene\":{\"xaxis\":{\"backgroundcolor\":\"#E5ECF6\",\"gridcolor\":\"white\",\"linecolor\":\"white\",\"showbackground\":true,\"ticks\":\"\",\"zerolinecolor\":\"white\",\"gridwidth\":2},\"yaxis\":{\"backgroundcolor\":\"#E5ECF6\",\"gridcolor\":\"white\",\"linecolor\":\"white\",\"showbackground\":true,\"ticks\":\"\",\"zerolinecolor\":\"white\",\"gridwidth\":2},\"zaxis\":{\"backgroundcolor\":\"#E5ECF6\",\"gridcolor\":\"white\",\"linecolor\":\"white\",\"showbackground\":true,\"ticks\":\"\",\"zerolinecolor\":\"white\",\"gridwidth\":2}},\"shapedefaults\":{\"line\":{\"color\":\"#2a3f5f\"}},\"annotationdefaults\":{\"arrowcolor\":\"#2a3f5f\",\"arrowhead\":0,\"arrowwidth\":1},\"geo\":{\"bgcolor\":\"white\",\"landcolor\":\"#E5ECF6\",\"subunitcolor\":\"white\",\"showland\":true,\"showlakes\":true,\"lakecolor\":\"white\"},\"title\":{\"x\":0.05},\"mapbox\":{\"style\":\"light\"}}},\"title\":{\"text\":\"Top 15 Emojis por Name\"},\"xaxis\":{\"title\":{\"text\":\"Emoji\"}},\"yaxis\":{\"title\":{\"text\":\"Count\"}}},                        {\"responsive\": true}                    ).then(function(){\n",
       "                            \n",
       "var gd = document.getElementById('9af747ef-f546-4c24-b99a-795c42898b89');\n",
       "var x = new MutationObserver(function (mutations, observer) {{\n",
       "        var display = window.getComputedStyle(gd).display;\n",
       "        if (!display || display === 'none') {{\n",
       "            console.log([gd, 'removed!']);\n",
       "            Plotly.purge(gd);\n",
       "            observer.disconnect();\n",
       "        }}\n",
       "}});\n",
       "\n",
       "// Listen for the removal of the full notebook cells\n",
       "var notebookContainer = gd.closest('#notebook-container');\n",
       "if (notebookContainer) {{\n",
       "    x.observe(notebookContainer, {childList: true});\n",
       "}}\n",
       "\n",
       "// Listen for the clearing of the current output cell\n",
       "var outputEl = gd.closest('.output');\n",
       "if (outputEl) {{\n",
       "    x.observe(outputEl, {childList: true});\n",
       "}}\n",
       "\n",
       "                        })                };                });            </script>        </div>"
      ]
     },
     "metadata": {},
     "output_type": "display_data"
    }
   ],
   "source": [
    "# Calcular el conteo de cada emoji por persona\n",
    "counts = df.groupby(['Name', 'Emojis']).size().reset_index(name='Count')\n",
    "\n",
    "# Crear un gráfico de barras\n",
    "fig = go.Figure()\n",
    "for name in counts['Name'].unique():\n",
    "    name_counts = counts[counts['Name'] == name].sort_values('Count', ascending=False).head(3)\n",
    "    fig.add_trace(go.Bar(\n",
    "        x=name_counts['Emojis'],\n",
    "        y=name_counts['Count'],\n",
    "        name=name\n",
    "    ))\n",
    "\n",
    "fig.update_layout(title='Top 15 Emojis por Name',\n",
    "                  xaxis_title='Emoji',\n",
    "                  yaxis_title='Count')\n",
    "\n",
    "fig.show()\n"
   ]
  },
  {
   "cell_type": "code",
   "execution_count": 14,
   "id": "6cfa125a",
   "metadata": {},
   "outputs": [
    {
     "data": {
      "application/vnd.plotly.v1+json": {
       "config": {
        "plotlyServerURL": "https://plot.ly"
       },
       "data": [
        {
         "name": "❤",
         "type": "bar",
         "x": [
          "Bego",
          "Ju"
         ],
         "y": [
          216,
          537
         ]
        },
        {
         "name": "🖤",
         "type": "bar",
         "x": [
          "Bego"
         ],
         "y": [
          59
         ]
        },
        {
         "name": "🥲",
         "type": "bar",
         "x": [
          "Bego"
         ],
         "y": [
          42
         ]
        },
        {
         "name": "😂",
         "type": "bar",
         "x": [
          "Ju"
         ],
         "y": [
          504
         ]
        },
        {
         "name": "😹",
         "type": "bar",
         "x": [
          "Ju"
         ],
         "y": [
          253
         ]
        }
       ],
       "layout": {
        "barmode": "group",
        "template": {
         "data": {
          "bar": [
           {
            "error_x": {
             "color": "#2a3f5f"
            },
            "error_y": {
             "color": "#2a3f5f"
            },
            "marker": {
             "line": {
              "color": "#E5ECF6",
              "width": 0.5
             },
             "pattern": {
              "fillmode": "overlay",
              "size": 10,
              "solidity": 0.2
             }
            },
            "type": "bar"
           }
          ],
          "barpolar": [
           {
            "marker": {
             "line": {
              "color": "#E5ECF6",
              "width": 0.5
             },
             "pattern": {
              "fillmode": "overlay",
              "size": 10,
              "solidity": 0.2
             }
            },
            "type": "barpolar"
           }
          ],
          "carpet": [
           {
            "aaxis": {
             "endlinecolor": "#2a3f5f",
             "gridcolor": "white",
             "linecolor": "white",
             "minorgridcolor": "white",
             "startlinecolor": "#2a3f5f"
            },
            "baxis": {
             "endlinecolor": "#2a3f5f",
             "gridcolor": "white",
             "linecolor": "white",
             "minorgridcolor": "white",
             "startlinecolor": "#2a3f5f"
            },
            "type": "carpet"
           }
          ],
          "choropleth": [
           {
            "colorbar": {
             "outlinewidth": 0,
             "ticks": ""
            },
            "type": "choropleth"
           }
          ],
          "contour": [
           {
            "colorbar": {
             "outlinewidth": 0,
             "ticks": ""
            },
            "colorscale": [
             [
              0,
              "#0d0887"
             ],
             [
              0.1111111111111111,
              "#46039f"
             ],
             [
              0.2222222222222222,
              "#7201a8"
             ],
             [
              0.3333333333333333,
              "#9c179e"
             ],
             [
              0.4444444444444444,
              "#bd3786"
             ],
             [
              0.5555555555555556,
              "#d8576b"
             ],
             [
              0.6666666666666666,
              "#ed7953"
             ],
             [
              0.7777777777777778,
              "#fb9f3a"
             ],
             [
              0.8888888888888888,
              "#fdca26"
             ],
             [
              1,
              "#f0f921"
             ]
            ],
            "type": "contour"
           }
          ],
          "contourcarpet": [
           {
            "colorbar": {
             "outlinewidth": 0,
             "ticks": ""
            },
            "type": "contourcarpet"
           }
          ],
          "heatmap": [
           {
            "colorbar": {
             "outlinewidth": 0,
             "ticks": ""
            },
            "colorscale": [
             [
              0,
              "#0d0887"
             ],
             [
              0.1111111111111111,
              "#46039f"
             ],
             [
              0.2222222222222222,
              "#7201a8"
             ],
             [
              0.3333333333333333,
              "#9c179e"
             ],
             [
              0.4444444444444444,
              "#bd3786"
             ],
             [
              0.5555555555555556,
              "#d8576b"
             ],
             [
              0.6666666666666666,
              "#ed7953"
             ],
             [
              0.7777777777777778,
              "#fb9f3a"
             ],
             [
              0.8888888888888888,
              "#fdca26"
             ],
             [
              1,
              "#f0f921"
             ]
            ],
            "type": "heatmap"
           }
          ],
          "heatmapgl": [
           {
            "colorbar": {
             "outlinewidth": 0,
             "ticks": ""
            },
            "colorscale": [
             [
              0,
              "#0d0887"
             ],
             [
              0.1111111111111111,
              "#46039f"
             ],
             [
              0.2222222222222222,
              "#7201a8"
             ],
             [
              0.3333333333333333,
              "#9c179e"
             ],
             [
              0.4444444444444444,
              "#bd3786"
             ],
             [
              0.5555555555555556,
              "#d8576b"
             ],
             [
              0.6666666666666666,
              "#ed7953"
             ],
             [
              0.7777777777777778,
              "#fb9f3a"
             ],
             [
              0.8888888888888888,
              "#fdca26"
             ],
             [
              1,
              "#f0f921"
             ]
            ],
            "type": "heatmapgl"
           }
          ],
          "histogram": [
           {
            "marker": {
             "pattern": {
              "fillmode": "overlay",
              "size": 10,
              "solidity": 0.2
             }
            },
            "type": "histogram"
           }
          ],
          "histogram2d": [
           {
            "colorbar": {
             "outlinewidth": 0,
             "ticks": ""
            },
            "colorscale": [
             [
              0,
              "#0d0887"
             ],
             [
              0.1111111111111111,
              "#46039f"
             ],
             [
              0.2222222222222222,
              "#7201a8"
             ],
             [
              0.3333333333333333,
              "#9c179e"
             ],
             [
              0.4444444444444444,
              "#bd3786"
             ],
             [
              0.5555555555555556,
              "#d8576b"
             ],
             [
              0.6666666666666666,
              "#ed7953"
             ],
             [
              0.7777777777777778,
              "#fb9f3a"
             ],
             [
              0.8888888888888888,
              "#fdca26"
             ],
             [
              1,
              "#f0f921"
             ]
            ],
            "type": "histogram2d"
           }
          ],
          "histogram2dcontour": [
           {
            "colorbar": {
             "outlinewidth": 0,
             "ticks": ""
            },
            "colorscale": [
             [
              0,
              "#0d0887"
             ],
             [
              0.1111111111111111,
              "#46039f"
             ],
             [
              0.2222222222222222,
              "#7201a8"
             ],
             [
              0.3333333333333333,
              "#9c179e"
             ],
             [
              0.4444444444444444,
              "#bd3786"
             ],
             [
              0.5555555555555556,
              "#d8576b"
             ],
             [
              0.6666666666666666,
              "#ed7953"
             ],
             [
              0.7777777777777778,
              "#fb9f3a"
             ],
             [
              0.8888888888888888,
              "#fdca26"
             ],
             [
              1,
              "#f0f921"
             ]
            ],
            "type": "histogram2dcontour"
           }
          ],
          "mesh3d": [
           {
            "colorbar": {
             "outlinewidth": 0,
             "ticks": ""
            },
            "type": "mesh3d"
           }
          ],
          "parcoords": [
           {
            "line": {
             "colorbar": {
              "outlinewidth": 0,
              "ticks": ""
             }
            },
            "type": "parcoords"
           }
          ],
          "pie": [
           {
            "automargin": true,
            "type": "pie"
           }
          ],
          "scatter": [
           {
            "fillpattern": {
             "fillmode": "overlay",
             "size": 10,
             "solidity": 0.2
            },
            "type": "scatter"
           }
          ],
          "scatter3d": [
           {
            "line": {
             "colorbar": {
              "outlinewidth": 0,
              "ticks": ""
             }
            },
            "marker": {
             "colorbar": {
              "outlinewidth": 0,
              "ticks": ""
             }
            },
            "type": "scatter3d"
           }
          ],
          "scattercarpet": [
           {
            "marker": {
             "colorbar": {
              "outlinewidth": 0,
              "ticks": ""
             }
            },
            "type": "scattercarpet"
           }
          ],
          "scattergeo": [
           {
            "marker": {
             "colorbar": {
              "outlinewidth": 0,
              "ticks": ""
             }
            },
            "type": "scattergeo"
           }
          ],
          "scattergl": [
           {
            "marker": {
             "colorbar": {
              "outlinewidth": 0,
              "ticks": ""
             }
            },
            "type": "scattergl"
           }
          ],
          "scattermapbox": [
           {
            "marker": {
             "colorbar": {
              "outlinewidth": 0,
              "ticks": ""
             }
            },
            "type": "scattermapbox"
           }
          ],
          "scatterpolar": [
           {
            "marker": {
             "colorbar": {
              "outlinewidth": 0,
              "ticks": ""
             }
            },
            "type": "scatterpolar"
           }
          ],
          "scatterpolargl": [
           {
            "marker": {
             "colorbar": {
              "outlinewidth": 0,
              "ticks": ""
             }
            },
            "type": "scatterpolargl"
           }
          ],
          "scatterternary": [
           {
            "marker": {
             "colorbar": {
              "outlinewidth": 0,
              "ticks": ""
             }
            },
            "type": "scatterternary"
           }
          ],
          "surface": [
           {
            "colorbar": {
             "outlinewidth": 0,
             "ticks": ""
            },
            "colorscale": [
             [
              0,
              "#0d0887"
             ],
             [
              0.1111111111111111,
              "#46039f"
             ],
             [
              0.2222222222222222,
              "#7201a8"
             ],
             [
              0.3333333333333333,
              "#9c179e"
             ],
             [
              0.4444444444444444,
              "#bd3786"
             ],
             [
              0.5555555555555556,
              "#d8576b"
             ],
             [
              0.6666666666666666,
              "#ed7953"
             ],
             [
              0.7777777777777778,
              "#fb9f3a"
             ],
             [
              0.8888888888888888,
              "#fdca26"
             ],
             [
              1,
              "#f0f921"
             ]
            ],
            "type": "surface"
           }
          ],
          "table": [
           {
            "cells": {
             "fill": {
              "color": "#EBF0F8"
             },
             "line": {
              "color": "white"
             }
            },
            "header": {
             "fill": {
              "color": "#C8D4E3"
             },
             "line": {
              "color": "white"
             }
            },
            "type": "table"
           }
          ]
         },
         "layout": {
          "annotationdefaults": {
           "arrowcolor": "#2a3f5f",
           "arrowhead": 0,
           "arrowwidth": 1
          },
          "autotypenumbers": "strict",
          "coloraxis": {
           "colorbar": {
            "outlinewidth": 0,
            "ticks": ""
           }
          },
          "colorscale": {
           "diverging": [
            [
             0,
             "#8e0152"
            ],
            [
             0.1,
             "#c51b7d"
            ],
            [
             0.2,
             "#de77ae"
            ],
            [
             0.3,
             "#f1b6da"
            ],
            [
             0.4,
             "#fde0ef"
            ],
            [
             0.5,
             "#f7f7f7"
            ],
            [
             0.6,
             "#e6f5d0"
            ],
            [
             0.7,
             "#b8e186"
            ],
            [
             0.8,
             "#7fbc41"
            ],
            [
             0.9,
             "#4d9221"
            ],
            [
             1,
             "#276419"
            ]
           ],
           "sequential": [
            [
             0,
             "#0d0887"
            ],
            [
             0.1111111111111111,
             "#46039f"
            ],
            [
             0.2222222222222222,
             "#7201a8"
            ],
            [
             0.3333333333333333,
             "#9c179e"
            ],
            [
             0.4444444444444444,
             "#bd3786"
            ],
            [
             0.5555555555555556,
             "#d8576b"
            ],
            [
             0.6666666666666666,
             "#ed7953"
            ],
            [
             0.7777777777777778,
             "#fb9f3a"
            ],
            [
             0.8888888888888888,
             "#fdca26"
            ],
            [
             1,
             "#f0f921"
            ]
           ],
           "sequentialminus": [
            [
             0,
             "#0d0887"
            ],
            [
             0.1111111111111111,
             "#46039f"
            ],
            [
             0.2222222222222222,
             "#7201a8"
            ],
            [
             0.3333333333333333,
             "#9c179e"
            ],
            [
             0.4444444444444444,
             "#bd3786"
            ],
            [
             0.5555555555555556,
             "#d8576b"
            ],
            [
             0.6666666666666666,
             "#ed7953"
            ],
            [
             0.7777777777777778,
             "#fb9f3a"
            ],
            [
             0.8888888888888888,
             "#fdca26"
            ],
            [
             1,
             "#f0f921"
            ]
           ]
          },
          "colorway": [
           "#636efa",
           "#EF553B",
           "#00cc96",
           "#ab63fa",
           "#FFA15A",
           "#19d3f3",
           "#FF6692",
           "#B6E880",
           "#FF97FF",
           "#FECB52"
          ],
          "font": {
           "color": "#2a3f5f"
          },
          "geo": {
           "bgcolor": "white",
           "lakecolor": "white",
           "landcolor": "#E5ECF6",
           "showlakes": true,
           "showland": true,
           "subunitcolor": "white"
          },
          "hoverlabel": {
           "align": "left"
          },
          "hovermode": "closest",
          "mapbox": {
           "style": "light"
          },
          "paper_bgcolor": "white",
          "plot_bgcolor": "#E5ECF6",
          "polar": {
           "angularaxis": {
            "gridcolor": "white",
            "linecolor": "white",
            "ticks": ""
           },
           "bgcolor": "#E5ECF6",
           "radialaxis": {
            "gridcolor": "white",
            "linecolor": "white",
            "ticks": ""
           }
          },
          "scene": {
           "xaxis": {
            "backgroundcolor": "#E5ECF6",
            "gridcolor": "white",
            "gridwidth": 2,
            "linecolor": "white",
            "showbackground": true,
            "ticks": "",
            "zerolinecolor": "white"
           },
           "yaxis": {
            "backgroundcolor": "#E5ECF6",
            "gridcolor": "white",
            "gridwidth": 2,
            "linecolor": "white",
            "showbackground": true,
            "ticks": "",
            "zerolinecolor": "white"
           },
           "zaxis": {
            "backgroundcolor": "#E5ECF6",
            "gridcolor": "white",
            "gridwidth": 2,
            "linecolor": "white",
            "showbackground": true,
            "ticks": "",
            "zerolinecolor": "white"
           }
          },
          "shapedefaults": {
           "line": {
            "color": "#2a3f5f"
           }
          },
          "ternary": {
           "aaxis": {
            "gridcolor": "white",
            "linecolor": "white",
            "ticks": ""
           },
           "baxis": {
            "gridcolor": "white",
            "linecolor": "white",
            "ticks": ""
           },
           "bgcolor": "#E5ECF6",
           "caxis": {
            "gridcolor": "white",
            "linecolor": "white",
            "ticks": ""
           }
          },
          "title": {
           "x": 0.05
          },
          "xaxis": {
           "automargin": true,
           "gridcolor": "white",
           "linecolor": "white",
           "ticks": "",
           "title": {
            "standoff": 15
           },
           "zerolinecolor": "white",
           "zerolinewidth": 2
          },
          "yaxis": {
           "automargin": true,
           "gridcolor": "white",
           "linecolor": "white",
           "ticks": "",
           "title": {
            "standoff": 15
           },
           "zerolinecolor": "white",
           "zerolinewidth": 2
          }
         }
        },
        "title": {
         "text": "3 Most Used Emojis per Person"
        },
        "xaxis": {
         "title": {
          "text": "Name"
         }
        },
        "yaxis": {
         "title": {
          "text": "Number of emojis"
         }
        }
       }
      },
      "text/html": [
       "<div>                            <div id=\"b31d5391-eb9b-4a15-9efe-005d1e3313f4\" class=\"plotly-graph-div\" style=\"height:525px; width:100%;\"></div>            <script type=\"text/javascript\">                require([\"plotly\"], function(Plotly) {                    window.PLOTLYENV=window.PLOTLYENV || {};                                    if (document.getElementById(\"b31d5391-eb9b-4a15-9efe-005d1e3313f4\")) {                    Plotly.newPlot(                        \"b31d5391-eb9b-4a15-9efe-005d1e3313f4\",                        [{\"name\":\"\\u2764\",\"x\":[\"Bego\",\"Ju\"],\"y\":[216,537],\"type\":\"bar\"},{\"name\":\"\\ud83d\\udda4\",\"x\":[\"Bego\"],\"y\":[59],\"type\":\"bar\"},{\"name\":\"\\ud83e\\udd72\",\"x\":[\"Bego\"],\"y\":[42],\"type\":\"bar\"},{\"name\":\"\\ud83d\\ude02\",\"x\":[\"Ju\"],\"y\":[504],\"type\":\"bar\"},{\"name\":\"\\ud83d\\ude39\",\"x\":[\"Ju\"],\"y\":[253],\"type\":\"bar\"}],                        {\"template\":{\"data\":{\"histogram2dcontour\":[{\"type\":\"histogram2dcontour\",\"colorbar\":{\"outlinewidth\":0,\"ticks\":\"\"},\"colorscale\":[[0.0,\"#0d0887\"],[0.1111111111111111,\"#46039f\"],[0.2222222222222222,\"#7201a8\"],[0.3333333333333333,\"#9c179e\"],[0.4444444444444444,\"#bd3786\"],[0.5555555555555556,\"#d8576b\"],[0.6666666666666666,\"#ed7953\"],[0.7777777777777778,\"#fb9f3a\"],[0.8888888888888888,\"#fdca26\"],[1.0,\"#f0f921\"]]}],\"choropleth\":[{\"type\":\"choropleth\",\"colorbar\":{\"outlinewidth\":0,\"ticks\":\"\"}}],\"histogram2d\":[{\"type\":\"histogram2d\",\"colorbar\":{\"outlinewidth\":0,\"ticks\":\"\"},\"colorscale\":[[0.0,\"#0d0887\"],[0.1111111111111111,\"#46039f\"],[0.2222222222222222,\"#7201a8\"],[0.3333333333333333,\"#9c179e\"],[0.4444444444444444,\"#bd3786\"],[0.5555555555555556,\"#d8576b\"],[0.6666666666666666,\"#ed7953\"],[0.7777777777777778,\"#fb9f3a\"],[0.8888888888888888,\"#fdca26\"],[1.0,\"#f0f921\"]]}],\"heatmap\":[{\"type\":\"heatmap\",\"colorbar\":{\"outlinewidth\":0,\"ticks\":\"\"},\"colorscale\":[[0.0,\"#0d0887\"],[0.1111111111111111,\"#46039f\"],[0.2222222222222222,\"#7201a8\"],[0.3333333333333333,\"#9c179e\"],[0.4444444444444444,\"#bd3786\"],[0.5555555555555556,\"#d8576b\"],[0.6666666666666666,\"#ed7953\"],[0.7777777777777778,\"#fb9f3a\"],[0.8888888888888888,\"#fdca26\"],[1.0,\"#f0f921\"]]}],\"heatmapgl\":[{\"type\":\"heatmapgl\",\"colorbar\":{\"outlinewidth\":0,\"ticks\":\"\"},\"colorscale\":[[0.0,\"#0d0887\"],[0.1111111111111111,\"#46039f\"],[0.2222222222222222,\"#7201a8\"],[0.3333333333333333,\"#9c179e\"],[0.4444444444444444,\"#bd3786\"],[0.5555555555555556,\"#d8576b\"],[0.6666666666666666,\"#ed7953\"],[0.7777777777777778,\"#fb9f3a\"],[0.8888888888888888,\"#fdca26\"],[1.0,\"#f0f921\"]]}],\"contourcarpet\":[{\"type\":\"contourcarpet\",\"colorbar\":{\"outlinewidth\":0,\"ticks\":\"\"}}],\"contour\":[{\"type\":\"contour\",\"colorbar\":{\"outlinewidth\":0,\"ticks\":\"\"},\"colorscale\":[[0.0,\"#0d0887\"],[0.1111111111111111,\"#46039f\"],[0.2222222222222222,\"#7201a8\"],[0.3333333333333333,\"#9c179e\"],[0.4444444444444444,\"#bd3786\"],[0.5555555555555556,\"#d8576b\"],[0.6666666666666666,\"#ed7953\"],[0.7777777777777778,\"#fb9f3a\"],[0.8888888888888888,\"#fdca26\"],[1.0,\"#f0f921\"]]}],\"surface\":[{\"type\":\"surface\",\"colorbar\":{\"outlinewidth\":0,\"ticks\":\"\"},\"colorscale\":[[0.0,\"#0d0887\"],[0.1111111111111111,\"#46039f\"],[0.2222222222222222,\"#7201a8\"],[0.3333333333333333,\"#9c179e\"],[0.4444444444444444,\"#bd3786\"],[0.5555555555555556,\"#d8576b\"],[0.6666666666666666,\"#ed7953\"],[0.7777777777777778,\"#fb9f3a\"],[0.8888888888888888,\"#fdca26\"],[1.0,\"#f0f921\"]]}],\"mesh3d\":[{\"type\":\"mesh3d\",\"colorbar\":{\"outlinewidth\":0,\"ticks\":\"\"}}],\"scatter\":[{\"fillpattern\":{\"fillmode\":\"overlay\",\"size\":10,\"solidity\":0.2},\"type\":\"scatter\"}],\"parcoords\":[{\"type\":\"parcoords\",\"line\":{\"colorbar\":{\"outlinewidth\":0,\"ticks\":\"\"}}}],\"scatterpolargl\":[{\"type\":\"scatterpolargl\",\"marker\":{\"colorbar\":{\"outlinewidth\":0,\"ticks\":\"\"}}}],\"bar\":[{\"error_x\":{\"color\":\"#2a3f5f\"},\"error_y\":{\"color\":\"#2a3f5f\"},\"marker\":{\"line\":{\"color\":\"#E5ECF6\",\"width\":0.5},\"pattern\":{\"fillmode\":\"overlay\",\"size\":10,\"solidity\":0.2}},\"type\":\"bar\"}],\"scattergeo\":[{\"type\":\"scattergeo\",\"marker\":{\"colorbar\":{\"outlinewidth\":0,\"ticks\":\"\"}}}],\"scatterpolar\":[{\"type\":\"scatterpolar\",\"marker\":{\"colorbar\":{\"outlinewidth\":0,\"ticks\":\"\"}}}],\"histogram\":[{\"marker\":{\"pattern\":{\"fillmode\":\"overlay\",\"size\":10,\"solidity\":0.2}},\"type\":\"histogram\"}],\"scattergl\":[{\"type\":\"scattergl\",\"marker\":{\"colorbar\":{\"outlinewidth\":0,\"ticks\":\"\"}}}],\"scatter3d\":[{\"type\":\"scatter3d\",\"line\":{\"colorbar\":{\"outlinewidth\":0,\"ticks\":\"\"}},\"marker\":{\"colorbar\":{\"outlinewidth\":0,\"ticks\":\"\"}}}],\"scattermapbox\":[{\"type\":\"scattermapbox\",\"marker\":{\"colorbar\":{\"outlinewidth\":0,\"ticks\":\"\"}}}],\"scatterternary\":[{\"type\":\"scatterternary\",\"marker\":{\"colorbar\":{\"outlinewidth\":0,\"ticks\":\"\"}}}],\"scattercarpet\":[{\"type\":\"scattercarpet\",\"marker\":{\"colorbar\":{\"outlinewidth\":0,\"ticks\":\"\"}}}],\"carpet\":[{\"aaxis\":{\"endlinecolor\":\"#2a3f5f\",\"gridcolor\":\"white\",\"linecolor\":\"white\",\"minorgridcolor\":\"white\",\"startlinecolor\":\"#2a3f5f\"},\"baxis\":{\"endlinecolor\":\"#2a3f5f\",\"gridcolor\":\"white\",\"linecolor\":\"white\",\"minorgridcolor\":\"white\",\"startlinecolor\":\"#2a3f5f\"},\"type\":\"carpet\"}],\"table\":[{\"cells\":{\"fill\":{\"color\":\"#EBF0F8\"},\"line\":{\"color\":\"white\"}},\"header\":{\"fill\":{\"color\":\"#C8D4E3\"},\"line\":{\"color\":\"white\"}},\"type\":\"table\"}],\"barpolar\":[{\"marker\":{\"line\":{\"color\":\"#E5ECF6\",\"width\":0.5},\"pattern\":{\"fillmode\":\"overlay\",\"size\":10,\"solidity\":0.2}},\"type\":\"barpolar\"}],\"pie\":[{\"automargin\":true,\"type\":\"pie\"}]},\"layout\":{\"autotypenumbers\":\"strict\",\"colorway\":[\"#636efa\",\"#EF553B\",\"#00cc96\",\"#ab63fa\",\"#FFA15A\",\"#19d3f3\",\"#FF6692\",\"#B6E880\",\"#FF97FF\",\"#FECB52\"],\"font\":{\"color\":\"#2a3f5f\"},\"hovermode\":\"closest\",\"hoverlabel\":{\"align\":\"left\"},\"paper_bgcolor\":\"white\",\"plot_bgcolor\":\"#E5ECF6\",\"polar\":{\"bgcolor\":\"#E5ECF6\",\"angularaxis\":{\"gridcolor\":\"white\",\"linecolor\":\"white\",\"ticks\":\"\"},\"radialaxis\":{\"gridcolor\":\"white\",\"linecolor\":\"white\",\"ticks\":\"\"}},\"ternary\":{\"bgcolor\":\"#E5ECF6\",\"aaxis\":{\"gridcolor\":\"white\",\"linecolor\":\"white\",\"ticks\":\"\"},\"baxis\":{\"gridcolor\":\"white\",\"linecolor\":\"white\",\"ticks\":\"\"},\"caxis\":{\"gridcolor\":\"white\",\"linecolor\":\"white\",\"ticks\":\"\"}},\"coloraxis\":{\"colorbar\":{\"outlinewidth\":0,\"ticks\":\"\"}},\"colorscale\":{\"sequential\":[[0.0,\"#0d0887\"],[0.1111111111111111,\"#46039f\"],[0.2222222222222222,\"#7201a8\"],[0.3333333333333333,\"#9c179e\"],[0.4444444444444444,\"#bd3786\"],[0.5555555555555556,\"#d8576b\"],[0.6666666666666666,\"#ed7953\"],[0.7777777777777778,\"#fb9f3a\"],[0.8888888888888888,\"#fdca26\"],[1.0,\"#f0f921\"]],\"sequentialminus\":[[0.0,\"#0d0887\"],[0.1111111111111111,\"#46039f\"],[0.2222222222222222,\"#7201a8\"],[0.3333333333333333,\"#9c179e\"],[0.4444444444444444,\"#bd3786\"],[0.5555555555555556,\"#d8576b\"],[0.6666666666666666,\"#ed7953\"],[0.7777777777777778,\"#fb9f3a\"],[0.8888888888888888,\"#fdca26\"],[1.0,\"#f0f921\"]],\"diverging\":[[0,\"#8e0152\"],[0.1,\"#c51b7d\"],[0.2,\"#de77ae\"],[0.3,\"#f1b6da\"],[0.4,\"#fde0ef\"],[0.5,\"#f7f7f7\"],[0.6,\"#e6f5d0\"],[0.7,\"#b8e186\"],[0.8,\"#7fbc41\"],[0.9,\"#4d9221\"],[1,\"#276419\"]]},\"xaxis\":{\"gridcolor\":\"white\",\"linecolor\":\"white\",\"ticks\":\"\",\"title\":{\"standoff\":15},\"zerolinecolor\":\"white\",\"automargin\":true,\"zerolinewidth\":2},\"yaxis\":{\"gridcolor\":\"white\",\"linecolor\":\"white\",\"ticks\":\"\",\"title\":{\"standoff\":15},\"zerolinecolor\":\"white\",\"automargin\":true,\"zerolinewidth\":2},\"scene\":{\"xaxis\":{\"backgroundcolor\":\"#E5ECF6\",\"gridcolor\":\"white\",\"linecolor\":\"white\",\"showbackground\":true,\"ticks\":\"\",\"zerolinecolor\":\"white\",\"gridwidth\":2},\"yaxis\":{\"backgroundcolor\":\"#E5ECF6\",\"gridcolor\":\"white\",\"linecolor\":\"white\",\"showbackground\":true,\"ticks\":\"\",\"zerolinecolor\":\"white\",\"gridwidth\":2},\"zaxis\":{\"backgroundcolor\":\"#E5ECF6\",\"gridcolor\":\"white\",\"linecolor\":\"white\",\"showbackground\":true,\"ticks\":\"\",\"zerolinecolor\":\"white\",\"gridwidth\":2}},\"shapedefaults\":{\"line\":{\"color\":\"#2a3f5f\"}},\"annotationdefaults\":{\"arrowcolor\":\"#2a3f5f\",\"arrowhead\":0,\"arrowwidth\":1},\"geo\":{\"bgcolor\":\"white\",\"landcolor\":\"#E5ECF6\",\"subunitcolor\":\"white\",\"showland\":true,\"showlakes\":true,\"lakecolor\":\"white\"},\"title\":{\"x\":0.05},\"mapbox\":{\"style\":\"light\"}}},\"title\":{\"text\":\"3 Most Used Emojis per Person\"},\"xaxis\":{\"title\":{\"text\":\"Name\"}},\"yaxis\":{\"title\":{\"text\":\"Number of emojis\"}},\"barmode\":\"group\"},                        {\"responsive\": true}                    ).then(function(){\n",
       "                            \n",
       "var gd = document.getElementById('b31d5391-eb9b-4a15-9efe-005d1e3313f4');\n",
       "var x = new MutationObserver(function (mutations, observer) {{\n",
       "        var display = window.getComputedStyle(gd).display;\n",
       "        if (!display || display === 'none') {{\n",
       "            console.log([gd, 'removed!']);\n",
       "            Plotly.purge(gd);\n",
       "            observer.disconnect();\n",
       "        }}\n",
       "}});\n",
       "\n",
       "// Listen for the removal of the full notebook cells\n",
       "var notebookContainer = gd.closest('#notebook-container');\n",
       "if (notebookContainer) {{\n",
       "    x.observe(notebookContainer, {childList: true});\n",
       "}}\n",
       "\n",
       "// Listen for the clearing of the current output cell\n",
       "var outputEl = gd.closest('.output');\n",
       "if (outputEl) {{\n",
       "    x.observe(outputEl, {childList: true});\n",
       "}}\n",
       "\n",
       "                        })                };                });            </script>        </div>"
      ]
     },
     "metadata": {},
     "output_type": "display_data"
    }
   ],
   "source": [
    "import pandas as pd\n",
    "counts = df.groupby(['Name', 'Emojis']).size().reset_index(name='Count')\n",
    "\n",
    "# Obtener los tres emojis más utilizados por cada persona\n",
    "top_emojis = counts.groupby('Name').apply(lambda x: x.nlargest(3, 'Count')).reset_index(drop=True)\n",
    "\n",
    "# Crear un gráfico de barras agrupado con Plotly\n",
    "fig = go.Figure()\n",
    "\n",
    "for i in top_emojis['Emojis'].unique():\n",
    "    fig.add_trace(go.Bar(x=top_emojis[top_emojis['Emojis'] == i]['Name'],\n",
    "                         y=top_emojis[top_emojis['Emojis'] == i]['Count'],\n",
    "                         name=i))\n",
    "\n",
    "fig.update_layout(title='3 Most Used Emojis per Person',\n",
    "                  xaxis_title='Name',\n",
    "                  yaxis_title='Number of emojis',\n",
    "                  barmode='group')\n",
    "\n",
    "fig.show()\n"
   ]
  },
  {
   "cell_type": "code",
   "execution_count": null,
   "id": "ff03a048",
   "metadata": {},
   "outputs": [],
   "source": []
  },
  {
   "cell_type": "code",
   "execution_count": null,
   "id": "e064a9d2",
   "metadata": {},
   "outputs": [],
   "source": []
  },
  {
   "cell_type": "code",
   "execution_count": null,
   "id": "1f086348",
   "metadata": {
    "scrolled": true
   },
   "outputs": [],
   "source": []
  },
  {
   "cell_type": "code",
   "execution_count": null,
   "id": "0bf26e5f",
   "metadata": {},
   "outputs": [],
   "source": []
  },
  {
   "cell_type": "code",
   "execution_count": null,
   "id": "3ffa2a89",
   "metadata": {},
   "outputs": [],
   "source": []
  },
  {
   "cell_type": "code",
   "execution_count": null,
   "id": "15ee8e6d",
   "metadata": {},
   "outputs": [],
   "source": []
  },
  {
   "cell_type": "code",
   "execution_count": null,
   "id": "7108cd50",
   "metadata": {},
   "outputs": [],
   "source": []
  },
  {
   "cell_type": "code",
   "execution_count": 15,
   "id": "b8162b07",
   "metadata": {},
   "outputs": [
    {
     "data": {
      "text/plain": [
       "True"
      ]
     },
     "execution_count": 15,
     "metadata": {},
     "output_type": "execute_result"
    }
   ],
   "source": [
    "df['Rain'].max()"
   ]
  },
  {
   "cell_type": "code",
   "execution_count": 16,
   "id": "2afd25fc",
   "metadata": {},
   "outputs": [
    {
     "data": {
      "text/plain": [
       "False"
      ]
     },
     "execution_count": 16,
     "metadata": {},
     "output_type": "execute_result"
    }
   ],
   "source": [
    "df['Rain'].min()"
   ]
  },
  {
   "cell_type": "code",
   "execution_count": 17,
   "id": "0c6abcc0",
   "metadata": {},
   "outputs": [
    {
     "data": {
      "text/plain": [
       "Emojis\n",
       "❤    753\n",
       "😂    532\n",
       "😹    253\n",
       "😻    113\n",
       "💓     66\n",
       "    ... \n",
       "🐿      1\n",
       "🍈      1\n",
       "💊      1\n",
       "🎃      1\n",
       "🐔      1\n",
       "Name: count, Length: 153, dtype: int64"
      ]
     },
     "execution_count": 17,
     "metadata": {},
     "output_type": "execute_result"
    }
   ],
   "source": [
    "df['Emojis'].value_counts()"
   ]
  },
  {
   "cell_type": "code",
   "execution_count": 18,
   "id": "28f19fd8",
   "metadata": {
    "scrolled": false
   },
   "outputs": [
    {
     "data": {
      "text/html": [
       "<div>\n",
       "<style scoped>\n",
       "    .dataframe tbody tr th:only-of-type {\n",
       "        vertical-align: middle;\n",
       "    }\n",
       "\n",
       "    .dataframe tbody tr th {\n",
       "        vertical-align: top;\n",
       "    }\n",
       "\n",
       "    .dataframe thead th {\n",
       "        text-align: right;\n",
       "    }\n",
       "</style>\n",
       "<table border=\"1\" class=\"dataframe\">\n",
       "  <thead>\n",
       "    <tr style=\"text-align: right;\">\n",
       "      <th></th>\n",
       "      <th></th>\n",
       "      <th></th>\n",
       "      <th>count</th>\n",
       "    </tr>\n",
       "    <tr>\n",
       "      <th>Year</th>\n",
       "      <th>Month</th>\n",
       "      <th>Emojis</th>\n",
       "      <th></th>\n",
       "    </tr>\n",
       "  </thead>\n",
       "  <tbody>\n",
       "    <tr>\n",
       "      <th rowspan=\"5\" valign=\"top\">2021</th>\n",
       "      <th rowspan=\"5\" valign=\"top\">1</th>\n",
       "      <th>😂</th>\n",
       "      <td>47</td>\n",
       "    </tr>\n",
       "    <tr>\n",
       "      <th>❤</th>\n",
       "      <td>32</td>\n",
       "    </tr>\n",
       "    <tr>\n",
       "      <th>💓</th>\n",
       "      <td>17</td>\n",
       "    </tr>\n",
       "    <tr>\n",
       "      <th>☀</th>\n",
       "      <td>6</td>\n",
       "    </tr>\n",
       "    <tr>\n",
       "      <th>🚀</th>\n",
       "      <td>6</td>\n",
       "    </tr>\n",
       "    <tr>\n",
       "      <th>...</th>\n",
       "      <th>...</th>\n",
       "      <th>...</th>\n",
       "      <td>...</td>\n",
       "    </tr>\n",
       "    <tr>\n",
       "      <th rowspan=\"5\" valign=\"top\">2023</th>\n",
       "      <th rowspan=\"5\" valign=\"top\">4</th>\n",
       "      <th>💖</th>\n",
       "      <td>2</td>\n",
       "    </tr>\n",
       "    <tr>\n",
       "      <th>🍏</th>\n",
       "      <td>1</td>\n",
       "    </tr>\n",
       "    <tr>\n",
       "      <th>🐔</th>\n",
       "      <td>1</td>\n",
       "    </tr>\n",
       "    <tr>\n",
       "      <th>🖤</th>\n",
       "      <td>1</td>\n",
       "    </tr>\n",
       "    <tr>\n",
       "      <th>😥</th>\n",
       "      <td>1</td>\n",
       "    </tr>\n",
       "  </tbody>\n",
       "</table>\n",
       "<p>516 rows × 1 columns</p>\n",
       "</div>"
      ],
      "text/plain": [
       "                   count\n",
       "Year Month Emojis       \n",
       "2021 1     😂          47\n",
       "           ❤          32\n",
       "           💓          17\n",
       "           ☀           6\n",
       "           🚀           6\n",
       "...                  ...\n",
       "2023 4     💖           2\n",
       "           🍏           1\n",
       "           🐔           1\n",
       "           🖤           1\n",
       "           😥           1\n",
       "\n",
       "[516 rows x 1 columns]"
      ]
     },
     "execution_count": 18,
     "metadata": {},
     "output_type": "execute_result"
    }
   ],
   "source": [
    "df_1 = pd.DataFrame(df.groupby(['Year', 'Month'])['Emojis'].value_counts())\n",
    "df_1"
   ]
  },
  {
   "cell_type": "code",
   "execution_count": 19,
   "id": "93e5074f",
   "metadata": {},
   "outputs": [
    {
     "data": {
      "image/png": "[encoded data removed]",
      "text/plain": [
       "<Figure size 432x288 with 1 Axes>"
      ]
     },
     "metadata": {
      "needs_background": "light"
     },
     "output_type": "display_data"
    }
   ],
   "source": [
    "sns.countplot(x=df[\"Name\"], palette=\"magma\");"
   ]
  },
  {
   "cell_type": "code",
   "execution_count": 20,
   "id": "c55924d3",
   "metadata": {},
   "outputs": [
    {
     "data": {
      "image/png": "[encoded data removed]",
      "text/plain": [
       "<Figure size 432x288 with 1 Axes>"
      ]
     },
     "metadata": {
      "needs_background": "light"
     },
     "output_type": "display_data"
    }
   ],
   "source": [
    "sns.countplot(x=df[\"Month\"], palette=\"magma\");"
   ]
  },
  {
   "cell_type": "code",
   "execution_count": 21,
   "id": "74c41af9",
   "metadata": {},
   "outputs": [
    {
     "data": {
      "text/html": [
       "<div>\n",
       "<style scoped>\n",
       "    .dataframe tbody tr th:only-of-type {\n",
       "        vertical-align: middle;\n",
       "    }\n",
       "\n",
       "    .dataframe tbody tr th {\n",
       "        vertical-align: top;\n",
       "    }\n",
       "\n",
       "    .dataframe thead th {\n",
       "        text-align: right;\n",
       "    }\n",
       "</style>\n",
       "<table border=\"1\" class=\"dataframe\">\n",
       "  <thead>\n",
       "    <tr style=\"text-align: right;\">\n",
       "      <th></th>\n",
       "      <th></th>\n",
       "      <th>Emojis</th>\n",
       "    </tr>\n",
       "    <tr>\n",
       "      <th>Year</th>\n",
       "      <th>Month</th>\n",
       "      <th></th>\n",
       "    </tr>\n",
       "  </thead>\n",
       "  <tbody>\n",
       "    <tr>\n",
       "      <th rowspan=\"12\" valign=\"top\">2021</th>\n",
       "      <th>1</th>\n",
       "      <td>157</td>\n",
       "    </tr>\n",
       "    <tr>\n",
       "      <th>2</th>\n",
       "      <td>73</td>\n",
       "    </tr>\n",
       "    <tr>\n",
       "      <th>3</th>\n",
       "      <td>49</td>\n",
       "    </tr>\n",
       "    <tr>\n",
       "      <th>4</th>\n",
       "      <td>163</td>\n",
       "    </tr>\n",
       "    <tr>\n",
       "      <th>5</th>\n",
       "      <td>65</td>\n",
       "    </tr>\n",
       "    <tr>\n",
       "      <th>6</th>\n",
       "      <td>122</td>\n",
       "    </tr>\n",
       "    <tr>\n",
       "      <th>7</th>\n",
       "      <td>154</td>\n",
       "    </tr>\n",
       "    <tr>\n",
       "      <th>8</th>\n",
       "      <td>107</td>\n",
       "    </tr>\n",
       "    <tr>\n",
       "      <th>9</th>\n",
       "      <td>137</td>\n",
       "    </tr>\n",
       "    <tr>\n",
       "      <th>10</th>\n",
       "      <td>142</td>\n",
       "    </tr>\n",
       "    <tr>\n",
       "      <th>11</th>\n",
       "      <td>183</td>\n",
       "    </tr>\n",
       "    <tr>\n",
       "      <th>12</th>\n",
       "      <td>217</td>\n",
       "    </tr>\n",
       "    <tr>\n",
       "      <th rowspan=\"12\" valign=\"top\">2022</th>\n",
       "      <th>1</th>\n",
       "      <td>134</td>\n",
       "    </tr>\n",
       "    <tr>\n",
       "      <th>2</th>\n",
       "      <td>33</td>\n",
       "    </tr>\n",
       "    <tr>\n",
       "      <th>3</th>\n",
       "      <td>121</td>\n",
       "    </tr>\n",
       "    <tr>\n",
       "      <th>4</th>\n",
       "      <td>119</td>\n",
       "    </tr>\n",
       "    <tr>\n",
       "      <th>5</th>\n",
       "      <td>33</td>\n",
       "    </tr>\n",
       "    <tr>\n",
       "      <th>6</th>\n",
       "      <td>58</td>\n",
       "    </tr>\n",
       "    <tr>\n",
       "      <th>7</th>\n",
       "      <td>68</td>\n",
       "    </tr>\n",
       "    <tr>\n",
       "      <th>8</th>\n",
       "      <td>69</td>\n",
       "    </tr>\n",
       "    <tr>\n",
       "      <th>9</th>\n",
       "      <td>105</td>\n",
       "    </tr>\n",
       "    <tr>\n",
       "      <th>10</th>\n",
       "      <td>25</td>\n",
       "    </tr>\n",
       "    <tr>\n",
       "      <th>11</th>\n",
       "      <td>30</td>\n",
       "    </tr>\n",
       "    <tr>\n",
       "      <th>12</th>\n",
       "      <td>80</td>\n",
       "    </tr>\n",
       "    <tr>\n",
       "      <th rowspan=\"4\" valign=\"top\">2023</th>\n",
       "      <th>1</th>\n",
       "      <td>57</td>\n",
       "    </tr>\n",
       "    <tr>\n",
       "      <th>2</th>\n",
       "      <td>88</td>\n",
       "    </tr>\n",
       "    <tr>\n",
       "      <th>3</th>\n",
       "      <td>35</td>\n",
       "    </tr>\n",
       "    <tr>\n",
       "      <th>4</th>\n",
       "      <td>51</td>\n",
       "    </tr>\n",
       "  </tbody>\n",
       "</table>\n",
       "</div>"
      ],
      "text/plain": [
       "            Emojis\n",
       "Year Month        \n",
       "2021 1         157\n",
       "     2          73\n",
       "     3          49\n",
       "     4         163\n",
       "     5          65\n",
       "     6         122\n",
       "     7         154\n",
       "     8         107\n",
       "     9         137\n",
       "     10        142\n",
       "     11        183\n",
       "     12        217\n",
       "2022 1         134\n",
       "     2          33\n",
       "     3         121\n",
       "     4         119\n",
       "     5          33\n",
       "     6          58\n",
       "     7          68\n",
       "     8          69\n",
       "     9         105\n",
       "     10         25\n",
       "     11         30\n",
       "     12         80\n",
       "2023 1          57\n",
       "     2          88\n",
       "     3          35\n",
       "     4          51"
      ]
     },
     "execution_count": 21,
     "metadata": {},
     "output_type": "execute_result"
    }
   ],
   "source": [
    "pd.DataFrame(df.groupby([\"Year\", \"Month\"])[\"Emojis\"].count())"
   ]
  },
  {
   "cell_type": "code",
   "execution_count": 22,
   "id": "a05db3d0",
   "metadata": {},
   "outputs": [
    {
     "data": {
      "image/png": "[encoded data removed]",
      "text/plain": [
       "<Figure size 432x288 with 1 Axes>"
      ]
     },
     "metadata": {
      "needs_background": "light"
     },
     "output_type": "display_data"
    }
   ],
   "source": [
    "df.groupby([\"Year\", \"Month\"])[\"Month\"].count().plot(kind=\"bar\");"
   ]
  },
  {
   "cell_type": "code",
   "execution_count": null,
   "id": "3916c357",
   "metadata": {},
   "outputs": [],
   "source": []
  },
  {
   "cell_type": "code",
   "execution_count": null,
   "id": "533a738b",
   "metadata": {},
   "outputs": [],
   "source": []
  },
  {
   "cell_type": "code",
   "execution_count": null,
   "id": "965552b1",
   "metadata": {},
   "outputs": [],
   "source": []
  },
  {
   "cell_type": "code",
   "execution_count": null,
   "id": "b7799dbb",
   "metadata": {},
   "outputs": [],
   "source": []
  },
  {
   "cell_type": "code",
   "execution_count": null,
   "id": "cb0558ab",
   "metadata": {},
   "outputs": [],
   "source": []
  },
  {
   "cell_type": "code",
   "execution_count": null,
   "id": "d3a16d71",
   "metadata": {},
   "outputs": [],
   "source": []
  },
  {
   "cell_type": "code",
   "execution_count": null,
   "id": "6840f339",
   "metadata": {},
   "outputs": [],
   "source": []
  },
  {
   "cell_type": "code",
   "execution_count": null,
   "id": "42d47bcc",
   "metadata": {},
   "outputs": [],
   "source": []
  },
  {
   "cell_type": "code",
   "execution_count": null,
   "id": "a79c7a56",
   "metadata": {},
   "outputs": [],
   "source": []
  },
  {
   "cell_type": "code",
   "execution_count": null,
   "id": "78a2ac6c",
   "metadata": {},
   "outputs": [],
   "source": []
  },
  {
   "cell_type": "code",
   "execution_count": null,
   "id": "9260546a",
   "metadata": {},
   "outputs": [],
   "source": []
  },
  {
   "cell_type": "code",
   "execution_count": null,
   "id": "04c38198",
   "metadata": {},
   "outputs": [],
   "source": []
  }
 ],
 "metadata": {
  "kernelspec": {
   "display_name": "ironhack",
   "language": "python",
   "name": "ironhack"
  },
  "language_info": {
   "codemirror_mode": {
    "name": "ipython",
    "version": 3
   },
   "file_extension": ".py",
   "mimetype": "text/x-python",
   "name": "python",
   "nbconvert_exporter": "python",
   "pygments_lexer": "ipython3",
   "version": "3.9.12"
  },
  "toc": {
   "base_numbering": 1,
   "nav_menu": {},
   "number_sections": true,
   "sideBar": true,
   "skip_h1_title": false,
   "title_cell": "Table of Contents",
   "title_sidebar": "Contents",
   "toc_cell": false,
   "toc_position": {},
   "toc_section_display": true,
   "toc_window_display": false
  }
 },
 "nbformat": 4,
 "nbformat_minor": 5
}
